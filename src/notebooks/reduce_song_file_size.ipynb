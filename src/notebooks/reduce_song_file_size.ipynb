{
 "cells": [
  {
   "cell_type": "code",
   "execution_count": 3,
   "metadata": {},
   "outputs": [
    {
     "name": "stdout",
     "output_type": "stream",
     "text": [
      "Compressed /Users/datoapanta/Desktop/mma_2024/dataset/data/gtzan/genres/rnd_songs/pop_rnd.wav and saved as /Users/datoapanta/Desktop/mma_2024/dataset/data/gtzan/genres/donwsized/pop_rnd.mp3 with bitrate 96k\n",
      "Compressed /Users/datoapanta/Desktop/mma_2024/dataset/data/gtzan/genres/rnd_songs/classical_rnd.wav and saved as /Users/datoapanta/Desktop/mma_2024/dataset/data/gtzan/genres/donwsized/classical_rnd.mp3 with bitrate 96k\n",
      "Compressed /Users/datoapanta/Desktop/mma_2024/dataset/data/gtzan/genres/rnd_songs/jazz_rnd.wav and saved as /Users/datoapanta/Desktop/mma_2024/dataset/data/gtzan/genres/donwsized/jazz_rnd.mp3 with bitrate 96k\n",
      "Compressed /Users/datoapanta/Desktop/mma_2024/dataset/data/gtzan/genres/rnd_songs/country_rnd.wav and saved as /Users/datoapanta/Desktop/mma_2024/dataset/data/gtzan/genres/donwsized/country_rnd.mp3 with bitrate 96k\n",
      "Compressed /Users/datoapanta/Desktop/mma_2024/dataset/data/gtzan/genres/rnd_songs/hiphop_rnd.wav and saved as /Users/datoapanta/Desktop/mma_2024/dataset/data/gtzan/genres/donwsized/hiphop_rnd.mp3 with bitrate 96k\n",
      "Compressed /Users/datoapanta/Desktop/mma_2024/dataset/data/gtzan/genres/rnd_songs/reggae_rnd.wav and saved as /Users/datoapanta/Desktop/mma_2024/dataset/data/gtzan/genres/donwsized/reggae_rnd.mp3 with bitrate 96k\n",
      "Compressed /Users/datoapanta/Desktop/mma_2024/dataset/data/gtzan/genres/rnd_songs/disco_rnd.wav and saved as /Users/datoapanta/Desktop/mma_2024/dataset/data/gtzan/genres/donwsized/disco_rnd.mp3 with bitrate 96k\n",
      "Compressed /Users/datoapanta/Desktop/mma_2024/dataset/data/gtzan/genres/rnd_songs/metal_rnd.wav and saved as /Users/datoapanta/Desktop/mma_2024/dataset/data/gtzan/genres/donwsized/metal_rnd.mp3 with bitrate 96k\n",
      "Compressed /Users/datoapanta/Desktop/mma_2024/dataset/data/gtzan/genres/rnd_songs/pop2_rnd.wav and saved as /Users/datoapanta/Desktop/mma_2024/dataset/data/gtzan/genres/donwsized/pop2_rnd.mp3 with bitrate 96k\n",
      "Compressed /Users/datoapanta/Desktop/mma_2024/dataset/data/gtzan/genres/rnd_songs/blues_rnd.wav and saved as /Users/datoapanta/Desktop/mma_2024/dataset/data/gtzan/genres/donwsized/blues_rnd.mp3 with bitrate 96k\n",
      "Compressed /Users/datoapanta/Desktop/mma_2024/dataset/data/gtzan/genres/rnd_songs/rock_rnd.wav and saved as /Users/datoapanta/Desktop/mma_2024/dataset/data/gtzan/genres/donwsized/rock_rnd.mp3 with bitrate 96k\n"
     ]
    }
   ],
   "source": [
    "from pydub import AudioSegment\n",
    "import os\n",
    "\n",
    "def compress_audio(input_file, output_file, bitrate=\"128k\"):\n",
    "    # Load the audio file\n",
    "    audio = AudioSegment.from_wav(input_file)\n",
    "    \n",
    "    # Export the audio file as MP3\n",
    "    audio.export(output_file, format=\"mp3\", bitrate=bitrate)\n",
    "    print(f\"Compressed {input_file} and saved as {output_file} with bitrate {bitrate}\")\n",
    "\n",
    "def compress_directory(input_dir, output_dir, bitrate=\"128k\"):\n",
    "    # Ensure output directory exists\n",
    "    if not os.path.exists(output_dir):\n",
    "        os.makedirs(output_dir)\n",
    "    \n",
    "    # Compress all WAV files in the input directory\n",
    "    for filename in os.listdir(input_dir):\n",
    "        if filename.endswith(\".wav\"):\n",
    "            input_file = os.path.join(input_dir, filename)\n",
    "            output_file = os.path.join(output_dir, os.path.splitext(filename)[0] + \".mp3\")\n",
    "            compress_audio(input_file, output_file, bitrate)\n",
    "\n",
    "# Example usage:\n",
    "input_directory = \"/Users/datoapanta/Desktop/mma_2024/dataset/data/gtzan/genres/rnd_songs\"\n",
    "output_directory = \"/Users/datoapanta/Desktop/mma_2024/dataset/data/gtzan/genres/donwsized\"\n",
    "desired_bitrate = \"96k\"  # You can change this to 96k, 64k, etc.\n",
    "\n",
    "compress_directory(input_directory, output_directory, desired_bitrate)\n"
   ]
  },
  {
   "cell_type": "code",
   "execution_count": null,
   "metadata": {},
   "outputs": [],
   "source": []
  }
 ],
 "metadata": {
  "kernelspec": {
   "display_name": "mma_2024",
   "language": "python",
   "name": "python3"
  },
  "language_info": {
   "codemirror_mode": {
    "name": "ipython",
    "version": 3
   },
   "file_extension": ".py",
   "mimetype": "text/x-python",
   "name": "python",
   "nbconvert_exporter": "python",
   "pygments_lexer": "ipython3",
   "version": "3.8.19"
  }
 },
 "nbformat": 4,
 "nbformat_minor": 2
}
