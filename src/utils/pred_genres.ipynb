{
 "cells": [
  {
   "cell_type": "code",
   "execution_count": 6,
   "metadata": {},
   "outputs": [
    {
     "name": "stderr",
     "output_type": "stream",
     "text": [
      "Some weights of the model checkpoint at danilotpnta/HuBERT-Genre-Clf were not used when initializing HubertForSequenceClassification: ['hubert.encoder.pos_conv_embed.conv.weight_g', 'hubert.encoder.pos_conv_embed.conv.weight_v']\n",
      "- This IS expected if you are initializing HubertForSequenceClassification from the checkpoint of a model trained on another task or with another architecture (e.g. initializing a BertForSequenceClassification model from a BertForPreTraining model).\n",
      "- This IS NOT expected if you are initializing HubertForSequenceClassification from the checkpoint of a model that you expect to be exactly identical (initializing a BertForSequenceClassification model from a BertForSequenceClassification model).\n",
      "Some weights of HubertForSequenceClassification were not initialized from the model checkpoint at danilotpnta/HuBERT-Genre-Clf and are newly initialized: ['hubert.encoder.pos_conv_embed.conv.parametrizations.weight.original0', 'hubert.encoder.pos_conv_embed.conv.parametrizations.weight.original1']\n",
      "You should probably TRAIN this model on a down-stream task to be able to use it for predictions and inference.\n",
      "Processing audio files: 100%|██████████| 1/1 [00:00<00:00, 3938.31it/s]\n",
      "Processing audio files:   0%|          | 0/100 [00:00<?, ?it/s]"
     ]
    },
    {
     "name": "stdout",
     "output_type": "stream",
     "text": [
      "/Users/datoapanta/Desktop/mma_2024/dataset/data/gtzan/genres/pop/pop.00027.wav\n"
     ]
    },
    {
     "name": "stderr",
     "output_type": "stream",
     "text": [
      "Processing audio files:   1%|          | 1/100 [00:05<08:51,  5.37s/it]"
     ]
    },
    {
     "name": "stdout",
     "output_type": "stream",
     "text": [
      "/Users/datoapanta/Desktop/mma_2024/dataset/data/gtzan/genres/pop/pop.00033.wav\n"
     ]
    },
    {
     "name": "stderr",
     "output_type": "stream",
     "text": [
      "Processing audio files:   2%|▏         | 2/100 [00:12<09:59,  6.12s/it]"
     ]
    },
    {
     "name": "stdout",
     "output_type": "stream",
     "text": [
      "/Users/datoapanta/Desktop/mma_2024/dataset/data/gtzan/genres/pop/pop.00032.wav\n"
     ]
    },
    {
     "name": "stderr",
     "output_type": "stream",
     "text": [
      "Processing audio files:   3%|▎         | 3/100 [00:17<09:37,  5.95s/it]"
     ]
    },
    {
     "name": "stdout",
     "output_type": "stream",
     "text": [
      "/Users/datoapanta/Desktop/mma_2024/dataset/data/gtzan/genres/pop/pop.00026.wav\n"
     ]
    },
    {
     "name": "stderr",
     "output_type": "stream",
     "text": [
      "Processing audio files:   4%|▍         | 4/100 [00:23<09:29,  5.94s/it]"
     ]
    },
    {
     "name": "stdout",
     "output_type": "stream",
     "text": [
      "/Users/datoapanta/Desktop/mma_2024/dataset/data/gtzan/genres/pop/pop.00030.wav\n"
     ]
    },
    {
     "name": "stderr",
     "output_type": "stream",
     "text": [
      "Processing audio files:   5%|▌         | 5/100 [00:30<09:57,  6.29s/it]"
     ]
    },
    {
     "name": "stdout",
     "output_type": "stream",
     "text": [
      "/Users/datoapanta/Desktop/mma_2024/dataset/data/gtzan/genres/pop/pop.00024.wav\n"
     ]
    },
    {
     "name": "stderr",
     "output_type": "stream",
     "text": [
      "Processing audio files:   6%|▌         | 6/100 [00:36<09:46,  6.24s/it]"
     ]
    },
    {
     "name": "stdout",
     "output_type": "stream",
     "text": [
      "/Users/datoapanta/Desktop/mma_2024/dataset/data/gtzan/genres/pop/pop.00018.wav\n"
     ]
    },
    {
     "name": "stderr",
     "output_type": "stream",
     "text": [
      "Processing audio files:   7%|▋         | 7/100 [00:42<09:40,  6.24s/it]"
     ]
    },
    {
     "name": "stdout",
     "output_type": "stream",
     "text": [
      "/Users/datoapanta/Desktop/mma_2024/dataset/data/gtzan/genres/pop/pop.00019.wav\n"
     ]
    },
    {
     "name": "stderr",
     "output_type": "stream",
     "text": [
      "Processing audio files:   8%|▊         | 8/100 [00:48<09:20,  6.09s/it]"
     ]
    },
    {
     "name": "stdout",
     "output_type": "stream",
     "text": [
      "/Users/datoapanta/Desktop/mma_2024/dataset/data/gtzan/genres/pop/pop.00025.wav\n"
     ]
    },
    {
     "name": "stderr",
     "output_type": "stream",
     "text": [
      "Processing audio files:   9%|▉         | 9/100 [00:54<09:09,  6.04s/it]"
     ]
    },
    {
     "name": "stdout",
     "output_type": "stream",
     "text": [
      "/Users/datoapanta/Desktop/mma_2024/dataset/data/gtzan/genres/pop/pop.00031.wav\n"
     ]
    },
    {
     "name": "stderr",
     "output_type": "stream",
     "text": [
      "Processing audio files:  10%|█         | 10/100 [01:00<08:53,  5.93s/it]"
     ]
    },
    {
     "name": "stdout",
     "output_type": "stream",
     "text": [
      "/Users/datoapanta/Desktop/mma_2024/dataset/data/gtzan/genres/pop/pop.00009.wav\n"
     ]
    },
    {
     "name": "stderr",
     "output_type": "stream",
     "text": [
      "Processing audio files:  11%|█         | 11/100 [01:06<08:50,  5.96s/it]"
     ]
    },
    {
     "name": "stdout",
     "output_type": "stream",
     "text": [
      "/Users/datoapanta/Desktop/mma_2024/dataset/data/gtzan/genres/pop/pop.00035.wav\n"
     ]
    },
    {
     "name": "stderr",
     "output_type": "stream",
     "text": [
      "Processing audio files:  12%|█▏        | 12/100 [01:12<08:36,  5.87s/it]"
     ]
    },
    {
     "name": "stdout",
     "output_type": "stream",
     "text": [
      "/Users/datoapanta/Desktop/mma_2024/dataset/data/gtzan/genres/pop/pop.00021.wav\n"
     ]
    },
    {
     "name": "stderr",
     "output_type": "stream",
     "text": [
      "Processing audio files:  13%|█▎        | 13/100 [01:17<08:29,  5.86s/it]"
     ]
    },
    {
     "name": "stdout",
     "output_type": "stream",
     "text": [
      "/Users/datoapanta/Desktop/mma_2024/dataset/data/gtzan/genres/pop/pop.00020.wav\n"
     ]
    },
    {
     "name": "stderr",
     "output_type": "stream",
     "text": [
      "Processing audio files:  14%|█▍        | 14/100 [01:23<08:21,  5.83s/it]"
     ]
    },
    {
     "name": "stdout",
     "output_type": "stream",
     "text": [
      "/Users/datoapanta/Desktop/mma_2024/dataset/data/gtzan/genres/pop/pop.00034.wav\n"
     ]
    },
    {
     "name": "stderr",
     "output_type": "stream",
     "text": [
      "Processing audio files:  15%|█▌        | 15/100 [01:29<08:18,  5.86s/it]"
     ]
    },
    {
     "name": "stdout",
     "output_type": "stream",
     "text": [
      "/Users/datoapanta/Desktop/mma_2024/dataset/data/gtzan/genres/pop/pop.00008.wav\n"
     ]
    },
    {
     "name": "stderr",
     "output_type": "stream",
     "text": [
      "Processing audio files:  16%|█▌        | 16/100 [01:35<08:09,  5.82s/it]"
     ]
    },
    {
     "name": "stdout",
     "output_type": "stream",
     "text": [
      "/Users/datoapanta/Desktop/mma_2024/dataset/data/gtzan/genres/pop/pop.00022.wav\n"
     ]
    },
    {
     "name": "stderr",
     "output_type": "stream",
     "text": [
      "Processing audio files:  17%|█▋        | 17/100 [01:41<08:08,  5.89s/it]"
     ]
    },
    {
     "name": "stdout",
     "output_type": "stream",
     "text": [
      "/Users/datoapanta/Desktop/mma_2024/dataset/data/gtzan/genres/pop/pop.00036.wav\n"
     ]
    },
    {
     "name": "stderr",
     "output_type": "stream",
     "text": [
      "Processing audio files:  18%|█▊        | 18/100 [01:47<08:00,  5.85s/it]"
     ]
    },
    {
     "name": "stdout",
     "output_type": "stream",
     "text": [
      "/Users/datoapanta/Desktop/mma_2024/dataset/data/gtzan/genres/pop/pop.00037.wav\n"
     ]
    },
    {
     "name": "stderr",
     "output_type": "stream",
     "text": [
      "Processing audio files:  19%|█▉        | 19/100 [01:53<07:56,  5.89s/it]"
     ]
    },
    {
     "name": "stdout",
     "output_type": "stream",
     "text": [
      "/Users/datoapanta/Desktop/mma_2024/dataset/data/gtzan/genres/pop/pop.00023.wav\n"
     ]
    },
    {
     "name": "stderr",
     "output_type": "stream",
     "text": [
      "Processing audio files:  20%|██        | 20/100 [01:58<07:47,  5.84s/it]"
     ]
    },
    {
     "name": "stdout",
     "output_type": "stream",
     "text": [
      "/Users/datoapanta/Desktop/mma_2024/dataset/data/gtzan/genres/pop/pop.00044.wav\n"
     ]
    },
    {
     "name": "stderr",
     "output_type": "stream",
     "text": [
      "Processing audio files:  21%|██        | 21/100 [02:04<07:37,  5.79s/it]"
     ]
    },
    {
     "name": "stdout",
     "output_type": "stream",
     "text": [
      "/Users/datoapanta/Desktop/mma_2024/dataset/data/gtzan/genres/pop/pop.00050.wav\n"
     ]
    },
    {
     "name": "stderr",
     "output_type": "stream",
     "text": [
      "Processing audio files:  22%|██▏       | 22/100 [02:10<07:29,  5.76s/it]"
     ]
    },
    {
     "name": "stdout",
     "output_type": "stream",
     "text": [
      "/Users/datoapanta/Desktop/mma_2024/dataset/data/gtzan/genres/pop/pop.00078.wav\n"
     ]
    },
    {
     "name": "stderr",
     "output_type": "stream",
     "text": [
      "Processing audio files:  23%|██▎       | 23/100 [02:16<07:26,  5.80s/it]"
     ]
    },
    {
     "name": "stdout",
     "output_type": "stream",
     "text": [
      "/Users/datoapanta/Desktop/mma_2024/dataset/data/gtzan/genres/pop/pop.00087.wav\n"
     ]
    },
    {
     "name": "stderr",
     "output_type": "stream",
     "text": [
      "Processing audio files:  24%|██▍       | 24/100 [02:21<07:17,  5.76s/it]"
     ]
    },
    {
     "name": "stdout",
     "output_type": "stream",
     "text": [
      "/Users/datoapanta/Desktop/mma_2024/dataset/data/gtzan/genres/pop/pop.00093.wav\n"
     ]
    },
    {
     "name": "stderr",
     "output_type": "stream",
     "text": [
      "Processing audio files:  25%|██▌       | 25/100 [02:27<07:12,  5.77s/it]"
     ]
    },
    {
     "name": "stdout",
     "output_type": "stream",
     "text": [
      "/Users/datoapanta/Desktop/mma_2024/dataset/data/gtzan/genres/pop/pop.00092.wav\n"
     ]
    },
    {
     "name": "stderr",
     "output_type": "stream",
     "text": [
      "Processing audio files:  26%|██▌       | 26/100 [02:33<07:06,  5.77s/it]"
     ]
    },
    {
     "name": "stdout",
     "output_type": "stream",
     "text": [
      "/Users/datoapanta/Desktop/mma_2024/dataset/data/gtzan/genres/pop/pop.00086.wav\n"
     ]
    },
    {
     "name": "stderr",
     "output_type": "stream",
     "text": [
      "Processing audio files:  27%|██▋       | 27/100 [02:39<07:05,  5.83s/it]"
     ]
    },
    {
     "name": "stdout",
     "output_type": "stream",
     "text": [
      "/Users/datoapanta/Desktop/mma_2024/dataset/data/gtzan/genres/pop/pop.00079.wav\n"
     ]
    },
    {
     "name": "stderr",
     "output_type": "stream",
     "text": [
      "Processing audio files:  28%|██▊       | 28/100 [02:44<06:56,  5.79s/it]"
     ]
    },
    {
     "name": "stdout",
     "output_type": "stream",
     "text": [
      "/Users/datoapanta/Desktop/mma_2024/dataset/data/gtzan/genres/pop/pop.00051.wav\n"
     ]
    },
    {
     "name": "stderr",
     "output_type": "stream",
     "text": [
      "Processing audio files:  29%|██▉       | 29/100 [02:50<06:51,  5.79s/it]"
     ]
    },
    {
     "name": "stdout",
     "output_type": "stream",
     "text": [
      "/Users/datoapanta/Desktop/mma_2024/dataset/data/gtzan/genres/pop/pop.00045.wav\n"
     ]
    },
    {
     "name": "stderr",
     "output_type": "stream",
     "text": [
      "Processing audio files:  30%|███       | 30/100 [02:56<06:48,  5.84s/it]"
     ]
    },
    {
     "name": "stdout",
     "output_type": "stream",
     "text": [
      "/Users/datoapanta/Desktop/mma_2024/dataset/data/gtzan/genres/pop/pop.00053.wav\n"
     ]
    },
    {
     "name": "stderr",
     "output_type": "stream",
     "text": [
      "Processing audio files:  31%|███       | 31/100 [03:02<06:49,  5.93s/it]"
     ]
    },
    {
     "name": "stdout",
     "output_type": "stream",
     "text": [
      "/Users/datoapanta/Desktop/mma_2024/dataset/data/gtzan/genres/pop/pop.00047.wav\n"
     ]
    },
    {
     "name": "stderr",
     "output_type": "stream",
     "text": [
      "Processing audio files:  32%|███▏      | 32/100 [03:08<06:38,  5.87s/it]"
     ]
    },
    {
     "name": "stdout",
     "output_type": "stream",
     "text": [
      "/Users/datoapanta/Desktop/mma_2024/dataset/data/gtzan/genres/pop/pop.00090.wav\n"
     ]
    },
    {
     "name": "stderr",
     "output_type": "stream",
     "text": [
      "Processing audio files:  33%|███▎      | 33/100 [03:14<06:28,  5.79s/it]"
     ]
    },
    {
     "name": "stdout",
     "output_type": "stream",
     "text": [
      "/Users/datoapanta/Desktop/mma_2024/dataset/data/gtzan/genres/pop/pop.00084.wav\n"
     ]
    },
    {
     "name": "stderr",
     "output_type": "stream",
     "text": [
      "Processing audio files:  34%|███▍      | 34/100 [03:20<06:24,  5.83s/it]"
     ]
    },
    {
     "name": "stdout",
     "output_type": "stream",
     "text": [
      "/Users/datoapanta/Desktop/mma_2024/dataset/data/gtzan/genres/pop/pop.00085.wav\n"
     ]
    },
    {
     "name": "stderr",
     "output_type": "stream",
     "text": [
      "Processing audio files:  35%|███▌      | 35/100 [03:26<06:23,  5.89s/it]"
     ]
    },
    {
     "name": "stdout",
     "output_type": "stream",
     "text": [
      "/Users/datoapanta/Desktop/mma_2024/dataset/data/gtzan/genres/pop/pop.00091.wav\n"
     ]
    },
    {
     "name": "stderr",
     "output_type": "stream",
     "text": [
      "Processing audio files:  36%|███▌      | 36/100 [03:31<06:13,  5.84s/it]"
     ]
    },
    {
     "name": "stdout",
     "output_type": "stream",
     "text": [
      "/Users/datoapanta/Desktop/mma_2024/dataset/data/gtzan/genres/pop/pop.00046.wav\n"
     ]
    },
    {
     "name": "stderr",
     "output_type": "stream",
     "text": [
      "Processing audio files:  37%|███▋      | 37/100 [03:37<06:06,  5.81s/it]"
     ]
    },
    {
     "name": "stdout",
     "output_type": "stream",
     "text": [
      "/Users/datoapanta/Desktop/mma_2024/dataset/data/gtzan/genres/pop/pop.00052.wav\n"
     ]
    },
    {
     "name": "stderr",
     "output_type": "stream",
     "text": [
      "Processing audio files:  38%|███▊      | 38/100 [03:43<06:05,  5.89s/it]"
     ]
    },
    {
     "name": "stdout",
     "output_type": "stream",
     "text": [
      "/Users/datoapanta/Desktop/mma_2024/dataset/data/gtzan/genres/pop/pop.00056.wav\n"
     ]
    },
    {
     "name": "stderr",
     "output_type": "stream",
     "text": [
      "Processing audio files:  39%|███▉      | 39/100 [03:49<06:00,  5.92s/it]"
     ]
    },
    {
     "name": "stdout",
     "output_type": "stream",
     "text": [
      "/Users/datoapanta/Desktop/mma_2024/dataset/data/gtzan/genres/pop/pop.00042.wav\n"
     ]
    },
    {
     "name": "stderr",
     "output_type": "stream",
     "text": [
      "Processing audio files:  40%|████      | 40/100 [03:55<05:57,  5.96s/it]"
     ]
    },
    {
     "name": "stdout",
     "output_type": "stream",
     "text": [
      "/Users/datoapanta/Desktop/mma_2024/dataset/data/gtzan/genres/pop/pop.00095.wav\n"
     ]
    },
    {
     "name": "stderr",
     "output_type": "stream",
     "text": [
      "Processing audio files:  41%|████      | 41/100 [04:01<05:49,  5.92s/it]"
     ]
    },
    {
     "name": "stdout",
     "output_type": "stream",
     "text": [
      "/Users/datoapanta/Desktop/mma_2024/dataset/data/gtzan/genres/pop/pop.00081.wav\n"
     ]
    },
    {
     "name": "stderr",
     "output_type": "stream",
     "text": [
      "Processing audio files:  42%|████▏     | 42/100 [04:07<05:41,  5.89s/it]"
     ]
    },
    {
     "name": "stdout",
     "output_type": "stream",
     "text": [
      "/Users/datoapanta/Desktop/mma_2024/dataset/data/gtzan/genres/pop/pop.00080.wav\n"
     ]
    },
    {
     "name": "stderr",
     "output_type": "stream",
     "text": [
      "Processing audio files:  43%|████▎     | 43/100 [04:13<05:33,  5.85s/it]"
     ]
    },
    {
     "name": "stdout",
     "output_type": "stream",
     "text": [
      "/Users/datoapanta/Desktop/mma_2024/dataset/data/gtzan/genres/pop/pop.00094.wav\n"
     ]
    },
    {
     "name": "stderr",
     "output_type": "stream",
     "text": [
      "Processing audio files:  44%|████▍     | 44/100 [04:18<05:26,  5.84s/it]"
     ]
    },
    {
     "name": "stdout",
     "output_type": "stream",
     "text": [
      "/Users/datoapanta/Desktop/mma_2024/dataset/data/gtzan/genres/pop/pop.00043.wav\n"
     ]
    },
    {
     "name": "stderr",
     "output_type": "stream",
     "text": [
      "Processing audio files:  45%|████▌     | 45/100 [04:24<05:18,  5.80s/it]"
     ]
    },
    {
     "name": "stdout",
     "output_type": "stream",
     "text": [
      "/Users/datoapanta/Desktop/mma_2024/dataset/data/gtzan/genres/pop/pop.00057.wav\n"
     ]
    },
    {
     "name": "stderr",
     "output_type": "stream",
     "text": [
      "Processing audio files:  46%|████▌     | 46/100 [04:30<05:14,  5.83s/it]"
     ]
    },
    {
     "name": "stdout",
     "output_type": "stream",
     "text": [
      "/Users/datoapanta/Desktop/mma_2024/dataset/data/gtzan/genres/pop/pop.00069.wav\n"
     ]
    },
    {
     "name": "stderr",
     "output_type": "stream",
     "text": [
      "Processing audio files:  47%|████▋     | 47/100 [04:36<05:07,  5.80s/it]"
     ]
    },
    {
     "name": "stdout",
     "output_type": "stream",
     "text": [
      "/Users/datoapanta/Desktop/mma_2024/dataset/data/gtzan/genres/pop/pop.00041.wav\n"
     ]
    },
    {
     "name": "stderr",
     "output_type": "stream",
     "text": [
      "Processing audio files:  48%|████▊     | 48/100 [04:42<05:01,  5.81s/it]"
     ]
    },
    {
     "name": "stdout",
     "output_type": "stream",
     "text": [
      "/Users/datoapanta/Desktop/mma_2024/dataset/data/gtzan/genres/pop/pop.00055.wav\n"
     ]
    },
    {
     "name": "stderr",
     "output_type": "stream",
     "text": [
      "Processing audio files:  49%|████▉     | 49/100 [04:47<04:55,  5.80s/it]"
     ]
    },
    {
     "name": "stdout",
     "output_type": "stream",
     "text": [
      "/Users/datoapanta/Desktop/mma_2024/dataset/data/gtzan/genres/pop/pop.00082.wav\n"
     ]
    },
    {
     "name": "stderr",
     "output_type": "stream",
     "text": [
      "Processing audio files:  50%|█████     | 50/100 [04:53<04:52,  5.84s/it]"
     ]
    },
    {
     "name": "stdout",
     "output_type": "stream",
     "text": [
      "/Users/datoapanta/Desktop/mma_2024/dataset/data/gtzan/genres/pop/pop.00096.wav\n"
     ]
    },
    {
     "name": "stderr",
     "output_type": "stream",
     "text": [
      "Processing audio files:  51%|█████     | 51/100 [04:59<04:44,  5.80s/it]"
     ]
    },
    {
     "name": "stdout",
     "output_type": "stream",
     "text": [
      "/Users/datoapanta/Desktop/mma_2024/dataset/data/gtzan/genres/pop/pop.00097.wav\n"
     ]
    },
    {
     "name": "stderr",
     "output_type": "stream",
     "text": [
      "Processing audio files:  52%|█████▏    | 52/100 [05:05<04:37,  5.78s/it]"
     ]
    },
    {
     "name": "stdout",
     "output_type": "stream",
     "text": [
      "/Users/datoapanta/Desktop/mma_2024/dataset/data/gtzan/genres/pop/pop.00083.wav\n"
     ]
    },
    {
     "name": "stderr",
     "output_type": "stream",
     "text": [
      "Processing audio files:  53%|█████▎    | 53/100 [05:10<04:30,  5.76s/it]"
     ]
    },
    {
     "name": "stdout",
     "output_type": "stream",
     "text": [
      "/Users/datoapanta/Desktop/mma_2024/dataset/data/gtzan/genres/pop/pop.00054.wav\n"
     ]
    },
    {
     "name": "stderr",
     "output_type": "stream",
     "text": [
      "Processing audio files:  54%|█████▍    | 54/100 [05:17<04:29,  5.87s/it]"
     ]
    },
    {
     "name": "stdout",
     "output_type": "stream",
     "text": [
      "/Users/datoapanta/Desktop/mma_2024/dataset/data/gtzan/genres/pop/pop.00040.wav\n"
     ]
    },
    {
     "name": "stderr",
     "output_type": "stream",
     "text": [
      "Processing audio files:  55%|█████▌    | 55/100 [05:22<04:23,  5.85s/it]"
     ]
    },
    {
     "name": "stdout",
     "output_type": "stream",
     "text": [
      "/Users/datoapanta/Desktop/mma_2024/dataset/data/gtzan/genres/pop/pop.00068.wav\n"
     ]
    },
    {
     "name": "stderr",
     "output_type": "stream",
     "text": [
      "Processing audio files:  56%|█████▌    | 56/100 [05:29<04:21,  5.93s/it]"
     ]
    },
    {
     "name": "stdout",
     "output_type": "stream",
     "text": [
      "/Users/datoapanta/Desktop/mma_2024/dataset/data/gtzan/genres/pop/pop.00065.wav\n"
     ]
    },
    {
     "name": "stderr",
     "output_type": "stream",
     "text": [
      "Processing audio files:  57%|█████▋    | 57/100 [05:35<04:28,  6.24s/it]"
     ]
    },
    {
     "name": "stdout",
     "output_type": "stream",
     "text": [
      "/Users/datoapanta/Desktop/mma_2024/dataset/data/gtzan/genres/pop/pop.00071.wav\n"
     ]
    },
    {
     "name": "stderr",
     "output_type": "stream",
     "text": [
      "Processing audio files:  58%|█████▊    | 58/100 [05:41<04:15,  6.07s/it]"
     ]
    },
    {
     "name": "stdout",
     "output_type": "stream",
     "text": [
      "/Users/datoapanta/Desktop/mma_2024/dataset/data/gtzan/genres/pop/pop.00059.wav\n"
     ]
    },
    {
     "name": "stderr",
     "output_type": "stream",
     "text": [
      "Processing audio files:  59%|█████▉    | 59/100 [05:47<04:00,  5.86s/it]"
     ]
    },
    {
     "name": "stdout",
     "output_type": "stream",
     "text": [
      "/Users/datoapanta/Desktop/mma_2024/dataset/data/gtzan/genres/pop/pop.00058.wav\n"
     ]
    },
    {
     "name": "stderr",
     "output_type": "stream",
     "text": [
      "Processing audio files:  60%|██████    | 60/100 [05:52<03:48,  5.72s/it]"
     ]
    },
    {
     "name": "stdout",
     "output_type": "stream",
     "text": [
      "/Users/datoapanta/Desktop/mma_2024/dataset/data/gtzan/genres/pop/pop.00070.wav\n"
     ]
    },
    {
     "name": "stderr",
     "output_type": "stream",
     "text": [
      "Processing audio files:  61%|██████    | 61/100 [05:57<03:36,  5.55s/it]"
     ]
    },
    {
     "name": "stdout",
     "output_type": "stream",
     "text": [
      "/Users/datoapanta/Desktop/mma_2024/dataset/data/gtzan/genres/pop/pop.00064.wav\n"
     ]
    },
    {
     "name": "stderr",
     "output_type": "stream",
     "text": [
      "Processing audio files:  62%|██████▏   | 62/100 [06:02<03:27,  5.46s/it]"
     ]
    },
    {
     "name": "stdout",
     "output_type": "stream",
     "text": [
      "/Users/datoapanta/Desktop/mma_2024/dataset/data/gtzan/genres/pop/pop.00072.wav\n"
     ]
    },
    {
     "name": "stderr",
     "output_type": "stream",
     "text": [
      "Processing audio files:  63%|██████▎   | 63/100 [06:08<03:20,  5.43s/it]"
     ]
    },
    {
     "name": "stdout",
     "output_type": "stream",
     "text": [
      "/Users/datoapanta/Desktop/mma_2024/dataset/data/gtzan/genres/pop/pop.00066.wav\n"
     ]
    },
    {
     "name": "stderr",
     "output_type": "stream",
     "text": [
      "Processing audio files:  64%|██████▍   | 64/100 [06:14<03:21,  5.60s/it]"
     ]
    },
    {
     "name": "stdout",
     "output_type": "stream",
     "text": [
      "/Users/datoapanta/Desktop/mma_2024/dataset/data/gtzan/genres/pop/pop.00099.wav\n"
     ]
    },
    {
     "name": "stderr",
     "output_type": "stream",
     "text": [
      "Processing audio files:  65%|██████▌   | 65/100 [06:19<03:14,  5.55s/it]"
     ]
    },
    {
     "name": "stdout",
     "output_type": "stream",
     "text": [
      "/Users/datoapanta/Desktop/mma_2024/dataset/data/gtzan/genres/pop/pop.00098.wav\n"
     ]
    },
    {
     "name": "stderr",
     "output_type": "stream",
     "text": [
      "Processing audio files:  66%|██████▌   | 66/100 [06:25<03:08,  5.54s/it]"
     ]
    },
    {
     "name": "stdout",
     "output_type": "stream",
     "text": [
      "/Users/datoapanta/Desktop/mma_2024/dataset/data/gtzan/genres/pop/pop.00067.wav\n"
     ]
    },
    {
     "name": "stderr",
     "output_type": "stream",
     "text": [
      "Processing audio files:  67%|██████▋   | 67/100 [06:30<03:01,  5.51s/it]"
     ]
    },
    {
     "name": "stdout",
     "output_type": "stream",
     "text": [
      "/Users/datoapanta/Desktop/mma_2024/dataset/data/gtzan/genres/pop/pop.00073.wav\n"
     ]
    },
    {
     "name": "stderr",
     "output_type": "stream",
     "text": [
      "Processing audio files:  68%|██████▊   | 68/100 [06:36<02:58,  5.57s/it]"
     ]
    },
    {
     "name": "stdout",
     "output_type": "stream",
     "text": [
      "/Users/datoapanta/Desktop/mma_2024/dataset/data/gtzan/genres/pop/pop.00077.wav\n"
     ]
    },
    {
     "name": "stderr",
     "output_type": "stream",
     "text": [
      "Processing audio files:  69%|██████▉   | 69/100 [06:42<02:54,  5.63s/it]"
     ]
    },
    {
     "name": "stdout",
     "output_type": "stream",
     "text": [
      "/Users/datoapanta/Desktop/mma_2024/dataset/data/gtzan/genres/pop/pop.00063.wav\n"
     ]
    },
    {
     "name": "stderr",
     "output_type": "stream",
     "text": [
      "Processing audio files:  70%|███████   | 70/100 [06:47<02:51,  5.71s/it]"
     ]
    },
    {
     "name": "stdout",
     "output_type": "stream",
     "text": [
      "/Users/datoapanta/Desktop/mma_2024/dataset/data/gtzan/genres/pop/pop.00088.wav\n"
     ]
    },
    {
     "name": "stderr",
     "output_type": "stream",
     "text": [
      "Processing audio files:  71%|███████   | 71/100 [06:54<02:50,  5.89s/it]"
     ]
    },
    {
     "name": "stdout",
     "output_type": "stream",
     "text": [
      "/Users/datoapanta/Desktop/mma_2024/dataset/data/gtzan/genres/pop/pop.00089.wav\n"
     ]
    },
    {
     "name": "stderr",
     "output_type": "stream",
     "text": [
      "Processing audio files:  72%|███████▏  | 72/100 [07:00<02:45,  5.92s/it]"
     ]
    },
    {
     "name": "stdout",
     "output_type": "stream",
     "text": [
      "/Users/datoapanta/Desktop/mma_2024/dataset/data/gtzan/genres/pop/pop.00062.wav\n"
     ]
    },
    {
     "name": "stderr",
     "output_type": "stream",
     "text": [
      "Processing audio files:  73%|███████▎  | 73/100 [07:05<02:36,  5.79s/it]"
     ]
    },
    {
     "name": "stdout",
     "output_type": "stream",
     "text": [
      "/Users/datoapanta/Desktop/mma_2024/dataset/data/gtzan/genres/pop/pop.00076.wav\n"
     ]
    },
    {
     "name": "stderr",
     "output_type": "stream",
     "text": [
      "Processing audio files:  74%|███████▍  | 74/100 [07:11<02:29,  5.75s/it]"
     ]
    },
    {
     "name": "stdout",
     "output_type": "stream",
     "text": [
      "/Users/datoapanta/Desktop/mma_2024/dataset/data/gtzan/genres/pop/pop.00048.wav\n"
     ]
    },
    {
     "name": "stderr",
     "output_type": "stream",
     "text": [
      "Processing audio files:  75%|███████▌  | 75/100 [07:16<02:21,  5.66s/it]"
     ]
    },
    {
     "name": "stdout",
     "output_type": "stream",
     "text": [
      "/Users/datoapanta/Desktop/mma_2024/dataset/data/gtzan/genres/pop/pop.00060.wav\n"
     ]
    },
    {
     "name": "stderr",
     "output_type": "stream",
     "text": [
      "Processing audio files:  76%|███████▌  | 76/100 [07:22<02:15,  5.64s/it]"
     ]
    },
    {
     "name": "stdout",
     "output_type": "stream",
     "text": [
      "/Users/datoapanta/Desktop/mma_2024/dataset/data/gtzan/genres/pop/pop.00074.wav\n"
     ]
    },
    {
     "name": "stderr",
     "output_type": "stream",
     "text": [
      "Processing audio files:  77%|███████▋  | 77/100 [07:28<02:09,  5.62s/it]"
     ]
    },
    {
     "name": "stdout",
     "output_type": "stream",
     "text": [
      "/Users/datoapanta/Desktop/mma_2024/dataset/data/gtzan/genres/pop/pop.00075.wav\n"
     ]
    },
    {
     "name": "stderr",
     "output_type": "stream",
     "text": [
      "Processing audio files:  78%|███████▊  | 78/100 [07:33<02:05,  5.69s/it]"
     ]
    },
    {
     "name": "stdout",
     "output_type": "stream",
     "text": [
      "/Users/datoapanta/Desktop/mma_2024/dataset/data/gtzan/genres/pop/pop.00061.wav\n"
     ]
    },
    {
     "name": "stderr",
     "output_type": "stream",
     "text": [
      "Processing audio files:  79%|███████▉  | 79/100 [07:39<01:59,  5.67s/it]"
     ]
    },
    {
     "name": "stdout",
     "output_type": "stream",
     "text": [
      "/Users/datoapanta/Desktop/mma_2024/dataset/data/gtzan/genres/pop/pop.00049.wav\n"
     ]
    },
    {
     "name": "stderr",
     "output_type": "stream",
     "text": [
      "Processing audio files:  80%|████████  | 80/100 [07:45<01:52,  5.64s/it]"
     ]
    },
    {
     "name": "stdout",
     "output_type": "stream",
     "text": [
      "/Users/datoapanta/Desktop/mma_2024/dataset/data/gtzan/genres/pop/pop.00006.wav\n"
     ]
    },
    {
     "name": "stderr",
     "output_type": "stream",
     "text": [
      "Processing audio files:  81%|████████  | 81/100 [07:50<01:45,  5.53s/it]"
     ]
    },
    {
     "name": "stdout",
     "output_type": "stream",
     "text": [
      "/Users/datoapanta/Desktop/mma_2024/dataset/data/gtzan/genres/pop/pop.00012.wav\n"
     ]
    },
    {
     "name": "stderr",
     "output_type": "stream",
     "text": [
      "Processing audio files:  82%|████████▏ | 82/100 [07:55<01:38,  5.49s/it]"
     ]
    },
    {
     "name": "stdout",
     "output_type": "stream",
     "text": [
      "/Users/datoapanta/Desktop/mma_2024/dataset/data/gtzan/genres/pop/pop.00013.wav\n"
     ]
    },
    {
     "name": "stderr",
     "output_type": "stream",
     "text": [
      "Processing audio files:  83%|████████▎ | 83/100 [08:00<01:32,  5.42s/it]"
     ]
    },
    {
     "name": "stdout",
     "output_type": "stream",
     "text": [
      "/Users/datoapanta/Desktop/mma_2024/dataset/data/gtzan/genres/pop/pop.00007.wav\n"
     ]
    },
    {
     "name": "stderr",
     "output_type": "stream",
     "text": [
      "Processing audio files:  84%|████████▍ | 84/100 [08:06<01:27,  5.48s/it]"
     ]
    },
    {
     "name": "stdout",
     "output_type": "stream",
     "text": [
      "/Users/datoapanta/Desktop/mma_2024/dataset/data/gtzan/genres/pop/pop.00011.wav\n"
     ]
    },
    {
     "name": "stderr",
     "output_type": "stream",
     "text": [
      "Processing audio files:  85%|████████▌ | 85/100 [08:11<01:21,  5.44s/it]"
     ]
    },
    {
     "name": "stdout",
     "output_type": "stream",
     "text": [
      "/Users/datoapanta/Desktop/mma_2024/dataset/data/gtzan/genres/pop/pop.00005.wav\n"
     ]
    },
    {
     "name": "stderr",
     "output_type": "stream",
     "text": [
      "Processing audio files:  86%|████████▌ | 86/100 [08:17<01:18,  5.58s/it]"
     ]
    },
    {
     "name": "stdout",
     "output_type": "stream",
     "text": [
      "/Users/datoapanta/Desktop/mma_2024/dataset/data/gtzan/genres/pop/pop.00039.wav\n"
     ]
    },
    {
     "name": "stderr",
     "output_type": "stream",
     "text": [
      "Processing audio files:  87%|████████▋ | 87/100 [08:23<01:14,  5.73s/it]"
     ]
    },
    {
     "name": "stdout",
     "output_type": "stream",
     "text": [
      "/Users/datoapanta/Desktop/mma_2024/dataset/data/gtzan/genres/pop/pop.00038.wav\n"
     ]
    },
    {
     "name": "stderr",
     "output_type": "stream",
     "text": [
      "Processing audio files:  88%|████████▊ | 88/100 [08:29<01:09,  5.78s/it]"
     ]
    },
    {
     "name": "stdout",
     "output_type": "stream",
     "text": [
      "/Users/datoapanta/Desktop/mma_2024/dataset/data/gtzan/genres/pop/pop.00004.wav\n"
     ]
    },
    {
     "name": "stderr",
     "output_type": "stream",
     "text": [
      "Processing audio files:  89%|████████▉ | 89/100 [08:35<01:03,  5.81s/it]"
     ]
    },
    {
     "name": "stdout",
     "output_type": "stream",
     "text": [
      "/Users/datoapanta/Desktop/mma_2024/dataset/data/gtzan/genres/pop/pop.00010.wav\n"
     ]
    },
    {
     "name": "stderr",
     "output_type": "stream",
     "text": [
      "Processing audio files:  90%|█████████ | 90/100 [08:41<00:58,  5.83s/it]"
     ]
    },
    {
     "name": "stdout",
     "output_type": "stream",
     "text": [
      "/Users/datoapanta/Desktop/mma_2024/dataset/data/gtzan/genres/pop/pop.00028.wav\n"
     ]
    },
    {
     "name": "stderr",
     "output_type": "stream",
     "text": [
      "Processing audio files:  91%|█████████ | 91/100 [08:47<00:52,  5.79s/it]"
     ]
    },
    {
     "name": "stdout",
     "output_type": "stream",
     "text": [
      "/Users/datoapanta/Desktop/mma_2024/dataset/data/gtzan/genres/pop/pop.00014.wav\n"
     ]
    },
    {
     "name": "stderr",
     "output_type": "stream",
     "text": [
      "Processing audio files:  92%|█████████▏| 92/100 [08:53<00:46,  5.79s/it]"
     ]
    },
    {
     "name": "stdout",
     "output_type": "stream",
     "text": [
      "/Users/datoapanta/Desktop/mma_2024/dataset/data/gtzan/genres/pop/pop.00000.wav\n"
     ]
    },
    {
     "name": "stderr",
     "output_type": "stream",
     "text": [
      "Processing audio files:  93%|█████████▎| 93/100 [08:59<00:40,  5.84s/it]"
     ]
    },
    {
     "name": "stdout",
     "output_type": "stream",
     "text": [
      "/Users/datoapanta/Desktop/mma_2024/dataset/data/gtzan/genres/pop/pop.00001.wav\n"
     ]
    },
    {
     "name": "stderr",
     "output_type": "stream",
     "text": [
      "Processing audio files:  94%|█████████▍| 94/100 [09:04<00:34,  5.81s/it]"
     ]
    },
    {
     "name": "stdout",
     "output_type": "stream",
     "text": [
      "/Users/datoapanta/Desktop/mma_2024/dataset/data/gtzan/genres/pop/pop.00015.wav\n"
     ]
    },
    {
     "name": "stderr",
     "output_type": "stream",
     "text": [
      "Processing audio files:  95%|█████████▌| 95/100 [09:10<00:29,  5.80s/it]"
     ]
    },
    {
     "name": "stdout",
     "output_type": "stream",
     "text": [
      "/Users/datoapanta/Desktop/mma_2024/dataset/data/gtzan/genres/pop/pop.00029.wav\n"
     ]
    },
    {
     "name": "stderr",
     "output_type": "stream",
     "text": [
      "Processing audio files:  96%|█████████▌| 96/100 [09:16<00:22,  5.74s/it]"
     ]
    },
    {
     "name": "stdout",
     "output_type": "stream",
     "text": [
      "/Users/datoapanta/Desktop/mma_2024/dataset/data/gtzan/genres/pop/pop.00003.wav\n"
     ]
    },
    {
     "name": "stderr",
     "output_type": "stream",
     "text": [
      "Processing audio files:  97%|█████████▋| 97/100 [09:21<00:17,  5.75s/it]"
     ]
    },
    {
     "name": "stdout",
     "output_type": "stream",
     "text": [
      "/Users/datoapanta/Desktop/mma_2024/dataset/data/gtzan/genres/pop/pop.00017.wav\n"
     ]
    },
    {
     "name": "stderr",
     "output_type": "stream",
     "text": [
      "Processing audio files:  98%|█████████▊| 98/100 [09:27<00:11,  5.73s/it]"
     ]
    },
    {
     "name": "stdout",
     "output_type": "stream",
     "text": [
      "/Users/datoapanta/Desktop/mma_2024/dataset/data/gtzan/genres/pop/pop.00016.wav\n"
     ]
    },
    {
     "name": "stderr",
     "output_type": "stream",
     "text": [
      "Processing audio files:  99%|█████████▉| 99/100 [09:33<00:05,  5.68s/it]"
     ]
    },
    {
     "name": "stdout",
     "output_type": "stream",
     "text": [
      "/Users/datoapanta/Desktop/mma_2024/dataset/data/gtzan/genres/pop/pop.00002.wav\n"
     ]
    },
    {
     "name": "stderr",
     "output_type": "stream",
     "text": [
      "Processing audio files: 100%|██████████| 100/100 [09:38<00:00,  5.79s/it]\n",
      "Processing audio files:   0%|          | 0/100 [00:00<?, ?it/s]"
     ]
    },
    {
     "name": "stdout",
     "output_type": "stream",
     "text": [
      "/Users/datoapanta/Desktop/mma_2024/dataset/data/gtzan/genres/metal/metal.00022.wav\n"
     ]
    },
    {
     "name": "stderr",
     "output_type": "stream",
     "text": [
      "Processing audio files:   1%|          | 1/100 [00:05<09:38,  5.84s/it]"
     ]
    },
    {
     "name": "stdout",
     "output_type": "stream",
     "text": [
      "/Users/datoapanta/Desktop/mma_2024/dataset/data/gtzan/genres/metal/metal.00036.wav\n"
     ]
    },
    {
     "name": "stderr",
     "output_type": "stream",
     "text": [
      "Processing audio files:   2%|▏         | 2/100 [00:11<09:22,  5.74s/it]"
     ]
    },
    {
     "name": "stdout",
     "output_type": "stream",
     "text": [
      "/Users/datoapanta/Desktop/mma_2024/dataset/data/gtzan/genres/metal/metal.00037.wav\n"
     ]
    },
    {
     "name": "stderr",
     "output_type": "stream",
     "text": [
      "Processing audio files:   3%|▎         | 3/100 [00:17<09:11,  5.69s/it]"
     ]
    },
    {
     "name": "stdout",
     "output_type": "stream",
     "text": [
      "/Users/datoapanta/Desktop/mma_2024/dataset/data/gtzan/genres/metal/metal.00023.wav\n"
     ]
    },
    {
     "name": "stderr",
     "output_type": "stream",
     "text": [
      "Processing audio files:   4%|▍         | 4/100 [00:23<09:16,  5.79s/it]"
     ]
    },
    {
     "name": "stdout",
     "output_type": "stream",
     "text": [
      "/Users/datoapanta/Desktop/mma_2024/dataset/data/gtzan/genres/metal/metal.00009.wav\n"
     ]
    },
    {
     "name": "stderr",
     "output_type": "stream",
     "text": [
      "Processing audio files:   5%|▌         | 5/100 [00:28<09:05,  5.75s/it]"
     ]
    },
    {
     "name": "stdout",
     "output_type": "stream",
     "text": [
      "/Users/datoapanta/Desktop/mma_2024/dataset/data/gtzan/genres/metal/metal.00035.wav\n"
     ]
    },
    {
     "name": "stderr",
     "output_type": "stream",
     "text": [
      "Processing audio files:   6%|▌         | 6/100 [00:34<08:58,  5.73s/it]"
     ]
    },
    {
     "name": "stdout",
     "output_type": "stream",
     "text": [
      "/Users/datoapanta/Desktop/mma_2024/dataset/data/gtzan/genres/metal/metal.00021.wav\n"
     ]
    },
    {
     "name": "stderr",
     "output_type": "stream",
     "text": [
      "Processing audio files:   7%|▋         | 7/100 [00:40<08:56,  5.77s/it]"
     ]
    },
    {
     "name": "stdout",
     "output_type": "stream",
     "text": [
      "/Users/datoapanta/Desktop/mma_2024/dataset/data/gtzan/genres/metal/metal.00020.wav\n"
     ]
    },
    {
     "name": "stderr",
     "output_type": "stream",
     "text": [
      "Processing audio files:   8%|▊         | 8/100 [00:45<08:47,  5.73s/it]"
     ]
    },
    {
     "name": "stdout",
     "output_type": "stream",
     "text": [
      "/Users/datoapanta/Desktop/mma_2024/dataset/data/gtzan/genres/metal/metal.00034.wav\n"
     ]
    },
    {
     "name": "stderr",
     "output_type": "stream",
     "text": [
      "Processing audio files:   9%|▉         | 9/100 [00:51<08:39,  5.71s/it]"
     ]
    },
    {
     "name": "stdout",
     "output_type": "stream",
     "text": [
      "/Users/datoapanta/Desktop/mma_2024/dataset/data/gtzan/genres/metal/metal.00008.wav\n"
     ]
    },
    {
     "name": "stderr",
     "output_type": "stream",
     "text": [
      "Processing audio files:  10%|█         | 10/100 [00:57<08:31,  5.69s/it]"
     ]
    },
    {
     "name": "stdout",
     "output_type": "stream",
     "text": [
      "/Users/datoapanta/Desktop/mma_2024/dataset/data/gtzan/genres/metal/metal.00030.wav\n"
     ]
    },
    {
     "name": "stderr",
     "output_type": "stream",
     "text": [
      "Processing audio files:  11%|█         | 11/100 [01:03<08:33,  5.77s/it]"
     ]
    },
    {
     "name": "stdout",
     "output_type": "stream",
     "text": [
      "/Users/datoapanta/Desktop/mma_2024/dataset/data/gtzan/genres/metal/metal.00024.wav\n"
     ]
    },
    {
     "name": "stderr",
     "output_type": "stream",
     "text": [
      "Processing audio files:  12%|█▏        | 12/100 [01:09<08:43,  5.95s/it]"
     ]
    },
    {
     "name": "stdout",
     "output_type": "stream",
     "text": [
      "/Users/datoapanta/Desktop/mma_2024/dataset/data/gtzan/genres/metal/metal.00018.wav\n"
     ]
    },
    {
     "name": "stderr",
     "output_type": "stream",
     "text": [
      "Processing audio files:  13%|█▎        | 13/100 [01:15<08:38,  5.96s/it]"
     ]
    },
    {
     "name": "stdout",
     "output_type": "stream",
     "text": [
      "/Users/datoapanta/Desktop/mma_2024/dataset/data/gtzan/genres/metal/metal.00019.wav\n"
     ]
    },
    {
     "name": "stderr",
     "output_type": "stream",
     "text": [
      "Processing audio files:  14%|█▍        | 14/100 [01:21<08:25,  5.88s/it]"
     ]
    },
    {
     "name": "stdout",
     "output_type": "stream",
     "text": [
      "/Users/datoapanta/Desktop/mma_2024/dataset/data/gtzan/genres/metal/metal.00025.wav\n"
     ]
    },
    {
     "name": "stderr",
     "output_type": "stream",
     "text": [
      "Processing audio files:  15%|█▌        | 15/100 [01:26<08:07,  5.73s/it]"
     ]
    },
    {
     "name": "stdout",
     "output_type": "stream",
     "text": [
      "/Users/datoapanta/Desktop/mma_2024/dataset/data/gtzan/genres/metal/metal.00031.wav\n"
     ]
    },
    {
     "name": "stderr",
     "output_type": "stream",
     "text": [
      "Processing audio files:  16%|█▌        | 16/100 [01:32<08:10,  5.83s/it]"
     ]
    },
    {
     "name": "stdout",
     "output_type": "stream",
     "text": [
      "/Users/datoapanta/Desktop/mma_2024/dataset/data/gtzan/genres/metal/metal.00027.wav\n"
     ]
    },
    {
     "name": "stderr",
     "output_type": "stream",
     "text": [
      "Processing audio files:  17%|█▋        | 17/100 [01:38<08:03,  5.82s/it]"
     ]
    },
    {
     "name": "stdout",
     "output_type": "stream",
     "text": [
      "/Users/datoapanta/Desktop/mma_2024/dataset/data/gtzan/genres/metal/metal.00033.wav\n"
     ]
    },
    {
     "name": "stderr",
     "output_type": "stream",
     "text": [
      "Processing audio files:  18%|█▊        | 18/100 [01:44<07:56,  5.81s/it]"
     ]
    },
    {
     "name": "stdout",
     "output_type": "stream",
     "text": [
      "/Users/datoapanta/Desktop/mma_2024/dataset/data/gtzan/genres/metal/metal.00032.wav\n"
     ]
    },
    {
     "name": "stderr",
     "output_type": "stream",
     "text": [
      "Processing audio files:  19%|█▉        | 19/100 [01:49<07:48,  5.79s/it]"
     ]
    },
    {
     "name": "stdout",
     "output_type": "stream",
     "text": [
      "/Users/datoapanta/Desktop/mma_2024/dataset/data/gtzan/genres/metal/metal.00026.wav\n"
     ]
    },
    {
     "name": "stderr",
     "output_type": "stream",
     "text": [
      "Processing audio files:  20%|██        | 20/100 [01:55<07:46,  5.83s/it]"
     ]
    },
    {
     "name": "stdout",
     "output_type": "stream",
     "text": [
      "/Users/datoapanta/Desktop/mma_2024/dataset/data/gtzan/genres/metal/metal.00082.wav\n"
     ]
    },
    {
     "name": "stderr",
     "output_type": "stream",
     "text": [
      "Processing audio files:  21%|██        | 21/100 [02:01<07:40,  5.83s/it]"
     ]
    },
    {
     "name": "stdout",
     "output_type": "stream",
     "text": [
      "/Users/datoapanta/Desktop/mma_2024/dataset/data/gtzan/genres/metal/metal.00096.wav\n"
     ]
    },
    {
     "name": "stderr",
     "output_type": "stream",
     "text": [
      "Processing audio files:  22%|██▏       | 22/100 [02:07<07:40,  5.90s/it]"
     ]
    },
    {
     "name": "stdout",
     "output_type": "stream",
     "text": [
      "/Users/datoapanta/Desktop/mma_2024/dataset/data/gtzan/genres/metal/metal.00069.wav\n"
     ]
    },
    {
     "name": "stderr",
     "output_type": "stream",
     "text": [
      "Processing audio files:  23%|██▎       | 23/100 [02:13<07:40,  5.98s/it]"
     ]
    },
    {
     "name": "stdout",
     "output_type": "stream",
     "text": [
      "/Users/datoapanta/Desktop/mma_2024/dataset/data/gtzan/genres/metal/metal.00041.wav\n"
     ]
    },
    {
     "name": "stderr",
     "output_type": "stream",
     "text": [
      "Processing audio files:  24%|██▍       | 24/100 [02:19<07:31,  5.95s/it]"
     ]
    },
    {
     "name": "stdout",
     "output_type": "stream",
     "text": [
      "/Users/datoapanta/Desktop/mma_2024/dataset/data/gtzan/genres/metal/metal.00055.wav\n"
     ]
    },
    {
     "name": "stderr",
     "output_type": "stream",
     "text": [
      "Processing audio files:  25%|██▌       | 25/100 [02:25<07:21,  5.88s/it]"
     ]
    },
    {
     "name": "stdout",
     "output_type": "stream",
     "text": [
      "/Users/datoapanta/Desktop/mma_2024/dataset/data/gtzan/genres/metal/metal.00054.wav\n"
     ]
    },
    {
     "name": "stderr",
     "output_type": "stream",
     "text": [
      "Processing audio files:  26%|██▌       | 26/100 [02:31<07:11,  5.83s/it]"
     ]
    },
    {
     "name": "stdout",
     "output_type": "stream",
     "text": [
      "/Users/datoapanta/Desktop/mma_2024/dataset/data/gtzan/genres/metal/metal.00040.wav\n"
     ]
    },
    {
     "name": "stderr",
     "output_type": "stream",
     "text": [
      "Processing audio files:  27%|██▋       | 27/100 [02:37<07:10,  5.90s/it]"
     ]
    },
    {
     "name": "stdout",
     "output_type": "stream",
     "text": [
      "/Users/datoapanta/Desktop/mma_2024/dataset/data/gtzan/genres/metal/metal.00068.wav\n"
     ]
    },
    {
     "name": "stderr",
     "output_type": "stream",
     "text": [
      "Processing audio files:  28%|██▊       | 28/100 [02:43<07:01,  5.86s/it]"
     ]
    },
    {
     "name": "stdout",
     "output_type": "stream",
     "text": [
      "/Users/datoapanta/Desktop/mma_2024/dataset/data/gtzan/genres/metal/metal.00097.wav\n"
     ]
    },
    {
     "name": "stderr",
     "output_type": "stream",
     "text": [
      "Processing audio files:  29%|██▉       | 29/100 [02:49<07:12,  6.09s/it]"
     ]
    },
    {
     "name": "stdout",
     "output_type": "stream",
     "text": [
      "/Users/datoapanta/Desktop/mma_2024/dataset/data/gtzan/genres/metal/metal.00083.wav\n"
     ]
    },
    {
     "name": "stderr",
     "output_type": "stream",
     "text": [
      "Processing audio files:  30%|███       | 30/100 [02:55<07:06,  6.09s/it]"
     ]
    },
    {
     "name": "stdout",
     "output_type": "stream",
     "text": [
      "/Users/datoapanta/Desktop/mma_2024/dataset/data/gtzan/genres/metal/metal.00095.wav\n"
     ]
    },
    {
     "name": "stderr",
     "output_type": "stream",
     "text": [
      "Processing audio files:  31%|███       | 31/100 [03:01<06:53,  5.99s/it]"
     ]
    },
    {
     "name": "stdout",
     "output_type": "stream",
     "text": [
      "/Users/datoapanta/Desktop/mma_2024/dataset/data/gtzan/genres/metal/metal.00081.wav\n"
     ]
    },
    {
     "name": "stderr",
     "output_type": "stream",
     "text": [
      "Processing audio files:  32%|███▏      | 32/100 [03:07<06:41,  5.91s/it]"
     ]
    },
    {
     "name": "stdout",
     "output_type": "stream",
     "text": [
      "/Users/datoapanta/Desktop/mma_2024/dataset/data/gtzan/genres/metal/metal.00056.wav\n"
     ]
    },
    {
     "name": "stderr",
     "output_type": "stream",
     "text": [
      "Processing audio files:  33%|███▎      | 33/100 [03:13<06:32,  5.85s/it]"
     ]
    },
    {
     "name": "stdout",
     "output_type": "stream",
     "text": [
      "/Users/datoapanta/Desktop/mma_2024/dataset/data/gtzan/genres/metal/metal.00042.wav\n"
     ]
    },
    {
     "name": "stderr",
     "output_type": "stream",
     "text": [
      "Processing audio files:  34%|███▍      | 34/100 [03:18<06:26,  5.85s/it]"
     ]
    },
    {
     "name": "stdout",
     "output_type": "stream",
     "text": [
      "/Users/datoapanta/Desktop/mma_2024/dataset/data/gtzan/genres/metal/metal.00043.wav\n"
     ]
    },
    {
     "name": "stderr",
     "output_type": "stream",
     "text": [
      "Processing audio files:  35%|███▌      | 35/100 [03:24<06:18,  5.82s/it]"
     ]
    },
    {
     "name": "stdout",
     "output_type": "stream",
     "text": [
      "/Users/datoapanta/Desktop/mma_2024/dataset/data/gtzan/genres/metal/metal.00057.wav\n"
     ]
    },
    {
     "name": "stderr",
     "output_type": "stream",
     "text": [
      "Processing audio files:  36%|███▌      | 36/100 [03:30<06:11,  5.81s/it]"
     ]
    },
    {
     "name": "stdout",
     "output_type": "stream",
     "text": [
      "/Users/datoapanta/Desktop/mma_2024/dataset/data/gtzan/genres/metal/metal.00080.wav\n"
     ]
    },
    {
     "name": "stderr",
     "output_type": "stream",
     "text": [
      "Processing audio files:  37%|███▋      | 37/100 [03:36<06:07,  5.83s/it]"
     ]
    },
    {
     "name": "stdout",
     "output_type": "stream",
     "text": [
      "/Users/datoapanta/Desktop/mma_2024/dataset/data/gtzan/genres/metal/metal.00094.wav\n"
     ]
    },
    {
     "name": "stderr",
     "output_type": "stream",
     "text": [
      "Processing audio files:  38%|███▊      | 38/100 [03:41<05:58,  5.79s/it]"
     ]
    },
    {
     "name": "stdout",
     "output_type": "stream",
     "text": [
      "/Users/datoapanta/Desktop/mma_2024/dataset/data/gtzan/genres/metal/metal.00090.wav\n"
     ]
    },
    {
     "name": "stderr",
     "output_type": "stream",
     "text": [
      "Processing audio files:  39%|███▉      | 39/100 [03:47<05:51,  5.76s/it]"
     ]
    },
    {
     "name": "stdout",
     "output_type": "stream",
     "text": [
      "/Users/datoapanta/Desktop/mma_2024/dataset/data/gtzan/genres/metal/metal.00084.wav\n"
     ]
    },
    {
     "name": "stderr",
     "output_type": "stream",
     "text": [
      "Processing audio files:  40%|████      | 40/100 [03:53<05:50,  5.83s/it]"
     ]
    },
    {
     "name": "stdout",
     "output_type": "stream",
     "text": [
      "/Users/datoapanta/Desktop/mma_2024/dataset/data/gtzan/genres/metal/metal.00053.wav\n"
     ]
    },
    {
     "name": "stderr",
     "output_type": "stream",
     "text": [
      "Processing audio files:  41%|████      | 41/100 [03:59<05:41,  5.80s/it]"
     ]
    },
    {
     "name": "stdout",
     "output_type": "stream",
     "text": [
      "/Users/datoapanta/Desktop/mma_2024/dataset/data/gtzan/genres/metal/metal.00047.wav\n"
     ]
    },
    {
     "name": "stderr",
     "output_type": "stream",
     "text": [
      "Processing audio files:  42%|████▏     | 42/100 [04:05<05:37,  5.83s/it]"
     ]
    },
    {
     "name": "stdout",
     "output_type": "stream",
     "text": [
      "/Users/datoapanta/Desktop/mma_2024/dataset/data/gtzan/genres/metal/metal.00046.wav\n"
     ]
    },
    {
     "name": "stderr",
     "output_type": "stream",
     "text": [
      "Processing audio files:  43%|████▎     | 43/100 [04:11<05:44,  6.05s/it]"
     ]
    },
    {
     "name": "stdout",
     "output_type": "stream",
     "text": [
      "/Users/datoapanta/Desktop/mma_2024/dataset/data/gtzan/genres/metal/metal.00052.wav\n"
     ]
    },
    {
     "name": "stderr",
     "output_type": "stream",
     "text": [
      "Processing audio files:  44%|████▍     | 44/100 [04:18<05:40,  6.08s/it]"
     ]
    },
    {
     "name": "stdout",
     "output_type": "stream",
     "text": [
      "/Users/datoapanta/Desktop/mma_2024/dataset/data/gtzan/genres/metal/metal.00085.wav\n"
     ]
    },
    {
     "name": "stderr",
     "output_type": "stream",
     "text": [
      "Processing audio files:  45%|████▌     | 45/100 [04:23<05:28,  5.98s/it]"
     ]
    },
    {
     "name": "stdout",
     "output_type": "stream",
     "text": [
      "/Users/datoapanta/Desktop/mma_2024/dataset/data/gtzan/genres/metal/metal.00091.wav\n"
     ]
    },
    {
     "name": "stderr",
     "output_type": "stream",
     "text": [
      "Processing audio files:  46%|████▌     | 46/100 [04:29<05:22,  5.97s/it]"
     ]
    },
    {
     "name": "stdout",
     "output_type": "stream",
     "text": [
      "/Users/datoapanta/Desktop/mma_2024/dataset/data/gtzan/genres/metal/metal.00087.wav\n"
     ]
    },
    {
     "name": "stderr",
     "output_type": "stream",
     "text": [
      "Processing audio files:  47%|████▋     | 47/100 [04:35<05:17,  5.99s/it]"
     ]
    },
    {
     "name": "stdout",
     "output_type": "stream",
     "text": [
      "/Users/datoapanta/Desktop/mma_2024/dataset/data/gtzan/genres/metal/metal.00093.wav\n"
     ]
    },
    {
     "name": "stderr",
     "output_type": "stream",
     "text": [
      "Processing audio files:  48%|████▊     | 48/100 [04:42<05:22,  6.20s/it]"
     ]
    },
    {
     "name": "stdout",
     "output_type": "stream",
     "text": [
      "/Users/datoapanta/Desktop/mma_2024/dataset/data/gtzan/genres/metal/metal.00044.wav\n"
     ]
    },
    {
     "name": "stderr",
     "output_type": "stream",
     "text": [
      "Processing audio files:  49%|████▉     | 49/100 [04:47<05:06,  6.00s/it]"
     ]
    },
    {
     "name": "stdout",
     "output_type": "stream",
     "text": [
      "/Users/datoapanta/Desktop/mma_2024/dataset/data/gtzan/genres/metal/metal.00050.wav\n"
     ]
    },
    {
     "name": "stderr",
     "output_type": "stream",
     "text": [
      "Processing audio files:  50%|█████     | 50/100 [04:53<04:54,  5.88s/it]"
     ]
    },
    {
     "name": "stdout",
     "output_type": "stream",
     "text": [
      "/Users/datoapanta/Desktop/mma_2024/dataset/data/gtzan/genres/metal/metal.00078.wav\n"
     ]
    },
    {
     "name": "stderr",
     "output_type": "stream",
     "text": [
      "Processing audio files:  51%|█████     | 51/100 [04:59<04:44,  5.82s/it]"
     ]
    },
    {
     "name": "stdout",
     "output_type": "stream",
     "text": [
      "/Users/datoapanta/Desktop/mma_2024/dataset/data/gtzan/genres/metal/metal.00079.wav\n"
     ]
    },
    {
     "name": "stderr",
     "output_type": "stream",
     "text": [
      "Processing audio files:  52%|█████▏    | 52/100 [05:04<04:34,  5.72s/it]"
     ]
    },
    {
     "name": "stdout",
     "output_type": "stream",
     "text": [
      "/Users/datoapanta/Desktop/mma_2024/dataset/data/gtzan/genres/metal/metal.00051.wav\n"
     ]
    },
    {
     "name": "stderr",
     "output_type": "stream",
     "text": [
      "Processing audio files:  53%|█████▎    | 53/100 [05:10<04:26,  5.67s/it]"
     ]
    },
    {
     "name": "stdout",
     "output_type": "stream",
     "text": [
      "/Users/datoapanta/Desktop/mma_2024/dataset/data/gtzan/genres/metal/metal.00045.wav\n"
     ]
    },
    {
     "name": "stderr",
     "output_type": "stream",
     "text": [
      "Processing audio files:  54%|█████▍    | 54/100 [05:15<04:17,  5.60s/it]"
     ]
    },
    {
     "name": "stdout",
     "output_type": "stream",
     "text": [
      "/Users/datoapanta/Desktop/mma_2024/dataset/data/gtzan/genres/metal/metal.00092.wav\n"
     ]
    },
    {
     "name": "stderr",
     "output_type": "stream",
     "text": [
      "Processing audio files:  55%|█████▌    | 55/100 [05:20<04:06,  5.48s/it]"
     ]
    },
    {
     "name": "stdout",
     "output_type": "stream",
     "text": [
      "/Users/datoapanta/Desktop/mma_2024/dataset/data/gtzan/genres/metal/metal.00086.wav\n"
     ]
    },
    {
     "name": "stderr",
     "output_type": "stream",
     "text": [
      "Processing audio files:  56%|█████▌    | 56/100 [05:26<03:57,  5.40s/it]"
     ]
    },
    {
     "name": "stdout",
     "output_type": "stream",
     "text": [
      "/Users/datoapanta/Desktop/mma_2024/dataset/data/gtzan/genres/metal/metal.00048.wav\n"
     ]
    },
    {
     "name": "stderr",
     "output_type": "stream",
     "text": [
      "Processing audio files:  57%|█████▋    | 57/100 [05:31<03:55,  5.47s/it]"
     ]
    },
    {
     "name": "stdout",
     "output_type": "stream",
     "text": [
      "/Users/datoapanta/Desktop/mma_2024/dataset/data/gtzan/genres/metal/metal.00060.wav\n"
     ]
    },
    {
     "name": "stderr",
     "output_type": "stream",
     "text": [
      "Processing audio files:  58%|█████▊    | 58/100 [05:37<03:53,  5.55s/it]"
     ]
    },
    {
     "name": "stdout",
     "output_type": "stream",
     "text": [
      "/Users/datoapanta/Desktop/mma_2024/dataset/data/gtzan/genres/metal/metal.00074.wav\n"
     ]
    },
    {
     "name": "stderr",
     "output_type": "stream",
     "text": [
      "Processing audio files:  59%|█████▉    | 59/100 [05:43<03:57,  5.80s/it]"
     ]
    },
    {
     "name": "stdout",
     "output_type": "stream",
     "text": [
      "/Users/datoapanta/Desktop/mma_2024/dataset/data/gtzan/genres/metal/metal.00075.wav\n"
     ]
    },
    {
     "name": "stderr",
     "output_type": "stream",
     "text": [
      "Processing audio files:  60%|██████    | 60/100 [05:49<03:52,  5.80s/it]"
     ]
    },
    {
     "name": "stdout",
     "output_type": "stream",
     "text": [
      "/Users/datoapanta/Desktop/mma_2024/dataset/data/gtzan/genres/metal/metal.00061.wav\n"
     ]
    },
    {
     "name": "stderr",
     "output_type": "stream",
     "text": [
      "Processing audio files:  61%|██████    | 61/100 [05:56<03:52,  5.96s/it]"
     ]
    },
    {
     "name": "stdout",
     "output_type": "stream",
     "text": [
      "/Users/datoapanta/Desktop/mma_2024/dataset/data/gtzan/genres/metal/metal.00049.wav\n"
     ]
    },
    {
     "name": "stderr",
     "output_type": "stream",
     "text": [
      "Processing audio files:  62%|██████▏   | 62/100 [06:02<03:48,  6.01s/it]"
     ]
    },
    {
     "name": "stdout",
     "output_type": "stream",
     "text": [
      "/Users/datoapanta/Desktop/mma_2024/dataset/data/gtzan/genres/metal/metal.00088.wav\n"
     ]
    },
    {
     "name": "stderr",
     "output_type": "stream",
     "text": [
      "Processing audio files:  63%|██████▎   | 63/100 [06:08<03:41,  5.98s/it]"
     ]
    },
    {
     "name": "stdout",
     "output_type": "stream",
     "text": [
      "/Users/datoapanta/Desktop/mma_2024/dataset/data/gtzan/genres/metal/metal.00077.wav\n"
     ]
    },
    {
     "name": "stderr",
     "output_type": "stream",
     "text": [
      "Processing audio files:  64%|██████▍   | 64/100 [06:14<03:37,  6.03s/it]"
     ]
    },
    {
     "name": "stdout",
     "output_type": "stream",
     "text": [
      "/Users/datoapanta/Desktop/mma_2024/dataset/data/gtzan/genres/metal/metal.00063.wav\n"
     ]
    },
    {
     "name": "stderr",
     "output_type": "stream",
     "text": [
      "Processing audio files:  65%|██████▌   | 65/100 [06:19<03:25,  5.86s/it]"
     ]
    },
    {
     "name": "stdout",
     "output_type": "stream",
     "text": [
      "/Users/datoapanta/Desktop/mma_2024/dataset/data/gtzan/genres/metal/metal.00062.wav\n"
     ]
    },
    {
     "name": "stderr",
     "output_type": "stream",
     "text": [
      "Processing audio files:  66%|██████▌   | 66/100 [06:25<03:16,  5.77s/it]"
     ]
    },
    {
     "name": "stdout",
     "output_type": "stream",
     "text": [
      "/Users/datoapanta/Desktop/mma_2024/dataset/data/gtzan/genres/metal/metal.00076.wav\n"
     ]
    },
    {
     "name": "stderr",
     "output_type": "stream",
     "text": [
      "Processing audio files:  67%|██████▋   | 67/100 [06:31<03:13,  5.86s/it]"
     ]
    },
    {
     "name": "stdout",
     "output_type": "stream",
     "text": [
      "/Users/datoapanta/Desktop/mma_2024/dataset/data/gtzan/genres/metal/metal.00089.wav\n"
     ]
    },
    {
     "name": "stderr",
     "output_type": "stream",
     "text": [
      "Processing audio files:  68%|██████▊   | 68/100 [06:37<03:06,  5.83s/it]"
     ]
    },
    {
     "name": "stdout",
     "output_type": "stream",
     "text": [
      "/Users/datoapanta/Desktop/mma_2024/dataset/data/gtzan/genres/metal/metal.00099.wav\n"
     ]
    },
    {
     "name": "stderr",
     "output_type": "stream",
     "text": [
      "Processing audio files:  69%|██████▉   | 69/100 [06:42<03:01,  5.85s/it]"
     ]
    },
    {
     "name": "stdout",
     "output_type": "stream",
     "text": [
      "/Users/datoapanta/Desktop/mma_2024/dataset/data/gtzan/genres/metal/metal.00072.wav\n"
     ]
    },
    {
     "name": "stderr",
     "output_type": "stream",
     "text": [
      "Processing audio files:  70%|███████   | 70/100 [06:48<02:55,  5.86s/it]"
     ]
    },
    {
     "name": "stdout",
     "output_type": "stream",
     "text": [
      "/Users/datoapanta/Desktop/mma_2024/dataset/data/gtzan/genres/metal/metal.00066.wav\n"
     ]
    },
    {
     "name": "stderr",
     "output_type": "stream",
     "text": [
      "Processing audio files:  71%|███████   | 71/100 [06:54<02:52,  5.94s/it]"
     ]
    },
    {
     "name": "stdout",
     "output_type": "stream",
     "text": [
      "/Users/datoapanta/Desktop/mma_2024/dataset/data/gtzan/genres/metal/metal.00067.wav\n"
     ]
    },
    {
     "name": "stderr",
     "output_type": "stream",
     "text": [
      "Processing audio files:  72%|███████▏  | 72/100 [07:00<02:44,  5.87s/it]"
     ]
    },
    {
     "name": "stdout",
     "output_type": "stream",
     "text": [
      "/Users/datoapanta/Desktop/mma_2024/dataset/data/gtzan/genres/metal/metal.00073.wav\n"
     ]
    },
    {
     "name": "stderr",
     "output_type": "stream",
     "text": [
      "Processing audio files:  73%|███████▎  | 73/100 [07:06<02:38,  5.86s/it]"
     ]
    },
    {
     "name": "stdout",
     "output_type": "stream",
     "text": [
      "/Users/datoapanta/Desktop/mma_2024/dataset/data/gtzan/genres/metal/metal.00098.wav\n"
     ]
    },
    {
     "name": "stderr",
     "output_type": "stream",
     "text": [
      "Processing audio files:  74%|███████▍  | 74/100 [07:14<02:47,  6.45s/it]"
     ]
    },
    {
     "name": "stdout",
     "output_type": "stream",
     "text": [
      "/Users/datoapanta/Desktop/mma_2024/dataset/data/gtzan/genres/metal/metal.00065.wav\n"
     ]
    },
    {
     "name": "stderr",
     "output_type": "stream",
     "text": [
      "Processing audio files:  75%|███████▌  | 75/100 [07:20<02:38,  6.33s/it]"
     ]
    },
    {
     "name": "stdout",
     "output_type": "stream",
     "text": [
      "/Users/datoapanta/Desktop/mma_2024/dataset/data/gtzan/genres/metal/metal.00071.wav\n"
     ]
    },
    {
     "name": "stderr",
     "output_type": "stream",
     "text": [
      "Processing audio files:  76%|███████▌  | 76/100 [07:26<02:30,  6.26s/it]"
     ]
    },
    {
     "name": "stdout",
     "output_type": "stream",
     "text": [
      "/Users/datoapanta/Desktop/mma_2024/dataset/data/gtzan/genres/metal/metal.00059.wav\n"
     ]
    },
    {
     "name": "stderr",
     "output_type": "stream",
     "text": [
      "Processing audio files:  77%|███████▋  | 77/100 [07:32<02:21,  6.16s/it]"
     ]
    },
    {
     "name": "stdout",
     "output_type": "stream",
     "text": [
      "/Users/datoapanta/Desktop/mma_2024/dataset/data/gtzan/genres/metal/metal.00058.wav\n"
     ]
    },
    {
     "name": "stderr",
     "output_type": "stream",
     "text": [
      "Processing audio files:  78%|███████▊  | 78/100 [07:38<02:13,  6.06s/it]"
     ]
    },
    {
     "name": "stdout",
     "output_type": "stream",
     "text": [
      "/Users/datoapanta/Desktop/mma_2024/dataset/data/gtzan/genres/metal/metal.00070.wav\n"
     ]
    },
    {
     "name": "stderr",
     "output_type": "stream",
     "text": [
      "Processing audio files:  79%|███████▉  | 79/100 [07:43<02:05,  5.95s/it]"
     ]
    },
    {
     "name": "stdout",
     "output_type": "stream",
     "text": [
      "/Users/datoapanta/Desktop/mma_2024/dataset/data/gtzan/genres/metal/metal.00064.wav\n"
     ]
    },
    {
     "name": "stderr",
     "output_type": "stream",
     "text": [
      "Processing audio files:  80%|████████  | 80/100 [07:49<01:58,  5.90s/it]"
     ]
    },
    {
     "name": "stdout",
     "output_type": "stream",
     "text": [
      "/Users/datoapanta/Desktop/mma_2024/dataset/data/gtzan/genres/metal/metal.00003.wav\n"
     ]
    },
    {
     "name": "stderr",
     "output_type": "stream",
     "text": [
      "Processing audio files:  81%|████████  | 81/100 [07:55<01:51,  5.89s/it]"
     ]
    },
    {
     "name": "stdout",
     "output_type": "stream",
     "text": [
      "/Users/datoapanta/Desktop/mma_2024/dataset/data/gtzan/genres/metal/metal.00017.wav\n"
     ]
    },
    {
     "name": "stderr",
     "output_type": "stream",
     "text": [
      "Processing audio files:  82%|████████▏ | 82/100 [08:01<01:47,  5.95s/it]"
     ]
    },
    {
     "name": "stdout",
     "output_type": "stream",
     "text": [
      "/Users/datoapanta/Desktop/mma_2024/dataset/data/gtzan/genres/metal/metal.00016.wav\n"
     ]
    },
    {
     "name": "stderr",
     "output_type": "stream",
     "text": [
      "Processing audio files:  83%|████████▎ | 83/100 [08:08<01:44,  6.15s/it]"
     ]
    },
    {
     "name": "stdout",
     "output_type": "stream",
     "text": [
      "/Users/datoapanta/Desktop/mma_2024/dataset/data/gtzan/genres/metal/metal.00002.wav\n"
     ]
    },
    {
     "name": "stderr",
     "output_type": "stream",
     "text": [
      "Processing audio files:  84%|████████▍ | 84/100 [08:14<01:38,  6.16s/it]"
     ]
    },
    {
     "name": "stdout",
     "output_type": "stream",
     "text": [
      "/Users/datoapanta/Desktop/mma_2024/dataset/data/gtzan/genres/metal/metal.00028.wav\n"
     ]
    },
    {
     "name": "stderr",
     "output_type": "stream",
     "text": [
      "Processing audio files:  85%|████████▌ | 85/100 [08:20<01:30,  6.06s/it]"
     ]
    },
    {
     "name": "stdout",
     "output_type": "stream",
     "text": [
      "/Users/datoapanta/Desktop/mma_2024/dataset/data/gtzan/genres/metal/metal.00014.wav\n"
     ]
    },
    {
     "name": "stderr",
     "output_type": "stream",
     "text": [
      "Processing audio files:  86%|████████▌ | 86/100 [08:26<01:23,  5.98s/it]"
     ]
    },
    {
     "name": "stdout",
     "output_type": "stream",
     "text": [
      "/Users/datoapanta/Desktop/mma_2024/dataset/data/gtzan/genres/metal/metal.00000.wav\n"
     ]
    },
    {
     "name": "stderr",
     "output_type": "stream",
     "text": [
      "Processing audio files:  87%|████████▋ | 87/100 [08:31<01:16,  5.90s/it]"
     ]
    },
    {
     "name": "stdout",
     "output_type": "stream",
     "text": [
      "/Users/datoapanta/Desktop/mma_2024/dataset/data/gtzan/genres/metal/metal.00001.wav\n"
     ]
    },
    {
     "name": "stderr",
     "output_type": "stream",
     "text": [
      "Processing audio files:  88%|████████▊ | 88/100 [08:38<01:14,  6.18s/it]"
     ]
    },
    {
     "name": "stdout",
     "output_type": "stream",
     "text": [
      "/Users/datoapanta/Desktop/mma_2024/dataset/data/gtzan/genres/metal/metal.00015.wav\n"
     ]
    },
    {
     "name": "stderr",
     "output_type": "stream",
     "text": [
      "Processing audio files:  89%|████████▉ | 89/100 [08:44<01:06,  6.08s/it]"
     ]
    },
    {
     "name": "stdout",
     "output_type": "stream",
     "text": [
      "/Users/datoapanta/Desktop/mma_2024/dataset/data/gtzan/genres/metal/metal.00029.wav\n"
     ]
    },
    {
     "name": "stderr",
     "output_type": "stream",
     "text": [
      "Processing audio files:  90%|█████████ | 90/100 [08:49<00:58,  5.87s/it]"
     ]
    },
    {
     "name": "stdout",
     "output_type": "stream",
     "text": [
      "/Users/datoapanta/Desktop/mma_2024/dataset/data/gtzan/genres/metal/metal.00011.wav\n"
     ]
    },
    {
     "name": "stderr",
     "output_type": "stream",
     "text": [
      "Processing audio files:  91%|█████████ | 91/100 [08:55<00:51,  5.77s/it]"
     ]
    },
    {
     "name": "stdout",
     "output_type": "stream",
     "text": [
      "/Users/datoapanta/Desktop/mma_2024/dataset/data/gtzan/genres/metal/metal.00005.wav\n"
     ]
    },
    {
     "name": "stderr",
     "output_type": "stream",
     "text": [
      "Processing audio files:  92%|█████████▏| 92/100 [09:01<00:46,  5.81s/it]"
     ]
    },
    {
     "name": "stdout",
     "output_type": "stream",
     "text": [
      "/Users/datoapanta/Desktop/mma_2024/dataset/data/gtzan/genres/metal/metal.00039.wav\n"
     ]
    },
    {
     "name": "stderr",
     "output_type": "stream",
     "text": [
      "Processing audio files:  93%|█████████▎| 93/100 [09:06<00:40,  5.77s/it]"
     ]
    },
    {
     "name": "stdout",
     "output_type": "stream",
     "text": [
      "/Users/datoapanta/Desktop/mma_2024/dataset/data/gtzan/genres/metal/metal.00038.wav\n"
     ]
    },
    {
     "name": "stderr",
     "output_type": "stream",
     "text": [
      "Processing audio files:  94%|█████████▍| 94/100 [09:12<00:34,  5.75s/it]"
     ]
    },
    {
     "name": "stdout",
     "output_type": "stream",
     "text": [
      "/Users/datoapanta/Desktop/mma_2024/dataset/data/gtzan/genres/metal/metal.00004.wav\n"
     ]
    },
    {
     "name": "stderr",
     "output_type": "stream",
     "text": [
      "Processing audio files:  95%|█████████▌| 95/100 [09:18<00:29,  5.88s/it]"
     ]
    },
    {
     "name": "stdout",
     "output_type": "stream",
     "text": [
      "/Users/datoapanta/Desktop/mma_2024/dataset/data/gtzan/genres/metal/metal.00010.wav\n"
     ]
    },
    {
     "name": "stderr",
     "output_type": "stream",
     "text": [
      "Processing audio files:  96%|█████████▌| 96/100 [09:24<00:23,  5.80s/it]"
     ]
    },
    {
     "name": "stdout",
     "output_type": "stream",
     "text": [
      "/Users/datoapanta/Desktop/mma_2024/dataset/data/gtzan/genres/metal/metal.00006.wav\n"
     ]
    },
    {
     "name": "stderr",
     "output_type": "stream",
     "text": [
      "Processing audio files:  97%|█████████▋| 97/100 [09:30<00:17,  5.75s/it]"
     ]
    },
    {
     "name": "stdout",
     "output_type": "stream",
     "text": [
      "/Users/datoapanta/Desktop/mma_2024/dataset/data/gtzan/genres/metal/metal.00012.wav\n"
     ]
    },
    {
     "name": "stderr",
     "output_type": "stream",
     "text": [
      "Processing audio files:  98%|█████████▊| 98/100 [09:37<00:12,  6.09s/it]"
     ]
    },
    {
     "name": "stdout",
     "output_type": "stream",
     "text": [
      "/Users/datoapanta/Desktop/mma_2024/dataset/data/gtzan/genres/metal/metal.00013.wav\n"
     ]
    },
    {
     "name": "stderr",
     "output_type": "stream",
     "text": [
      "Processing audio files:  99%|█████████▉| 99/100 [09:43<00:06,  6.08s/it]"
     ]
    },
    {
     "name": "stdout",
     "output_type": "stream",
     "text": [
      "/Users/datoapanta/Desktop/mma_2024/dataset/data/gtzan/genres/metal/metal.00007.wav\n"
     ]
    },
    {
     "name": "stderr",
     "output_type": "stream",
     "text": [
      "Processing audio files: 100%|██████████| 100/100 [09:48<00:00,  5.89s/it]\n",
      "Processing audio files: 100%|██████████| 1/1 [00:00<00:00, 784.28it/s]\n",
      "Processing audio files: 100%|██████████| 100/100 [00:00<00:00, 223696.21it/s]\n",
      "Processing audio files: 100%|██████████| 100/100 [00:00<00:00, 382691.97it/s]\n",
      "Processing audio files: 100%|██████████| 100/100 [00:00<00:00, 114410.91it/s]\n",
      "Processing audio files: 100%|██████████| 101/101 [00:00<00:00, 65596.89it/s]\n",
      "Processing audio files: 100%|██████████| 100/100 [00:00<00:00, 310459.22it/s]\n",
      "Processing audio files: 100%|██████████| 100/100 [00:00<00:00, 308404.71it/s]\n",
      "Processing audio files: 100%|██████████| 100/100 [00:00<00:00, 301965.73it/s]\n",
      "Processing audio files: 100%|██████████| 100/100 [00:00<00:00, 334474.00it/s]\n",
      "Processing audio files: 100%|██████████| 100/100 [00:00<00:00, 336891.89it/s]\n",
      "Processing audio files: 100%|██████████| 85/85 [00:00<00:00, 464213.33it/s]\n",
      "Processing audio files:   0%|          | 0/100 [00:00<?, ?it/s]"
     ]
    },
    {
     "name": "stdout",
     "output_type": "stream",
     "text": [
      "/Users/datoapanta/Desktop/mma_2024/dataset/data/gtzan/genres/disco/disco.00052.wav\n"
     ]
    },
    {
     "name": "stderr",
     "output_type": "stream",
     "text": [
      "Processing audio files:   1%|          | 1/100 [00:05<09:31,  5.78s/it]"
     ]
    },
    {
     "name": "stdout",
     "output_type": "stream",
     "text": [
      "/Users/datoapanta/Desktop/mma_2024/dataset/data/gtzan/genres/disco/disco.00046.wav\n"
     ]
    },
    {
     "name": "stderr",
     "output_type": "stream",
     "text": [
      "Processing audio files:   2%|▏         | 2/100 [00:11<09:22,  5.74s/it]"
     ]
    },
    {
     "name": "stdout",
     "output_type": "stream",
     "text": [
      "/Users/datoapanta/Desktop/mma_2024/dataset/data/gtzan/genres/disco/disco.00091.wav\n"
     ]
    },
    {
     "name": "stderr",
     "output_type": "stream",
     "text": [
      "Processing audio files:   3%|▎         | 3/100 [00:17<09:18,  5.76s/it]"
     ]
    },
    {
     "name": "stdout",
     "output_type": "stream",
     "text": [
      "/Users/datoapanta/Desktop/mma_2024/dataset/data/gtzan/genres/disco/disco.00085.wav\n"
     ]
    },
    {
     "name": "stderr",
     "output_type": "stream",
     "text": [
      "Processing audio files:   4%|▍         | 4/100 [00:23<09:28,  5.92s/it]"
     ]
    },
    {
     "name": "stdout",
     "output_type": "stream",
     "text": [
      "/Users/datoapanta/Desktop/mma_2024/dataset/data/gtzan/genres/disco/disco.00084.wav\n"
     ]
    },
    {
     "name": "stderr",
     "output_type": "stream",
     "text": [
      "Processing audio files:   5%|▌         | 5/100 [00:29<09:21,  5.91s/it]"
     ]
    },
    {
     "name": "stdout",
     "output_type": "stream",
     "text": [
      "/Users/datoapanta/Desktop/mma_2024/dataset/data/gtzan/genres/disco/disco.00090.wav\n"
     ]
    },
    {
     "name": "stderr",
     "output_type": "stream",
     "text": [
      "Processing audio files:   6%|▌         | 6/100 [00:35<09:18,  5.94s/it]"
     ]
    },
    {
     "name": "stdout",
     "output_type": "stream",
     "text": [
      "/Users/datoapanta/Desktop/mma_2024/dataset/data/gtzan/genres/disco/disco.00047.wav\n"
     ]
    },
    {
     "name": "stderr",
     "output_type": "stream",
     "text": [
      "Processing audio files:   7%|▋         | 7/100 [00:41<09:19,  6.02s/it]"
     ]
    },
    {
     "name": "stdout",
     "output_type": "stream",
     "text": [
      "/Users/datoapanta/Desktop/mma_2024/dataset/data/gtzan/genres/disco/disco.00053.wav\n"
     ]
    },
    {
     "name": "stderr",
     "output_type": "stream",
     "text": [
      "Processing audio files:   8%|▊         | 8/100 [00:47<09:13,  6.02s/it]"
     ]
    },
    {
     "name": "stdout",
     "output_type": "stream",
     "text": [
      "/Users/datoapanta/Desktop/mma_2024/dataset/data/gtzan/genres/disco/disco.00045.wav\n"
     ]
    },
    {
     "name": "stderr",
     "output_type": "stream",
     "text": [
      "Processing audio files:   9%|▉         | 9/100 [00:53<09:11,  6.06s/it]"
     ]
    },
    {
     "name": "stdout",
     "output_type": "stream",
     "text": [
      "/Users/datoapanta/Desktop/mma_2024/dataset/data/gtzan/genres/disco/disco.00051.wav\n"
     ]
    },
    {
     "name": "stderr",
     "output_type": "stream",
     "text": [
      "Processing audio files:  10%|█         | 10/100 [00:59<09:06,  6.07s/it]"
     ]
    },
    {
     "name": "stdout",
     "output_type": "stream",
     "text": [
      "/Users/datoapanta/Desktop/mma_2024/dataset/data/gtzan/genres/disco/disco.00079.wav\n"
     ]
    },
    {
     "name": "stderr",
     "output_type": "stream",
     "text": [
      "Processing audio files:  11%|█         | 11/100 [01:06<09:14,  6.23s/it]"
     ]
    },
    {
     "name": "stdout",
     "output_type": "stream",
     "text": [
      "/Users/datoapanta/Desktop/mma_2024/dataset/data/gtzan/genres/disco/disco.00086.wav\n"
     ]
    },
    {
     "name": "stderr",
     "output_type": "stream",
     "text": [
      "Processing audio files:  12%|█▏        | 12/100 [01:11<08:51,  6.04s/it]"
     ]
    },
    {
     "name": "stdout",
     "output_type": "stream",
     "text": [
      "/Users/datoapanta/Desktop/mma_2024/dataset/data/gtzan/genres/disco/disco.00092.wav\n"
     ]
    },
    {
     "name": "stderr",
     "output_type": "stream",
     "text": [
      "Processing audio files:  13%|█▎        | 13/100 [01:18<08:50,  6.10s/it]"
     ]
    },
    {
     "name": "stdout",
     "output_type": "stream",
     "text": [
      "/Users/datoapanta/Desktop/mma_2024/dataset/data/gtzan/genres/disco/disco.00093.wav\n"
     ]
    },
    {
     "name": "stderr",
     "output_type": "stream",
     "text": [
      "Processing audio files:  14%|█▍        | 14/100 [01:23<08:33,  5.97s/it]"
     ]
    },
    {
     "name": "stdout",
     "output_type": "stream",
     "text": [
      "/Users/datoapanta/Desktop/mma_2024/dataset/data/gtzan/genres/disco/disco.00087.wav\n"
     ]
    },
    {
     "name": "stderr",
     "output_type": "stream",
     "text": [
      "Processing audio files:  15%|█▌        | 15/100 [01:29<08:20,  5.89s/it]"
     ]
    },
    {
     "name": "stdout",
     "output_type": "stream",
     "text": [
      "/Users/datoapanta/Desktop/mma_2024/dataset/data/gtzan/genres/disco/disco.00078.wav\n"
     ]
    },
    {
     "name": "stderr",
     "output_type": "stream",
     "text": [
      "Processing audio files:  16%|█▌        | 16/100 [01:36<08:48,  6.29s/it]"
     ]
    },
    {
     "name": "stdout",
     "output_type": "stream",
     "text": [
      "/Users/datoapanta/Desktop/mma_2024/dataset/data/gtzan/genres/disco/disco.00050.wav\n"
     ]
    },
    {
     "name": "stderr",
     "output_type": "stream",
     "text": [
      "Processing audio files:  17%|█▋        | 17/100 [01:42<08:33,  6.19s/it]"
     ]
    },
    {
     "name": "stdout",
     "output_type": "stream",
     "text": [
      "/Users/datoapanta/Desktop/mma_2024/dataset/data/gtzan/genres/disco/disco.00044.wav\n"
     ]
    },
    {
     "name": "stderr",
     "output_type": "stream",
     "text": [
      "Processing audio files:  18%|█▊        | 18/100 [01:49<08:41,  6.35s/it]"
     ]
    },
    {
     "name": "stdout",
     "output_type": "stream",
     "text": [
      "/Users/datoapanta/Desktop/mma_2024/dataset/data/gtzan/genres/disco/disco.00068.wav\n"
     ]
    },
    {
     "name": "stderr",
     "output_type": "stream",
     "text": [
      "Processing audio files:  19%|█▉        | 19/100 [01:55<08:34,  6.35s/it]"
     ]
    },
    {
     "name": "stdout",
     "output_type": "stream",
     "text": [
      "/Users/datoapanta/Desktop/mma_2024/dataset/data/gtzan/genres/disco/disco.00040.wav\n"
     ]
    },
    {
     "name": "stderr",
     "output_type": "stream",
     "text": [
      "Processing audio files:  20%|██        | 20/100 [02:04<09:19,  6.99s/it]"
     ]
    },
    {
     "name": "stdout",
     "output_type": "stream",
     "text": [
      "/Users/datoapanta/Desktop/mma_2024/dataset/data/gtzan/genres/disco/disco.00054.wav\n"
     ]
    },
    {
     "name": "stderr",
     "output_type": "stream",
     "text": [
      "Processing audio files:  21%|██        | 21/100 [02:10<08:48,  6.69s/it]"
     ]
    },
    {
     "name": "stdout",
     "output_type": "stream",
     "text": [
      "/Users/datoapanta/Desktop/mma_2024/dataset/data/gtzan/genres/disco/disco.00083.wav\n"
     ]
    },
    {
     "name": "stderr",
     "output_type": "stream",
     "text": [
      "Processing audio files:  22%|██▏       | 22/100 [02:16<08:23,  6.46s/it]"
     ]
    },
    {
     "name": "stdout",
     "output_type": "stream",
     "text": [
      "/Users/datoapanta/Desktop/mma_2024/dataset/data/gtzan/genres/disco/disco.00097.wav\n"
     ]
    },
    {
     "name": "stderr",
     "output_type": "stream",
     "text": [
      "Processing audio files:  23%|██▎       | 23/100 [02:22<08:11,  6.38s/it]"
     ]
    },
    {
     "name": "stdout",
     "output_type": "stream",
     "text": [
      "/Users/datoapanta/Desktop/mma_2024/dataset/data/gtzan/genres/disco/disco.00096.wav\n"
     ]
    },
    {
     "name": "stderr",
     "output_type": "stream",
     "text": [
      "Processing audio files:  24%|██▍       | 24/100 [02:28<08:01,  6.34s/it]"
     ]
    },
    {
     "name": "stdout",
     "output_type": "stream",
     "text": [
      "/Users/datoapanta/Desktop/mma_2024/dataset/data/gtzan/genres/disco/disco.00082.wav\n"
     ]
    },
    {
     "name": "stderr",
     "output_type": "stream",
     "text": [
      "Processing audio files:  25%|██▌       | 25/100 [02:35<07:55,  6.34s/it]"
     ]
    },
    {
     "name": "stdout",
     "output_type": "stream",
     "text": [
      "/Users/datoapanta/Desktop/mma_2024/dataset/data/gtzan/genres/disco/disco.00055.wav\n"
     ]
    },
    {
     "name": "stderr",
     "output_type": "stream",
     "text": [
      "Processing audio files:  26%|██▌       | 26/100 [02:40<07:41,  6.23s/it]"
     ]
    },
    {
     "name": "stdout",
     "output_type": "stream",
     "text": [
      "/Users/datoapanta/Desktop/mma_2024/dataset/data/gtzan/genres/disco/disco.00041.wav\n"
     ]
    },
    {
     "name": "stderr",
     "output_type": "stream",
     "text": [
      "Processing audio files:  27%|██▋       | 27/100 [02:47<07:31,  6.19s/it]"
     ]
    },
    {
     "name": "stdout",
     "output_type": "stream",
     "text": [
      "/Users/datoapanta/Desktop/mma_2024/dataset/data/gtzan/genres/disco/disco.00069.wav\n"
     ]
    },
    {
     "name": "stderr",
     "output_type": "stream",
     "text": [
      "Processing audio files:  28%|██▊       | 28/100 [02:53<07:31,  6.27s/it]"
     ]
    },
    {
     "name": "stdout",
     "output_type": "stream",
     "text": [
      "/Users/datoapanta/Desktop/mma_2024/dataset/data/gtzan/genres/disco/disco.00057.wav\n"
     ]
    },
    {
     "name": "stderr",
     "output_type": "stream",
     "text": [
      "Processing audio files:  29%|██▉       | 29/100 [03:00<07:33,  6.38s/it]"
     ]
    },
    {
     "name": "stdout",
     "output_type": "stream",
     "text": [
      "/Users/datoapanta/Desktop/mma_2024/dataset/data/gtzan/genres/disco/disco.00043.wav\n"
     ]
    },
    {
     "name": "stderr",
     "output_type": "stream",
     "text": [
      "Processing audio files:  30%|███       | 30/100 [03:06<07:34,  6.49s/it]"
     ]
    },
    {
     "name": "stdout",
     "output_type": "stream",
     "text": [
      "/Users/datoapanta/Desktop/mma_2024/dataset/data/gtzan/genres/disco/disco.00094.wav\n"
     ]
    },
    {
     "name": "stderr",
     "output_type": "stream",
     "text": [
      "Processing audio files:  31%|███       | 31/100 [03:13<07:29,  6.51s/it]"
     ]
    },
    {
     "name": "stdout",
     "output_type": "stream",
     "text": [
      "/Users/datoapanta/Desktop/mma_2024/dataset/data/gtzan/genres/disco/disco.00080.wav\n"
     ]
    },
    {
     "name": "stderr",
     "output_type": "stream",
     "text": [
      "Processing audio files:  32%|███▏      | 32/100 [03:19<07:14,  6.39s/it]"
     ]
    },
    {
     "name": "stdout",
     "output_type": "stream",
     "text": [
      "/Users/datoapanta/Desktop/mma_2024/dataset/data/gtzan/genres/disco/disco.00081.wav\n"
     ]
    },
    {
     "name": "stderr",
     "output_type": "stream",
     "text": [
      "Processing audio files:  33%|███▎      | 33/100 [03:25<06:54,  6.18s/it]"
     ]
    },
    {
     "name": "stdout",
     "output_type": "stream",
     "text": [
      "/Users/datoapanta/Desktop/mma_2024/dataset/data/gtzan/genres/disco/disco.00095.wav\n"
     ]
    },
    {
     "name": "stderr",
     "output_type": "stream",
     "text": [
      "Processing audio files:  34%|███▍      | 34/100 [03:31<06:44,  6.12s/it]"
     ]
    },
    {
     "name": "stdout",
     "output_type": "stream",
     "text": [
      "/Users/datoapanta/Desktop/mma_2024/dataset/data/gtzan/genres/disco/disco.00042.wav\n"
     ]
    },
    {
     "name": "stderr",
     "output_type": "stream",
     "text": [
      "Processing audio files:  35%|███▌      | 35/100 [03:37<06:39,  6.15s/it]"
     ]
    },
    {
     "name": "stdout",
     "output_type": "stream",
     "text": [
      "/Users/datoapanta/Desktop/mma_2024/dataset/data/gtzan/genres/disco/disco.00056.wav\n"
     ]
    },
    {
     "name": "stderr",
     "output_type": "stream",
     "text": [
      "Processing audio files:  36%|███▌      | 36/100 [03:44<06:48,  6.38s/it]"
     ]
    },
    {
     "name": "stdout",
     "output_type": "stream",
     "text": [
      "/Users/datoapanta/Desktop/mma_2024/dataset/data/gtzan/genres/disco/disco.00031.wav\n"
     ]
    },
    {
     "name": "stderr",
     "output_type": "stream",
     "text": [
      "Processing audio files:  37%|███▋      | 37/100 [03:50<06:31,  6.21s/it]"
     ]
    },
    {
     "name": "stdout",
     "output_type": "stream",
     "text": [
      "/Users/datoapanta/Desktop/mma_2024/dataset/data/gtzan/genres/disco/disco.00025.wav\n"
     ]
    },
    {
     "name": "stderr",
     "output_type": "stream",
     "text": [
      "Processing audio files:  38%|███▊      | 38/100 [03:55<06:14,  6.04s/it]"
     ]
    },
    {
     "name": "stdout",
     "output_type": "stream",
     "text": [
      "/Users/datoapanta/Desktop/mma_2024/dataset/data/gtzan/genres/disco/disco.00019.wav\n"
     ]
    },
    {
     "name": "stderr",
     "output_type": "stream",
     "text": [
      "Processing audio files:  39%|███▉      | 39/100 [04:01<06:07,  6.02s/it]"
     ]
    },
    {
     "name": "stdout",
     "output_type": "stream",
     "text": [
      "/Users/datoapanta/Desktop/mma_2024/dataset/data/gtzan/genres/disco/disco.00018.wav\n"
     ]
    },
    {
     "name": "stderr",
     "output_type": "stream",
     "text": [
      "Processing audio files:  40%|████      | 40/100 [04:07<05:56,  5.95s/it]"
     ]
    },
    {
     "name": "stdout",
     "output_type": "stream",
     "text": [
      "/Users/datoapanta/Desktop/mma_2024/dataset/data/gtzan/genres/disco/disco.00024.wav\n"
     ]
    },
    {
     "name": "stderr",
     "output_type": "stream",
     "text": [
      "Processing audio files:  41%|████      | 41/100 [04:13<05:47,  5.90s/it]"
     ]
    },
    {
     "name": "stdout",
     "output_type": "stream",
     "text": [
      "/Users/datoapanta/Desktop/mma_2024/dataset/data/gtzan/genres/disco/disco.00030.wav\n"
     ]
    },
    {
     "name": "stderr",
     "output_type": "stream",
     "text": [
      "Processing audio files:  42%|████▏     | 42/100 [04:19<05:41,  5.89s/it]"
     ]
    },
    {
     "name": "stdout",
     "output_type": "stream",
     "text": [
      "/Users/datoapanta/Desktop/mma_2024/dataset/data/gtzan/genres/disco/disco.00026.wav\n"
     ]
    },
    {
     "name": "stderr",
     "output_type": "stream",
     "text": [
      "Processing audio files:  43%|████▎     | 43/100 [04:24<05:32,  5.83s/it]"
     ]
    },
    {
     "name": "stdout",
     "output_type": "stream",
     "text": [
      "/Users/datoapanta/Desktop/mma_2024/dataset/data/gtzan/genres/disco/disco.00032.wav\n"
     ]
    },
    {
     "name": "stderr",
     "output_type": "stream",
     "text": [
      "Processing audio files:  44%|████▍     | 44/100 [04:30<05:24,  5.79s/it]"
     ]
    },
    {
     "name": "stdout",
     "output_type": "stream",
     "text": [
      "/Users/datoapanta/Desktop/mma_2024/dataset/data/gtzan/genres/disco/disco.00033.wav\n"
     ]
    },
    {
     "name": "stderr",
     "output_type": "stream",
     "text": [
      "Processing audio files:  45%|████▌     | 45/100 [04:36<05:19,  5.81s/it]"
     ]
    },
    {
     "name": "stdout",
     "output_type": "stream",
     "text": [
      "/Users/datoapanta/Desktop/mma_2024/dataset/data/gtzan/genres/disco/disco.00027.wav\n"
     ]
    },
    {
     "name": "stderr",
     "output_type": "stream",
     "text": [
      "Processing audio files:  46%|████▌     | 46/100 [04:43<05:31,  6.15s/it]"
     ]
    },
    {
     "name": "stdout",
     "output_type": "stream",
     "text": [
      "/Users/datoapanta/Desktop/mma_2024/dataset/data/gtzan/genres/disco/disco.00023.wav\n"
     ]
    },
    {
     "name": "stderr",
     "output_type": "stream",
     "text": [
      "Processing audio files:  47%|████▋     | 47/100 [04:49<05:19,  6.03s/it]"
     ]
    },
    {
     "name": "stdout",
     "output_type": "stream",
     "text": [
      "/Users/datoapanta/Desktop/mma_2024/dataset/data/gtzan/genres/disco/disco.00037.wav\n"
     ]
    },
    {
     "name": "stderr",
     "output_type": "stream",
     "text": [
      "Processing audio files:  48%|████▊     | 48/100 [04:54<05:09,  5.95s/it]"
     ]
    },
    {
     "name": "stdout",
     "output_type": "stream",
     "text": [
      "/Users/datoapanta/Desktop/mma_2024/dataset/data/gtzan/genres/disco/disco.00036.wav\n"
     ]
    },
    {
     "name": "stderr",
     "output_type": "stream",
     "text": [
      "Processing audio files:  49%|████▉     | 49/100 [05:00<05:03,  5.95s/it]"
     ]
    },
    {
     "name": "stdout",
     "output_type": "stream",
     "text": [
      "/Users/datoapanta/Desktop/mma_2024/dataset/data/gtzan/genres/disco/disco.00022.wav\n"
     ]
    },
    {
     "name": "stderr",
     "output_type": "stream",
     "text": [
      "Processing audio files:  50%|█████     | 50/100 [05:06<04:56,  5.93s/it]"
     ]
    },
    {
     "name": "stdout",
     "output_type": "stream",
     "text": [
      "/Users/datoapanta/Desktop/mma_2024/dataset/data/gtzan/genres/disco/disco.00008.wav\n"
     ]
    },
    {
     "name": "stderr",
     "output_type": "stream",
     "text": [
      "Processing audio files:  51%|█████     | 51/100 [05:12<04:48,  5.90s/it]"
     ]
    },
    {
     "name": "stdout",
     "output_type": "stream",
     "text": [
      "/Users/datoapanta/Desktop/mma_2024/dataset/data/gtzan/genres/disco/disco.00034.wav\n"
     ]
    },
    {
     "name": "stderr",
     "output_type": "stream",
     "text": [
      "Processing audio files:  52%|█████▏    | 52/100 [05:18<04:39,  5.82s/it]"
     ]
    },
    {
     "name": "stdout",
     "output_type": "stream",
     "text": [
      "/Users/datoapanta/Desktop/mma_2024/dataset/data/gtzan/genres/disco/disco.00020.wav\n"
     ]
    },
    {
     "name": "stderr",
     "output_type": "stream",
     "text": [
      "Processing audio files:  53%|█████▎    | 53/100 [05:24<04:35,  5.86s/it]"
     ]
    },
    {
     "name": "stdout",
     "output_type": "stream",
     "text": [
      "/Users/datoapanta/Desktop/mma_2024/dataset/data/gtzan/genres/disco/disco.00021.wav\n"
     ]
    },
    {
     "name": "stderr",
     "output_type": "stream",
     "text": [
      "Processing audio files:  54%|█████▍    | 54/100 [05:29<04:27,  5.82s/it]"
     ]
    },
    {
     "name": "stdout",
     "output_type": "stream",
     "text": [
      "/Users/datoapanta/Desktop/mma_2024/dataset/data/gtzan/genres/disco/disco.00035.wav\n"
     ]
    },
    {
     "name": "stderr",
     "output_type": "stream",
     "text": [
      "Processing audio files:  55%|█████▌    | 55/100 [05:35<04:19,  5.78s/it]"
     ]
    },
    {
     "name": "stdout",
     "output_type": "stream",
     "text": [
      "/Users/datoapanta/Desktop/mma_2024/dataset/data/gtzan/genres/disco/disco.00009.wav\n"
     ]
    },
    {
     "name": "stderr",
     "output_type": "stream",
     "text": [
      "Processing audio files:  56%|█████▌    | 56/100 [05:41<04:12,  5.73s/it]"
     ]
    },
    {
     "name": "stdout",
     "output_type": "stream",
     "text": [
      "/Users/datoapanta/Desktop/mma_2024/dataset/data/gtzan/genres/disco/disco.00010.wav\n"
     ]
    },
    {
     "name": "stderr",
     "output_type": "stream",
     "text": [
      "Processing audio files:  57%|█████▋    | 57/100 [05:47<04:07,  5.74s/it]"
     ]
    },
    {
     "name": "stdout",
     "output_type": "stream",
     "text": [
      "/Users/datoapanta/Desktop/mma_2024/dataset/data/gtzan/genres/disco/disco.00004.wav\n"
     ]
    },
    {
     "name": "stderr",
     "output_type": "stream",
     "text": [
      "Processing audio files:  58%|█████▊    | 58/100 [05:52<04:03,  5.79s/it]"
     ]
    },
    {
     "name": "stdout",
     "output_type": "stream",
     "text": [
      "/Users/datoapanta/Desktop/mma_2024/dataset/data/gtzan/genres/disco/disco.00038.wav\n"
     ]
    },
    {
     "name": "stderr",
     "output_type": "stream",
     "text": [
      "Processing audio files:  59%|█████▉    | 59/100 [05:58<03:55,  5.75s/it]"
     ]
    },
    {
     "name": "stdout",
     "output_type": "stream",
     "text": [
      "/Users/datoapanta/Desktop/mma_2024/dataset/data/gtzan/genres/disco/disco.00039.wav\n"
     ]
    },
    {
     "name": "stderr",
     "output_type": "stream",
     "text": [
      "Processing audio files:  60%|██████    | 60/100 [06:04<03:48,  5.72s/it]"
     ]
    },
    {
     "name": "stdout",
     "output_type": "stream",
     "text": [
      "/Users/datoapanta/Desktop/mma_2024/dataset/data/gtzan/genres/disco/disco.00005.wav\n"
     ]
    },
    {
     "name": "stderr",
     "output_type": "stream",
     "text": [
      "Processing audio files:  61%|██████    | 61/100 [06:10<03:44,  5.76s/it]"
     ]
    },
    {
     "name": "stdout",
     "output_type": "stream",
     "text": [
      "/Users/datoapanta/Desktop/mma_2024/dataset/data/gtzan/genres/disco/disco.00011.wav\n"
     ]
    },
    {
     "name": "stderr",
     "output_type": "stream",
     "text": [
      "Processing audio files:  62%|██████▏   | 62/100 [06:16<03:42,  5.84s/it]"
     ]
    },
    {
     "name": "stdout",
     "output_type": "stream",
     "text": [
      "/Users/datoapanta/Desktop/mma_2024/dataset/data/gtzan/genres/disco/disco.00007.wav\n"
     ]
    },
    {
     "name": "stderr",
     "output_type": "stream",
     "text": [
      "Processing audio files:  63%|██████▎   | 63/100 [06:21<03:34,  5.80s/it]"
     ]
    },
    {
     "name": "stdout",
     "output_type": "stream",
     "text": [
      "/Users/datoapanta/Desktop/mma_2024/dataset/data/gtzan/genres/disco/disco.00013.wav\n"
     ]
    },
    {
     "name": "stderr",
     "output_type": "stream",
     "text": [
      "Processing audio files:  64%|██████▍   | 64/100 [06:27<03:27,  5.76s/it]"
     ]
    },
    {
     "name": "stdout",
     "output_type": "stream",
     "text": [
      "/Users/datoapanta/Desktop/mma_2024/dataset/data/gtzan/genres/disco/disco.00012.wav\n"
     ]
    },
    {
     "name": "stderr",
     "output_type": "stream",
     "text": [
      "Processing audio files:  65%|██████▌   | 65/100 [06:33<03:20,  5.72s/it]"
     ]
    },
    {
     "name": "stdout",
     "output_type": "stream",
     "text": [
      "/Users/datoapanta/Desktop/mma_2024/dataset/data/gtzan/genres/disco/disco.00006.wav\n"
     ]
    },
    {
     "name": "stderr",
     "output_type": "stream",
     "text": [
      "Processing audio files:  66%|██████▌   | 66/100 [06:38<03:14,  5.72s/it]"
     ]
    },
    {
     "name": "stdout",
     "output_type": "stream",
     "text": [
      "/Users/datoapanta/Desktop/mma_2024/dataset/data/gtzan/genres/disco/disco.00002.wav\n"
     ]
    },
    {
     "name": "stderr",
     "output_type": "stream",
     "text": [
      "Processing audio files:  67%|██████▋   | 67/100 [06:44<03:07,  5.70s/it]"
     ]
    },
    {
     "name": "stdout",
     "output_type": "stream",
     "text": [
      "/Users/datoapanta/Desktop/mma_2024/dataset/data/gtzan/genres/disco/disco.00016.wav\n"
     ]
    },
    {
     "name": "stderr",
     "output_type": "stream",
     "text": [
      "Processing audio files:  68%|██████▊   | 68/100 [06:50<03:02,  5.70s/it]"
     ]
    },
    {
     "name": "stdout",
     "output_type": "stream",
     "text": [
      "/Users/datoapanta/Desktop/mma_2024/dataset/data/gtzan/genres/disco/disco.00017.wav\n"
     ]
    },
    {
     "name": "stderr",
     "output_type": "stream",
     "text": [
      "Processing audio files:  69%|██████▉   | 69/100 [06:55<02:57,  5.72s/it]"
     ]
    },
    {
     "name": "stdout",
     "output_type": "stream",
     "text": [
      "/Users/datoapanta/Desktop/mma_2024/dataset/data/gtzan/genres/disco/disco.00003.wav\n"
     ]
    },
    {
     "name": "stderr",
     "output_type": "stream",
     "text": [
      "Processing audio files:  70%|███████   | 70/100 [07:01<02:51,  5.71s/it]"
     ]
    },
    {
     "name": "stdout",
     "output_type": "stream",
     "text": [
      "/Users/datoapanta/Desktop/mma_2024/dataset/data/gtzan/genres/disco/disco.00029.wav\n"
     ]
    },
    {
     "name": "stderr",
     "output_type": "stream",
     "text": [
      "Processing audio files:  71%|███████   | 71/100 [07:07<02:44,  5.68s/it]"
     ]
    },
    {
     "name": "stdout",
     "output_type": "stream",
     "text": [
      "/Users/datoapanta/Desktop/mma_2024/dataset/data/gtzan/genres/disco/disco.00015.wav\n"
     ]
    },
    {
     "name": "stderr",
     "output_type": "stream",
     "text": [
      "Processing audio files:  72%|███████▏  | 72/100 [07:12<02:38,  5.67s/it]"
     ]
    },
    {
     "name": "stdout",
     "output_type": "stream",
     "text": [
      "/Users/datoapanta/Desktop/mma_2024/dataset/data/gtzan/genres/disco/disco.00001.wav\n"
     ]
    },
    {
     "name": "stderr",
     "output_type": "stream",
     "text": [
      "Processing audio files:  73%|███████▎  | 73/100 [07:18<02:32,  5.66s/it]"
     ]
    },
    {
     "name": "stdout",
     "output_type": "stream",
     "text": [
      "/Users/datoapanta/Desktop/mma_2024/dataset/data/gtzan/genres/disco/disco.00000.wav\n"
     ]
    },
    {
     "name": "stderr",
     "output_type": "stream",
     "text": [
      "Processing audio files:  74%|███████▍  | 74/100 [07:24<02:26,  5.64s/it]"
     ]
    },
    {
     "name": "stdout",
     "output_type": "stream",
     "text": [
      "/Users/datoapanta/Desktop/mma_2024/dataset/data/gtzan/genres/disco/disco.00014.wav\n"
     ]
    },
    {
     "name": "stderr",
     "output_type": "stream",
     "text": [
      "Processing audio files:  75%|███████▌  | 75/100 [07:29<02:20,  5.62s/it]"
     ]
    },
    {
     "name": "stdout",
     "output_type": "stream",
     "text": [
      "/Users/datoapanta/Desktop/mma_2024/dataset/data/gtzan/genres/disco/disco.00028.wav\n"
     ]
    },
    {
     "name": "stderr",
     "output_type": "stream",
     "text": [
      "Processing audio files:  76%|███████▌  | 76/100 [07:35<02:16,  5.67s/it]"
     ]
    },
    {
     "name": "stdout",
     "output_type": "stream",
     "text": [
      "/Users/datoapanta/Desktop/mma_2024/dataset/data/gtzan/genres/disco/disco.00073.wav\n"
     ]
    },
    {
     "name": "stderr",
     "output_type": "stream",
     "text": [
      "Processing audio files:  77%|███████▋  | 77/100 [07:41<02:09,  5.65s/it]"
     ]
    },
    {
     "name": "stdout",
     "output_type": "stream",
     "text": [
      "/Users/datoapanta/Desktop/mma_2024/dataset/data/gtzan/genres/disco/disco.00067.wav\n"
     ]
    },
    {
     "name": "stderr",
     "output_type": "stream",
     "text": [
      "Processing audio files:  78%|███████▊  | 78/100 [07:46<02:04,  5.65s/it]"
     ]
    },
    {
     "name": "stdout",
     "output_type": "stream",
     "text": [
      "/Users/datoapanta/Desktop/mma_2024/dataset/data/gtzan/genres/disco/disco.00098.wav\n"
     ]
    },
    {
     "name": "stderr",
     "output_type": "stream",
     "text": [
      "Processing audio files:  79%|███████▉  | 79/100 [07:52<01:59,  5.70s/it]"
     ]
    },
    {
     "name": "stdout",
     "output_type": "stream",
     "text": [
      "/Users/datoapanta/Desktop/mma_2024/dataset/data/gtzan/genres/disco/disco.00099.wav\n"
     ]
    },
    {
     "name": "stderr",
     "output_type": "stream",
     "text": [
      "Processing audio files:  80%|████████  | 80/100 [07:58<01:53,  5.66s/it]"
     ]
    },
    {
     "name": "stdout",
     "output_type": "stream",
     "text": [
      "/Users/datoapanta/Desktop/mma_2024/dataset/data/gtzan/genres/disco/disco.00066.wav\n"
     ]
    },
    {
     "name": "stderr",
     "output_type": "stream",
     "text": [
      "Processing audio files:  81%|████████  | 81/100 [08:03<01:47,  5.64s/it]"
     ]
    },
    {
     "name": "stdout",
     "output_type": "stream",
     "text": [
      "/Users/datoapanta/Desktop/mma_2024/dataset/data/gtzan/genres/disco/disco.00072.wav\n"
     ]
    },
    {
     "name": "stderr",
     "output_type": "stream",
     "text": [
      "Processing audio files:  82%|████████▏ | 82/100 [08:09<01:41,  5.65s/it]"
     ]
    },
    {
     "name": "stdout",
     "output_type": "stream",
     "text": [
      "/Users/datoapanta/Desktop/mma_2024/dataset/data/gtzan/genres/disco/disco.00064.wav\n"
     ]
    },
    {
     "name": "stderr",
     "output_type": "stream",
     "text": [
      "Processing audio files:  83%|████████▎ | 83/100 [08:14<01:35,  5.64s/it]"
     ]
    },
    {
     "name": "stdout",
     "output_type": "stream",
     "text": [
      "/Users/datoapanta/Desktop/mma_2024/dataset/data/gtzan/genres/disco/disco.00070.wav\n"
     ]
    },
    {
     "name": "stderr",
     "output_type": "stream",
     "text": [
      "Processing audio files:  84%|████████▍ | 84/100 [08:20<01:31,  5.69s/it]"
     ]
    },
    {
     "name": "stdout",
     "output_type": "stream",
     "text": [
      "/Users/datoapanta/Desktop/mma_2024/dataset/data/gtzan/genres/disco/disco.00058.wav\n"
     ]
    },
    {
     "name": "stderr",
     "output_type": "stream",
     "text": [
      "Processing audio files:  85%|████████▌ | 85/100 [08:26<01:24,  5.65s/it]"
     ]
    },
    {
     "name": "stdout",
     "output_type": "stream",
     "text": [
      "/Users/datoapanta/Desktop/mma_2024/dataset/data/gtzan/genres/disco/disco.00059.wav\n"
     ]
    },
    {
     "name": "stderr",
     "output_type": "stream",
     "text": [
      "Processing audio files:  86%|████████▌ | 86/100 [08:31<01:18,  5.62s/it]"
     ]
    },
    {
     "name": "stdout",
     "output_type": "stream",
     "text": [
      "/Users/datoapanta/Desktop/mma_2024/dataset/data/gtzan/genres/disco/disco.00071.wav\n"
     ]
    },
    {
     "name": "stderr",
     "output_type": "stream",
     "text": [
      "Processing audio files:  87%|████████▋ | 87/100 [08:37<01:13,  5.64s/it]"
     ]
    },
    {
     "name": "stdout",
     "output_type": "stream",
     "text": [
      "/Users/datoapanta/Desktop/mma_2024/dataset/data/gtzan/genres/disco/disco.00065.wav\n"
     ]
    },
    {
     "name": "stderr",
     "output_type": "stream",
     "text": [
      "Processing audio files:  88%|████████▊ | 88/100 [08:42<01:06,  5.57s/it]"
     ]
    },
    {
     "name": "stdout",
     "output_type": "stream",
     "text": [
      "/Users/datoapanta/Desktop/mma_2024/dataset/data/gtzan/genres/disco/disco.00049.wav\n"
     ]
    },
    {
     "name": "stderr",
     "output_type": "stream",
     "text": [
      "Processing audio files:  89%|████████▉ | 89/100 [08:48<01:02,  5.67s/it]"
     ]
    },
    {
     "name": "stdout",
     "output_type": "stream",
     "text": [
      "/Users/datoapanta/Desktop/mma_2024/dataset/data/gtzan/genres/disco/disco.00061.wav\n"
     ]
    },
    {
     "name": "stderr",
     "output_type": "stream",
     "text": [
      "Processing audio files:  90%|█████████ | 90/100 [08:54<00:56,  5.64s/it]"
     ]
    },
    {
     "name": "stdout",
     "output_type": "stream",
     "text": [
      "/Users/datoapanta/Desktop/mma_2024/dataset/data/gtzan/genres/disco/disco.00075.wav\n"
     ]
    },
    {
     "name": "stderr",
     "output_type": "stream",
     "text": [
      "Processing audio files:  91%|█████████ | 91/100 [09:00<00:50,  5.66s/it]"
     ]
    },
    {
     "name": "stdout",
     "output_type": "stream",
     "text": [
      "/Users/datoapanta/Desktop/mma_2024/dataset/data/gtzan/genres/disco/disco.00074.wav\n"
     ]
    },
    {
     "name": "stderr",
     "output_type": "stream",
     "text": [
      "Processing audio files:  92%|█████████▏| 92/100 [09:05<00:44,  5.62s/it]"
     ]
    },
    {
     "name": "stdout",
     "output_type": "stream",
     "text": [
      "/Users/datoapanta/Desktop/mma_2024/dataset/data/gtzan/genres/disco/disco.00060.wav\n"
     ]
    },
    {
     "name": "stderr",
     "output_type": "stream",
     "text": [
      "Processing audio files:  93%|█████████▎| 93/100 [09:11<00:39,  5.69s/it]"
     ]
    },
    {
     "name": "stdout",
     "output_type": "stream",
     "text": [
      "/Users/datoapanta/Desktop/mma_2024/dataset/data/gtzan/genres/disco/disco.00048.wav\n"
     ]
    },
    {
     "name": "stderr",
     "output_type": "stream",
     "text": [
      "Processing audio files:  94%|█████████▍| 94/100 [09:17<00:34,  5.77s/it]"
     ]
    },
    {
     "name": "stdout",
     "output_type": "stream",
     "text": [
      "/Users/datoapanta/Desktop/mma_2024/dataset/data/gtzan/genres/disco/disco.00076.wav\n"
     ]
    },
    {
     "name": "stderr",
     "output_type": "stream",
     "text": [
      "Processing audio files:  95%|█████████▌| 95/100 [09:23<00:28,  5.78s/it]"
     ]
    },
    {
     "name": "stdout",
     "output_type": "stream",
     "text": [
      "/Users/datoapanta/Desktop/mma_2024/dataset/data/gtzan/genres/disco/disco.00062.wav\n"
     ]
    },
    {
     "name": "stderr",
     "output_type": "stream",
     "text": [
      "Processing audio files:  96%|█████████▌| 96/100 [09:28<00:22,  5.71s/it]"
     ]
    },
    {
     "name": "stdout",
     "output_type": "stream",
     "text": [
      "/Users/datoapanta/Desktop/mma_2024/dataset/data/gtzan/genres/disco/disco.00089.wav\n"
     ]
    },
    {
     "name": "stderr",
     "output_type": "stream",
     "text": [
      "Processing audio files:  97%|█████████▋| 97/100 [09:34<00:17,  5.79s/it]"
     ]
    },
    {
     "name": "stdout",
     "output_type": "stream",
     "text": [
      "/Users/datoapanta/Desktop/mma_2024/dataset/data/gtzan/genres/disco/disco.00088.wav\n"
     ]
    },
    {
     "name": "stderr",
     "output_type": "stream",
     "text": [
      "Processing audio files:  98%|█████████▊| 98/100 [09:40<00:11,  5.84s/it]"
     ]
    },
    {
     "name": "stdout",
     "output_type": "stream",
     "text": [
      "/Users/datoapanta/Desktop/mma_2024/dataset/data/gtzan/genres/disco/disco.00063.wav\n"
     ]
    },
    {
     "name": "stderr",
     "output_type": "stream",
     "text": [
      "Processing audio files:  99%|█████████▉| 99/100 [09:46<00:05,  5.88s/it]"
     ]
    },
    {
     "name": "stdout",
     "output_type": "stream",
     "text": [
      "/Users/datoapanta/Desktop/mma_2024/dataset/data/gtzan/genres/disco/disco.00077.wav\n"
     ]
    },
    {
     "name": "stderr",
     "output_type": "stream",
     "text": [
      "Processing audio files: 100%|██████████| 100/100 [09:52<00:00,  5.92s/it]\n",
      "Processing audio files:   0%|          | 0/100 [00:00<?, ?it/s]"
     ]
    },
    {
     "name": "stdout",
     "output_type": "stream",
     "text": [
      "/Users/datoapanta/Desktop/mma_2024/dataset/data/gtzan/genres/blues/blues.00093.wav\n"
     ]
    },
    {
     "name": "stderr",
     "output_type": "stream",
     "text": [
      "Processing audio files:   1%|          | 1/100 [00:05<09:26,  5.73s/it]"
     ]
    },
    {
     "name": "stdout",
     "output_type": "stream",
     "text": [
      "/Users/datoapanta/Desktop/mma_2024/dataset/data/gtzan/genres/blues/blues.00087.wav\n"
     ]
    },
    {
     "name": "stderr",
     "output_type": "stream",
     "text": [
      "Processing audio files:   2%|▏         | 2/100 [00:11<09:05,  5.57s/it]"
     ]
    },
    {
     "name": "stdout",
     "output_type": "stream",
     "text": [
      "/Users/datoapanta/Desktop/mma_2024/dataset/data/gtzan/genres/blues/blues.00050.wav\n"
     ]
    },
    {
     "name": "stderr",
     "output_type": "stream",
     "text": [
      "Processing audio files:   3%|▎         | 3/100 [00:18<10:08,  6.27s/it]"
     ]
    },
    {
     "name": "stdout",
     "output_type": "stream",
     "text": [
      "/Users/datoapanta/Desktop/mma_2024/dataset/data/gtzan/genres/blues/blues.00044.wav\n"
     ]
    },
    {
     "name": "stderr",
     "output_type": "stream",
     "text": [
      "Processing audio files:   4%|▍         | 4/100 [00:24<09:54,  6.19s/it]"
     ]
    },
    {
     "name": "stdout",
     "output_type": "stream",
     "text": [
      "/Users/datoapanta/Desktop/mma_2024/dataset/data/gtzan/genres/blues/blues.00078.wav\n"
     ]
    },
    {
     "name": "stderr",
     "output_type": "stream",
     "text": [
      "Processing audio files:   5%|▌         | 5/100 [00:30<09:38,  6.09s/it]"
     ]
    },
    {
     "name": "stdout",
     "output_type": "stream",
     "text": [
      "/Users/datoapanta/Desktop/mma_2024/dataset/data/gtzan/genres/blues/blues.00079.wav\n"
     ]
    },
    {
     "name": "stderr",
     "output_type": "stream",
     "text": [
      "Processing audio files:   6%|▌         | 6/100 [00:36<09:33,  6.10s/it]"
     ]
    },
    {
     "name": "stdout",
     "output_type": "stream",
     "text": [
      "/Users/datoapanta/Desktop/mma_2024/dataset/data/gtzan/genres/blues/blues.00045.wav\n"
     ]
    },
    {
     "name": "stderr",
     "output_type": "stream",
     "text": [
      "Processing audio files:   7%|▋         | 7/100 [00:42<09:22,  6.05s/it]"
     ]
    },
    {
     "name": "stdout",
     "output_type": "stream",
     "text": [
      "/Users/datoapanta/Desktop/mma_2024/dataset/data/gtzan/genres/blues/blues.00051.wav\n"
     ]
    },
    {
     "name": "stderr",
     "output_type": "stream",
     "text": [
      "Processing audio files:   8%|▊         | 8/100 [00:48<09:19,  6.09s/it]"
     ]
    },
    {
     "name": "stdout",
     "output_type": "stream",
     "text": [
      "/Users/datoapanta/Desktop/mma_2024/dataset/data/gtzan/genres/blues/blues.00086.wav\n"
     ]
    },
    {
     "name": "stderr",
     "output_type": "stream",
     "text": [
      "Processing audio files:   9%|▉         | 9/100 [00:54<09:04,  5.99s/it]"
     ]
    },
    {
     "name": "stdout",
     "output_type": "stream",
     "text": [
      "/Users/datoapanta/Desktop/mma_2024/dataset/data/gtzan/genres/blues/blues.00092.wav\n"
     ]
    },
    {
     "name": "stderr",
     "output_type": "stream",
     "text": [
      "Processing audio files:  10%|█         | 10/100 [01:00<08:52,  5.91s/it]"
     ]
    },
    {
     "name": "stdout",
     "output_type": "stream",
     "text": [
      "/Users/datoapanta/Desktop/mma_2024/dataset/data/gtzan/genres/blues/blues.00084.wav\n"
     ]
    },
    {
     "name": "stderr",
     "output_type": "stream",
     "text": [
      "Processing audio files:  11%|█         | 11/100 [01:06<08:53,  5.99s/it]"
     ]
    },
    {
     "name": "stdout",
     "output_type": "stream",
     "text": [
      "/Users/datoapanta/Desktop/mma_2024/dataset/data/gtzan/genres/blues/blues.00090.wav\n"
     ]
    },
    {
     "name": "stderr",
     "output_type": "stream",
     "text": [
      "Processing audio files:  12%|█▏        | 12/100 [01:12<08:43,  5.95s/it]"
     ]
    },
    {
     "name": "stdout",
     "output_type": "stream",
     "text": [
      "/Users/datoapanta/Desktop/mma_2024/dataset/data/gtzan/genres/blues/blues.00047.wav\n"
     ]
    },
    {
     "name": "stderr",
     "output_type": "stream",
     "text": [
      "Processing audio files:  13%|█▎        | 13/100 [01:18<08:43,  6.02s/it]"
     ]
    },
    {
     "name": "stdout",
     "output_type": "stream",
     "text": [
      "/Users/datoapanta/Desktop/mma_2024/dataset/data/gtzan/genres/blues/blues.00053.wav\n"
     ]
    },
    {
     "name": "stderr",
     "output_type": "stream",
     "text": [
      "Processing audio files:  14%|█▍        | 14/100 [01:24<08:33,  5.98s/it]"
     ]
    },
    {
     "name": "stdout",
     "output_type": "stream",
     "text": [
      "/Users/datoapanta/Desktop/mma_2024/dataset/data/gtzan/genres/blues/blues.00052.wav\n"
     ]
    },
    {
     "name": "stderr",
     "output_type": "stream",
     "text": [
      "Processing audio files:  15%|█▌        | 15/100 [01:29<08:25,  5.95s/it]"
     ]
    },
    {
     "name": "stdout",
     "output_type": "stream",
     "text": [
      "/Users/datoapanta/Desktop/mma_2024/dataset/data/gtzan/genres/blues/blues.00046.wav\n"
     ]
    },
    {
     "name": "stderr",
     "output_type": "stream",
     "text": [
      "Processing audio files:  16%|█▌        | 16/100 [01:35<08:17,  5.93s/it]"
     ]
    },
    {
     "name": "stdout",
     "output_type": "stream",
     "text": [
      "/Users/datoapanta/Desktop/mma_2024/dataset/data/gtzan/genres/blues/blues.00091.wav\n"
     ]
    },
    {
     "name": "stderr",
     "output_type": "stream",
     "text": [
      "Processing audio files:  17%|█▋        | 17/100 [01:41<08:08,  5.88s/it]"
     ]
    },
    {
     "name": "stdout",
     "output_type": "stream",
     "text": [
      "/Users/datoapanta/Desktop/mma_2024/dataset/data/gtzan/genres/blues/blues.00085.wav\n"
     ]
    },
    {
     "name": "stderr",
     "output_type": "stream",
     "text": [
      "Processing audio files:  18%|█▊        | 18/100 [01:47<08:01,  5.88s/it]"
     ]
    },
    {
     "name": "stdout",
     "output_type": "stream",
     "text": [
      "/Users/datoapanta/Desktop/mma_2024/dataset/data/gtzan/genres/blues/blues.00081.wav\n"
     ]
    },
    {
     "name": "stderr",
     "output_type": "stream",
     "text": [
      "Processing audio files:  19%|█▉        | 19/100 [01:53<07:55,  5.87s/it]"
     ]
    },
    {
     "name": "stdout",
     "output_type": "stream",
     "text": [
      "/Users/datoapanta/Desktop/mma_2024/dataset/data/gtzan/genres/blues/blues.00095.wav\n"
     ]
    },
    {
     "name": "stderr",
     "output_type": "stream",
     "text": [
      "Processing audio files:  20%|██        | 20/100 [01:59<07:55,  5.94s/it]"
     ]
    },
    {
     "name": "stdout",
     "output_type": "stream",
     "text": [
      "/Users/datoapanta/Desktop/mma_2024/dataset/data/gtzan/genres/blues/blues.00042.wav\n"
     ]
    },
    {
     "name": "stderr",
     "output_type": "stream",
     "text": [
      "Processing audio files:  21%|██        | 21/100 [02:05<07:47,  5.92s/it]"
     ]
    },
    {
     "name": "stdout",
     "output_type": "stream",
     "text": [
      "/Users/datoapanta/Desktop/mma_2024/dataset/data/gtzan/genres/blues/blues.00056.wav\n"
     ]
    },
    {
     "name": "stderr",
     "output_type": "stream",
     "text": [
      "Processing audio files:  22%|██▏       | 22/100 [02:11<07:55,  6.10s/it]"
     ]
    },
    {
     "name": "stdout",
     "output_type": "stream",
     "text": [
      "/Users/datoapanta/Desktop/mma_2024/dataset/data/gtzan/genres/blues/blues.00057.wav\n"
     ]
    },
    {
     "name": "stderr",
     "output_type": "stream",
     "text": [
      "Processing audio files:  23%|██▎       | 23/100 [02:17<07:47,  6.07s/it]"
     ]
    },
    {
     "name": "stdout",
     "output_type": "stream",
     "text": [
      "/Users/datoapanta/Desktop/mma_2024/dataset/data/gtzan/genres/blues/blues.00043.wav\n"
     ]
    },
    {
     "name": "stderr",
     "output_type": "stream",
     "text": [
      "Processing audio files:  24%|██▍       | 24/100 [02:23<07:42,  6.09s/it]"
     ]
    },
    {
     "name": "stdout",
     "output_type": "stream",
     "text": [
      "/Users/datoapanta/Desktop/mma_2024/dataset/data/gtzan/genres/blues/blues.00094.wav\n"
     ]
    },
    {
     "name": "stderr",
     "output_type": "stream",
     "text": [
      "Processing audio files:  25%|██▌       | 25/100 [02:30<07:55,  6.35s/it]"
     ]
    },
    {
     "name": "stdout",
     "output_type": "stream",
     "text": [
      "/Users/datoapanta/Desktop/mma_2024/dataset/data/gtzan/genres/blues/blues.00080.wav\n"
     ]
    },
    {
     "name": "stderr",
     "output_type": "stream",
     "text": [
      "Processing audio files:  26%|██▌       | 26/100 [02:41<09:19,  7.57s/it]"
     ]
    },
    {
     "name": "stdout",
     "output_type": "stream",
     "text": [
      "/Users/datoapanta/Desktop/mma_2024/dataset/data/gtzan/genres/blues/blues.00096.wav\n"
     ]
    },
    {
     "name": "stderr",
     "output_type": "stream",
     "text": [
      "Processing audio files:  27%|██▋       | 27/100 [02:47<08:37,  7.08s/it]"
     ]
    },
    {
     "name": "stdout",
     "output_type": "stream",
     "text": [
      "/Users/datoapanta/Desktop/mma_2024/dataset/data/gtzan/genres/blues/blues.00082.wav\n"
     ]
    },
    {
     "name": "stderr",
     "output_type": "stream",
     "text": [
      "Processing audio files:  28%|██▊       | 28/100 [02:52<07:56,  6.62s/it]"
     ]
    },
    {
     "name": "stdout",
     "output_type": "stream",
     "text": [
      "/Users/datoapanta/Desktop/mma_2024/dataset/data/gtzan/genres/blues/blues.00069.wav\n"
     ]
    },
    {
     "name": "stderr",
     "output_type": "stream",
     "text": [
      "Processing audio files:  29%|██▉       | 29/100 [02:59<07:52,  6.65s/it]"
     ]
    },
    {
     "name": "stdout",
     "output_type": "stream",
     "text": [
      "/Users/datoapanta/Desktop/mma_2024/dataset/data/gtzan/genres/blues/blues.00055.wav\n"
     ]
    },
    {
     "name": "stderr",
     "output_type": "stream",
     "text": [
      "Processing audio files:  30%|███       | 30/100 [03:05<07:35,  6.51s/it]"
     ]
    },
    {
     "name": "stdout",
     "output_type": "stream",
     "text": [
      "/Users/datoapanta/Desktop/mma_2024/dataset/data/gtzan/genres/blues/blues.00041.wav\n"
     ]
    },
    {
     "name": "stderr",
     "output_type": "stream",
     "text": [
      "Processing audio files:  31%|███       | 31/100 [03:11<07:06,  6.18s/it]"
     ]
    },
    {
     "name": "stdout",
     "output_type": "stream",
     "text": [
      "/Users/datoapanta/Desktop/mma_2024/dataset/data/gtzan/genres/blues/blues.00040.wav\n"
     ]
    },
    {
     "name": "stderr",
     "output_type": "stream",
     "text": [
      "Processing audio files:  32%|███▏      | 32/100 [03:16<06:42,  5.93s/it]"
     ]
    },
    {
     "name": "stdout",
     "output_type": "stream",
     "text": [
      "/Users/datoapanta/Desktop/mma_2024/dataset/data/gtzan/genres/blues/blues.00054.wav\n"
     ]
    },
    {
     "name": "stderr",
     "output_type": "stream",
     "text": [
      "Processing audio files:  33%|███▎      | 33/100 [03:21<06:25,  5.75s/it]"
     ]
    },
    {
     "name": "stdout",
     "output_type": "stream",
     "text": [
      "/Users/datoapanta/Desktop/mma_2024/dataset/data/gtzan/genres/blues/blues.00068.wav\n"
     ]
    },
    {
     "name": "stderr",
     "output_type": "stream",
     "text": [
      "Processing audio files:  34%|███▍      | 34/100 [03:28<06:29,  5.91s/it]"
     ]
    },
    {
     "name": "stdout",
     "output_type": "stream",
     "text": [
      "/Users/datoapanta/Desktop/mma_2024/dataset/data/gtzan/genres/blues/blues.00083.wav\n"
     ]
    },
    {
     "name": "stderr",
     "output_type": "stream",
     "text": [
      "Processing audio files:  35%|███▌      | 35/100 [03:33<06:14,  5.76s/it]"
     ]
    },
    {
     "name": "stdout",
     "output_type": "stream",
     "text": [
      "/Users/datoapanta/Desktop/mma_2024/dataset/data/gtzan/genres/blues/blues.00097.wav\n"
     ]
    },
    {
     "name": "stderr",
     "output_type": "stream",
     "text": [
      "Processing audio files:  36%|███▌      | 36/100 [03:39<06:04,  5.69s/it]"
     ]
    },
    {
     "name": "stdout",
     "output_type": "stream",
     "text": [
      "/Users/datoapanta/Desktop/mma_2024/dataset/data/gtzan/genres/blues/blues.00033.wav\n"
     ]
    },
    {
     "name": "stderr",
     "output_type": "stream",
     "text": [
      "Processing audio files:  37%|███▋      | 37/100 [03:44<06:03,  5.77s/it]"
     ]
    },
    {
     "name": "stdout",
     "output_type": "stream",
     "text": [
      "/Users/datoapanta/Desktop/mma_2024/dataset/data/gtzan/genres/blues/blues.00027.wav\n"
     ]
    },
    {
     "name": "stderr",
     "output_type": "stream",
     "text": [
      "Processing audio files:  38%|███▊      | 38/100 [03:50<05:56,  5.75s/it]"
     ]
    },
    {
     "name": "stdout",
     "output_type": "stream",
     "text": [
      "/Users/datoapanta/Desktop/mma_2024/dataset/data/gtzan/genres/blues/blues.00026.wav\n"
     ]
    },
    {
     "name": "stderr",
     "output_type": "stream",
     "text": [
      "Processing audio files:  39%|███▉      | 39/100 [03:56<05:53,  5.80s/it]"
     ]
    },
    {
     "name": "stdout",
     "output_type": "stream",
     "text": [
      "/Users/datoapanta/Desktop/mma_2024/dataset/data/gtzan/genres/blues/blues.00032.wav\n"
     ]
    },
    {
     "name": "stderr",
     "output_type": "stream",
     "text": [
      "Processing audio files:  40%|████      | 40/100 [04:02<05:45,  5.77s/it]"
     ]
    },
    {
     "name": "stdout",
     "output_type": "stream",
     "text": [
      "/Users/datoapanta/Desktop/mma_2024/dataset/data/gtzan/genres/blues/blues.00024.wav\n"
     ]
    },
    {
     "name": "stderr",
     "output_type": "stream",
     "text": [
      "Processing audio files:  41%|████      | 41/100 [04:07<05:37,  5.73s/it]"
     ]
    },
    {
     "name": "stdout",
     "output_type": "stream",
     "text": [
      "/Users/datoapanta/Desktop/mma_2024/dataset/data/gtzan/genres/blues/blues.00030.wav\n"
     ]
    },
    {
     "name": "stderr",
     "output_type": "stream",
     "text": [
      "Processing audio files:  42%|████▏     | 42/100 [04:14<05:40,  5.88s/it]"
     ]
    },
    {
     "name": "stdout",
     "output_type": "stream",
     "text": [
      "/Users/datoapanta/Desktop/mma_2024/dataset/data/gtzan/genres/blues/blues.00018.wav\n"
     ]
    },
    {
     "name": "stderr",
     "output_type": "stream",
     "text": [
      "Processing audio files:  43%|████▎     | 43/100 [04:20<05:42,  6.02s/it]"
     ]
    },
    {
     "name": "stdout",
     "output_type": "stream",
     "text": [
      "/Users/datoapanta/Desktop/mma_2024/dataset/data/gtzan/genres/blues/blues.00019.wav\n"
     ]
    },
    {
     "name": "stderr",
     "output_type": "stream",
     "text": [
      "Processing audio files:  44%|████▍     | 44/100 [04:26<05:38,  6.04s/it]"
     ]
    },
    {
     "name": "stdout",
     "output_type": "stream",
     "text": [
      "/Users/datoapanta/Desktop/mma_2024/dataset/data/gtzan/genres/blues/blues.00031.wav\n"
     ]
    },
    {
     "name": "stderr",
     "output_type": "stream",
     "text": [
      "Processing audio files:  45%|████▌     | 45/100 [04:32<05:34,  6.09s/it]"
     ]
    },
    {
     "name": "stdout",
     "output_type": "stream",
     "text": [
      "/Users/datoapanta/Desktop/mma_2024/dataset/data/gtzan/genres/blues/blues.00025.wav\n"
     ]
    },
    {
     "name": "stderr",
     "output_type": "stream",
     "text": [
      "Processing audio files:  46%|████▌     | 46/100 [04:38<05:20,  5.94s/it]"
     ]
    },
    {
     "name": "stdout",
     "output_type": "stream",
     "text": [
      "/Users/datoapanta/Desktop/mma_2024/dataset/data/gtzan/genres/blues/blues.00009.wav\n"
     ]
    },
    {
     "name": "stderr",
     "output_type": "stream",
     "text": [
      "Processing audio files:  47%|████▋     | 47/100 [04:44<05:17,  6.00s/it]"
     ]
    },
    {
     "name": "stdout",
     "output_type": "stream",
     "text": [
      "/Users/datoapanta/Desktop/mma_2024/dataset/data/gtzan/genres/blues/blues.00021.wav\n"
     ]
    },
    {
     "name": "stderr",
     "output_type": "stream",
     "text": [
      "Processing audio files:  48%|████▊     | 48/100 [04:50<05:09,  5.95s/it]"
     ]
    },
    {
     "name": "stdout",
     "output_type": "stream",
     "text": [
      "/Users/datoapanta/Desktop/mma_2024/dataset/data/gtzan/genres/blues/blues.00035.wav\n"
     ]
    },
    {
     "name": "stderr",
     "output_type": "stream",
     "text": [
      "Processing audio files:  49%|████▉     | 49/100 [04:55<04:57,  5.82s/it]"
     ]
    },
    {
     "name": "stdout",
     "output_type": "stream",
     "text": [
      "/Users/datoapanta/Desktop/mma_2024/dataset/data/gtzan/genres/blues/blues.00034.wav\n"
     ]
    },
    {
     "name": "stderr",
     "output_type": "stream",
     "text": [
      "Processing audio files:  50%|█████     | 50/100 [05:01<04:45,  5.70s/it]"
     ]
    },
    {
     "name": "stdout",
     "output_type": "stream",
     "text": [
      "/Users/datoapanta/Desktop/mma_2024/dataset/data/gtzan/genres/blues/blues.00020.wav\n"
     ]
    },
    {
     "name": "stderr",
     "output_type": "stream",
     "text": [
      "Processing audio files:  51%|█████     | 51/100 [05:06<04:35,  5.63s/it]"
     ]
    },
    {
     "name": "stdout",
     "output_type": "stream",
     "text": [
      "/Users/datoapanta/Desktop/mma_2024/dataset/data/gtzan/genres/blues/blues.00008.wav\n"
     ]
    },
    {
     "name": "stderr",
     "output_type": "stream",
     "text": [
      "Processing audio files:  52%|█████▏    | 52/100 [05:12<04:31,  5.66s/it]"
     ]
    },
    {
     "name": "stdout",
     "output_type": "stream",
     "text": [
      "/Users/datoapanta/Desktop/mma_2024/dataset/data/gtzan/genres/blues/blues.00036.wav\n"
     ]
    },
    {
     "name": "stderr",
     "output_type": "stream",
     "text": [
      "Processing audio files:  53%|█████▎    | 53/100 [05:18<04:26,  5.66s/it]"
     ]
    },
    {
     "name": "stdout",
     "output_type": "stream",
     "text": [
      "/Users/datoapanta/Desktop/mma_2024/dataset/data/gtzan/genres/blues/blues.00022.wav\n"
     ]
    },
    {
     "name": "stderr",
     "output_type": "stream",
     "text": [
      "Processing audio files:  54%|█████▍    | 54/100 [05:24<04:23,  5.74s/it]"
     ]
    },
    {
     "name": "stdout",
     "output_type": "stream",
     "text": [
      "/Users/datoapanta/Desktop/mma_2024/dataset/data/gtzan/genres/blues/blues.00023.wav\n"
     ]
    },
    {
     "name": "stderr",
     "output_type": "stream",
     "text": [
      "Processing audio files:  55%|█████▌    | 55/100 [05:29<04:19,  5.76s/it]"
     ]
    },
    {
     "name": "stdout",
     "output_type": "stream",
     "text": [
      "/Users/datoapanta/Desktop/mma_2024/dataset/data/gtzan/genres/blues/blues.00037.wav\n"
     ]
    },
    {
     "name": "stderr",
     "output_type": "stream",
     "text": [
      "Processing audio files:  56%|█████▌    | 56/100 [05:35<04:12,  5.74s/it]"
     ]
    },
    {
     "name": "stdout",
     "output_type": "stream",
     "text": [
      "/Users/datoapanta/Desktop/mma_2024/dataset/data/gtzan/genres/blues/blues.00012.wav\n"
     ]
    },
    {
     "name": "stderr",
     "output_type": "stream",
     "text": [
      "Processing audio files:  57%|█████▋    | 57/100 [05:41<04:09,  5.79s/it]"
     ]
    },
    {
     "name": "stdout",
     "output_type": "stream",
     "text": [
      "/Users/datoapanta/Desktop/mma_2024/dataset/data/gtzan/genres/blues/blues.00006.wav\n"
     ]
    },
    {
     "name": "stderr",
     "output_type": "stream",
     "text": [
      "Processing audio files:  58%|█████▊    | 58/100 [05:47<04:05,  5.84s/it]"
     ]
    },
    {
     "name": "stdout",
     "output_type": "stream",
     "text": [
      "/Users/datoapanta/Desktop/mma_2024/dataset/data/gtzan/genres/blues/blues.00007.wav\n"
     ]
    },
    {
     "name": "stderr",
     "output_type": "stream",
     "text": [
      "Processing audio files:  59%|█████▉    | 59/100 [05:53<04:00,  5.86s/it]"
     ]
    },
    {
     "name": "stdout",
     "output_type": "stream",
     "text": [
      "/Users/datoapanta/Desktop/mma_2024/dataset/data/gtzan/genres/blues/blues.00013.wav\n"
     ]
    },
    {
     "name": "stderr",
     "output_type": "stream",
     "text": [
      "Processing audio files:  60%|██████    | 60/100 [05:59<03:53,  5.84s/it]"
     ]
    },
    {
     "name": "stdout",
     "output_type": "stream",
     "text": [
      "/Users/datoapanta/Desktop/mma_2024/dataset/data/gtzan/genres/blues/blues.00005.wav\n"
     ]
    },
    {
     "name": "stderr",
     "output_type": "stream",
     "text": [
      "Processing audio files:  61%|██████    | 61/100 [06:05<03:49,  5.88s/it]"
     ]
    },
    {
     "name": "stdout",
     "output_type": "stream",
     "text": [
      "/Users/datoapanta/Desktop/mma_2024/dataset/data/gtzan/genres/blues/blues.00011.wav\n"
     ]
    },
    {
     "name": "stderr",
     "output_type": "stream",
     "text": [
      "Processing audio files:  62%|██████▏   | 62/100 [06:11<03:52,  6.12s/it]"
     ]
    },
    {
     "name": "stdout",
     "output_type": "stream",
     "text": [
      "/Users/datoapanta/Desktop/mma_2024/dataset/data/gtzan/genres/blues/blues.00039.wav\n"
     ]
    },
    {
     "name": "stderr",
     "output_type": "stream",
     "text": [
      "Processing audio files:  63%|██████▎   | 63/100 [06:18<03:52,  6.28s/it]"
     ]
    },
    {
     "name": "stdout",
     "output_type": "stream",
     "text": [
      "/Users/datoapanta/Desktop/mma_2024/dataset/data/gtzan/genres/blues/blues.00038.wav\n"
     ]
    },
    {
     "name": "stderr",
     "output_type": "stream",
     "text": [
      "Processing audio files:  64%|██████▍   | 64/100 [06:24<03:39,  6.10s/it]"
     ]
    },
    {
     "name": "stdout",
     "output_type": "stream",
     "text": [
      "/Users/datoapanta/Desktop/mma_2024/dataset/data/gtzan/genres/blues/blues.00010.wav\n"
     ]
    },
    {
     "name": "stderr",
     "output_type": "stream",
     "text": [
      "Processing audio files:  65%|██████▌   | 65/100 [06:29<03:30,  6.01s/it]"
     ]
    },
    {
     "name": "stdout",
     "output_type": "stream",
     "text": [
      "/Users/datoapanta/Desktop/mma_2024/dataset/data/gtzan/genres/blues/blues.00004.wav\n"
     ]
    },
    {
     "name": "stderr",
     "output_type": "stream",
     "text": [
      "Processing audio files:  66%|██████▌   | 66/100 [06:36<03:29,  6.15s/it]"
     ]
    },
    {
     "name": "stdout",
     "output_type": "stream",
     "text": [
      "/Users/datoapanta/Desktop/mma_2024/dataset/data/gtzan/genres/blues/blues.00028.wav\n"
     ]
    },
    {
     "name": "stderr",
     "output_type": "stream",
     "text": [
      "Processing audio files:  67%|██████▋   | 67/100 [06:42<03:19,  6.04s/it]"
     ]
    },
    {
     "name": "stdout",
     "output_type": "stream",
     "text": [
      "/Users/datoapanta/Desktop/mma_2024/dataset/data/gtzan/genres/blues/blues.00000.wav\n"
     ]
    },
    {
     "name": "stderr",
     "output_type": "stream",
     "text": [
      "Processing audio files:  68%|██████▊   | 68/100 [06:48<03:11,  5.99s/it]"
     ]
    },
    {
     "name": "stdout",
     "output_type": "stream",
     "text": [
      "/Users/datoapanta/Desktop/mma_2024/dataset/data/gtzan/genres/blues/blues.00014.wav\n"
     ]
    },
    {
     "name": "stderr",
     "output_type": "stream",
     "text": [
      "Processing audio files:  69%|██████▉   | 69/100 [06:54<03:05,  5.97s/it]"
     ]
    },
    {
     "name": "stdout",
     "output_type": "stream",
     "text": [
      "/Users/datoapanta/Desktop/mma_2024/dataset/data/gtzan/genres/blues/blues.00015.wav\n"
     ]
    },
    {
     "name": "stderr",
     "output_type": "stream",
     "text": [
      "Processing audio files:  70%|███████   | 70/100 [06:59<02:58,  5.94s/it]"
     ]
    },
    {
     "name": "stdout",
     "output_type": "stream",
     "text": [
      "/Users/datoapanta/Desktop/mma_2024/dataset/data/gtzan/genres/blues/blues.00001.wav\n"
     ]
    },
    {
     "name": "stderr",
     "output_type": "stream",
     "text": [
      "Processing audio files:  71%|███████   | 71/100 [07:06<02:55,  6.07s/it]"
     ]
    },
    {
     "name": "stdout",
     "output_type": "stream",
     "text": [
      "/Users/datoapanta/Desktop/mma_2024/dataset/data/gtzan/genres/blues/blues.00029.wav\n"
     ]
    },
    {
     "name": "stderr",
     "output_type": "stream",
     "text": [
      "Processing audio files:  72%|███████▏  | 72/100 [07:12<02:48,  6.02s/it]"
     ]
    },
    {
     "name": "stdout",
     "output_type": "stream",
     "text": [
      "/Users/datoapanta/Desktop/mma_2024/dataset/data/gtzan/genres/blues/blues.00017.wav\n"
     ]
    },
    {
     "name": "stderr",
     "output_type": "stream",
     "text": [
      "Processing audio files:  73%|███████▎  | 73/100 [07:17<02:40,  5.95s/it]"
     ]
    },
    {
     "name": "stdout",
     "output_type": "stream",
     "text": [
      "/Users/datoapanta/Desktop/mma_2024/dataset/data/gtzan/genres/blues/blues.00003.wav\n"
     ]
    },
    {
     "name": "stderr",
     "output_type": "stream",
     "text": [
      "Processing audio files:  74%|███████▍  | 74/100 [07:24<02:37,  6.06s/it]"
     ]
    },
    {
     "name": "stdout",
     "output_type": "stream",
     "text": [
      "/Users/datoapanta/Desktop/mma_2024/dataset/data/gtzan/genres/blues/blues.00002.wav\n"
     ]
    },
    {
     "name": "stderr",
     "output_type": "stream",
     "text": [
      "Processing audio files:  75%|███████▌  | 75/100 [07:30<02:34,  6.17s/it]"
     ]
    },
    {
     "name": "stdout",
     "output_type": "stream",
     "text": [
      "/Users/datoapanta/Desktop/mma_2024/dataset/data/gtzan/genres/blues/blues.00016.wav\n"
     ]
    },
    {
     "name": "stderr",
     "output_type": "stream",
     "text": [
      "Processing audio files:  76%|███████▌  | 76/100 [07:36<02:27,  6.14s/it]"
     ]
    },
    {
     "name": "stdout",
     "output_type": "stream",
     "text": [
      "/Users/datoapanta/Desktop/mma_2024/dataset/data/gtzan/genres/blues/blues.00071.wav\n"
     ]
    },
    {
     "name": "stderr",
     "output_type": "stream",
     "text": [
      "Processing audio files:  77%|███████▋  | 77/100 [07:42<02:17,  5.97s/it]"
     ]
    },
    {
     "name": "stdout",
     "output_type": "stream",
     "text": [
      "/Users/datoapanta/Desktop/mma_2024/dataset/data/gtzan/genres/blues/blues.00065.wav\n"
     ]
    },
    {
     "name": "stderr",
     "output_type": "stream",
     "text": [
      "Processing audio files:  78%|███████▊  | 78/100 [07:48<02:10,  5.94s/it]"
     ]
    },
    {
     "name": "stdout",
     "output_type": "stream",
     "text": [
      "/Users/datoapanta/Desktop/mma_2024/dataset/data/gtzan/genres/blues/blues.00059.wav\n"
     ]
    },
    {
     "name": "stderr",
     "output_type": "stream",
     "text": [
      "Processing audio files:  79%|███████▉  | 79/100 [07:54<02:04,  5.94s/it]"
     ]
    },
    {
     "name": "stdout",
     "output_type": "stream",
     "text": [
      "/Users/datoapanta/Desktop/mma_2024/dataset/data/gtzan/genres/blues/blues.00058.wav\n"
     ]
    },
    {
     "name": "stderr",
     "output_type": "stream",
     "text": [
      "Processing audio files:  80%|████████  | 80/100 [07:59<01:57,  5.85s/it]"
     ]
    },
    {
     "name": "stdout",
     "output_type": "stream",
     "text": [
      "/Users/datoapanta/Desktop/mma_2024/dataset/data/gtzan/genres/blues/blues.00064.wav\n"
     ]
    },
    {
     "name": "stderr",
     "output_type": "stream",
     "text": [
      "Processing audio files:  81%|████████  | 81/100 [08:05<01:50,  5.82s/it]"
     ]
    },
    {
     "name": "stdout",
     "output_type": "stream",
     "text": [
      "/Users/datoapanta/Desktop/mma_2024/dataset/data/gtzan/genres/blues/blues.00070.wav\n"
     ]
    },
    {
     "name": "stderr",
     "output_type": "stream",
     "text": [
      "Processing audio files:  82%|████████▏ | 82/100 [08:12<01:52,  6.23s/it]"
     ]
    },
    {
     "name": "stdout",
     "output_type": "stream",
     "text": [
      "/Users/datoapanta/Desktop/mma_2024/dataset/data/gtzan/genres/blues/blues.00099.wav\n"
     ]
    },
    {
     "name": "stderr",
     "output_type": "stream",
     "text": [
      "Processing audio files:  83%|████████▎ | 83/100 [08:23<02:06,  7.46s/it]"
     ]
    },
    {
     "name": "stdout",
     "output_type": "stream",
     "text": [
      "/Users/datoapanta/Desktop/mma_2024/dataset/data/gtzan/genres/blues/blues.00066.wav\n"
     ]
    },
    {
     "name": "stderr",
     "output_type": "stream",
     "text": [
      "Processing audio files:  84%|████████▍ | 84/100 [08:30<01:58,  7.43s/it]"
     ]
    },
    {
     "name": "stdout",
     "output_type": "stream",
     "text": [
      "/Users/datoapanta/Desktop/mma_2024/dataset/data/gtzan/genres/blues/blues.00072.wav\n"
     ]
    },
    {
     "name": "stderr",
     "output_type": "stream",
     "text": [
      "Processing audio files:  85%|████████▌ | 85/100 [08:37<01:52,  7.47s/it]"
     ]
    },
    {
     "name": "stdout",
     "output_type": "stream",
     "text": [
      "/Users/datoapanta/Desktop/mma_2024/dataset/data/gtzan/genres/blues/blues.00073.wav\n"
     ]
    },
    {
     "name": "stderr",
     "output_type": "stream",
     "text": [
      "Processing audio files:  86%|████████▌ | 86/100 [08:44<01:40,  7.14s/it]"
     ]
    },
    {
     "name": "stdout",
     "output_type": "stream",
     "text": [
      "/Users/datoapanta/Desktop/mma_2024/dataset/data/gtzan/genres/blues/blues.00067.wav\n"
     ]
    },
    {
     "name": "stderr",
     "output_type": "stream",
     "text": [
      "Processing audio files:  87%|████████▋ | 87/100 [08:50<01:29,  6.88s/it]"
     ]
    },
    {
     "name": "stdout",
     "output_type": "stream",
     "text": [
      "/Users/datoapanta/Desktop/mma_2024/dataset/data/gtzan/genres/blues/blues.00098.wav\n"
     ]
    },
    {
     "name": "stderr",
     "output_type": "stream",
     "text": [
      "Processing audio files:  88%|████████▊ | 88/100 [08:56<01:19,  6.63s/it]"
     ]
    },
    {
     "name": "stdout",
     "output_type": "stream",
     "text": [
      "/Users/datoapanta/Desktop/mma_2024/dataset/data/gtzan/genres/blues/blues.00088.wav\n"
     ]
    },
    {
     "name": "stderr",
     "output_type": "stream",
     "text": [
      "Processing audio files:  89%|████████▉ | 89/100 [09:02<01:10,  6.43s/it]"
     ]
    },
    {
     "name": "stdout",
     "output_type": "stream",
     "text": [
      "/Users/datoapanta/Desktop/mma_2024/dataset/data/gtzan/genres/blues/blues.00063.wav\n"
     ]
    },
    {
     "name": "stderr",
     "output_type": "stream",
     "text": [
      "Processing audio files:  90%|█████████ | 90/100 [09:08<01:02,  6.25s/it]"
     ]
    },
    {
     "name": "stdout",
     "output_type": "stream",
     "text": [
      "/Users/datoapanta/Desktop/mma_2024/dataset/data/gtzan/genres/blues/blues.00077.wav\n"
     ]
    },
    {
     "name": "stderr",
     "output_type": "stream",
     "text": [
      "Processing audio files:  91%|█████████ | 91/100 [09:14<00:54,  6.06s/it]"
     ]
    },
    {
     "name": "stdout",
     "output_type": "stream",
     "text": [
      "/Users/datoapanta/Desktop/mma_2024/dataset/data/gtzan/genres/blues/blues.00076.wav\n"
     ]
    },
    {
     "name": "stderr",
     "output_type": "stream",
     "text": [
      "Processing audio files:  92%|█████████▏| 92/100 [09:19<00:46,  5.87s/it]"
     ]
    },
    {
     "name": "stdout",
     "output_type": "stream",
     "text": [
      "/Users/datoapanta/Desktop/mma_2024/dataset/data/gtzan/genres/blues/blues.00062.wav\n"
     ]
    },
    {
     "name": "stderr",
     "output_type": "stream",
     "text": [
      "Processing audio files:  93%|█████████▎| 93/100 [09:24<00:39,  5.70s/it]"
     ]
    },
    {
     "name": "stdout",
     "output_type": "stream",
     "text": [
      "/Users/datoapanta/Desktop/mma_2024/dataset/data/gtzan/genres/blues/blues.00089.wav\n"
     ]
    },
    {
     "name": "stderr",
     "output_type": "stream",
     "text": [
      "Processing audio files:  94%|█████████▍| 94/100 [09:30<00:33,  5.60s/it]"
     ]
    },
    {
     "name": "stdout",
     "output_type": "stream",
     "text": [
      "/Users/datoapanta/Desktop/mma_2024/dataset/data/gtzan/genres/blues/blues.00048.wav\n"
     ]
    },
    {
     "name": "stderr",
     "output_type": "stream",
     "text": [
      "Processing audio files:  95%|█████████▌| 95/100 [09:35<00:27,  5.52s/it]"
     ]
    },
    {
     "name": "stdout",
     "output_type": "stream",
     "text": [
      "/Users/datoapanta/Desktop/mma_2024/dataset/data/gtzan/genres/blues/blues.00074.wav\n"
     ]
    },
    {
     "name": "stderr",
     "output_type": "stream",
     "text": [
      "Processing audio files:  96%|█████████▌| 96/100 [09:41<00:22,  5.56s/it]"
     ]
    },
    {
     "name": "stdout",
     "output_type": "stream",
     "text": [
      "/Users/datoapanta/Desktop/mma_2024/dataset/data/gtzan/genres/blues/blues.00060.wav\n"
     ]
    },
    {
     "name": "stderr",
     "output_type": "stream",
     "text": [
      "Processing audio files:  97%|█████████▋| 97/100 [09:46<00:16,  5.54s/it]"
     ]
    },
    {
     "name": "stdout",
     "output_type": "stream",
     "text": [
      "/Users/datoapanta/Desktop/mma_2024/dataset/data/gtzan/genres/blues/blues.00061.wav\n"
     ]
    },
    {
     "name": "stderr",
     "output_type": "stream",
     "text": [
      "Processing audio files:  98%|█████████▊| 98/100 [09:52<00:11,  5.67s/it]"
     ]
    },
    {
     "name": "stdout",
     "output_type": "stream",
     "text": [
      "/Users/datoapanta/Desktop/mma_2024/dataset/data/gtzan/genres/blues/blues.00075.wav\n"
     ]
    },
    {
     "name": "stderr",
     "output_type": "stream",
     "text": [
      "Processing audio files:  99%|█████████▉| 99/100 [09:57<00:05,  5.57s/it]"
     ]
    },
    {
     "name": "stdout",
     "output_type": "stream",
     "text": [
      "/Users/datoapanta/Desktop/mma_2024/dataset/data/gtzan/genres/blues/blues.00049.wav\n"
     ]
    },
    {
     "name": "stderr",
     "output_type": "stream",
     "text": [
      "Processing audio files: 100%|██████████| 100/100 [10:03<00:00,  6.03s/it]\n",
      "Processing audio files:   0%|          | 0/100 [00:00<?, ?it/s]"
     ]
    },
    {
     "name": "stdout",
     "output_type": "stream",
     "text": [
      "/Users/datoapanta/Desktop/mma_2024/dataset/data/gtzan/genres/reggae/reggae.00080.wav\n"
     ]
    },
    {
     "name": "stderr",
     "output_type": "stream",
     "text": [
      "Processing audio files:   1%|          | 1/100 [00:05<09:14,  5.60s/it]"
     ]
    },
    {
     "name": "stdout",
     "output_type": "stream",
     "text": [
      "/Users/datoapanta/Desktop/mma_2024/dataset/data/gtzan/genres/reggae/reggae.00094.wav\n"
     ]
    },
    {
     "name": "stderr",
     "output_type": "stream",
     "text": [
      "Processing audio files:   2%|▏         | 2/100 [00:11<09:16,  5.68s/it]"
     ]
    },
    {
     "name": "stdout",
     "output_type": "stream",
     "text": [
      "/Users/datoapanta/Desktop/mma_2024/dataset/data/gtzan/genres/reggae/reggae.00043.wav\n"
     ]
    },
    {
     "name": "stderr",
     "output_type": "stream",
     "text": [
      "Processing audio files:   3%|▎         | 3/100 [00:17<09:14,  5.72s/it]"
     ]
    },
    {
     "name": "stdout",
     "output_type": "stream",
     "text": [
      "/Users/datoapanta/Desktop/mma_2024/dataset/data/gtzan/genres/reggae/reggae.00057.wav\n"
     ]
    },
    {
     "name": "stderr",
     "output_type": "stream",
     "text": [
      "Processing audio files:   4%|▍         | 4/100 [00:23<09:17,  5.80s/it]"
     ]
    },
    {
     "name": "stdout",
     "output_type": "stream",
     "text": [
      "/Users/datoapanta/Desktop/mma_2024/dataset/data/gtzan/genres/reggae/reggae.00056.wav\n"
     ]
    },
    {
     "name": "stderr",
     "output_type": "stream",
     "text": [
      "Processing audio files:   5%|▌         | 5/100 [00:28<09:11,  5.81s/it]"
     ]
    },
    {
     "name": "stdout",
     "output_type": "stream",
     "text": [
      "/Users/datoapanta/Desktop/mma_2024/dataset/data/gtzan/genres/reggae/reggae.00042.wav\n"
     ]
    },
    {
     "name": "stderr",
     "output_type": "stream",
     "text": [
      "Processing audio files:   6%|▌         | 6/100 [00:34<09:04,  5.79s/it]"
     ]
    },
    {
     "name": "stdout",
     "output_type": "stream",
     "text": [
      "/Users/datoapanta/Desktop/mma_2024/dataset/data/gtzan/genres/reggae/reggae.00095.wav\n"
     ]
    },
    {
     "name": "stderr",
     "output_type": "stream",
     "text": [
      "Processing audio files:   7%|▋         | 7/100 [00:40<08:59,  5.80s/it]"
     ]
    },
    {
     "name": "stdout",
     "output_type": "stream",
     "text": [
      "/Users/datoapanta/Desktop/mma_2024/dataset/data/gtzan/genres/reggae/reggae.00081.wav\n"
     ]
    },
    {
     "name": "stderr",
     "output_type": "stream",
     "text": [
      "Processing audio files:   8%|▊         | 8/100 [00:46<08:58,  5.85s/it]"
     ]
    },
    {
     "name": "stdout",
     "output_type": "stream",
     "text": [
      "/Users/datoapanta/Desktop/mma_2024/dataset/data/gtzan/genres/reggae/reggae.00097.wav\n"
     ]
    },
    {
     "name": "stderr",
     "output_type": "stream",
     "text": [
      "Processing audio files:   9%|▉         | 9/100 [00:52<09:01,  5.95s/it]"
     ]
    },
    {
     "name": "stdout",
     "output_type": "stream",
     "text": [
      "/Users/datoapanta/Desktop/mma_2024/dataset/data/gtzan/genres/reggae/reggae.00083.wav\n"
     ]
    },
    {
     "name": "stderr",
     "output_type": "stream",
     "text": [
      "Processing audio files:  10%|█         | 10/100 [00:58<08:55,  5.95s/it]"
     ]
    },
    {
     "name": "stdout",
     "output_type": "stream",
     "text": [
      "/Users/datoapanta/Desktop/mma_2024/dataset/data/gtzan/genres/reggae/reggae.00054.wav\n"
     ]
    },
    {
     "name": "stderr",
     "output_type": "stream",
     "text": [
      "Processing audio files:  11%|█         | 11/100 [01:04<08:48,  5.93s/it]"
     ]
    },
    {
     "name": "stdout",
     "output_type": "stream",
     "text": [
      "/Users/datoapanta/Desktop/mma_2024/dataset/data/gtzan/genres/reggae/reggae.00040.wav\n"
     ]
    },
    {
     "name": "stderr",
     "output_type": "stream",
     "text": [
      "Processing audio files:  12%|█▏        | 12/100 [01:10<08:40,  5.91s/it]"
     ]
    },
    {
     "name": "stdout",
     "output_type": "stream",
     "text": [
      "/Users/datoapanta/Desktop/mma_2024/dataset/data/gtzan/genres/reggae/reggae.00068.wav\n"
     ]
    },
    {
     "name": "stderr",
     "output_type": "stream",
     "text": [
      "Processing audio files:  13%|█▎        | 13/100 [01:15<08:22,  5.78s/it]"
     ]
    },
    {
     "name": "stdout",
     "output_type": "stream",
     "text": [
      "/Users/datoapanta/Desktop/mma_2024/dataset/data/gtzan/genres/reggae/reggae.00069.wav\n"
     ]
    },
    {
     "name": "stderr",
     "output_type": "stream",
     "text": [
      "Processing audio files:  14%|█▍        | 14/100 [01:21<08:13,  5.74s/it]"
     ]
    },
    {
     "name": "stdout",
     "output_type": "stream",
     "text": [
      "/Users/datoapanta/Desktop/mma_2024/dataset/data/gtzan/genres/reggae/reggae.00041.wav\n"
     ]
    },
    {
     "name": "stderr",
     "output_type": "stream",
     "text": [
      "Processing audio files:  15%|█▌        | 15/100 [01:27<08:05,  5.71s/it]"
     ]
    },
    {
     "name": "stdout",
     "output_type": "stream",
     "text": [
      "/Users/datoapanta/Desktop/mma_2024/dataset/data/gtzan/genres/reggae/reggae.00055.wav\n"
     ]
    },
    {
     "name": "stderr",
     "output_type": "stream",
     "text": [
      "Processing audio files:  16%|█▌        | 16/100 [01:32<07:59,  5.71s/it]"
     ]
    },
    {
     "name": "stdout",
     "output_type": "stream",
     "text": [
      "/Users/datoapanta/Desktop/mma_2024/dataset/data/gtzan/genres/reggae/reggae.00082.wav\n"
     ]
    },
    {
     "name": "stderr",
     "output_type": "stream",
     "text": [
      "Processing audio files:  17%|█▋        | 17/100 [01:38<07:53,  5.70s/it]"
     ]
    },
    {
     "name": "stdout",
     "output_type": "stream",
     "text": [
      "/Users/datoapanta/Desktop/mma_2024/dataset/data/gtzan/genres/reggae/reggae.00096.wav\n"
     ]
    },
    {
     "name": "stderr",
     "output_type": "stream",
     "text": [
      "Processing audio files:  18%|█▊        | 18/100 [01:44<07:51,  5.76s/it]"
     ]
    },
    {
     "name": "stdout",
     "output_type": "stream",
     "text": [
      "/Users/datoapanta/Desktop/mma_2024/dataset/data/gtzan/genres/reggae/reggae.00092.wav\n"
     ]
    },
    {
     "name": "stderr",
     "output_type": "stream",
     "text": [
      "Processing audio files:  19%|█▉        | 19/100 [01:50<07:45,  5.75s/it]"
     ]
    },
    {
     "name": "stdout",
     "output_type": "stream",
     "text": [
      "/Users/datoapanta/Desktop/mma_2024/dataset/data/gtzan/genres/reggae/reggae.00086.wav\n"
     ]
    },
    {
     "name": "stderr",
     "output_type": "stream",
     "text": [
      "Processing audio files:  20%|██        | 20/100 [01:55<07:38,  5.73s/it]"
     ]
    },
    {
     "name": "stdout",
     "output_type": "stream",
     "text": [
      "/Users/datoapanta/Desktop/mma_2024/dataset/data/gtzan/genres/reggae/reggae.00079.wav\n"
     ]
    },
    {
     "name": "stderr",
     "output_type": "stream",
     "text": [
      "Processing audio files:  21%|██        | 21/100 [02:01<07:27,  5.67s/it]"
     ]
    },
    {
     "name": "stdout",
     "output_type": "stream",
     "text": [
      "/Users/datoapanta/Desktop/mma_2024/dataset/data/gtzan/genres/reggae/reggae.00051.wav\n"
     ]
    },
    {
     "name": "stderr",
     "output_type": "stream",
     "text": [
      "Processing audio files:  22%|██▏       | 22/100 [02:07<07:32,  5.80s/it]"
     ]
    },
    {
     "name": "stdout",
     "output_type": "stream",
     "text": [
      "/Users/datoapanta/Desktop/mma_2024/dataset/data/gtzan/genres/reggae/reggae.00045.wav\n"
     ]
    },
    {
     "name": "stderr",
     "output_type": "stream",
     "text": [
      "Processing audio files:  23%|██▎       | 23/100 [02:13<07:24,  5.77s/it]"
     ]
    },
    {
     "name": "stdout",
     "output_type": "stream",
     "text": [
      "/Users/datoapanta/Desktop/mma_2024/dataset/data/gtzan/genres/reggae/reggae.00044.wav\n"
     ]
    },
    {
     "name": "stderr",
     "output_type": "stream",
     "text": [
      "Processing audio files:  24%|██▍       | 24/100 [02:18<07:09,  5.65s/it]"
     ]
    },
    {
     "name": "stdout",
     "output_type": "stream",
     "text": [
      "/Users/datoapanta/Desktop/mma_2024/dataset/data/gtzan/genres/reggae/reggae.00050.wav\n"
     ]
    },
    {
     "name": "stderr",
     "output_type": "stream",
     "text": [
      "Processing audio files:  25%|██▌       | 25/100 [02:24<07:07,  5.70s/it]"
     ]
    },
    {
     "name": "stdout",
     "output_type": "stream",
     "text": [
      "/Users/datoapanta/Desktop/mma_2024/dataset/data/gtzan/genres/reggae/reggae.00078.wav\n"
     ]
    },
    {
     "name": "stderr",
     "output_type": "stream",
     "text": [
      "Processing audio files:  26%|██▌       | 26/100 [02:30<07:06,  5.77s/it]"
     ]
    },
    {
     "name": "stdout",
     "output_type": "stream",
     "text": [
      "/Users/datoapanta/Desktop/mma_2024/dataset/data/gtzan/genres/reggae/reggae.00087.wav\n"
     ]
    },
    {
     "name": "stderr",
     "output_type": "stream",
     "text": [
      "Processing audio files:  27%|██▋       | 27/100 [02:36<07:07,  5.86s/it]"
     ]
    },
    {
     "name": "stdout",
     "output_type": "stream",
     "text": [
      "/Users/datoapanta/Desktop/mma_2024/dataset/data/gtzan/genres/reggae/reggae.00093.wav\n"
     ]
    },
    {
     "name": "stderr",
     "output_type": "stream",
     "text": [
      "Processing audio files:  28%|██▊       | 28/100 [02:42<07:05,  5.91s/it]"
     ]
    },
    {
     "name": "stdout",
     "output_type": "stream",
     "text": [
      "/Users/datoapanta/Desktop/mma_2024/dataset/data/gtzan/genres/reggae/reggae.00085.wav\n"
     ]
    },
    {
     "name": "stderr",
     "output_type": "stream",
     "text": [
      "Processing audio files:  29%|██▉       | 29/100 [02:47<06:56,  5.86s/it]"
     ]
    },
    {
     "name": "stdout",
     "output_type": "stream",
     "text": [
      "/Users/datoapanta/Desktop/mma_2024/dataset/data/gtzan/genres/reggae/reggae.00091.wav\n"
     ]
    },
    {
     "name": "stderr",
     "output_type": "stream",
     "text": [
      "Processing audio files:  30%|███       | 30/100 [02:53<06:50,  5.87s/it]"
     ]
    },
    {
     "name": "stdout",
     "output_type": "stream",
     "text": [
      "/Users/datoapanta/Desktop/mma_2024/dataset/data/gtzan/genres/reggae/reggae.00046.wav\n"
     ]
    },
    {
     "name": "stderr",
     "output_type": "stream",
     "text": [
      "Processing audio files:  31%|███       | 31/100 [02:59<06:45,  5.88s/it]"
     ]
    },
    {
     "name": "stdout",
     "output_type": "stream",
     "text": [
      "/Users/datoapanta/Desktop/mma_2024/dataset/data/gtzan/genres/reggae/reggae.00052.wav\n"
     ]
    },
    {
     "name": "stderr",
     "output_type": "stream",
     "text": [
      "Processing audio files:  32%|███▏      | 32/100 [03:05<06:28,  5.71s/it]"
     ]
    },
    {
     "name": "stdout",
     "output_type": "stream",
     "text": [
      "/Users/datoapanta/Desktop/mma_2024/dataset/data/gtzan/genres/reggae/reggae.00053.wav\n"
     ]
    },
    {
     "name": "stderr",
     "output_type": "stream",
     "text": [
      "Processing audio files:  33%|███▎      | 33/100 [03:10<06:19,  5.67s/it]"
     ]
    },
    {
     "name": "stdout",
     "output_type": "stream",
     "text": [
      "/Users/datoapanta/Desktop/mma_2024/dataset/data/gtzan/genres/reggae/reggae.00047.wav\n"
     ]
    },
    {
     "name": "stderr",
     "output_type": "stream",
     "text": [
      "Processing audio files:  34%|███▍      | 34/100 [03:16<06:18,  5.73s/it]"
     ]
    },
    {
     "name": "stdout",
     "output_type": "stream",
     "text": [
      "/Users/datoapanta/Desktop/mma_2024/dataset/data/gtzan/genres/reggae/reggae.00090.wav\n"
     ]
    },
    {
     "name": "stderr",
     "output_type": "stream",
     "text": [
      "Processing audio files:  35%|███▌      | 35/100 [03:22<06:08,  5.66s/it]"
     ]
    },
    {
     "name": "stdout",
     "output_type": "stream",
     "text": [
      "/Users/datoapanta/Desktop/mma_2024/dataset/data/gtzan/genres/reggae/reggae.00084.wav\n"
     ]
    },
    {
     "name": "stderr",
     "output_type": "stream",
     "text": [
      "Processing audio files:  36%|███▌      | 36/100 [03:27<05:57,  5.59s/it]"
     ]
    },
    {
     "name": "stdout",
     "output_type": "stream",
     "text": [
      "/Users/datoapanta/Desktop/mma_2024/dataset/data/gtzan/genres/reggae/reggae.00020.wav\n"
     ]
    },
    {
     "name": "stderr",
     "output_type": "stream",
     "text": [
      "Processing audio files:  37%|███▋      | 37/100 [03:32<05:48,  5.53s/it]"
     ]
    },
    {
     "name": "stdout",
     "output_type": "stream",
     "text": [
      "/Users/datoapanta/Desktop/mma_2024/dataset/data/gtzan/genres/reggae/reggae.00034.wav\n"
     ]
    },
    {
     "name": "stderr",
     "output_type": "stream",
     "text": [
      "Processing audio files:  38%|███▊      | 38/100 [03:38<05:38,  5.47s/it]"
     ]
    },
    {
     "name": "stdout",
     "output_type": "stream",
     "text": [
      "/Users/datoapanta/Desktop/mma_2024/dataset/data/gtzan/genres/reggae/reggae.00008.wav\n"
     ]
    },
    {
     "name": "stderr",
     "output_type": "stream",
     "text": [
      "Processing audio files:  39%|███▉      | 39/100 [03:43<05:33,  5.47s/it]"
     ]
    },
    {
     "name": "stdout",
     "output_type": "stream",
     "text": [
      "/Users/datoapanta/Desktop/mma_2024/dataset/data/gtzan/genres/reggae/reggae.00009.wav\n"
     ]
    },
    {
     "name": "stderr",
     "output_type": "stream",
     "text": [
      "Processing audio files:  40%|████      | 40/100 [03:49<05:29,  5.49s/it]"
     ]
    },
    {
     "name": "stdout",
     "output_type": "stream",
     "text": [
      "/Users/datoapanta/Desktop/mma_2024/dataset/data/gtzan/genres/reggae/reggae.00035.wav\n"
     ]
    },
    {
     "name": "stderr",
     "output_type": "stream",
     "text": [
      "Processing audio files:  41%|████      | 41/100 [03:54<05:25,  5.52s/it]"
     ]
    },
    {
     "name": "stdout",
     "output_type": "stream",
     "text": [
      "/Users/datoapanta/Desktop/mma_2024/dataset/data/gtzan/genres/reggae/reggae.00021.wav\n"
     ]
    },
    {
     "name": "stderr",
     "output_type": "stream",
     "text": [
      "Processing audio files:  42%|████▏     | 42/100 [04:00<05:18,  5.49s/it]"
     ]
    },
    {
     "name": "stdout",
     "output_type": "stream",
     "text": [
      "/Users/datoapanta/Desktop/mma_2024/dataset/data/gtzan/genres/reggae/reggae.00037.wav\n"
     ]
    },
    {
     "name": "stderr",
     "output_type": "stream",
     "text": [
      "Processing audio files:  43%|████▎     | 43/100 [04:06<05:18,  5.58s/it]"
     ]
    },
    {
     "name": "stdout",
     "output_type": "stream",
     "text": [
      "/Users/datoapanta/Desktop/mma_2024/dataset/data/gtzan/genres/reggae/reggae.00023.wav\n"
     ]
    },
    {
     "name": "stderr",
     "output_type": "stream",
     "text": [
      "Processing audio files:  44%|████▍     | 44/100 [04:11<05:12,  5.58s/it]"
     ]
    },
    {
     "name": "stdout",
     "output_type": "stream",
     "text": [
      "/Users/datoapanta/Desktop/mma_2024/dataset/data/gtzan/genres/reggae/reggae.00022.wav\n"
     ]
    },
    {
     "name": "stderr",
     "output_type": "stream",
     "text": [
      "Processing audio files:  45%|████▌     | 45/100 [04:17<05:12,  5.68s/it]"
     ]
    },
    {
     "name": "stdout",
     "output_type": "stream",
     "text": [
      "/Users/datoapanta/Desktop/mma_2024/dataset/data/gtzan/genres/reggae/reggae.00036.wav\n"
     ]
    },
    {
     "name": "stderr",
     "output_type": "stream",
     "text": [
      "Processing audio files:  46%|████▌     | 46/100 [04:22<05:01,  5.58s/it]"
     ]
    },
    {
     "name": "stdout",
     "output_type": "stream",
     "text": [
      "/Users/datoapanta/Desktop/mma_2024/dataset/data/gtzan/genres/reggae/reggae.00032.wav\n"
     ]
    },
    {
     "name": "stderr",
     "output_type": "stream",
     "text": [
      "Processing audio files:  47%|████▋     | 47/100 [04:28<04:59,  5.66s/it]"
     ]
    },
    {
     "name": "stdout",
     "output_type": "stream",
     "text": [
      "/Users/datoapanta/Desktop/mma_2024/dataset/data/gtzan/genres/reggae/reggae.00026.wav\n"
     ]
    },
    {
     "name": "stderr",
     "output_type": "stream",
     "text": [
      "Processing audio files:  48%|████▊     | 48/100 [04:34<04:53,  5.65s/it]"
     ]
    },
    {
     "name": "stdout",
     "output_type": "stream",
     "text": [
      "/Users/datoapanta/Desktop/mma_2024/dataset/data/gtzan/genres/reggae/reggae.00027.wav\n"
     ]
    },
    {
     "name": "stderr",
     "output_type": "stream",
     "text": [
      "Processing audio files:  49%|████▉     | 49/100 [04:39<04:46,  5.61s/it]"
     ]
    },
    {
     "name": "stdout",
     "output_type": "stream",
     "text": [
      "/Users/datoapanta/Desktop/mma_2024/dataset/data/gtzan/genres/reggae/reggae.00033.wav\n"
     ]
    },
    {
     "name": "stderr",
     "output_type": "stream",
     "text": [
      "Processing audio files:  50%|█████     | 50/100 [04:45<04:38,  5.58s/it]"
     ]
    },
    {
     "name": "stdout",
     "output_type": "stream",
     "text": [
      "/Users/datoapanta/Desktop/mma_2024/dataset/data/gtzan/genres/reggae/reggae.00019.wav\n"
     ]
    },
    {
     "name": "stderr",
     "output_type": "stream",
     "text": [
      "Processing audio files:  51%|█████     | 51/100 [04:51<04:36,  5.65s/it]"
     ]
    },
    {
     "name": "stdout",
     "output_type": "stream",
     "text": [
      "/Users/datoapanta/Desktop/mma_2024/dataset/data/gtzan/genres/reggae/reggae.00025.wav\n"
     ]
    },
    {
     "name": "stderr",
     "output_type": "stream",
     "text": [
      "Processing audio files:  52%|█████▏    | 52/100 [04:56<04:29,  5.62s/it]"
     ]
    },
    {
     "name": "stdout",
     "output_type": "stream",
     "text": [
      "/Users/datoapanta/Desktop/mma_2024/dataset/data/gtzan/genres/reggae/reggae.00031.wav\n"
     ]
    },
    {
     "name": "stderr",
     "output_type": "stream",
     "text": [
      "Processing audio files:  53%|█████▎    | 53/100 [05:02<04:24,  5.63s/it]"
     ]
    },
    {
     "name": "stdout",
     "output_type": "stream",
     "text": [
      "/Users/datoapanta/Desktop/mma_2024/dataset/data/gtzan/genres/reggae/reggae.00030.wav\n"
     ]
    },
    {
     "name": "stderr",
     "output_type": "stream",
     "text": [
      "Processing audio files:  54%|█████▍    | 54/100 [05:07<04:16,  5.58s/it]"
     ]
    },
    {
     "name": "stdout",
     "output_type": "stream",
     "text": [
      "/Users/datoapanta/Desktop/mma_2024/dataset/data/gtzan/genres/reggae/reggae.00024.wav\n"
     ]
    },
    {
     "name": "stderr",
     "output_type": "stream",
     "text": [
      "Processing audio files:  55%|█████▌    | 55/100 [05:13<04:08,  5.52s/it]"
     ]
    },
    {
     "name": "stdout",
     "output_type": "stream",
     "text": [
      "/Users/datoapanta/Desktop/mma_2024/dataset/data/gtzan/genres/reggae/reggae.00018.wav\n"
     ]
    },
    {
     "name": "stderr",
     "output_type": "stream",
     "text": [
      "Processing audio files:  56%|█████▌    | 56/100 [05:18<04:05,  5.58s/it]"
     ]
    },
    {
     "name": "stdout",
     "output_type": "stream",
     "text": [
      "/Users/datoapanta/Desktop/mma_2024/dataset/data/gtzan/genres/reggae/reggae.00001.wav\n"
     ]
    },
    {
     "name": "stderr",
     "output_type": "stream",
     "text": [
      "Processing audio files:  57%|█████▋    | 57/100 [05:24<04:00,  5.58s/it]"
     ]
    },
    {
     "name": "stdout",
     "output_type": "stream",
     "text": [
      "/Users/datoapanta/Desktop/mma_2024/dataset/data/gtzan/genres/reggae/reggae.00015.wav\n"
     ]
    },
    {
     "name": "stderr",
     "output_type": "stream",
     "text": [
      "Processing audio files:  58%|█████▊    | 58/100 [05:30<04:01,  5.74s/it]"
     ]
    },
    {
     "name": "stdout",
     "output_type": "stream",
     "text": [
      "/Users/datoapanta/Desktop/mma_2024/dataset/data/gtzan/genres/reggae/reggae.00029.wav\n"
     ]
    },
    {
     "name": "stderr",
     "output_type": "stream",
     "text": [
      "Processing audio files:  59%|█████▉    | 59/100 [05:36<04:00,  5.86s/it]"
     ]
    },
    {
     "name": "stdout",
     "output_type": "stream",
     "text": [
      "/Users/datoapanta/Desktop/mma_2024/dataset/data/gtzan/genres/reggae/reggae.00028.wav\n"
     ]
    },
    {
     "name": "stderr",
     "output_type": "stream",
     "text": [
      "Processing audio files:  60%|██████    | 60/100 [05:42<03:50,  5.77s/it]"
     ]
    },
    {
     "name": "stdout",
     "output_type": "stream",
     "text": [
      "/Users/datoapanta/Desktop/mma_2024/dataset/data/gtzan/genres/reggae/reggae.00014.wav\n"
     ]
    },
    {
     "name": "stderr",
     "output_type": "stream",
     "text": [
      "Processing audio files:  61%|██████    | 61/100 [05:47<03:42,  5.71s/it]"
     ]
    },
    {
     "name": "stdout",
     "output_type": "stream",
     "text": [
      "/Users/datoapanta/Desktop/mma_2024/dataset/data/gtzan/genres/reggae/reggae.00000.wav\n"
     ]
    },
    {
     "name": "stderr",
     "output_type": "stream",
     "text": [
      "Processing audio files:  62%|██████▏   | 62/100 [05:53<03:38,  5.76s/it]"
     ]
    },
    {
     "name": "stdout",
     "output_type": "stream",
     "text": [
      "/Users/datoapanta/Desktop/mma_2024/dataset/data/gtzan/genres/reggae/reggae.00016.wav\n"
     ]
    },
    {
     "name": "stderr",
     "output_type": "stream",
     "text": [
      "Processing audio files:  63%|██████▎   | 63/100 [05:59<03:35,  5.84s/it]"
     ]
    },
    {
     "name": "stdout",
     "output_type": "stream",
     "text": [
      "/Users/datoapanta/Desktop/mma_2024/dataset/data/gtzan/genres/reggae/reggae.00002.wav\n"
     ]
    },
    {
     "name": "stderr",
     "output_type": "stream",
     "text": [
      "Processing audio files:  64%|██████▍   | 64/100 [06:05<03:31,  5.89s/it]"
     ]
    },
    {
     "name": "stdout",
     "output_type": "stream",
     "text": [
      "/Users/datoapanta/Desktop/mma_2024/dataset/data/gtzan/genres/reggae/reggae.00003.wav\n"
     ]
    },
    {
     "name": "stderr",
     "output_type": "stream",
     "text": [
      "Processing audio files:  65%|██████▌   | 65/100 [06:11<03:24,  5.84s/it]"
     ]
    },
    {
     "name": "stdout",
     "output_type": "stream",
     "text": [
      "/Users/datoapanta/Desktop/mma_2024/dataset/data/gtzan/genres/reggae/reggae.00017.wav\n"
     ]
    },
    {
     "name": "stderr",
     "output_type": "stream",
     "text": [
      "Processing audio files:  66%|██████▌   | 66/100 [06:18<03:27,  6.10s/it]"
     ]
    },
    {
     "name": "stdout",
     "output_type": "stream",
     "text": [
      "/Users/datoapanta/Desktop/mma_2024/dataset/data/gtzan/genres/reggae/reggae.00013.wav\n"
     ]
    },
    {
     "name": "stderr",
     "output_type": "stream",
     "text": [
      "Processing audio files:  67%|██████▋   | 67/100 [06:24<03:23,  6.15s/it]"
     ]
    },
    {
     "name": "stdout",
     "output_type": "stream",
     "text": [
      "/Users/datoapanta/Desktop/mma_2024/dataset/data/gtzan/genres/reggae/reggae.00007.wav\n"
     ]
    },
    {
     "name": "stderr",
     "output_type": "stream",
     "text": [
      "Processing audio files:  68%|██████▊   | 68/100 [06:30<03:17,  6.18s/it]"
     ]
    },
    {
     "name": "stdout",
     "output_type": "stream",
     "text": [
      "/Users/datoapanta/Desktop/mma_2024/dataset/data/gtzan/genres/reggae/reggae.00006.wav\n"
     ]
    },
    {
     "name": "stderr",
     "output_type": "stream",
     "text": [
      "Processing audio files:  69%|██████▉   | 69/100 [06:36<03:10,  6.14s/it]"
     ]
    },
    {
     "name": "stdout",
     "output_type": "stream",
     "text": [
      "/Users/datoapanta/Desktop/mma_2024/dataset/data/gtzan/genres/reggae/reggae.00012.wav\n"
     ]
    },
    {
     "name": "stderr",
     "output_type": "stream",
     "text": [
      "Processing audio files:  70%|███████   | 70/100 [06:42<03:01,  6.04s/it]"
     ]
    },
    {
     "name": "stdout",
     "output_type": "stream",
     "text": [
      "/Users/datoapanta/Desktop/mma_2024/dataset/data/gtzan/genres/reggae/reggae.00038.wav\n"
     ]
    },
    {
     "name": "stderr",
     "output_type": "stream",
     "text": [
      "Processing audio files:  71%|███████   | 71/100 [06:48<02:53,  5.98s/it]"
     ]
    },
    {
     "name": "stdout",
     "output_type": "stream",
     "text": [
      "/Users/datoapanta/Desktop/mma_2024/dataset/data/gtzan/genres/reggae/reggae.00004.wav\n"
     ]
    },
    {
     "name": "stderr",
     "output_type": "stream",
     "text": [
      "Processing audio files:  72%|███████▏  | 72/100 [06:55<02:52,  6.16s/it]"
     ]
    },
    {
     "name": "stdout",
     "output_type": "stream",
     "text": [
      "/Users/datoapanta/Desktop/mma_2024/dataset/data/gtzan/genres/reggae/reggae.00010.wav\n"
     ]
    },
    {
     "name": "stderr",
     "output_type": "stream",
     "text": [
      "Processing audio files:  73%|███████▎  | 73/100 [07:00<02:41,  5.99s/it]"
     ]
    },
    {
     "name": "stdout",
     "output_type": "stream",
     "text": [
      "/Users/datoapanta/Desktop/mma_2024/dataset/data/gtzan/genres/reggae/reggae.00011.wav\n"
     ]
    },
    {
     "name": "stderr",
     "output_type": "stream",
     "text": [
      "Processing audio files:  74%|███████▍  | 74/100 [07:06<02:31,  5.82s/it]"
     ]
    },
    {
     "name": "stdout",
     "output_type": "stream",
     "text": [
      "/Users/datoapanta/Desktop/mma_2024/dataset/data/gtzan/genres/reggae/reggae.00005.wav\n"
     ]
    },
    {
     "name": "stderr",
     "output_type": "stream",
     "text": [
      "Processing audio files:  75%|███████▌  | 75/100 [07:11<02:21,  5.67s/it]"
     ]
    },
    {
     "name": "stdout",
     "output_type": "stream",
     "text": [
      "/Users/datoapanta/Desktop/mma_2024/dataset/data/gtzan/genres/reggae/reggae.00039.wav\n"
     ]
    },
    {
     "name": "stderr",
     "output_type": "stream",
     "text": [
      "Processing audio files:  76%|███████▌  | 76/100 [07:17<02:20,  5.84s/it]"
     ]
    },
    {
     "name": "stdout",
     "output_type": "stream",
     "text": [
      "/Users/datoapanta/Desktop/mma_2024/dataset/data/gtzan/genres/reggae/reggae.00089.wav\n"
     ]
    },
    {
     "name": "stderr",
     "output_type": "stream",
     "text": [
      "Processing audio files:  77%|███████▋  | 77/100 [07:25<02:25,  6.33s/it]"
     ]
    },
    {
     "name": "stdout",
     "output_type": "stream",
     "text": [
      "/Users/datoapanta/Desktop/mma_2024/dataset/data/gtzan/genres/reggae/reggae.00062.wav\n"
     ]
    },
    {
     "name": "stderr",
     "output_type": "stream",
     "text": [
      "Processing audio files:  78%|███████▊  | 78/100 [07:30<02:13,  6.09s/it]"
     ]
    },
    {
     "name": "stdout",
     "output_type": "stream",
     "text": [
      "/Users/datoapanta/Desktop/mma_2024/dataset/data/gtzan/genres/reggae/reggae.00076.wav\n"
     ]
    },
    {
     "name": "stderr",
     "output_type": "stream",
     "text": [
      "Processing audio files:  79%|███████▉  | 79/100 [07:35<02:03,  5.86s/it]"
     ]
    },
    {
     "name": "stdout",
     "output_type": "stream",
     "text": [
      "/Users/datoapanta/Desktop/mma_2024/dataset/data/gtzan/genres/reggae/reggae.00077.wav\n"
     ]
    },
    {
     "name": "stderr",
     "output_type": "stream",
     "text": [
      "Processing audio files:  80%|████████  | 80/100 [07:41<01:55,  5.78s/it]"
     ]
    },
    {
     "name": "stdout",
     "output_type": "stream",
     "text": [
      "/Users/datoapanta/Desktop/mma_2024/dataset/data/gtzan/genres/reggae/reggae.00063.wav\n"
     ]
    },
    {
     "name": "stderr",
     "output_type": "stream",
     "text": [
      "Processing audio files:  81%|████████  | 81/100 [07:47<01:50,  5.83s/it]"
     ]
    },
    {
     "name": "stdout",
     "output_type": "stream",
     "text": [
      "/Users/datoapanta/Desktop/mma_2024/dataset/data/gtzan/genres/reggae/reggae.00088.wav\n"
     ]
    },
    {
     "name": "stderr",
     "output_type": "stream",
     "text": [
      "Processing audio files:  82%|████████▏ | 82/100 [07:52<01:42,  5.68s/it]"
     ]
    },
    {
     "name": "stdout",
     "output_type": "stream",
     "text": [
      "/Users/datoapanta/Desktop/mma_2024/dataset/data/gtzan/genres/reggae/reggae.00075.wav\n"
     ]
    },
    {
     "name": "stderr",
     "output_type": "stream",
     "text": [
      "Processing audio files:  83%|████████▎ | 83/100 [07:58<01:36,  5.68s/it]"
     ]
    },
    {
     "name": "stdout",
     "output_type": "stream",
     "text": [
      "/Users/datoapanta/Desktop/mma_2024/dataset/data/gtzan/genres/reggae/reggae.00061.wav\n"
     ]
    },
    {
     "name": "stderr",
     "output_type": "stream",
     "text": [
      "Processing audio files:  84%|████████▍ | 84/100 [08:04<01:32,  5.78s/it]"
     ]
    },
    {
     "name": "stdout",
     "output_type": "stream",
     "text": [
      "/Users/datoapanta/Desktop/mma_2024/dataset/data/gtzan/genres/reggae/reggae.00049.wav\n"
     ]
    },
    {
     "name": "stderr",
     "output_type": "stream",
     "text": [
      "Processing audio files:  85%|████████▌ | 85/100 [08:10<01:28,  5.88s/it]"
     ]
    },
    {
     "name": "stdout",
     "output_type": "stream",
     "text": [
      "/Users/datoapanta/Desktop/mma_2024/dataset/data/gtzan/genres/reggae/reggae.00048.wav\n"
     ]
    },
    {
     "name": "stderr",
     "output_type": "stream",
     "text": [
      "Processing audio files:  86%|████████▌ | 86/100 [08:16<01:21,  5.82s/it]"
     ]
    },
    {
     "name": "stdout",
     "output_type": "stream",
     "text": [
      "/Users/datoapanta/Desktop/mma_2024/dataset/data/gtzan/genres/reggae/reggae.00060.wav\n"
     ]
    },
    {
     "name": "stderr",
     "output_type": "stream",
     "text": [
      "Processing audio files:  87%|████████▋ | 87/100 [08:21<01:15,  5.80s/it]"
     ]
    },
    {
     "name": "stdout",
     "output_type": "stream",
     "text": [
      "/Users/datoapanta/Desktop/mma_2024/dataset/data/gtzan/genres/reggae/reggae.00074.wav\n"
     ]
    },
    {
     "name": "stderr",
     "output_type": "stream",
     "text": [
      "Processing audio files:  88%|████████▊ | 88/100 [08:27<01:09,  5.80s/it]"
     ]
    },
    {
     "name": "stdout",
     "output_type": "stream",
     "text": [
      "/Users/datoapanta/Desktop/mma_2024/dataset/data/gtzan/genres/reggae/reggae.00058.wav\n"
     ]
    },
    {
     "name": "stderr",
     "output_type": "stream",
     "text": [
      "Processing audio files:  89%|████████▉ | 89/100 [08:33<01:03,  5.73s/it]"
     ]
    },
    {
     "name": "stdout",
     "output_type": "stream",
     "text": [
      "/Users/datoapanta/Desktop/mma_2024/dataset/data/gtzan/genres/reggae/reggae.00070.wav\n"
     ]
    },
    {
     "name": "stderr",
     "output_type": "stream",
     "text": [
      "Processing audio files:  90%|█████████ | 90/100 [08:38<00:56,  5.60s/it]"
     ]
    },
    {
     "name": "stdout",
     "output_type": "stream",
     "text": [
      "/Users/datoapanta/Desktop/mma_2024/dataset/data/gtzan/genres/reggae/reggae.00064.wav\n"
     ]
    },
    {
     "name": "stderr",
     "output_type": "stream",
     "text": [
      "Processing audio files:  91%|█████████ | 91/100 [08:44<00:50,  5.61s/it]"
     ]
    },
    {
     "name": "stdout",
     "output_type": "stream",
     "text": [
      "/Users/datoapanta/Desktop/mma_2024/dataset/data/gtzan/genres/reggae/reggae.00065.wav\n"
     ]
    },
    {
     "name": "stderr",
     "output_type": "stream",
     "text": [
      "Processing audio files:  92%|█████████▏| 92/100 [08:49<00:44,  5.54s/it]"
     ]
    },
    {
     "name": "stdout",
     "output_type": "stream",
     "text": [
      "/Users/datoapanta/Desktop/mma_2024/dataset/data/gtzan/genres/reggae/reggae.00071.wav\n"
     ]
    },
    {
     "name": "stderr",
     "output_type": "stream",
     "text": [
      "Processing audio files:  93%|█████████▎| 93/100 [08:54<00:38,  5.47s/it]"
     ]
    },
    {
     "name": "stdout",
     "output_type": "stream",
     "text": [
      "/Users/datoapanta/Desktop/mma_2024/dataset/data/gtzan/genres/reggae/reggae.00059.wav\n"
     ]
    },
    {
     "name": "stderr",
     "output_type": "stream",
     "text": [
      "Processing audio files:  94%|█████████▍| 94/100 [09:00<00:32,  5.47s/it]"
     ]
    },
    {
     "name": "stdout",
     "output_type": "stream",
     "text": [
      "/Users/datoapanta/Desktop/mma_2024/dataset/data/gtzan/genres/reggae/reggae.00098.wav\n"
     ]
    },
    {
     "name": "stderr",
     "output_type": "stream",
     "text": [
      "Processing audio files:  95%|█████████▌| 95/100 [09:05<00:27,  5.42s/it]"
     ]
    },
    {
     "name": "stdout",
     "output_type": "stream",
     "text": [
      "/Users/datoapanta/Desktop/mma_2024/dataset/data/gtzan/genres/reggae/reggae.00067.wav\n"
     ]
    },
    {
     "name": "stderr",
     "output_type": "stream",
     "text": [
      "Processing audio files:  96%|█████████▌| 96/100 [09:11<00:21,  5.47s/it]"
     ]
    },
    {
     "name": "stdout",
     "output_type": "stream",
     "text": [
      "/Users/datoapanta/Desktop/mma_2024/dataset/data/gtzan/genres/reggae/reggae.00073.wav\n"
     ]
    },
    {
     "name": "stderr",
     "output_type": "stream",
     "text": [
      "Processing audio files:  97%|█████████▋| 97/100 [09:17<00:16,  5.53s/it]"
     ]
    },
    {
     "name": "stdout",
     "output_type": "stream",
     "text": [
      "/Users/datoapanta/Desktop/mma_2024/dataset/data/gtzan/genres/reggae/reggae.00072.wav\n"
     ]
    },
    {
     "name": "stderr",
     "output_type": "stream",
     "text": [
      "Processing audio files:  98%|█████████▊| 98/100 [09:22<00:10,  5.49s/it]"
     ]
    },
    {
     "name": "stdout",
     "output_type": "stream",
     "text": [
      "/Users/datoapanta/Desktop/mma_2024/dataset/data/gtzan/genres/reggae/reggae.00066.wav\n"
     ]
    },
    {
     "name": "stderr",
     "output_type": "stream",
     "text": [
      "Processing audio files:  99%|█████████▉| 99/100 [09:27<00:05,  5.48s/it]"
     ]
    },
    {
     "name": "stdout",
     "output_type": "stream",
     "text": [
      "/Users/datoapanta/Desktop/mma_2024/dataset/data/gtzan/genres/reggae/reggae.00099.wav\n"
     ]
    },
    {
     "name": "stderr",
     "output_type": "stream",
     "text": [
      "Processing audio files: 100%|██████████| 100/100 [09:33<00:00,  5.73s/it]\n",
      "Processing audio files:   0%|          | 0/100 [00:00<?, ?it/s]"
     ]
    },
    {
     "name": "stdout",
     "output_type": "stream",
     "text": [
      "/Users/datoapanta/Desktop/mma_2024/dataset/data/gtzan/genres/classical/classical.00079.wav\n"
     ]
    },
    {
     "name": "stderr",
     "output_type": "stream",
     "text": [
      "Processing audio files:   1%|          | 1/100 [00:05<09:11,  5.57s/it]"
     ]
    },
    {
     "name": "stdout",
     "output_type": "stream",
     "text": [
      "/Users/datoapanta/Desktop/mma_2024/dataset/data/gtzan/genres/classical/classical.00045.wav\n"
     ]
    },
    {
     "name": "stderr",
     "output_type": "stream",
     "text": [
      "Processing audio files:   2%|▏         | 2/100 [00:11<08:58,  5.49s/it]"
     ]
    },
    {
     "name": "stdout",
     "output_type": "stream",
     "text": [
      "/Users/datoapanta/Desktop/mma_2024/dataset/data/gtzan/genres/classical/classical.00051.wav\n"
     ]
    },
    {
     "name": "stderr",
     "output_type": "stream",
     "text": [
      "Processing audio files:   3%|▎         | 3/100 [00:16<08:49,  5.46s/it]"
     ]
    },
    {
     "name": "stdout",
     "output_type": "stream",
     "text": [
      "/Users/datoapanta/Desktop/mma_2024/dataset/data/gtzan/genres/classical/classical.00086.wav\n"
     ]
    },
    {
     "name": "stderr",
     "output_type": "stream",
     "text": [
      "Processing audio files:   4%|▍         | 4/100 [00:21<08:43,  5.45s/it]"
     ]
    },
    {
     "name": "stdout",
     "output_type": "stream",
     "text": [
      "/Users/datoapanta/Desktop/mma_2024/dataset/data/gtzan/genres/classical/classical.00092.wav\n"
     ]
    },
    {
     "name": "stderr",
     "output_type": "stream",
     "text": [
      "Processing audio files:   5%|▌         | 5/100 [00:27<08:35,  5.42s/it]"
     ]
    },
    {
     "name": "stdout",
     "output_type": "stream",
     "text": [
      "/Users/datoapanta/Desktop/mma_2024/dataset/data/gtzan/genres/classical/classical.00093.wav\n"
     ]
    },
    {
     "name": "stderr",
     "output_type": "stream",
     "text": [
      "Processing audio files:   6%|▌         | 6/100 [00:32<08:26,  5.39s/it]"
     ]
    },
    {
     "name": "stdout",
     "output_type": "stream",
     "text": [
      "/Users/datoapanta/Desktop/mma_2024/dataset/data/gtzan/genres/classical/classical.00087.wav\n"
     ]
    },
    {
     "name": "stderr",
     "output_type": "stream",
     "text": [
      "Processing audio files:   7%|▋         | 7/100 [00:38<08:25,  5.43s/it]"
     ]
    },
    {
     "name": "stdout",
     "output_type": "stream",
     "text": [
      "/Users/datoapanta/Desktop/mma_2024/dataset/data/gtzan/genres/classical/classical.00050.wav\n"
     ]
    },
    {
     "name": "stderr",
     "output_type": "stream",
     "text": [
      "Processing audio files:   8%|▊         | 8/100 [00:43<08:20,  5.44s/it]"
     ]
    },
    {
     "name": "stdout",
     "output_type": "stream",
     "text": [
      "/Users/datoapanta/Desktop/mma_2024/dataset/data/gtzan/genres/classical/classical.00044.wav\n"
     ]
    },
    {
     "name": "stderr",
     "output_type": "stream",
     "text": [
      "Processing audio files:   9%|▉         | 9/100 [00:48<08:13,  5.42s/it]"
     ]
    },
    {
     "name": "stdout",
     "output_type": "stream",
     "text": [
      "/Users/datoapanta/Desktop/mma_2024/dataset/data/gtzan/genres/classical/classical.00078.wav\n"
     ]
    },
    {
     "name": "stderr",
     "output_type": "stream",
     "text": [
      "Processing audio files:  10%|█         | 10/100 [00:54<08:10,  5.45s/it]"
     ]
    },
    {
     "name": "stdout",
     "output_type": "stream",
     "text": [
      "/Users/datoapanta/Desktop/mma_2024/dataset/data/gtzan/genres/classical/classical.00052.wav\n"
     ]
    },
    {
     "name": "stderr",
     "output_type": "stream",
     "text": [
      "Processing audio files:  11%|█         | 11/100 [00:59<08:05,  5.46s/it]"
     ]
    },
    {
     "name": "stdout",
     "output_type": "stream",
     "text": [
      "/Users/datoapanta/Desktop/mma_2024/dataset/data/gtzan/genres/classical/classical.00046.wav\n"
     ]
    },
    {
     "name": "stderr",
     "output_type": "stream",
     "text": [
      "Processing audio files:  12%|█▏        | 12/100 [01:05<07:59,  5.45s/it]"
     ]
    },
    {
     "name": "stdout",
     "output_type": "stream",
     "text": [
      "/Users/datoapanta/Desktop/mma_2024/dataset/data/gtzan/genres/classical/classical.00091.wav\n"
     ]
    },
    {
     "name": "stderr",
     "output_type": "stream",
     "text": [
      "Processing audio files:  13%|█▎        | 13/100 [01:11<08:02,  5.54s/it]"
     ]
    },
    {
     "name": "stdout",
     "output_type": "stream",
     "text": [
      "/Users/datoapanta/Desktop/mma_2024/dataset/data/gtzan/genres/classical/classical.00085.wav\n"
     ]
    },
    {
     "name": "stderr",
     "output_type": "stream",
     "text": [
      "Processing audio files:  14%|█▍        | 14/100 [01:16<07:55,  5.53s/it]"
     ]
    },
    {
     "name": "stdout",
     "output_type": "stream",
     "text": [
      "/Users/datoapanta/Desktop/mma_2024/dataset/data/gtzan/genres/classical/classical.00084.wav\n"
     ]
    },
    {
     "name": "stderr",
     "output_type": "stream",
     "text": [
      "Processing audio files:  15%|█▌        | 15/100 [01:21<07:45,  5.48s/it]"
     ]
    },
    {
     "name": "stdout",
     "output_type": "stream",
     "text": [
      "/Users/datoapanta/Desktop/mma_2024/dataset/data/gtzan/genres/classical/classical.00090.wav\n"
     ]
    },
    {
     "name": "stderr",
     "output_type": "stream",
     "text": [
      "Processing audio files:  16%|█▌        | 16/100 [01:27<07:39,  5.46s/it]"
     ]
    },
    {
     "name": "stdout",
     "output_type": "stream",
     "text": [
      "/Users/datoapanta/Desktop/mma_2024/dataset/data/gtzan/genres/classical/classical.00047.wav\n"
     ]
    },
    {
     "name": "stderr",
     "output_type": "stream",
     "text": [
      "Processing audio files:  17%|█▋        | 17/100 [01:33<08:00,  5.79s/it]"
     ]
    },
    {
     "name": "stdout",
     "output_type": "stream",
     "text": [
      "/Users/datoapanta/Desktop/mma_2024/dataset/data/gtzan/genres/classical/classical.00053.wav\n"
     ]
    },
    {
     "name": "stderr",
     "output_type": "stream",
     "text": [
      "Processing audio files:  18%|█▊        | 18/100 [01:39<08:00,  5.86s/it]"
     ]
    },
    {
     "name": "stdout",
     "output_type": "stream",
     "text": [
      "/Users/datoapanta/Desktop/mma_2024/dataset/data/gtzan/genres/classical/classical.00057.wav\n"
     ]
    },
    {
     "name": "stderr",
     "output_type": "stream",
     "text": [
      "Processing audio files:  19%|█▉        | 19/100 [01:45<07:57,  5.89s/it]"
     ]
    },
    {
     "name": "stdout",
     "output_type": "stream",
     "text": [
      "/Users/datoapanta/Desktop/mma_2024/dataset/data/gtzan/genres/classical/classical.00043.wav\n"
     ]
    },
    {
     "name": "stderr",
     "output_type": "stream",
     "text": [
      "Processing audio files:  20%|██        | 20/100 [01:52<07:59,  5.99s/it]"
     ]
    },
    {
     "name": "stdout",
     "output_type": "stream",
     "text": [
      "/Users/datoapanta/Desktop/mma_2024/dataset/data/gtzan/genres/classical/classical.00094.wav\n"
     ]
    },
    {
     "name": "stderr",
     "output_type": "stream",
     "text": [
      "Processing audio files:  21%|██        | 21/100 [01:57<07:42,  5.85s/it]"
     ]
    },
    {
     "name": "stdout",
     "output_type": "stream",
     "text": [
      "/Users/datoapanta/Desktop/mma_2024/dataset/data/gtzan/genres/classical/classical.00080.wav\n"
     ]
    },
    {
     "name": "stderr",
     "output_type": "stream",
     "text": [
      "Processing audio files:  22%|██▏       | 22/100 [02:03<07:44,  5.95s/it]"
     ]
    },
    {
     "name": "stdout",
     "output_type": "stream",
     "text": [
      "/Users/datoapanta/Desktop/mma_2024/dataset/data/gtzan/genres/classical/classical.00081.wav\n"
     ]
    },
    {
     "name": "stderr",
     "output_type": "stream",
     "text": [
      "Processing audio files:  23%|██▎       | 23/100 [02:09<07:35,  5.91s/it]"
     ]
    },
    {
     "name": "stdout",
     "output_type": "stream",
     "text": [
      "/Users/datoapanta/Desktop/mma_2024/dataset/data/gtzan/genres/classical/classical.00095.wav\n"
     ]
    },
    {
     "name": "stderr",
     "output_type": "stream",
     "text": [
      "Processing audio files:  24%|██▍       | 24/100 [02:15<07:37,  6.01s/it]"
     ]
    },
    {
     "name": "stdout",
     "output_type": "stream",
     "text": [
      "/Users/datoapanta/Desktop/mma_2024/dataset/data/gtzan/genres/classical/classical.00042.wav\n"
     ]
    },
    {
     "name": "stderr",
     "output_type": "stream",
     "text": [
      "Processing audio files:  25%|██▌       | 25/100 [02:21<07:22,  5.89s/it]"
     ]
    },
    {
     "name": "stdout",
     "output_type": "stream",
     "text": [
      "/Users/datoapanta/Desktop/mma_2024/dataset/data/gtzan/genres/classical/classical.00056.wav\n"
     ]
    },
    {
     "name": "stderr",
     "output_type": "stream",
     "text": [
      "Processing audio files:  26%|██▌       | 26/100 [02:27<07:18,  5.92s/it]"
     ]
    },
    {
     "name": "stdout",
     "output_type": "stream",
     "text": [
      "/Users/datoapanta/Desktop/mma_2024/dataset/data/gtzan/genres/classical/classical.00040.wav\n"
     ]
    },
    {
     "name": "stderr",
     "output_type": "stream",
     "text": [
      "Processing audio files:  27%|██▋       | 27/100 [02:32<06:58,  5.73s/it]"
     ]
    },
    {
     "name": "stdout",
     "output_type": "stream",
     "text": [
      "/Users/datoapanta/Desktop/mma_2024/dataset/data/gtzan/genres/classical/classical.00054.wav\n"
     ]
    },
    {
     "name": "stderr",
     "output_type": "stream",
     "text": [
      "Processing audio files:  28%|██▊       | 28/100 [02:38<06:51,  5.71s/it]"
     ]
    },
    {
     "name": "stdout",
     "output_type": "stream",
     "text": [
      "/Users/datoapanta/Desktop/mma_2024/dataset/data/gtzan/genres/classical/classical.00068.wav\n"
     ]
    },
    {
     "name": "stderr",
     "output_type": "stream",
     "text": [
      "Processing audio files:  29%|██▉       | 29/100 [02:44<06:44,  5.69s/it]"
     ]
    },
    {
     "name": "stdout",
     "output_type": "stream",
     "text": [
      "/Users/datoapanta/Desktop/mma_2024/dataset/data/gtzan/genres/classical/classical.00083.wav\n"
     ]
    },
    {
     "name": "stderr",
     "output_type": "stream",
     "text": [
      "Processing audio files:  30%|███       | 30/100 [02:49<06:37,  5.68s/it]"
     ]
    },
    {
     "name": "stdout",
     "output_type": "stream",
     "text": [
      "/Users/datoapanta/Desktop/mma_2024/dataset/data/gtzan/genres/classical/classical.00097.wav\n"
     ]
    },
    {
     "name": "stderr",
     "output_type": "stream",
     "text": [
      "Processing audio files:  31%|███       | 31/100 [02:55<06:30,  5.66s/it]"
     ]
    },
    {
     "name": "stdout",
     "output_type": "stream",
     "text": [
      "/Users/datoapanta/Desktop/mma_2024/dataset/data/gtzan/genres/classical/classical.00096.wav\n"
     ]
    },
    {
     "name": "stderr",
     "output_type": "stream",
     "text": [
      "Processing audio files:  32%|███▏      | 32/100 [03:01<06:23,  5.65s/it]"
     ]
    },
    {
     "name": "stdout",
     "output_type": "stream",
     "text": [
      "/Users/datoapanta/Desktop/mma_2024/dataset/data/gtzan/genres/classical/classical.00082.wav\n"
     ]
    },
    {
     "name": "stderr",
     "output_type": "stream",
     "text": [
      "Processing audio files:  33%|███▎      | 33/100 [03:06<06:21,  5.70s/it]"
     ]
    },
    {
     "name": "stdout",
     "output_type": "stream",
     "text": [
      "/Users/datoapanta/Desktop/mma_2024/dataset/data/gtzan/genres/classical/classical.00069.wav\n"
     ]
    },
    {
     "name": "stderr",
     "output_type": "stream",
     "text": [
      "Processing audio files:  34%|███▍      | 34/100 [03:12<06:21,  5.78s/it]"
     ]
    },
    {
     "name": "stdout",
     "output_type": "stream",
     "text": [
      "/Users/datoapanta/Desktop/mma_2024/dataset/data/gtzan/genres/classical/classical.00055.wav\n"
     ]
    },
    {
     "name": "stderr",
     "output_type": "stream",
     "text": [
      "Processing audio files:  35%|███▌      | 35/100 [03:18<06:18,  5.82s/it]"
     ]
    },
    {
     "name": "stdout",
     "output_type": "stream",
     "text": [
      "/Users/datoapanta/Desktop/mma_2024/dataset/data/gtzan/genres/classical/classical.00041.wav\n"
     ]
    },
    {
     "name": "stderr",
     "output_type": "stream",
     "text": [
      "Processing audio files:  36%|███▌      | 36/100 [03:24<06:12,  5.82s/it]"
     ]
    },
    {
     "name": "stdout",
     "output_type": "stream",
     "text": [
      "/Users/datoapanta/Desktop/mma_2024/dataset/data/gtzan/genres/classical/classical.00026.wav\n"
     ]
    },
    {
     "name": "stderr",
     "output_type": "stream",
     "text": [
      "Processing audio files:  37%|███▋      | 37/100 [03:30<06:05,  5.80s/it]"
     ]
    },
    {
     "name": "stdout",
     "output_type": "stream",
     "text": [
      "/Users/datoapanta/Desktop/mma_2024/dataset/data/gtzan/genres/classical/classical.00032.wav\n"
     ]
    },
    {
     "name": "stderr",
     "output_type": "stream",
     "text": [
      "Processing audio files:  38%|███▊      | 38/100 [03:36<06:03,  5.86s/it]"
     ]
    },
    {
     "name": "stdout",
     "output_type": "stream",
     "text": [
      "/Users/datoapanta/Desktop/mma_2024/dataset/data/gtzan/genres/classical/classical.00033.wav\n"
     ]
    },
    {
     "name": "stderr",
     "output_type": "stream",
     "text": [
      "Processing audio files:  39%|███▉      | 39/100 [03:41<05:50,  5.75s/it]"
     ]
    },
    {
     "name": "stdout",
     "output_type": "stream",
     "text": [
      "/Users/datoapanta/Desktop/mma_2024/dataset/data/gtzan/genres/classical/classical.00027.wav\n"
     ]
    },
    {
     "name": "stderr",
     "output_type": "stream",
     "text": [
      "Processing audio files:  40%|████      | 40/100 [03:47<05:50,  5.84s/it]"
     ]
    },
    {
     "name": "stdout",
     "output_type": "stream",
     "text": [
      "/Users/datoapanta/Desktop/mma_2024/dataset/data/gtzan/genres/classical/classical.00019.wav\n"
     ]
    },
    {
     "name": "stderr",
     "output_type": "stream",
     "text": [
      "Processing audio files:  41%|████      | 41/100 [03:53<05:34,  5.67s/it]"
     ]
    },
    {
     "name": "stdout",
     "output_type": "stream",
     "text": [
      "/Users/datoapanta/Desktop/mma_2024/dataset/data/gtzan/genres/classical/classical.00031.wav\n"
     ]
    },
    {
     "name": "stderr",
     "output_type": "stream",
     "text": [
      "Processing audio files:  42%|████▏     | 42/100 [03:59<05:33,  5.76s/it]"
     ]
    },
    {
     "name": "stdout",
     "output_type": "stream",
     "text": [
      "/Users/datoapanta/Desktop/mma_2024/dataset/data/gtzan/genres/classical/classical.00025.wav\n"
     ]
    },
    {
     "name": "stderr",
     "output_type": "stream",
     "text": [
      "Processing audio files:  43%|████▎     | 43/100 [04:04<05:25,  5.71s/it]"
     ]
    },
    {
     "name": "stdout",
     "output_type": "stream",
     "text": [
      "/Users/datoapanta/Desktop/mma_2024/dataset/data/gtzan/genres/classical/classical.00024.wav\n"
     ]
    },
    {
     "name": "stderr",
     "output_type": "stream",
     "text": [
      "Processing audio files:  44%|████▍     | 44/100 [04:09<05:12,  5.58s/it]"
     ]
    },
    {
     "name": "stdout",
     "output_type": "stream",
     "text": [
      "/Users/datoapanta/Desktop/mma_2024/dataset/data/gtzan/genres/classical/classical.00030.wav\n"
     ]
    },
    {
     "name": "stderr",
     "output_type": "stream",
     "text": [
      "Processing audio files:  45%|████▌     | 45/100 [04:15<05:03,  5.51s/it]"
     ]
    },
    {
     "name": "stdout",
     "output_type": "stream",
     "text": [
      "/Users/datoapanta/Desktop/mma_2024/dataset/data/gtzan/genres/classical/classical.00018.wav\n"
     ]
    },
    {
     "name": "stderr",
     "output_type": "stream",
     "text": [
      "Processing audio files:  46%|████▌     | 46/100 [04:21<05:05,  5.65s/it]"
     ]
    },
    {
     "name": "stdout",
     "output_type": "stream",
     "text": [
      "/Users/datoapanta/Desktop/mma_2024/dataset/data/gtzan/genres/classical/classical.00034.wav\n"
     ]
    },
    {
     "name": "stderr",
     "output_type": "stream",
     "text": [
      "Processing audio files:  47%|████▋     | 47/100 [04:27<05:01,  5.69s/it]"
     ]
    },
    {
     "name": "stdout",
     "output_type": "stream",
     "text": [
      "/Users/datoapanta/Desktop/mma_2024/dataset/data/gtzan/genres/classical/classical.00020.wav\n"
     ]
    },
    {
     "name": "stderr",
     "output_type": "stream",
     "text": [
      "Processing audio files:  48%|████▊     | 48/100 [04:32<04:51,  5.60s/it]"
     ]
    },
    {
     "name": "stdout",
     "output_type": "stream",
     "text": [
      "/Users/datoapanta/Desktop/mma_2024/dataset/data/gtzan/genres/classical/classical.00008.wav\n"
     ]
    },
    {
     "name": "stderr",
     "output_type": "stream",
     "text": [
      "Processing audio files:  49%|████▉     | 49/100 [04:37<04:42,  5.54s/it]"
     ]
    },
    {
     "name": "stdout",
     "output_type": "stream",
     "text": [
      "/Users/datoapanta/Desktop/mma_2024/dataset/data/gtzan/genres/classical/classical.00009.wav\n"
     ]
    },
    {
     "name": "stderr",
     "output_type": "stream",
     "text": [
      "Processing audio files:  50%|█████     | 50/100 [04:43<04:41,  5.63s/it]"
     ]
    },
    {
     "name": "stdout",
     "output_type": "stream",
     "text": [
      "/Users/datoapanta/Desktop/mma_2024/dataset/data/gtzan/genres/classical/classical.00021.wav\n"
     ]
    },
    {
     "name": "stderr",
     "output_type": "stream",
     "text": [
      "Processing audio files:  51%|█████     | 51/100 [04:49<04:32,  5.57s/it]"
     ]
    },
    {
     "name": "stdout",
     "output_type": "stream",
     "text": [
      "/Users/datoapanta/Desktop/mma_2024/dataset/data/gtzan/genres/classical/classical.00035.wav\n"
     ]
    },
    {
     "name": "stderr",
     "output_type": "stream",
     "text": [
      "Processing audio files:  52%|█████▏    | 52/100 [04:54<04:30,  5.63s/it]"
     ]
    },
    {
     "name": "stdout",
     "output_type": "stream",
     "text": [
      "/Users/datoapanta/Desktop/mma_2024/dataset/data/gtzan/genres/classical/classical.00023.wav\n"
     ]
    },
    {
     "name": "stderr",
     "output_type": "stream",
     "text": [
      "Processing audio files:  53%|█████▎    | 53/100 [05:00<04:23,  5.60s/it]"
     ]
    },
    {
     "name": "stdout",
     "output_type": "stream",
     "text": [
      "/Users/datoapanta/Desktop/mma_2024/dataset/data/gtzan/genres/classical/classical.00037.wav\n"
     ]
    },
    {
     "name": "stderr",
     "output_type": "stream",
     "text": [
      "Processing audio files:  54%|█████▍    | 54/100 [05:06<04:18,  5.62s/it]"
     ]
    },
    {
     "name": "stdout",
     "output_type": "stream",
     "text": [
      "/Users/datoapanta/Desktop/mma_2024/dataset/data/gtzan/genres/classical/classical.00036.wav\n"
     ]
    },
    {
     "name": "stderr",
     "output_type": "stream",
     "text": [
      "Processing audio files:  55%|█████▌    | 55/100 [05:12<04:20,  5.79s/it]"
     ]
    },
    {
     "name": "stdout",
     "output_type": "stream",
     "text": [
      "/Users/datoapanta/Desktop/mma_2024/dataset/data/gtzan/genres/classical/classical.00022.wav\n"
     ]
    },
    {
     "name": "stderr",
     "output_type": "stream",
     "text": [
      "Processing audio files:  56%|█████▌    | 56/100 [05:18<04:24,  6.00s/it]"
     ]
    },
    {
     "name": "stdout",
     "output_type": "stream",
     "text": [
      "/Users/datoapanta/Desktop/mma_2024/dataset/data/gtzan/genres/classical/classical.00007.wav\n"
     ]
    },
    {
     "name": "stderr",
     "output_type": "stream",
     "text": [
      "Processing audio files:  57%|█████▋    | 57/100 [05:24<04:14,  5.91s/it]"
     ]
    },
    {
     "name": "stdout",
     "output_type": "stream",
     "text": [
      "/Users/datoapanta/Desktop/mma_2024/dataset/data/gtzan/genres/classical/classical.00013.wav\n"
     ]
    },
    {
     "name": "stderr",
     "output_type": "stream",
     "text": [
      "Processing audio files:  58%|█████▊    | 58/100 [05:30<04:15,  6.09s/it]"
     ]
    },
    {
     "name": "stdout",
     "output_type": "stream",
     "text": [
      "/Users/datoapanta/Desktop/mma_2024/dataset/data/gtzan/genres/classical/classical.00012.wav\n"
     ]
    },
    {
     "name": "stderr",
     "output_type": "stream",
     "text": [
      "Processing audio files:  59%|█████▉    | 59/100 [05:36<04:01,  5.88s/it]"
     ]
    },
    {
     "name": "stdout",
     "output_type": "stream",
     "text": [
      "/Users/datoapanta/Desktop/mma_2024/dataset/data/gtzan/genres/classical/classical.00006.wav\n"
     ]
    },
    {
     "name": "stderr",
     "output_type": "stream",
     "text": [
      "Processing audio files:  60%|██████    | 60/100 [05:42<04:01,  6.03s/it]"
     ]
    },
    {
     "name": "stdout",
     "output_type": "stream",
     "text": [
      "/Users/datoapanta/Desktop/mma_2024/dataset/data/gtzan/genres/classical/classical.00038.wav\n"
     ]
    },
    {
     "name": "stderr",
     "output_type": "stream",
     "text": [
      "Processing audio files:  61%|██████    | 61/100 [05:48<03:56,  6.06s/it]"
     ]
    },
    {
     "name": "stdout",
     "output_type": "stream",
     "text": [
      "/Users/datoapanta/Desktop/mma_2024/dataset/data/gtzan/genres/classical/classical.00010.wav\n"
     ]
    },
    {
     "name": "stderr",
     "output_type": "stream",
     "text": [
      "Processing audio files:  62%|██████▏   | 62/100 [05:54<03:50,  6.07s/it]"
     ]
    },
    {
     "name": "stdout",
     "output_type": "stream",
     "text": [
      "/Users/datoapanta/Desktop/mma_2024/dataset/data/gtzan/genres/classical/classical.00004.wav\n"
     ]
    },
    {
     "name": "stderr",
     "output_type": "stream",
     "text": [
      "Processing audio files:  63%|██████▎   | 63/100 [06:00<03:39,  5.93s/it]"
     ]
    },
    {
     "name": "stdout",
     "output_type": "stream",
     "text": [
      "/Users/datoapanta/Desktop/mma_2024/dataset/data/gtzan/genres/classical/classical.00005.wav\n"
     ]
    },
    {
     "name": "stderr",
     "output_type": "stream",
     "text": [
      "Processing audio files:  64%|██████▍   | 64/100 [06:06<03:30,  5.85s/it]"
     ]
    },
    {
     "name": "stdout",
     "output_type": "stream",
     "text": [
      "/Users/datoapanta/Desktop/mma_2024/dataset/data/gtzan/genres/classical/classical.00011.wav\n"
     ]
    },
    {
     "name": "stderr",
     "output_type": "stream",
     "text": [
      "Processing audio files:  65%|██████▌   | 65/100 [06:11<03:22,  5.78s/it]"
     ]
    },
    {
     "name": "stdout",
     "output_type": "stream",
     "text": [
      "/Users/datoapanta/Desktop/mma_2024/dataset/data/gtzan/genres/classical/classical.00039.wav\n"
     ]
    },
    {
     "name": "stderr",
     "output_type": "stream",
     "text": [
      "Processing audio files:  66%|██████▌   | 66/100 [06:17<03:20,  5.89s/it]"
     ]
    },
    {
     "name": "stdout",
     "output_type": "stream",
     "text": [
      "/Users/datoapanta/Desktop/mma_2024/dataset/data/gtzan/genres/classical/classical.00015.wav\n"
     ]
    },
    {
     "name": "stderr",
     "output_type": "stream",
     "text": [
      "Processing audio files:  67%|██████▋   | 67/100 [06:23<03:15,  5.92s/it]"
     ]
    },
    {
     "name": "stdout",
     "output_type": "stream",
     "text": [
      "/Users/datoapanta/Desktop/mma_2024/dataset/data/gtzan/genres/classical/classical.00001.wav\n"
     ]
    },
    {
     "name": "stderr",
     "output_type": "stream",
     "text": [
      "Processing audio files:  68%|██████▊   | 68/100 [06:29<03:06,  5.83s/it]"
     ]
    },
    {
     "name": "stdout",
     "output_type": "stream",
     "text": [
      "/Users/datoapanta/Desktop/mma_2024/dataset/data/gtzan/genres/classical/classical.00029.wav\n"
     ]
    },
    {
     "name": "stderr",
     "output_type": "stream",
     "text": [
      "Processing audio files:  69%|██████▉   | 69/100 [06:35<02:58,  5.76s/it]"
     ]
    },
    {
     "name": "stdout",
     "output_type": "stream",
     "text": [
      "/Users/datoapanta/Desktop/mma_2024/dataset/data/gtzan/genres/classical/classical.00028.wav\n"
     ]
    },
    {
     "name": "stderr",
     "output_type": "stream",
     "text": [
      "Processing audio files:  70%|███████   | 70/100 [06:41<02:57,  5.91s/it]"
     ]
    },
    {
     "name": "stdout",
     "output_type": "stream",
     "text": [
      "/Users/datoapanta/Desktop/mma_2024/dataset/data/gtzan/genres/classical/classical.00000.wav\n"
     ]
    },
    {
     "name": "stderr",
     "output_type": "stream",
     "text": [
      "Processing audio files:  71%|███████   | 71/100 [06:47<02:49,  5.84s/it]"
     ]
    },
    {
     "name": "stdout",
     "output_type": "stream",
     "text": [
      "/Users/datoapanta/Desktop/mma_2024/dataset/data/gtzan/genres/classical/classical.00014.wav\n"
     ]
    },
    {
     "name": "stderr",
     "output_type": "stream",
     "text": [
      "Processing audio files:  72%|███████▏  | 72/100 [06:52<02:42,  5.81s/it]"
     ]
    },
    {
     "name": "stdout",
     "output_type": "stream",
     "text": [
      "/Users/datoapanta/Desktop/mma_2024/dataset/data/gtzan/genres/classical/classical.00002.wav\n"
     ]
    },
    {
     "name": "stderr",
     "output_type": "stream",
     "text": [
      "Processing audio files:  73%|███████▎  | 73/100 [06:59<02:40,  5.95s/it]"
     ]
    },
    {
     "name": "stdout",
     "output_type": "stream",
     "text": [
      "/Users/datoapanta/Desktop/mma_2024/dataset/data/gtzan/genres/classical/classical.00016.wav\n"
     ]
    },
    {
     "name": "stderr",
     "output_type": "stream",
     "text": [
      "Processing audio files:  74%|███████▍  | 74/100 [07:05<02:36,  6.01s/it]"
     ]
    },
    {
     "name": "stdout",
     "output_type": "stream",
     "text": [
      "/Users/datoapanta/Desktop/mma_2024/dataset/data/gtzan/genres/classical/classical.00017.wav\n"
     ]
    },
    {
     "name": "stderr",
     "output_type": "stream",
     "text": [
      "Processing audio files:  75%|███████▌  | 75/100 [07:10<02:24,  5.80s/it]"
     ]
    },
    {
     "name": "stdout",
     "output_type": "stream",
     "text": [
      "/Users/datoapanta/Desktop/mma_2024/dataset/data/gtzan/genres/classical/classical.00003.wav\n"
     ]
    },
    {
     "name": "stderr",
     "output_type": "stream",
     "text": [
      "Processing audio files:  76%|███████▌  | 76/100 [07:16<02:17,  5.72s/it]"
     ]
    },
    {
     "name": "stdout",
     "output_type": "stream",
     "text": [
      "/Users/datoapanta/Desktop/mma_2024/dataset/data/gtzan/genres/classical/classical.00058.wav\n"
     ]
    },
    {
     "name": "stderr",
     "output_type": "stream",
     "text": [
      "Processing audio files:  77%|███████▋  | 77/100 [07:21<02:09,  5.63s/it]"
     ]
    },
    {
     "name": "stdout",
     "output_type": "stream",
     "text": [
      "/Users/datoapanta/Desktop/mma_2024/dataset/data/gtzan/genres/classical/classical.00064.wav\n"
     ]
    },
    {
     "name": "stderr",
     "output_type": "stream",
     "text": [
      "Processing audio files:  78%|███████▊  | 78/100 [07:27<02:03,  5.62s/it]"
     ]
    },
    {
     "name": "stdout",
     "output_type": "stream",
     "text": [
      "/Users/datoapanta/Desktop/mma_2024/dataset/data/gtzan/genres/classical/classical.00070.wav\n"
     ]
    },
    {
     "name": "stderr",
     "output_type": "stream",
     "text": [
      "Processing audio files:  79%|███████▉  | 79/100 [07:32<01:57,  5.60s/it]"
     ]
    },
    {
     "name": "stdout",
     "output_type": "stream",
     "text": [
      "/Users/datoapanta/Desktop/mma_2024/dataset/data/gtzan/genres/classical/classical.00071.wav\n"
     ]
    },
    {
     "name": "stderr",
     "output_type": "stream",
     "text": [
      "Processing audio files:  80%|████████  | 80/100 [07:38<01:51,  5.57s/it]"
     ]
    },
    {
     "name": "stdout",
     "output_type": "stream",
     "text": [
      "/Users/datoapanta/Desktop/mma_2024/dataset/data/gtzan/genres/classical/classical.00065.wav\n"
     ]
    },
    {
     "name": "stderr",
     "output_type": "stream",
     "text": [
      "Processing audio files:  81%|████████  | 81/100 [07:44<01:49,  5.77s/it]"
     ]
    },
    {
     "name": "stdout",
     "output_type": "stream",
     "text": [
      "/Users/datoapanta/Desktop/mma_2024/dataset/data/gtzan/genres/classical/classical.00059.wav\n"
     ]
    },
    {
     "name": "stderr",
     "output_type": "stream",
     "text": [
      "Processing audio files:  82%|████████▏ | 82/100 [07:50<01:44,  5.82s/it]"
     ]
    },
    {
     "name": "stdout",
     "output_type": "stream",
     "text": [
      "/Users/datoapanta/Desktop/mma_2024/dataset/data/gtzan/genres/classical/classical.00073.wav\n"
     ]
    },
    {
     "name": "stderr",
     "output_type": "stream",
     "text": [
      "Processing audio files:  83%|████████▎ | 83/100 [07:56<01:40,  5.94s/it]"
     ]
    },
    {
     "name": "stdout",
     "output_type": "stream",
     "text": [
      "/Users/datoapanta/Desktop/mma_2024/dataset/data/gtzan/genres/classical/classical.00067.wav\n"
     ]
    },
    {
     "name": "stderr",
     "output_type": "stream",
     "text": [
      "Processing audio files:  84%|████████▍ | 84/100 [08:02<01:33,  5.87s/it]"
     ]
    },
    {
     "name": "stdout",
     "output_type": "stream",
     "text": [
      "/Users/datoapanta/Desktop/mma_2024/dataset/data/gtzan/genres/classical/classical.00098.wav\n"
     ]
    },
    {
     "name": "stderr",
     "output_type": "stream",
     "text": [
      "Processing audio files:  85%|████████▌ | 85/100 [08:08<01:28,  5.87s/it]"
     ]
    },
    {
     "name": "stdout",
     "output_type": "stream",
     "text": [
      "/Users/datoapanta/Desktop/mma_2024/dataset/data/gtzan/genres/classical/classical.00099.wav\n"
     ]
    },
    {
     "name": "stderr",
     "output_type": "stream",
     "text": [
      "Processing audio files:  86%|████████▌ | 86/100 [08:13<01:21,  5.84s/it]"
     ]
    },
    {
     "name": "stdout",
     "output_type": "stream",
     "text": [
      "/Users/datoapanta/Desktop/mma_2024/dataset/data/gtzan/genres/classical/classical.00066.wav\n"
     ]
    },
    {
     "name": "stderr",
     "output_type": "stream",
     "text": [
      "Processing audio files:  87%|████████▋ | 87/100 [08:19<01:15,  5.79s/it]"
     ]
    },
    {
     "name": "stdout",
     "output_type": "stream",
     "text": [
      "/Users/datoapanta/Desktop/mma_2024/dataset/data/gtzan/genres/classical/classical.00072.wav\n"
     ]
    },
    {
     "name": "stderr",
     "output_type": "stream",
     "text": [
      "Processing audio files:  88%|████████▊ | 88/100 [08:25<01:09,  5.81s/it]"
     ]
    },
    {
     "name": "stdout",
     "output_type": "stream",
     "text": [
      "/Users/datoapanta/Desktop/mma_2024/dataset/data/gtzan/genres/classical/classical.00076.wav\n"
     ]
    },
    {
     "name": "stderr",
     "output_type": "stream",
     "text": [
      "Processing audio files:  89%|████████▉ | 89/100 [08:31<01:03,  5.73s/it]"
     ]
    },
    {
     "name": "stdout",
     "output_type": "stream",
     "text": [
      "/Users/datoapanta/Desktop/mma_2024/dataset/data/gtzan/genres/classical/classical.00062.wav\n"
     ]
    },
    {
     "name": "stderr",
     "output_type": "stream",
     "text": [
      "Processing audio files:  90%|█████████ | 90/100 [08:36<00:57,  5.75s/it]"
     ]
    },
    {
     "name": "stdout",
     "output_type": "stream",
     "text": [
      "/Users/datoapanta/Desktop/mma_2024/dataset/data/gtzan/genres/classical/classical.00089.wav\n"
     ]
    },
    {
     "name": "stderr",
     "output_type": "stream",
     "text": [
      "Processing audio files:  91%|█████████ | 91/100 [08:42<00:51,  5.68s/it]"
     ]
    },
    {
     "name": "stdout",
     "output_type": "stream",
     "text": [
      "/Users/datoapanta/Desktop/mma_2024/dataset/data/gtzan/genres/classical/classical.00088.wav\n"
     ]
    },
    {
     "name": "stderr",
     "output_type": "stream",
     "text": [
      "Processing audio files:  92%|█████████▏| 92/100 [08:47<00:45,  5.67s/it]"
     ]
    },
    {
     "name": "stdout",
     "output_type": "stream",
     "text": [
      "/Users/datoapanta/Desktop/mma_2024/dataset/data/gtzan/genres/classical/classical.00063.wav\n"
     ]
    },
    {
     "name": "stderr",
     "output_type": "stream",
     "text": [
      "Processing audio files:  93%|█████████▎| 93/100 [08:53<00:39,  5.60s/it]"
     ]
    },
    {
     "name": "stdout",
     "output_type": "stream",
     "text": [
      "/Users/datoapanta/Desktop/mma_2024/dataset/data/gtzan/genres/classical/classical.00077.wav\n"
     ]
    },
    {
     "name": "stderr",
     "output_type": "stream",
     "text": [
      "Processing audio files:  94%|█████████▍| 94/100 [08:58<00:33,  5.55s/it]"
     ]
    },
    {
     "name": "stdout",
     "output_type": "stream",
     "text": [
      "/Users/datoapanta/Desktop/mma_2024/dataset/data/gtzan/genres/classical/classical.00061.wav\n"
     ]
    },
    {
     "name": "stderr",
     "output_type": "stream",
     "text": [
      "Processing audio files:  95%|█████████▌| 95/100 [09:04<00:27,  5.57s/it]"
     ]
    },
    {
     "name": "stdout",
     "output_type": "stream",
     "text": [
      "/Users/datoapanta/Desktop/mma_2024/dataset/data/gtzan/genres/classical/classical.00075.wav\n"
     ]
    },
    {
     "name": "stderr",
     "output_type": "stream",
     "text": [
      "Processing audio files:  96%|█████████▌| 96/100 [09:09<00:22,  5.54s/it]"
     ]
    },
    {
     "name": "stdout",
     "output_type": "stream",
     "text": [
      "/Users/datoapanta/Desktop/mma_2024/dataset/data/gtzan/genres/classical/classical.00049.wav\n"
     ]
    },
    {
     "name": "stderr",
     "output_type": "stream",
     "text": [
      "Processing audio files:  97%|█████████▋| 97/100 [09:15<00:16,  5.48s/it]"
     ]
    },
    {
     "name": "stdout",
     "output_type": "stream",
     "text": [
      "/Users/datoapanta/Desktop/mma_2024/dataset/data/gtzan/genres/classical/classical.00048.wav\n"
     ]
    },
    {
     "name": "stderr",
     "output_type": "stream",
     "text": [
      "Processing audio files:  98%|█████████▊| 98/100 [09:20<00:11,  5.51s/it]"
     ]
    },
    {
     "name": "stdout",
     "output_type": "stream",
     "text": [
      "/Users/datoapanta/Desktop/mma_2024/dataset/data/gtzan/genres/classical/classical.00074.wav\n"
     ]
    },
    {
     "name": "stderr",
     "output_type": "stream",
     "text": [
      "Processing audio files:  99%|█████████▉| 99/100 [09:26<00:05,  5.59s/it]"
     ]
    },
    {
     "name": "stdout",
     "output_type": "stream",
     "text": [
      "/Users/datoapanta/Desktop/mma_2024/dataset/data/gtzan/genres/classical/classical.00060.wav\n"
     ]
    },
    {
     "name": "stderr",
     "output_type": "stream",
     "text": [
      "Processing audio files: 100%|██████████| 100/100 [09:32<00:00,  5.72s/it]\n",
      "Processing audio files:   0%|          | 0/12 [00:00<?, ?it/s]"
     ]
    },
    {
     "name": "stdout",
     "output_type": "stream",
     "text": [
      "/Users/datoapanta/Desktop/mma_2024/dataset/data/gtzan/genres/rnd_songs/pop_rnd.wav\n"
     ]
    },
    {
     "name": "stderr",
     "output_type": "stream",
     "text": [
      "Processing audio files:   8%|▊         | 1/12 [00:05<01:04,  5.87s/it]"
     ]
    },
    {
     "name": "stdout",
     "output_type": "stream",
     "text": [
      "/Users/datoapanta/Desktop/mma_2024/dataset/data/gtzan/genres/rnd_songs/classical_rnd.wav\n"
     ]
    },
    {
     "name": "stderr",
     "output_type": "stream",
     "text": [
      "Processing audio files:  25%|██▌       | 3/12 [00:11<00:33,  3.77s/it]"
     ]
    },
    {
     "name": "stdout",
     "output_type": "stream",
     "text": [
      "/Users/datoapanta/Desktop/mma_2024/dataset/data/gtzan/genres/rnd_songs/jazz_rnd.wav\n"
     ]
    },
    {
     "name": "stderr",
     "output_type": "stream",
     "text": [
      "Processing audio files:  33%|███▎      | 4/12 [00:18<00:37,  4.72s/it]"
     ]
    },
    {
     "name": "stdout",
     "output_type": "stream",
     "text": [
      "/Users/datoapanta/Desktop/mma_2024/dataset/data/gtzan/genres/rnd_songs/country_rnd.wav\n"
     ]
    },
    {
     "name": "stderr",
     "output_type": "stream",
     "text": [
      "Processing audio files:  42%|████▏     | 5/12 [00:24<00:35,  5.05s/it]"
     ]
    },
    {
     "name": "stdout",
     "output_type": "stream",
     "text": [
      "/Users/datoapanta/Desktop/mma_2024/dataset/data/gtzan/genres/rnd_songs/hiphop_rnd.wav\n"
     ]
    },
    {
     "name": "stderr",
     "output_type": "stream",
     "text": [
      "Processing audio files:  50%|█████     | 6/12 [00:30<00:31,  5.32s/it]"
     ]
    },
    {
     "name": "stdout",
     "output_type": "stream",
     "text": [
      "/Users/datoapanta/Desktop/mma_2024/dataset/data/gtzan/genres/rnd_songs/reggae_rnd.wav\n"
     ]
    },
    {
     "name": "stderr",
     "output_type": "stream",
     "text": [
      "Processing audio files:  58%|█████▊    | 7/12 [00:36<00:27,  5.57s/it]"
     ]
    },
    {
     "name": "stdout",
     "output_type": "stream",
     "text": [
      "/Users/datoapanta/Desktop/mma_2024/dataset/data/gtzan/genres/rnd_songs/disco_rnd.wav\n"
     ]
    },
    {
     "name": "stderr",
     "output_type": "stream",
     "text": [
      "Processing audio files:  67%|██████▋   | 8/12 [00:42<00:22,  5.65s/it]"
     ]
    },
    {
     "name": "stdout",
     "output_type": "stream",
     "text": [
      "/Users/datoapanta/Desktop/mma_2024/dataset/data/gtzan/genres/rnd_songs/metal_rnd.wav\n"
     ]
    },
    {
     "name": "stderr",
     "output_type": "stream",
     "text": [
      "Processing audio files:  75%|███████▌  | 9/12 [00:48<00:17,  5.79s/it]"
     ]
    },
    {
     "name": "stdout",
     "output_type": "stream",
     "text": [
      "/Users/datoapanta/Desktop/mma_2024/dataset/data/gtzan/genres/rnd_songs/pop2_rnd.wav\n"
     ]
    },
    {
     "name": "stderr",
     "output_type": "stream",
     "text": [
      "Processing audio files:  83%|████████▎ | 10/12 [00:54<00:11,  5.83s/it]"
     ]
    },
    {
     "name": "stdout",
     "output_type": "stream",
     "text": [
      "/Users/datoapanta/Desktop/mma_2024/dataset/data/gtzan/genres/rnd_songs/blues_rnd.wav\n"
     ]
    },
    {
     "name": "stderr",
     "output_type": "stream",
     "text": [
      "Processing audio files:  92%|█████████▏| 11/12 [00:59<00:05,  5.84s/it]"
     ]
    },
    {
     "name": "stdout",
     "output_type": "stream",
     "text": [
      "/Users/datoapanta/Desktop/mma_2024/dataset/data/gtzan/genres/rnd_songs/rock_rnd.wav\n"
     ]
    },
    {
     "name": "stderr",
     "output_type": "stream",
     "text": [
      "Processing audio files: 100%|██████████| 12/12 [01:05<00:00,  5.48s/it]\n",
      "Processing audio files:   0%|          | 0/2 [00:00<?, ?it/s]"
     ]
    },
    {
     "name": "stdout",
     "output_type": "stream",
     "text": [
      "/Users/datoapanta/Desktop/mma_2024/dataset/data/gtzan/genres/rnd_songs/news/disco2_rnd.wav\n"
     ]
    },
    {
     "name": "stderr",
     "output_type": "stream",
     "text": [
      "Processing audio files:  50%|█████     | 1/2 [00:05<00:05,  5.91s/it]"
     ]
    },
    {
     "name": "stdout",
     "output_type": "stream",
     "text": [
      "/Users/datoapanta/Desktop/mma_2024/dataset/data/gtzan/genres/rnd_songs/news/pop3_rnd.wav\n"
     ]
    },
    {
     "name": "stderr",
     "output_type": "stream",
     "text": [
      "Processing audio files: 100%|██████████| 2/2 [00:12<00:00,  6.06s/it]\n",
      "Processing audio files: 100%|██████████| 11/11 [00:00<00:00, 53214.93it/s]\n",
      "Processing audio files:   0%|          | 0/100 [00:00<?, ?it/s]"
     ]
    },
    {
     "name": "stdout",
     "output_type": "stream",
     "text": [
      "/Users/datoapanta/Desktop/mma_2024/dataset/data/gtzan/genres/rock/rock.00011.wav\n"
     ]
    },
    {
     "name": "stderr",
     "output_type": "stream",
     "text": [
      "Processing audio files:   1%|          | 1/100 [00:06<11:22,  6.89s/it]"
     ]
    },
    {
     "name": "stdout",
     "output_type": "stream",
     "text": [
      "/Users/datoapanta/Desktop/mma_2024/dataset/data/gtzan/genres/rock/rock.00005.wav\n"
     ]
    },
    {
     "name": "stderr",
     "output_type": "stream",
     "text": [
      "Processing audio files:   2%|▏         | 2/100 [00:12<10:22,  6.36s/it]"
     ]
    },
    {
     "name": "stdout",
     "output_type": "stream",
     "text": [
      "/Users/datoapanta/Desktop/mma_2024/dataset/data/gtzan/genres/rock/rock.00039.wav\n"
     ]
    },
    {
     "name": "stderr",
     "output_type": "stream",
     "text": [
      "Processing audio files:   3%|▎         | 3/100 [00:18<09:41,  6.00s/it]"
     ]
    },
    {
     "name": "stdout",
     "output_type": "stream",
     "text": [
      "/Users/datoapanta/Desktop/mma_2024/dataset/data/gtzan/genres/rock/rock.00038.wav\n"
     ]
    },
    {
     "name": "stderr",
     "output_type": "stream",
     "text": [
      "Processing audio files:   4%|▍         | 4/100 [00:24<09:25,  5.89s/it]"
     ]
    },
    {
     "name": "stdout",
     "output_type": "stream",
     "text": [
      "/Users/datoapanta/Desktop/mma_2024/dataset/data/gtzan/genres/rock/rock.00004.wav\n"
     ]
    },
    {
     "name": "stderr",
     "output_type": "stream",
     "text": [
      "Processing audio files:   5%|▌         | 5/100 [00:29<09:12,  5.81s/it]"
     ]
    },
    {
     "name": "stdout",
     "output_type": "stream",
     "text": [
      "/Users/datoapanta/Desktop/mma_2024/dataset/data/gtzan/genres/rock/rock.00010.wav\n"
     ]
    },
    {
     "name": "stderr",
     "output_type": "stream",
     "text": [
      "Processing audio files:   6%|▌         | 6/100 [00:35<09:04,  5.79s/it]"
     ]
    },
    {
     "name": "stdout",
     "output_type": "stream",
     "text": [
      "/Users/datoapanta/Desktop/mma_2024/dataset/data/gtzan/genres/rock/rock.00006.wav\n"
     ]
    },
    {
     "name": "stderr",
     "output_type": "stream",
     "text": [
      "Processing audio files:   7%|▋         | 7/100 [00:41<08:57,  5.78s/it]"
     ]
    },
    {
     "name": "stdout",
     "output_type": "stream",
     "text": [
      "/Users/datoapanta/Desktop/mma_2024/dataset/data/gtzan/genres/rock/rock.00012.wav\n"
     ]
    },
    {
     "name": "stderr",
     "output_type": "stream",
     "text": [
      "Processing audio files:   8%|▊         | 8/100 [00:47<08:50,  5.77s/it]"
     ]
    },
    {
     "name": "stdout",
     "output_type": "stream",
     "text": [
      "/Users/datoapanta/Desktop/mma_2024/dataset/data/gtzan/genres/rock/rock.00013.wav\n"
     ]
    },
    {
     "name": "stderr",
     "output_type": "stream",
     "text": [
      "Processing audio files:   9%|▉         | 9/100 [00:52<08:47,  5.80s/it]"
     ]
    },
    {
     "name": "stdout",
     "output_type": "stream",
     "text": [
      "/Users/datoapanta/Desktop/mma_2024/dataset/data/gtzan/genres/rock/rock.00007.wav\n"
     ]
    },
    {
     "name": "stderr",
     "output_type": "stream",
     "text": [
      "Processing audio files:  10%|█         | 10/100 [00:58<08:40,  5.78s/it]"
     ]
    },
    {
     "name": "stdout",
     "output_type": "stream",
     "text": [
      "/Users/datoapanta/Desktop/mma_2024/dataset/data/gtzan/genres/rock/rock.00003.wav\n"
     ]
    },
    {
     "name": "stderr",
     "output_type": "stream",
     "text": [
      "Processing audio files:  11%|█         | 11/100 [01:03<08:20,  5.63s/it]"
     ]
    },
    {
     "name": "stdout",
     "output_type": "stream",
     "text": [
      "/Users/datoapanta/Desktop/mma_2024/dataset/data/gtzan/genres/rock/rock.00017.wav\n"
     ]
    },
    {
     "name": "stderr",
     "output_type": "stream",
     "text": [
      "Processing audio files:  12%|█▏        | 12/100 [01:09<08:03,  5.50s/it]"
     ]
    },
    {
     "name": "stdout",
     "output_type": "stream",
     "text": [
      "/Users/datoapanta/Desktop/mma_2024/dataset/data/gtzan/genres/rock/rock.00016.wav\n"
     ]
    },
    {
     "name": "stderr",
     "output_type": "stream",
     "text": [
      "Processing audio files:  13%|█▎        | 13/100 [01:14<07:55,  5.47s/it]"
     ]
    },
    {
     "name": "stdout",
     "output_type": "stream",
     "text": [
      "/Users/datoapanta/Desktop/mma_2024/dataset/data/gtzan/genres/rock/rock.00002.wav\n"
     ]
    },
    {
     "name": "stderr",
     "output_type": "stream",
     "text": [
      "Processing audio files:  14%|█▍        | 14/100 [01:19<07:44,  5.40s/it]"
     ]
    },
    {
     "name": "stdout",
     "output_type": "stream",
     "text": [
      "/Users/datoapanta/Desktop/mma_2024/dataset/data/gtzan/genres/rock/rock.00028.wav\n"
     ]
    },
    {
     "name": "stderr",
     "output_type": "stream",
     "text": [
      "Processing audio files:  15%|█▌        | 15/100 [01:25<07:36,  5.37s/it]"
     ]
    },
    {
     "name": "stdout",
     "output_type": "stream",
     "text": [
      "/Users/datoapanta/Desktop/mma_2024/dataset/data/gtzan/genres/rock/rock.00014.wav\n"
     ]
    },
    {
     "name": "stderr",
     "output_type": "stream",
     "text": [
      "Processing audio files:  16%|█▌        | 16/100 [01:30<07:37,  5.45s/it]"
     ]
    },
    {
     "name": "stdout",
     "output_type": "stream",
     "text": [
      "/Users/datoapanta/Desktop/mma_2024/dataset/data/gtzan/genres/rock/rock.00000.wav\n"
     ]
    },
    {
     "name": "stderr",
     "output_type": "stream",
     "text": [
      "Processing audio files:  17%|█▋        | 17/100 [01:36<07:37,  5.52s/it]"
     ]
    },
    {
     "name": "stdout",
     "output_type": "stream",
     "text": [
      "/Users/datoapanta/Desktop/mma_2024/dataset/data/gtzan/genres/rock/rock.00001.wav\n"
     ]
    },
    {
     "name": "stderr",
     "output_type": "stream",
     "text": [
      "Processing audio files:  18%|█▊        | 18/100 [01:41<07:25,  5.43s/it]"
     ]
    },
    {
     "name": "stdout",
     "output_type": "stream",
     "text": [
      "/Users/datoapanta/Desktop/mma_2024/dataset/data/gtzan/genres/rock/rock.00015.wav\n"
     ]
    },
    {
     "name": "stderr",
     "output_type": "stream",
     "text": [
      "Processing audio files:  19%|█▉        | 19/100 [01:46<07:16,  5.39s/it]"
     ]
    },
    {
     "name": "stdout",
     "output_type": "stream",
     "text": [
      "/Users/datoapanta/Desktop/mma_2024/dataset/data/gtzan/genres/rock/rock.00029.wav\n"
     ]
    },
    {
     "name": "stderr",
     "output_type": "stream",
     "text": [
      "Processing audio files:  20%|██        | 20/100 [01:52<07:06,  5.33s/it]"
     ]
    },
    {
     "name": "stdout",
     "output_type": "stream",
     "text": [
      "/Users/datoapanta/Desktop/mma_2024/dataset/data/gtzan/genres/rock/rock.00099.wav\n"
     ]
    },
    {
     "name": "stderr",
     "output_type": "stream",
     "text": [
      "Processing audio files:  21%|██        | 21/100 [01:57<06:57,  5.29s/it]"
     ]
    },
    {
     "name": "stdout",
     "output_type": "stream",
     "text": [
      "/Users/datoapanta/Desktop/mma_2024/dataset/data/gtzan/genres/rock/rock.00072.wav\n"
     ]
    },
    {
     "name": "stderr",
     "output_type": "stream",
     "text": [
      "Processing audio files:  22%|██▏       | 22/100 [02:02<06:50,  5.26s/it]"
     ]
    },
    {
     "name": "stdout",
     "output_type": "stream",
     "text": [
      "/Users/datoapanta/Desktop/mma_2024/dataset/data/gtzan/genres/rock/rock.00066.wav\n"
     ]
    },
    {
     "name": "stderr",
     "output_type": "stream",
     "text": [
      "Processing audio files:  23%|██▎       | 23/100 [02:07<06:47,  5.29s/it]"
     ]
    },
    {
     "name": "stdout",
     "output_type": "stream",
     "text": [
      "/Users/datoapanta/Desktop/mma_2024/dataset/data/gtzan/genres/rock/rock.00067.wav\n"
     ]
    },
    {
     "name": "stderr",
     "output_type": "stream",
     "text": [
      "Processing audio files:  24%|██▍       | 24/100 [02:13<06:39,  5.26s/it]"
     ]
    },
    {
     "name": "stdout",
     "output_type": "stream",
     "text": [
      "/Users/datoapanta/Desktop/mma_2024/dataset/data/gtzan/genres/rock/rock.00073.wav\n"
     ]
    },
    {
     "name": "stderr",
     "output_type": "stream",
     "text": [
      "Processing audio files:  25%|██▌       | 25/100 [02:18<06:33,  5.25s/it]"
     ]
    },
    {
     "name": "stdout",
     "output_type": "stream",
     "text": [
      "/Users/datoapanta/Desktop/mma_2024/dataset/data/gtzan/genres/rock/rock.00098.wav\n"
     ]
    },
    {
     "name": "stderr",
     "output_type": "stream",
     "text": [
      "Processing audio files:  26%|██▌       | 26/100 [02:23<06:29,  5.27s/it]"
     ]
    },
    {
     "name": "stdout",
     "output_type": "stream",
     "text": [
      "/Users/datoapanta/Desktop/mma_2024/dataset/data/gtzan/genres/rock/rock.00065.wav\n"
     ]
    },
    {
     "name": "stderr",
     "output_type": "stream",
     "text": [
      "Processing audio files:  27%|██▋       | 27/100 [02:29<06:27,  5.30s/it]"
     ]
    },
    {
     "name": "stdout",
     "output_type": "stream",
     "text": [
      "/Users/datoapanta/Desktop/mma_2024/dataset/data/gtzan/genres/rock/rock.00071.wav\n"
     ]
    },
    {
     "name": "stderr",
     "output_type": "stream",
     "text": [
      "Processing audio files:  28%|██▊       | 28/100 [02:34<06:22,  5.31s/it]"
     ]
    },
    {
     "name": "stdout",
     "output_type": "stream",
     "text": [
      "/Users/datoapanta/Desktop/mma_2024/dataset/data/gtzan/genres/rock/rock.00059.wav\n"
     ]
    },
    {
     "name": "stderr",
     "output_type": "stream",
     "text": [
      "Processing audio files:  29%|██▉       | 29/100 [02:39<06:22,  5.39s/it]"
     ]
    },
    {
     "name": "stdout",
     "output_type": "stream",
     "text": [
      "/Users/datoapanta/Desktop/mma_2024/dataset/data/gtzan/genres/rock/rock.00058.wav\n"
     ]
    },
    {
     "name": "stderr",
     "output_type": "stream",
     "text": [
      "Processing audio files:  30%|███       | 30/100 [02:45<06:26,  5.51s/it]"
     ]
    },
    {
     "name": "stdout",
     "output_type": "stream",
     "text": [
      "/Users/datoapanta/Desktop/mma_2024/dataset/data/gtzan/genres/rock/rock.00070.wav\n"
     ]
    },
    {
     "name": "stderr",
     "output_type": "stream",
     "text": [
      "Processing audio files:  31%|███       | 31/100 [02:50<06:14,  5.43s/it]"
     ]
    },
    {
     "name": "stdout",
     "output_type": "stream",
     "text": [
      "/Users/datoapanta/Desktop/mma_2024/dataset/data/gtzan/genres/rock/rock.00064.wav\n"
     ]
    },
    {
     "name": "stderr",
     "output_type": "stream",
     "text": [
      "Processing audio files:  32%|███▏      | 32/100 [02:56<06:09,  5.43s/it]"
     ]
    },
    {
     "name": "stdout",
     "output_type": "stream",
     "text": [
      "/Users/datoapanta/Desktop/mma_2024/dataset/data/gtzan/genres/rock/rock.00048.wav\n"
     ]
    },
    {
     "name": "stderr",
     "output_type": "stream",
     "text": [
      "Processing audio files:  33%|███▎      | 33/100 [03:01<06:04,  5.43s/it]"
     ]
    },
    {
     "name": "stdout",
     "output_type": "stream",
     "text": [
      "/Users/datoapanta/Desktop/mma_2024/dataset/data/gtzan/genres/rock/rock.00060.wav\n"
     ]
    },
    {
     "name": "stderr",
     "output_type": "stream",
     "text": [
      "Processing audio files:  34%|███▍      | 34/100 [03:07<06:00,  5.46s/it]"
     ]
    },
    {
     "name": "stdout",
     "output_type": "stream",
     "text": [
      "/Users/datoapanta/Desktop/mma_2024/dataset/data/gtzan/genres/rock/rock.00074.wav\n"
     ]
    },
    {
     "name": "stderr",
     "output_type": "stream",
     "text": [
      "Processing audio files:  35%|███▌      | 35/100 [03:12<05:50,  5.39s/it]"
     ]
    },
    {
     "name": "stdout",
     "output_type": "stream",
     "text": [
      "/Users/datoapanta/Desktop/mma_2024/dataset/data/gtzan/genres/rock/rock.00075.wav\n"
     ]
    },
    {
     "name": "stderr",
     "output_type": "stream",
     "text": [
      "Processing audio files:  36%|███▌      | 36/100 [03:17<05:41,  5.33s/it]"
     ]
    },
    {
     "name": "stdout",
     "output_type": "stream",
     "text": [
      "/Users/datoapanta/Desktop/mma_2024/dataset/data/gtzan/genres/rock/rock.00061.wav\n"
     ]
    },
    {
     "name": "stderr",
     "output_type": "stream",
     "text": [
      "Processing audio files:  37%|███▋      | 37/100 [03:22<05:31,  5.27s/it]"
     ]
    },
    {
     "name": "stdout",
     "output_type": "stream",
     "text": [
      "/Users/datoapanta/Desktop/mma_2024/dataset/data/gtzan/genres/rock/rock.00049.wav\n"
     ]
    },
    {
     "name": "stderr",
     "output_type": "stream",
     "text": [
      "Processing audio files:  38%|███▊      | 38/100 [03:28<05:27,  5.28s/it]"
     ]
    },
    {
     "name": "stdout",
     "output_type": "stream",
     "text": [
      "/Users/datoapanta/Desktop/mma_2024/dataset/data/gtzan/genres/rock/rock.00088.wav\n"
     ]
    },
    {
     "name": "stderr",
     "output_type": "stream",
     "text": [
      "Processing audio files:  39%|███▉      | 39/100 [03:33<05:20,  5.25s/it]"
     ]
    },
    {
     "name": "stdout",
     "output_type": "stream",
     "text": [
      "/Users/datoapanta/Desktop/mma_2024/dataset/data/gtzan/genres/rock/rock.00077.wav\n"
     ]
    },
    {
     "name": "stderr",
     "output_type": "stream",
     "text": [
      "Processing audio files:  40%|████      | 40/100 [03:38<05:13,  5.22s/it]"
     ]
    },
    {
     "name": "stdout",
     "output_type": "stream",
     "text": [
      "/Users/datoapanta/Desktop/mma_2024/dataset/data/gtzan/genres/rock/rock.00063.wav\n"
     ]
    },
    {
     "name": "stderr",
     "output_type": "stream",
     "text": [
      "Processing audio files:  41%|████      | 41/100 [03:43<05:09,  5.25s/it]"
     ]
    },
    {
     "name": "stdout",
     "output_type": "stream",
     "text": [
      "/Users/datoapanta/Desktop/mma_2024/dataset/data/gtzan/genres/rock/rock.00062.wav\n"
     ]
    },
    {
     "name": "stderr",
     "output_type": "stream",
     "text": [
      "Processing audio files:  42%|████▏     | 42/100 [03:49<05:17,  5.48s/it]"
     ]
    },
    {
     "name": "stdout",
     "output_type": "stream",
     "text": [
      "/Users/datoapanta/Desktop/mma_2024/dataset/data/gtzan/genres/rock/rock.00076.wav\n"
     ]
    },
    {
     "name": "stderr",
     "output_type": "stream",
     "text": [
      "Processing audio files:  43%|████▎     | 43/100 [03:55<05:15,  5.53s/it]"
     ]
    },
    {
     "name": "stdout",
     "output_type": "stream",
     "text": [
      "/Users/datoapanta/Desktop/mma_2024/dataset/data/gtzan/genres/rock/rock.00089.wav\n"
     ]
    },
    {
     "name": "stderr",
     "output_type": "stream",
     "text": [
      "Processing audio files:  44%|████▍     | 44/100 [04:01<05:15,  5.63s/it]"
     ]
    },
    {
     "name": "stdout",
     "output_type": "stream",
     "text": [
      "/Users/datoapanta/Desktop/mma_2024/dataset/data/gtzan/genres/rock/rock.00090.wav\n"
     ]
    },
    {
     "name": "stderr",
     "output_type": "stream",
     "text": [
      "Processing audio files:  45%|████▌     | 45/100 [04:06<05:03,  5.52s/it]"
     ]
    },
    {
     "name": "stdout",
     "output_type": "stream",
     "text": [
      "/Users/datoapanta/Desktop/mma_2024/dataset/data/gtzan/genres/rock/rock.00084.wav\n"
     ]
    },
    {
     "name": "stderr",
     "output_type": "stream",
     "text": [
      "Processing audio files:  46%|████▌     | 46/100 [04:11<04:52,  5.41s/it]"
     ]
    },
    {
     "name": "stdout",
     "output_type": "stream",
     "text": [
      "/Users/datoapanta/Desktop/mma_2024/dataset/data/gtzan/genres/rock/rock.00053.wav\n"
     ]
    },
    {
     "name": "stderr",
     "output_type": "stream",
     "text": [
      "Processing audio files:  47%|████▋     | 47/100 [04:17<04:46,  5.40s/it]"
     ]
    },
    {
     "name": "stdout",
     "output_type": "stream",
     "text": [
      "/Users/datoapanta/Desktop/mma_2024/dataset/data/gtzan/genres/rock/rock.00047.wav\n"
     ]
    },
    {
     "name": "stderr",
     "output_type": "stream",
     "text": [
      "Processing audio files:  48%|████▊     | 48/100 [04:22<04:43,  5.45s/it]"
     ]
    },
    {
     "name": "stdout",
     "output_type": "stream",
     "text": [
      "/Users/datoapanta/Desktop/mma_2024/dataset/data/gtzan/genres/rock/rock.00046.wav\n"
     ]
    },
    {
     "name": "stderr",
     "output_type": "stream",
     "text": [
      "Processing audio files:  49%|████▉     | 49/100 [04:28<04:36,  5.41s/it]"
     ]
    },
    {
     "name": "stdout",
     "output_type": "stream",
     "text": [
      "/Users/datoapanta/Desktop/mma_2024/dataset/data/gtzan/genres/rock/rock.00052.wav\n"
     ]
    },
    {
     "name": "stderr",
     "output_type": "stream",
     "text": [
      "Processing audio files:  50%|█████     | 50/100 [04:33<04:27,  5.36s/it]"
     ]
    },
    {
     "name": "stdout",
     "output_type": "stream",
     "text": [
      "/Users/datoapanta/Desktop/mma_2024/dataset/data/gtzan/genres/rock/rock.00085.wav\n"
     ]
    },
    {
     "name": "stderr",
     "output_type": "stream",
     "text": [
      "Processing audio files:  51%|█████     | 51/100 [04:38<04:22,  5.35s/it]"
     ]
    },
    {
     "name": "stdout",
     "output_type": "stream",
     "text": [
      "/Users/datoapanta/Desktop/mma_2024/dataset/data/gtzan/genres/rock/rock.00091.wav\n"
     ]
    },
    {
     "name": "stderr",
     "output_type": "stream",
     "text": [
      "Processing audio files:  52%|█████▏    | 52/100 [04:43<04:16,  5.35s/it]"
     ]
    },
    {
     "name": "stdout",
     "output_type": "stream",
     "text": [
      "/Users/datoapanta/Desktop/mma_2024/dataset/data/gtzan/genres/rock/rock.00087.wav\n"
     ]
    },
    {
     "name": "stderr",
     "output_type": "stream",
     "text": [
      "Processing audio files:  53%|█████▎    | 53/100 [04:49<04:12,  5.37s/it]"
     ]
    },
    {
     "name": "stdout",
     "output_type": "stream",
     "text": [
      "/Users/datoapanta/Desktop/mma_2024/dataset/data/gtzan/genres/rock/rock.00093.wav\n"
     ]
    },
    {
     "name": "stderr",
     "output_type": "stream",
     "text": [
      "Processing audio files:  54%|█████▍    | 54/100 [04:54<04:05,  5.33s/it]"
     ]
    },
    {
     "name": "stdout",
     "output_type": "stream",
     "text": [
      "/Users/datoapanta/Desktop/mma_2024/dataset/data/gtzan/genres/rock/rock.00044.wav\n"
     ]
    },
    {
     "name": "stderr",
     "output_type": "stream",
     "text": [
      "Processing audio files:  55%|█████▌    | 55/100 [04:59<03:57,  5.27s/it]"
     ]
    },
    {
     "name": "stdout",
     "output_type": "stream",
     "text": [
      "/Users/datoapanta/Desktop/mma_2024/dataset/data/gtzan/genres/rock/rock.00050.wav\n"
     ]
    },
    {
     "name": "stderr",
     "output_type": "stream",
     "text": [
      "Processing audio files:  56%|█████▌    | 56/100 [05:05<03:51,  5.26s/it]"
     ]
    },
    {
     "name": "stdout",
     "output_type": "stream",
     "text": [
      "/Users/datoapanta/Desktop/mma_2024/dataset/data/gtzan/genres/rock/rock.00078.wav\n"
     ]
    },
    {
     "name": "stderr",
     "output_type": "stream",
     "text": [
      "Processing audio files:  57%|█████▋    | 57/100 [05:10<03:44,  5.22s/it]"
     ]
    },
    {
     "name": "stdout",
     "output_type": "stream",
     "text": [
      "/Users/datoapanta/Desktop/mma_2024/dataset/data/gtzan/genres/rock/rock.00079.wav\n"
     ]
    },
    {
     "name": "stderr",
     "output_type": "stream",
     "text": [
      "Processing audio files:  58%|█████▊    | 58/100 [05:15<03:38,  5.19s/it]"
     ]
    },
    {
     "name": "stdout",
     "output_type": "stream",
     "text": [
      "/Users/datoapanta/Desktop/mma_2024/dataset/data/gtzan/genres/rock/rock.00051.wav\n"
     ]
    },
    {
     "name": "stderr",
     "output_type": "stream",
     "text": [
      "Processing audio files:  59%|█████▉    | 59/100 [05:20<03:32,  5.18s/it]"
     ]
    },
    {
     "name": "stdout",
     "output_type": "stream",
     "text": [
      "/Users/datoapanta/Desktop/mma_2024/dataset/data/gtzan/genres/rock/rock.00045.wav\n"
     ]
    },
    {
     "name": "stderr",
     "output_type": "stream",
     "text": [
      "Processing audio files:  60%|██████    | 60/100 [05:25<03:27,  5.20s/it]"
     ]
    },
    {
     "name": "stdout",
     "output_type": "stream",
     "text": [
      "/Users/datoapanta/Desktop/mma_2024/dataset/data/gtzan/genres/rock/rock.00092.wav\n"
     ]
    },
    {
     "name": "stderr",
     "output_type": "stream",
     "text": [
      "Processing audio files:  61%|██████    | 61/100 [05:30<03:21,  5.18s/it]"
     ]
    },
    {
     "name": "stdout",
     "output_type": "stream",
     "text": [
      "/Users/datoapanta/Desktop/mma_2024/dataset/data/gtzan/genres/rock/rock.00086.wav\n"
     ]
    },
    {
     "name": "stderr",
     "output_type": "stream",
     "text": [
      "Processing audio files:  62%|██████▏   | 62/100 [05:35<03:16,  5.17s/it]"
     ]
    },
    {
     "name": "stdout",
     "output_type": "stream",
     "text": [
      "/Users/datoapanta/Desktop/mma_2024/dataset/data/gtzan/genres/rock/rock.00082.wav\n"
     ]
    },
    {
     "name": "stderr",
     "output_type": "stream",
     "text": [
      "Processing audio files:  63%|██████▎   | 63/100 [05:41<03:12,  5.20s/it]"
     ]
    },
    {
     "name": "stdout",
     "output_type": "stream",
     "text": [
      "/Users/datoapanta/Desktop/mma_2024/dataset/data/gtzan/genres/rock/rock.00096.wav\n"
     ]
    },
    {
     "name": "stderr",
     "output_type": "stream",
     "text": [
      "Processing audio files:  64%|██████▍   | 64/100 [05:46<03:08,  5.24s/it]"
     ]
    },
    {
     "name": "stdout",
     "output_type": "stream",
     "text": [
      "/Users/datoapanta/Desktop/mma_2024/dataset/data/gtzan/genres/rock/rock.00069.wav\n"
     ]
    },
    {
     "name": "stderr",
     "output_type": "stream",
     "text": [
      "Processing audio files:  65%|██████▌   | 65/100 [05:51<03:02,  5.22s/it]"
     ]
    },
    {
     "name": "stdout",
     "output_type": "stream",
     "text": [
      "/Users/datoapanta/Desktop/mma_2024/dataset/data/gtzan/genres/rock/rock.00041.wav\n"
     ]
    },
    {
     "name": "stderr",
     "output_type": "stream",
     "text": [
      "Processing audio files:  66%|██████▌   | 66/100 [05:56<02:56,  5.19s/it]"
     ]
    },
    {
     "name": "stdout",
     "output_type": "stream",
     "text": [
      "/Users/datoapanta/Desktop/mma_2024/dataset/data/gtzan/genres/rock/rock.00055.wav\n"
     ]
    },
    {
     "name": "stderr",
     "output_type": "stream",
     "text": [
      "Processing audio files:  67%|██████▋   | 67/100 [06:02<02:51,  5.19s/it]"
     ]
    },
    {
     "name": "stdout",
     "output_type": "stream",
     "text": [
      "/Users/datoapanta/Desktop/mma_2024/dataset/data/gtzan/genres/rock/rock.00054.wav\n"
     ]
    },
    {
     "name": "stderr",
     "output_type": "stream",
     "text": [
      "Processing audio files:  68%|██████▊   | 68/100 [06:07<02:46,  5.21s/it]"
     ]
    },
    {
     "name": "stdout",
     "output_type": "stream",
     "text": [
      "/Users/datoapanta/Desktop/mma_2024/dataset/data/gtzan/genres/rock/rock.00040.wav\n"
     ]
    },
    {
     "name": "stderr",
     "output_type": "stream",
     "text": [
      "Processing audio files:  69%|██████▉   | 69/100 [06:12<02:40,  5.19s/it]"
     ]
    },
    {
     "name": "stdout",
     "output_type": "stream",
     "text": [
      "/Users/datoapanta/Desktop/mma_2024/dataset/data/gtzan/genres/rock/rock.00068.wav\n"
     ]
    },
    {
     "name": "stderr",
     "output_type": "stream",
     "text": [
      "Processing audio files:  70%|███████   | 70/100 [06:17<02:34,  5.17s/it]"
     ]
    },
    {
     "name": "stdout",
     "output_type": "stream",
     "text": [
      "/Users/datoapanta/Desktop/mma_2024/dataset/data/gtzan/genres/rock/rock.00097.wav\n"
     ]
    },
    {
     "name": "stderr",
     "output_type": "stream",
     "text": [
      "Processing audio files:  71%|███████   | 71/100 [06:22<02:29,  5.17s/it]"
     ]
    },
    {
     "name": "stdout",
     "output_type": "stream",
     "text": [
      "/Users/datoapanta/Desktop/mma_2024/dataset/data/gtzan/genres/rock/rock.00083.wav\n"
     ]
    },
    {
     "name": "stderr",
     "output_type": "stream",
     "text": [
      "Processing audio files:  72%|███████▏  | 72/100 [06:27<02:25,  5.19s/it]"
     ]
    },
    {
     "name": "stdout",
     "output_type": "stream",
     "text": [
      "/Users/datoapanta/Desktop/mma_2024/dataset/data/gtzan/genres/rock/rock.00095.wav\n"
     ]
    },
    {
     "name": "stderr",
     "output_type": "stream",
     "text": [
      "Processing audio files:  73%|███████▎  | 73/100 [06:33<02:20,  5.19s/it]"
     ]
    },
    {
     "name": "stdout",
     "output_type": "stream",
     "text": [
      "/Users/datoapanta/Desktop/mma_2024/dataset/data/gtzan/genres/rock/rock.00081.wav\n"
     ]
    },
    {
     "name": "stderr",
     "output_type": "stream",
     "text": [
      "Processing audio files:  74%|███████▍  | 74/100 [06:38<02:15,  5.22s/it]"
     ]
    },
    {
     "name": "stdout",
     "output_type": "stream",
     "text": [
      "/Users/datoapanta/Desktop/mma_2024/dataset/data/gtzan/genres/rock/rock.00056.wav\n"
     ]
    },
    {
     "name": "stderr",
     "output_type": "stream",
     "text": [
      "Processing audio files:  75%|███████▌  | 75/100 [06:43<02:09,  5.20s/it]"
     ]
    },
    {
     "name": "stdout",
     "output_type": "stream",
     "text": [
      "/Users/datoapanta/Desktop/mma_2024/dataset/data/gtzan/genres/rock/rock.00042.wav\n"
     ]
    },
    {
     "name": "stderr",
     "output_type": "stream",
     "text": [
      "Processing audio files:  76%|███████▌  | 76/100 [06:48<02:04,  5.18s/it]"
     ]
    },
    {
     "name": "stdout",
     "output_type": "stream",
     "text": [
      "/Users/datoapanta/Desktop/mma_2024/dataset/data/gtzan/genres/rock/rock.00043.wav\n"
     ]
    },
    {
     "name": "stderr",
     "output_type": "stream",
     "text": [
      "Processing audio files:  77%|███████▋  | 77/100 [06:53<01:58,  5.16s/it]"
     ]
    },
    {
     "name": "stdout",
     "output_type": "stream",
     "text": [
      "/Users/datoapanta/Desktop/mma_2024/dataset/data/gtzan/genres/rock/rock.00057.wav\n"
     ]
    },
    {
     "name": "stderr",
     "output_type": "stream",
     "text": [
      "Processing audio files:  78%|███████▊  | 78/100 [06:58<01:53,  5.15s/it]"
     ]
    },
    {
     "name": "stdout",
     "output_type": "stream",
     "text": [
      "/Users/datoapanta/Desktop/mma_2024/dataset/data/gtzan/genres/rock/rock.00080.wav\n"
     ]
    },
    {
     "name": "stderr",
     "output_type": "stream",
     "text": [
      "Processing audio files:  79%|███████▉  | 79/100 [07:04<01:49,  5.20s/it]"
     ]
    },
    {
     "name": "stdout",
     "output_type": "stream",
     "text": [
      "/Users/datoapanta/Desktop/mma_2024/dataset/data/gtzan/genres/rock/rock.00094.wav\n"
     ]
    },
    {
     "name": "stderr",
     "output_type": "stream",
     "text": [
      "Processing audio files:  80%|████████  | 80/100 [07:09<01:44,  5.23s/it]"
     ]
    },
    {
     "name": "stdout",
     "output_type": "stream",
     "text": [
      "/Users/datoapanta/Desktop/mma_2024/dataset/data/gtzan/genres/rock/rock.00030.wav\n"
     ]
    },
    {
     "name": "stderr",
     "output_type": "stream",
     "text": [
      "Processing audio files:  81%|████████  | 81/100 [07:14<01:39,  5.24s/it]"
     ]
    },
    {
     "name": "stdout",
     "output_type": "stream",
     "text": [
      "/Users/datoapanta/Desktop/mma_2024/dataset/data/gtzan/genres/rock/rock.00024.wav\n"
     ]
    },
    {
     "name": "stderr",
     "output_type": "stream",
     "text": [
      "Processing audio files:  82%|████████▏ | 82/100 [07:20<01:34,  5.24s/it]"
     ]
    },
    {
     "name": "stdout",
     "output_type": "stream",
     "text": [
      "/Users/datoapanta/Desktop/mma_2024/dataset/data/gtzan/genres/rock/rock.00018.wav\n"
     ]
    },
    {
     "name": "stderr",
     "output_type": "stream",
     "text": [
      "Processing audio files:  83%|████████▎ | 83/100 [07:25<01:30,  5.32s/it]"
     ]
    },
    {
     "name": "stdout",
     "output_type": "stream",
     "text": [
      "/Users/datoapanta/Desktop/mma_2024/dataset/data/gtzan/genres/rock/rock.00019.wav\n"
     ]
    },
    {
     "name": "stderr",
     "output_type": "stream",
     "text": [
      "Processing audio files:  84%|████████▍ | 84/100 [07:31<01:26,  5.39s/it]"
     ]
    },
    {
     "name": "stdout",
     "output_type": "stream",
     "text": [
      "/Users/datoapanta/Desktop/mma_2024/dataset/data/gtzan/genres/rock/rock.00025.wav\n"
     ]
    },
    {
     "name": "stderr",
     "output_type": "stream",
     "text": [
      "Processing audio files:  85%|████████▌ | 85/100 [07:36<01:20,  5.38s/it]"
     ]
    },
    {
     "name": "stdout",
     "output_type": "stream",
     "text": [
      "/Users/datoapanta/Desktop/mma_2024/dataset/data/gtzan/genres/rock/rock.00031.wav\n"
     ]
    },
    {
     "name": "stderr",
     "output_type": "stream",
     "text": [
      "Processing audio files:  86%|████████▌ | 86/100 [07:41<01:15,  5.37s/it]"
     ]
    },
    {
     "name": "stdout",
     "output_type": "stream",
     "text": [
      "/Users/datoapanta/Desktop/mma_2024/dataset/data/gtzan/genres/rock/rock.00027.wav\n"
     ]
    },
    {
     "name": "stderr",
     "output_type": "stream",
     "text": [
      "Processing audio files:  87%|████████▋ | 87/100 [07:47<01:09,  5.37s/it]"
     ]
    },
    {
     "name": "stdout",
     "output_type": "stream",
     "text": [
      "/Users/datoapanta/Desktop/mma_2024/dataset/data/gtzan/genres/rock/rock.00033.wav\n"
     ]
    },
    {
     "name": "stderr",
     "output_type": "stream",
     "text": [
      "Processing audio files:  88%|████████▊ | 88/100 [07:52<01:05,  5.42s/it]"
     ]
    },
    {
     "name": "stdout",
     "output_type": "stream",
     "text": [
      "/Users/datoapanta/Desktop/mma_2024/dataset/data/gtzan/genres/rock/rock.00032.wav\n"
     ]
    },
    {
     "name": "stderr",
     "output_type": "stream",
     "text": [
      "Processing audio files:  89%|████████▉ | 89/100 [07:58<00:59,  5.39s/it]"
     ]
    },
    {
     "name": "stdout",
     "output_type": "stream",
     "text": [
      "/Users/datoapanta/Desktop/mma_2024/dataset/data/gtzan/genres/rock/rock.00026.wav\n"
     ]
    },
    {
     "name": "stderr",
     "output_type": "stream",
     "text": [
      "Processing audio files:  90%|█████████ | 90/100 [08:03<00:54,  5.42s/it]"
     ]
    },
    {
     "name": "stdout",
     "output_type": "stream",
     "text": [
      "/Users/datoapanta/Desktop/mma_2024/dataset/data/gtzan/genres/rock/rock.00022.wav\n"
     ]
    },
    {
     "name": "stderr",
     "output_type": "stream",
     "text": [
      "Processing audio files:  91%|█████████ | 91/100 [08:08<00:48,  5.38s/it]"
     ]
    },
    {
     "name": "stdout",
     "output_type": "stream",
     "text": [
      "/Users/datoapanta/Desktop/mma_2024/dataset/data/gtzan/genres/rock/rock.00036.wav\n"
     ]
    },
    {
     "name": "stderr",
     "output_type": "stream",
     "text": [
      "Processing audio files:  92%|█████████▏| 92/100 [08:14<00:43,  5.44s/it]"
     ]
    },
    {
     "name": "stdout",
     "output_type": "stream",
     "text": [
      "/Users/datoapanta/Desktop/mma_2024/dataset/data/gtzan/genres/rock/rock.00037.wav\n"
     ]
    },
    {
     "name": "stderr",
     "output_type": "stream",
     "text": [
      "Processing audio files:  93%|█████████▎| 93/100 [08:19<00:38,  5.46s/it]"
     ]
    },
    {
     "name": "stdout",
     "output_type": "stream",
     "text": [
      "/Users/datoapanta/Desktop/mma_2024/dataset/data/gtzan/genres/rock/rock.00023.wav\n"
     ]
    },
    {
     "name": "stderr",
     "output_type": "stream",
     "text": [
      "Processing audio files:  94%|█████████▍| 94/100 [08:25<00:32,  5.45s/it]"
     ]
    },
    {
     "name": "stdout",
     "output_type": "stream",
     "text": [
      "/Users/datoapanta/Desktop/mma_2024/dataset/data/gtzan/genres/rock/rock.00009.wav\n"
     ]
    },
    {
     "name": "stderr",
     "output_type": "stream",
     "text": [
      "Processing audio files:  95%|█████████▌| 95/100 [08:30<00:26,  5.38s/it]"
     ]
    },
    {
     "name": "stdout",
     "output_type": "stream",
     "text": [
      "/Users/datoapanta/Desktop/mma_2024/dataset/data/gtzan/genres/rock/rock.00035.wav\n"
     ]
    },
    {
     "name": "stderr",
     "output_type": "stream",
     "text": [
      "Processing audio files:  96%|█████████▌| 96/100 [08:36<00:21,  5.48s/it]"
     ]
    },
    {
     "name": "stdout",
     "output_type": "stream",
     "text": [
      "/Users/datoapanta/Desktop/mma_2024/dataset/data/gtzan/genres/rock/rock.00021.wav\n"
     ]
    },
    {
     "name": "stderr",
     "output_type": "stream",
     "text": [
      "Processing audio files:  97%|█████████▋| 97/100 [08:41<00:16,  5.46s/it]"
     ]
    },
    {
     "name": "stdout",
     "output_type": "stream",
     "text": [
      "/Users/datoapanta/Desktop/mma_2024/dataset/data/gtzan/genres/rock/rock.00020.wav\n"
     ]
    },
    {
     "name": "stderr",
     "output_type": "stream",
     "text": [
      "Processing audio files:  98%|█████████▊| 98/100 [08:47<00:10,  5.43s/it]"
     ]
    },
    {
     "name": "stdout",
     "output_type": "stream",
     "text": [
      "/Users/datoapanta/Desktop/mma_2024/dataset/data/gtzan/genres/rock/rock.00034.wav\n"
     ]
    },
    {
     "name": "stderr",
     "output_type": "stream",
     "text": [
      "Processing audio files:  99%|█████████▉| 99/100 [08:52<00:05,  5.43s/it]"
     ]
    },
    {
     "name": "stdout",
     "output_type": "stream",
     "text": [
      "/Users/datoapanta/Desktop/mma_2024/dataset/data/gtzan/genres/rock/rock.00008.wav\n"
     ]
    },
    {
     "name": "stderr",
     "output_type": "stream",
     "text": [
      "Processing audio files: 100%|██████████| 100/100 [08:57<00:00,  5.38s/it]\n",
      "Processing audio files:   0%|          | 0/100 [00:00<?, ?it/s]"
     ]
    },
    {
     "name": "stdout",
     "output_type": "stream",
     "text": [
      "/Users/datoapanta/Desktop/mma_2024/dataset/data/gtzan/genres/hiphop/hiphop.00022.wav\n"
     ]
    },
    {
     "name": "stderr",
     "output_type": "stream",
     "text": [
      "Processing audio files:   1%|          | 1/100 [00:05<08:27,  5.13s/it]"
     ]
    },
    {
     "name": "stdout",
     "output_type": "stream",
     "text": [
      "/Users/datoapanta/Desktop/mma_2024/dataset/data/gtzan/genres/hiphop/hiphop.00036.wav\n"
     ]
    },
    {
     "name": "stderr",
     "output_type": "stream",
     "text": [
      "Processing audio files:   2%|▏         | 2/100 [00:10<08:30,  5.20s/it]"
     ]
    },
    {
     "name": "stdout",
     "output_type": "stream",
     "text": [
      "/Users/datoapanta/Desktop/mma_2024/dataset/data/gtzan/genres/hiphop/hiphop.00037.wav\n"
     ]
    },
    {
     "name": "stderr",
     "output_type": "stream",
     "text": [
      "Processing audio files:   3%|▎         | 3/100 [00:15<08:39,  5.35s/it]"
     ]
    },
    {
     "name": "stdout",
     "output_type": "stream",
     "text": [
      "/Users/datoapanta/Desktop/mma_2024/dataset/data/gtzan/genres/hiphop/hiphop.00023.wav\n"
     ]
    },
    {
     "name": "stderr",
     "output_type": "stream",
     "text": [
      "Processing audio files:   4%|▍         | 4/100 [00:21<08:32,  5.33s/it]"
     ]
    },
    {
     "name": "stdout",
     "output_type": "stream",
     "text": [
      "/Users/datoapanta/Desktop/mma_2024/dataset/data/gtzan/genres/hiphop/hiphop.00009.wav\n"
     ]
    },
    {
     "name": "stderr",
     "output_type": "stream",
     "text": [
      "Processing audio files:   5%|▌         | 5/100 [00:27<08:48,  5.56s/it]"
     ]
    },
    {
     "name": "stdout",
     "output_type": "stream",
     "text": [
      "/Users/datoapanta/Desktop/mma_2024/dataset/data/gtzan/genres/hiphop/hiphop.00035.wav\n"
     ]
    },
    {
     "name": "stderr",
     "output_type": "stream",
     "text": [
      "Processing audio files:   6%|▌         | 6/100 [00:33<08:52,  5.66s/it]"
     ]
    },
    {
     "name": "stdout",
     "output_type": "stream",
     "text": [
      "/Users/datoapanta/Desktop/mma_2024/dataset/data/gtzan/genres/hiphop/hiphop.00021.wav\n"
     ]
    },
    {
     "name": "stderr",
     "output_type": "stream",
     "text": [
      "Processing audio files:   7%|▋         | 7/100 [00:38<08:37,  5.57s/it]"
     ]
    },
    {
     "name": "stdout",
     "output_type": "stream",
     "text": [
      "/Users/datoapanta/Desktop/mma_2024/dataset/data/gtzan/genres/hiphop/hiphop.00020.wav\n"
     ]
    },
    {
     "name": "stderr",
     "output_type": "stream",
     "text": [
      "Processing audio files:   8%|▊         | 8/100 [00:43<08:20,  5.44s/it]"
     ]
    },
    {
     "name": "stdout",
     "output_type": "stream",
     "text": [
      "/Users/datoapanta/Desktop/mma_2024/dataset/data/gtzan/genres/hiphop/hiphop.00034.wav\n"
     ]
    },
    {
     "name": "stderr",
     "output_type": "stream",
     "text": [
      "Processing audio files:   9%|▉         | 9/100 [00:48<08:06,  5.34s/it]"
     ]
    },
    {
     "name": "stdout",
     "output_type": "stream",
     "text": [
      "/Users/datoapanta/Desktop/mma_2024/dataset/data/gtzan/genres/hiphop/hiphop.00008.wav\n"
     ]
    },
    {
     "name": "stderr",
     "output_type": "stream",
     "text": [
      "Processing audio files:  10%|█         | 10/100 [00:53<07:55,  5.28s/it]"
     ]
    },
    {
     "name": "stdout",
     "output_type": "stream",
     "text": [
      "/Users/datoapanta/Desktop/mma_2024/dataset/data/gtzan/genres/hiphop/hiphop.00030.wav\n"
     ]
    },
    {
     "name": "stderr",
     "output_type": "stream",
     "text": [
      "Processing audio files:  11%|█         | 11/100 [00:59<07:52,  5.31s/it]"
     ]
    },
    {
     "name": "stdout",
     "output_type": "stream",
     "text": [
      "/Users/datoapanta/Desktop/mma_2024/dataset/data/gtzan/genres/hiphop/hiphop.00024.wav\n"
     ]
    },
    {
     "name": "stderr",
     "output_type": "stream",
     "text": [
      "Processing audio files:  12%|█▏        | 12/100 [01:04<07:51,  5.36s/it]"
     ]
    },
    {
     "name": "stdout",
     "output_type": "stream",
     "text": [
      "/Users/datoapanta/Desktop/mma_2024/dataset/data/gtzan/genres/hiphop/hiphop.00018.wav\n"
     ]
    },
    {
     "name": "stderr",
     "output_type": "stream",
     "text": [
      "Processing audio files:  13%|█▎        | 13/100 [01:10<07:46,  5.36s/it]"
     ]
    },
    {
     "name": "stdout",
     "output_type": "stream",
     "text": [
      "/Users/datoapanta/Desktop/mma_2024/dataset/data/gtzan/genres/hiphop/hiphop.00019.wav\n"
     ]
    },
    {
     "name": "stderr",
     "output_type": "stream",
     "text": [
      "Processing audio files:  14%|█▍        | 14/100 [01:15<07:41,  5.37s/it]"
     ]
    },
    {
     "name": "stdout",
     "output_type": "stream",
     "text": [
      "/Users/datoapanta/Desktop/mma_2024/dataset/data/gtzan/genres/hiphop/hiphop.00025.wav\n"
     ]
    },
    {
     "name": "stderr",
     "output_type": "stream",
     "text": [
      "Processing audio files:  15%|█▌        | 15/100 [01:21<07:42,  5.44s/it]"
     ]
    },
    {
     "name": "stdout",
     "output_type": "stream",
     "text": [
      "/Users/datoapanta/Desktop/mma_2024/dataset/data/gtzan/genres/hiphop/hiphop.00031.wav\n"
     ]
    },
    {
     "name": "stderr",
     "output_type": "stream",
     "text": [
      "Processing audio files:  16%|█▌        | 16/100 [01:26<07:35,  5.42s/it]"
     ]
    },
    {
     "name": "stdout",
     "output_type": "stream",
     "text": [
      "/Users/datoapanta/Desktop/mma_2024/dataset/data/gtzan/genres/hiphop/hiphop.00027.wav\n"
     ]
    },
    {
     "name": "stderr",
     "output_type": "stream",
     "text": [
      "Processing audio files:  17%|█▋        | 17/100 [01:31<07:26,  5.38s/it]"
     ]
    },
    {
     "name": "stdout",
     "output_type": "stream",
     "text": [
      "/Users/datoapanta/Desktop/mma_2024/dataset/data/gtzan/genres/hiphop/hiphop.00033.wav\n"
     ]
    },
    {
     "name": "stderr",
     "output_type": "stream",
     "text": [
      "Processing audio files:  18%|█▊        | 18/100 [01:37<07:21,  5.38s/it]"
     ]
    },
    {
     "name": "stdout",
     "output_type": "stream",
     "text": [
      "/Users/datoapanta/Desktop/mma_2024/dataset/data/gtzan/genres/hiphop/hiphop.00032.wav\n"
     ]
    },
    {
     "name": "stderr",
     "output_type": "stream",
     "text": [
      "Processing audio files:  19%|█▉        | 19/100 [01:42<07:13,  5.35s/it]"
     ]
    },
    {
     "name": "stdout",
     "output_type": "stream",
     "text": [
      "/Users/datoapanta/Desktop/mma_2024/dataset/data/gtzan/genres/hiphop/hiphop.00026.wav\n"
     ]
    },
    {
     "name": "stderr",
     "output_type": "stream",
     "text": [
      "Processing audio files:  20%|██        | 20/100 [01:47<07:08,  5.35s/it]"
     ]
    },
    {
     "name": "stdout",
     "output_type": "stream",
     "text": [
      "/Users/datoapanta/Desktop/mma_2024/dataset/data/gtzan/genres/hiphop/hiphop.00069.wav\n"
     ]
    },
    {
     "name": "stderr",
     "output_type": "stream",
     "text": [
      "Processing audio files:  21%|██        | 21/100 [01:52<07:00,  5.32s/it]"
     ]
    },
    {
     "name": "stdout",
     "output_type": "stream",
     "text": [
      "/Users/datoapanta/Desktop/mma_2024/dataset/data/gtzan/genres/hiphop/hiphop.00041.wav\n"
     ]
    },
    {
     "name": "stderr",
     "output_type": "stream",
     "text": [
      "Processing audio files:  22%|██▏       | 22/100 [01:58<06:58,  5.37s/it]"
     ]
    },
    {
     "name": "stdout",
     "output_type": "stream",
     "text": [
      "/Users/datoapanta/Desktop/mma_2024/dataset/data/gtzan/genres/hiphop/hiphop.00055.wav\n"
     ]
    },
    {
     "name": "stderr",
     "output_type": "stream",
     "text": [
      "Processing audio files:  23%|██▎       | 23/100 [02:03<06:56,  5.41s/it]"
     ]
    },
    {
     "name": "stdout",
     "output_type": "stream",
     "text": [
      "/Users/datoapanta/Desktop/mma_2024/dataset/data/gtzan/genres/hiphop/hiphop.00082.wav\n"
     ]
    },
    {
     "name": "stderr",
     "output_type": "stream",
     "text": [
      "Processing audio files:  24%|██▍       | 24/100 [02:09<07:02,  5.56s/it]"
     ]
    },
    {
     "name": "stdout",
     "output_type": "stream",
     "text": [
      "/Users/datoapanta/Desktop/mma_2024/dataset/data/gtzan/genres/hiphop/hiphop.00096.wav\n"
     ]
    },
    {
     "name": "stderr",
     "output_type": "stream",
     "text": [
      "Processing audio files:  25%|██▌       | 25/100 [02:15<06:52,  5.50s/it]"
     ]
    },
    {
     "name": "stdout",
     "output_type": "stream",
     "text": [
      "/Users/datoapanta/Desktop/mma_2024/dataset/data/gtzan/genres/hiphop/hiphop.00097.wav\n"
     ]
    },
    {
     "name": "stderr",
     "output_type": "stream",
     "text": [
      "Processing audio files:  26%|██▌       | 26/100 [02:20<06:48,  5.52s/it]"
     ]
    },
    {
     "name": "stdout",
     "output_type": "stream",
     "text": [
      "/Users/datoapanta/Desktop/mma_2024/dataset/data/gtzan/genres/hiphop/hiphop.00083.wav\n"
     ]
    },
    {
     "name": "stderr",
     "output_type": "stream",
     "text": [
      "Processing audio files:  27%|██▋       | 27/100 [02:26<06:42,  5.51s/it]"
     ]
    },
    {
     "name": "stdout",
     "output_type": "stream",
     "text": [
      "/Users/datoapanta/Desktop/mma_2024/dataset/data/gtzan/genres/hiphop/hiphop.00054.wav\n"
     ]
    },
    {
     "name": "stderr",
     "output_type": "stream",
     "text": [
      "Processing audio files:  28%|██▊       | 28/100 [02:31<06:27,  5.39s/it]"
     ]
    },
    {
     "name": "stdout",
     "output_type": "stream",
     "text": [
      "/Users/datoapanta/Desktop/mma_2024/dataset/data/gtzan/genres/hiphop/hiphop.00040.wav\n"
     ]
    },
    {
     "name": "stderr",
     "output_type": "stream",
     "text": [
      "Processing audio files:  29%|██▉       | 29/100 [02:36<06:20,  5.35s/it]"
     ]
    },
    {
     "name": "stdout",
     "output_type": "stream",
     "text": [
      "/Users/datoapanta/Desktop/mma_2024/dataset/data/gtzan/genres/hiphop/hiphop.00068.wav\n"
     ]
    },
    {
     "name": "stderr",
     "output_type": "stream",
     "text": [
      "Processing audio files:  30%|███       | 30/100 [02:41<06:11,  5.31s/it]"
     ]
    },
    {
     "name": "stdout",
     "output_type": "stream",
     "text": [
      "/Users/datoapanta/Desktop/mma_2024/dataset/data/gtzan/genres/hiphop/hiphop.00056.wav\n"
     ]
    },
    {
     "name": "stderr",
     "output_type": "stream",
     "text": [
      "Processing audio files:  31%|███       | 31/100 [02:46<06:02,  5.25s/it]"
     ]
    },
    {
     "name": "stdout",
     "output_type": "stream",
     "text": [
      "/Users/datoapanta/Desktop/mma_2024/dataset/data/gtzan/genres/hiphop/hiphop.00042.wav\n"
     ]
    },
    {
     "name": "stderr",
     "output_type": "stream",
     "text": [
      "Processing audio files:  32%|███▏      | 32/100 [02:52<05:55,  5.23s/it]"
     ]
    },
    {
     "name": "stdout",
     "output_type": "stream",
     "text": [
      "/Users/datoapanta/Desktop/mma_2024/dataset/data/gtzan/genres/hiphop/hiphop.00095.wav\n"
     ]
    },
    {
     "name": "stderr",
     "output_type": "stream",
     "text": [
      "Processing audio files:  33%|███▎      | 33/100 [02:57<05:47,  5.19s/it]"
     ]
    },
    {
     "name": "stdout",
     "output_type": "stream",
     "text": [
      "/Users/datoapanta/Desktop/mma_2024/dataset/data/gtzan/genres/hiphop/hiphop.00081.wav\n"
     ]
    },
    {
     "name": "stderr",
     "output_type": "stream",
     "text": [
      "Processing audio files:  34%|███▍      | 34/100 [03:02<05:44,  5.21s/it]"
     ]
    },
    {
     "name": "stdout",
     "output_type": "stream",
     "text": [
      "/Users/datoapanta/Desktop/mma_2024/dataset/data/gtzan/genres/hiphop/hiphop.00080.wav\n"
     ]
    },
    {
     "name": "stderr",
     "output_type": "stream",
     "text": [
      "Processing audio files:  35%|███▌      | 35/100 [03:08<05:48,  5.37s/it]"
     ]
    },
    {
     "name": "stdout",
     "output_type": "stream",
     "text": [
      "/Users/datoapanta/Desktop/mma_2024/dataset/data/gtzan/genres/hiphop/hiphop.00094.wav\n"
     ]
    },
    {
     "name": "stderr",
     "output_type": "stream",
     "text": [
      "Processing audio files:  36%|███▌      | 36/100 [03:13<05:38,  5.30s/it]"
     ]
    },
    {
     "name": "stdout",
     "output_type": "stream",
     "text": [
      "/Users/datoapanta/Desktop/mma_2024/dataset/data/gtzan/genres/hiphop/hiphop.00043.wav\n"
     ]
    },
    {
     "name": "stderr",
     "output_type": "stream",
     "text": [
      "Processing audio files:  37%|███▋      | 37/100 [03:18<05:31,  5.27s/it]"
     ]
    },
    {
     "name": "stdout",
     "output_type": "stream",
     "text": [
      "/Users/datoapanta/Desktop/mma_2024/dataset/data/gtzan/genres/hiphop/hiphop.00057.wav\n"
     ]
    },
    {
     "name": "stderr",
     "output_type": "stream",
     "text": [
      "Processing audio files:  38%|███▊      | 38/100 [03:23<05:29,  5.31s/it]"
     ]
    },
    {
     "name": "stdout",
     "output_type": "stream",
     "text": [
      "/Users/datoapanta/Desktop/mma_2024/dataset/data/gtzan/genres/hiphop/hiphop.00053.wav\n"
     ]
    },
    {
     "name": "stderr",
     "output_type": "stream",
     "text": [
      "Processing audio files:  39%|███▉      | 39/100 [03:29<05:20,  5.25s/it]"
     ]
    },
    {
     "name": "stdout",
     "output_type": "stream",
     "text": [
      "/Users/datoapanta/Desktop/mma_2024/dataset/data/gtzan/genres/hiphop/hiphop.00047.wav\n"
     ]
    },
    {
     "name": "stderr",
     "output_type": "stream",
     "text": [
      "Processing audio files:  40%|████      | 40/100 [03:34<05:13,  5.22s/it]"
     ]
    },
    {
     "name": "stdout",
     "output_type": "stream",
     "text": [
      "/Users/datoapanta/Desktop/mma_2024/dataset/data/gtzan/genres/hiphop/hiphop.00090.wav\n"
     ]
    },
    {
     "name": "stderr",
     "output_type": "stream",
     "text": [
      "Processing audio files:  41%|████      | 41/100 [03:39<05:06,  5.19s/it]"
     ]
    },
    {
     "name": "stdout",
     "output_type": "stream",
     "text": [
      "/Users/datoapanta/Desktop/mma_2024/dataset/data/gtzan/genres/hiphop/hiphop.00084.wav\n"
     ]
    },
    {
     "name": "stderr",
     "output_type": "stream",
     "text": [
      "Processing audio files:  42%|████▏     | 42/100 [03:44<05:01,  5.20s/it]"
     ]
    },
    {
     "name": "stdout",
     "output_type": "stream",
     "text": [
      "/Users/datoapanta/Desktop/mma_2024/dataset/data/gtzan/genres/hiphop/hiphop.00085.wav\n"
     ]
    },
    {
     "name": "stderr",
     "output_type": "stream",
     "text": [
      "Processing audio files:  43%|████▎     | 43/100 [03:49<04:55,  5.18s/it]"
     ]
    },
    {
     "name": "stdout",
     "output_type": "stream",
     "text": [
      "/Users/datoapanta/Desktop/mma_2024/dataset/data/gtzan/genres/hiphop/hiphop.00091.wav\n"
     ]
    },
    {
     "name": "stderr",
     "output_type": "stream",
     "text": [
      "Processing audio files:  44%|████▍     | 44/100 [03:54<04:49,  5.17s/it]"
     ]
    },
    {
     "name": "stdout",
     "output_type": "stream",
     "text": [
      "/Users/datoapanta/Desktop/mma_2024/dataset/data/gtzan/genres/hiphop/hiphop.00046.wav\n"
     ]
    },
    {
     "name": "stderr",
     "output_type": "stream",
     "text": [
      "Processing audio files:  45%|████▌     | 45/100 [04:00<04:56,  5.40s/it]"
     ]
    },
    {
     "name": "stdout",
     "output_type": "stream",
     "text": [
      "/Users/datoapanta/Desktop/mma_2024/dataset/data/gtzan/genres/hiphop/hiphop.00052.wav\n"
     ]
    },
    {
     "name": "stderr",
     "output_type": "stream",
     "text": [
      "Processing audio files:  46%|████▌     | 46/100 [04:06<04:57,  5.51s/it]"
     ]
    },
    {
     "name": "stdout",
     "output_type": "stream",
     "text": [
      "/Users/datoapanta/Desktop/mma_2024/dataset/data/gtzan/genres/hiphop/hiphop.00044.wav\n"
     ]
    },
    {
     "name": "stderr",
     "output_type": "stream",
     "text": [
      "Processing audio files:  47%|████▋     | 47/100 [04:13<05:11,  5.88s/it]"
     ]
    },
    {
     "name": "stdout",
     "output_type": "stream",
     "text": [
      "/Users/datoapanta/Desktop/mma_2024/dataset/data/gtzan/genres/hiphop/hiphop.00050.wav\n"
     ]
    },
    {
     "name": "stderr",
     "output_type": "stream",
     "text": [
      "Processing audio files:  48%|████▊     | 48/100 [04:18<04:55,  5.67s/it]"
     ]
    },
    {
     "name": "stdout",
     "output_type": "stream",
     "text": [
      "/Users/datoapanta/Desktop/mma_2024/dataset/data/gtzan/genres/hiphop/hiphop.00078.wav\n"
     ]
    },
    {
     "name": "stderr",
     "output_type": "stream",
     "text": [
      "Processing audio files:  49%|████▉     | 49/100 [04:23<04:41,  5.52s/it]"
     ]
    },
    {
     "name": "stdout",
     "output_type": "stream",
     "text": [
      "/Users/datoapanta/Desktop/mma_2024/dataset/data/gtzan/genres/hiphop/hiphop.00087.wav\n"
     ]
    },
    {
     "name": "stderr",
     "output_type": "stream",
     "text": [
      "Processing audio files:  50%|█████     | 50/100 [04:29<04:37,  5.55s/it]"
     ]
    },
    {
     "name": "stdout",
     "output_type": "stream",
     "text": [
      "/Users/datoapanta/Desktop/mma_2024/dataset/data/gtzan/genres/hiphop/hiphop.00093.wav\n"
     ]
    },
    {
     "name": "stderr",
     "output_type": "stream",
     "text": [
      "Processing audio files:  51%|█████     | 51/100 [04:34<04:27,  5.46s/it]"
     ]
    },
    {
     "name": "stdout",
     "output_type": "stream",
     "text": [
      "/Users/datoapanta/Desktop/mma_2024/dataset/data/gtzan/genres/hiphop/hiphop.00092.wav\n"
     ]
    },
    {
     "name": "stderr",
     "output_type": "stream",
     "text": [
      "Processing audio files:  52%|█████▏    | 52/100 [04:39<04:19,  5.41s/it]"
     ]
    },
    {
     "name": "stdout",
     "output_type": "stream",
     "text": [
      "/Users/datoapanta/Desktop/mma_2024/dataset/data/gtzan/genres/hiphop/hiphop.00086.wav\n"
     ]
    },
    {
     "name": "stderr",
     "output_type": "stream",
     "text": [
      "Processing audio files:  53%|█████▎    | 53/100 [04:45<04:11,  5.35s/it]"
     ]
    },
    {
     "name": "stdout",
     "output_type": "stream",
     "text": [
      "/Users/datoapanta/Desktop/mma_2024/dataset/data/gtzan/genres/hiphop/hiphop.00079.wav\n"
     ]
    },
    {
     "name": "stderr",
     "output_type": "stream",
     "text": [
      "Processing audio files:  54%|█████▍    | 54/100 [04:50<04:04,  5.32s/it]"
     ]
    },
    {
     "name": "stdout",
     "output_type": "stream",
     "text": [
      "/Users/datoapanta/Desktop/mma_2024/dataset/data/gtzan/genres/hiphop/hiphop.00051.wav\n"
     ]
    },
    {
     "name": "stderr",
     "output_type": "stream",
     "text": [
      "Processing audio files:  55%|█████▌    | 55/100 [04:55<03:56,  5.25s/it]"
     ]
    },
    {
     "name": "stdout",
     "output_type": "stream",
     "text": [
      "/Users/datoapanta/Desktop/mma_2024/dataset/data/gtzan/genres/hiphop/hiphop.00045.wav\n"
     ]
    },
    {
     "name": "stderr",
     "output_type": "stream",
     "text": [
      "Processing audio files:  56%|█████▌    | 56/100 [05:00<03:52,  5.29s/it]"
     ]
    },
    {
     "name": "stdout",
     "output_type": "stream",
     "text": [
      "/Users/datoapanta/Desktop/mma_2024/dataset/data/gtzan/genres/hiphop/hiphop.00048.wav\n"
     ]
    },
    {
     "name": "stderr",
     "output_type": "stream",
     "text": [
      "Processing audio files:  57%|█████▋    | 57/100 [05:06<03:49,  5.34s/it]"
     ]
    },
    {
     "name": "stdout",
     "output_type": "stream",
     "text": [
      "/Users/datoapanta/Desktop/mma_2024/dataset/data/gtzan/genres/hiphop/hiphop.00060.wav\n"
     ]
    },
    {
     "name": "stderr",
     "output_type": "stream",
     "text": [
      "Processing audio files:  58%|█████▊    | 58/100 [05:12<03:58,  5.67s/it]"
     ]
    },
    {
     "name": "stdout",
     "output_type": "stream",
     "text": [
      "/Users/datoapanta/Desktop/mma_2024/dataset/data/gtzan/genres/hiphop/hiphop.00074.wav\n"
     ]
    },
    {
     "name": "stderr",
     "output_type": "stream",
     "text": [
      "Processing audio files:  59%|█████▉    | 59/100 [05:17<03:46,  5.52s/it]"
     ]
    },
    {
     "name": "stdout",
     "output_type": "stream",
     "text": [
      "/Users/datoapanta/Desktop/mma_2024/dataset/data/gtzan/genres/hiphop/hiphop.00075.wav\n"
     ]
    },
    {
     "name": "stderr",
     "output_type": "stream",
     "text": [
      "Processing audio files:  60%|██████    | 60/100 [05:23<03:38,  5.47s/it]"
     ]
    },
    {
     "name": "stdout",
     "output_type": "stream",
     "text": [
      "/Users/datoapanta/Desktop/mma_2024/dataset/data/gtzan/genres/hiphop/hiphop.00061.wav\n"
     ]
    },
    {
     "name": "stderr",
     "output_type": "stream",
     "text": [
      "Processing audio files:  61%|██████    | 61/100 [05:28<03:34,  5.51s/it]"
     ]
    },
    {
     "name": "stdout",
     "output_type": "stream",
     "text": [
      "/Users/datoapanta/Desktop/mma_2024/dataset/data/gtzan/genres/hiphop/hiphop.00049.wav\n"
     ]
    },
    {
     "name": "stderr",
     "output_type": "stream",
     "text": [
      "Processing audio files:  62%|██████▏   | 62/100 [05:34<03:26,  5.44s/it]"
     ]
    },
    {
     "name": "stdout",
     "output_type": "stream",
     "text": [
      "/Users/datoapanta/Desktop/mma_2024/dataset/data/gtzan/genres/hiphop/hiphop.00077.wav\n"
     ]
    },
    {
     "name": "stderr",
     "output_type": "stream",
     "text": [
      "Processing audio files:  63%|██████▎   | 63/100 [05:39<03:17,  5.33s/it]"
     ]
    },
    {
     "name": "stdout",
     "output_type": "stream",
     "text": [
      "/Users/datoapanta/Desktop/mma_2024/dataset/data/gtzan/genres/hiphop/hiphop.00063.wav\n"
     ]
    },
    {
     "name": "stderr",
     "output_type": "stream",
     "text": [
      "Processing audio files:  64%|██████▍   | 64/100 [05:44<03:09,  5.27s/it]"
     ]
    },
    {
     "name": "stdout",
     "output_type": "stream",
     "text": [
      "/Users/datoapanta/Desktop/mma_2024/dataset/data/gtzan/genres/hiphop/hiphop.00088.wav\n"
     ]
    },
    {
     "name": "stderr",
     "output_type": "stream",
     "text": [
      "Processing audio files:  65%|██████▌   | 65/100 [05:49<03:03,  5.23s/it]"
     ]
    },
    {
     "name": "stdout",
     "output_type": "stream",
     "text": [
      "/Users/datoapanta/Desktop/mma_2024/dataset/data/gtzan/genres/hiphop/hiphop.00089.wav\n"
     ]
    },
    {
     "name": "stderr",
     "output_type": "stream",
     "text": [
      "Processing audio files:  66%|██████▌   | 66/100 [05:54<02:59,  5.28s/it]"
     ]
    },
    {
     "name": "stdout",
     "output_type": "stream",
     "text": [
      "/Users/datoapanta/Desktop/mma_2024/dataset/data/gtzan/genres/hiphop/hiphop.00062.wav\n"
     ]
    },
    {
     "name": "stderr",
     "output_type": "stream",
     "text": [
      "Processing audio files:  67%|██████▋   | 67/100 [05:59<02:52,  5.24s/it]"
     ]
    },
    {
     "name": "stdout",
     "output_type": "stream",
     "text": [
      "/Users/datoapanta/Desktop/mma_2024/dataset/data/gtzan/genres/hiphop/hiphop.00076.wav\n"
     ]
    },
    {
     "name": "stderr",
     "output_type": "stream",
     "text": [
      "Processing audio files:  68%|██████▊   | 68/100 [06:05<02:46,  5.19s/it]"
     ]
    },
    {
     "name": "stdout",
     "output_type": "stream",
     "text": [
      "/Users/datoapanta/Desktop/mma_2024/dataset/data/gtzan/genres/hiphop/hiphop.00072.wav\n"
     ]
    },
    {
     "name": "stderr",
     "output_type": "stream",
     "text": [
      "Processing audio files:  69%|██████▉   | 69/100 [06:10<02:40,  5.16s/it]"
     ]
    },
    {
     "name": "stdout",
     "output_type": "stream",
     "text": [
      "/Users/datoapanta/Desktop/mma_2024/dataset/data/gtzan/genres/hiphop/hiphop.00066.wav\n"
     ]
    },
    {
     "name": "stderr",
     "output_type": "stream",
     "text": [
      "Processing audio files:  70%|███████   | 70/100 [06:15<02:36,  5.21s/it]"
     ]
    },
    {
     "name": "stdout",
     "output_type": "stream",
     "text": [
      "/Users/datoapanta/Desktop/mma_2024/dataset/data/gtzan/genres/hiphop/hiphop.00099.wav\n"
     ]
    },
    {
     "name": "stderr",
     "output_type": "stream",
     "text": [
      "Processing audio files:  71%|███████   | 71/100 [06:20<02:29,  5.17s/it]"
     ]
    },
    {
     "name": "stdout",
     "output_type": "stream",
     "text": [
      "/Users/datoapanta/Desktop/mma_2024/dataset/data/gtzan/genres/hiphop/hiphop.00098.wav\n"
     ]
    },
    {
     "name": "stderr",
     "output_type": "stream",
     "text": [
      "Processing audio files:  72%|███████▏  | 72/100 [06:25<02:24,  5.16s/it]"
     ]
    },
    {
     "name": "stdout",
     "output_type": "stream",
     "text": [
      "/Users/datoapanta/Desktop/mma_2024/dataset/data/gtzan/genres/hiphop/hiphop.00067.wav\n"
     ]
    },
    {
     "name": "stderr",
     "output_type": "stream",
     "text": [
      "Processing audio files:  73%|███████▎  | 73/100 [06:30<02:19,  5.16s/it]"
     ]
    },
    {
     "name": "stdout",
     "output_type": "stream",
     "text": [
      "/Users/datoapanta/Desktop/mma_2024/dataset/data/gtzan/genres/hiphop/hiphop.00073.wav\n"
     ]
    },
    {
     "name": "stderr",
     "output_type": "stream",
     "text": [
      "Processing audio files:  74%|███████▍  | 74/100 [06:36<02:15,  5.20s/it]"
     ]
    },
    {
     "name": "stdout",
     "output_type": "stream",
     "text": [
      "/Users/datoapanta/Desktop/mma_2024/dataset/data/gtzan/genres/hiphop/hiphop.00065.wav\n"
     ]
    },
    {
     "name": "stderr",
     "output_type": "stream",
     "text": [
      "Processing audio files:  75%|███████▌  | 75/100 [06:41<02:09,  5.17s/it]"
     ]
    },
    {
     "name": "stdout",
     "output_type": "stream",
     "text": [
      "/Users/datoapanta/Desktop/mma_2024/dataset/data/gtzan/genres/hiphop/hiphop.00071.wav\n"
     ]
    },
    {
     "name": "stderr",
     "output_type": "stream",
     "text": [
      "Processing audio files:  76%|███████▌  | 76/100 [06:46<02:03,  5.15s/it]"
     ]
    },
    {
     "name": "stdout",
     "output_type": "stream",
     "text": [
      "/Users/datoapanta/Desktop/mma_2024/dataset/data/gtzan/genres/hiphop/hiphop.00059.wav\n"
     ]
    },
    {
     "name": "stderr",
     "output_type": "stream",
     "text": [
      "Processing audio files:  77%|███████▋  | 77/100 [06:51<01:58,  5.14s/it]"
     ]
    },
    {
     "name": "stdout",
     "output_type": "stream",
     "text": [
      "/Users/datoapanta/Desktop/mma_2024/dataset/data/gtzan/genres/hiphop/hiphop.00058.wav\n"
     ]
    },
    {
     "name": "stderr",
     "output_type": "stream",
     "text": [
      "Processing audio files:  78%|███████▊  | 78/100 [06:56<01:54,  5.20s/it]"
     ]
    },
    {
     "name": "stdout",
     "output_type": "stream",
     "text": [
      "/Users/datoapanta/Desktop/mma_2024/dataset/data/gtzan/genres/hiphop/hiphop.00070.wav\n"
     ]
    },
    {
     "name": "stderr",
     "output_type": "stream",
     "text": [
      "Processing audio files:  79%|███████▉  | 79/100 [07:01<01:48,  5.18s/it]"
     ]
    },
    {
     "name": "stdout",
     "output_type": "stream",
     "text": [
      "/Users/datoapanta/Desktop/mma_2024/dataset/data/gtzan/genres/hiphop/hiphop.00064.wav\n"
     ]
    },
    {
     "name": "stderr",
     "output_type": "stream",
     "text": [
      "Processing audio files:  80%|████████  | 80/100 [07:06<01:43,  5.16s/it]"
     ]
    },
    {
     "name": "stdout",
     "output_type": "stream",
     "text": [
      "/Users/datoapanta/Desktop/mma_2024/dataset/data/gtzan/genres/hiphop/hiphop.00003.wav\n"
     ]
    },
    {
     "name": "stderr",
     "output_type": "stream",
     "text": [
      "Processing audio files:  81%|████████  | 81/100 [07:12<01:37,  5.14s/it]"
     ]
    },
    {
     "name": "stdout",
     "output_type": "stream",
     "text": [
      "/Users/datoapanta/Desktop/mma_2024/dataset/data/gtzan/genres/hiphop/hiphop.00017.wav\n"
     ]
    },
    {
     "name": "stderr",
     "output_type": "stream",
     "text": [
      "Processing audio files:  82%|████████▏ | 82/100 [07:17<01:33,  5.17s/it]"
     ]
    },
    {
     "name": "stdout",
     "output_type": "stream",
     "text": [
      "/Users/datoapanta/Desktop/mma_2024/dataset/data/gtzan/genres/hiphop/hiphop.00016.wav\n"
     ]
    },
    {
     "name": "stderr",
     "output_type": "stream",
     "text": [
      "Processing audio files:  83%|████████▎ | 83/100 [07:22<01:27,  5.16s/it]"
     ]
    },
    {
     "name": "stdout",
     "output_type": "stream",
     "text": [
      "/Users/datoapanta/Desktop/mma_2024/dataset/data/gtzan/genres/hiphop/hiphop.00002.wav\n"
     ]
    },
    {
     "name": "stderr",
     "output_type": "stream",
     "text": [
      "Processing audio files:  84%|████████▍ | 84/100 [07:27<01:23,  5.25s/it]"
     ]
    },
    {
     "name": "stdout",
     "output_type": "stream",
     "text": [
      "/Users/datoapanta/Desktop/mma_2024/dataset/data/gtzan/genres/hiphop/hiphop.00028.wav\n"
     ]
    },
    {
     "name": "stderr",
     "output_type": "stream",
     "text": [
      "Processing audio files:  85%|████████▌ | 85/100 [07:33<01:19,  5.33s/it]"
     ]
    },
    {
     "name": "stdout",
     "output_type": "stream",
     "text": [
      "/Users/datoapanta/Desktop/mma_2024/dataset/data/gtzan/genres/hiphop/hiphop.00014.wav\n"
     ]
    },
    {
     "name": "stderr",
     "output_type": "stream",
     "text": [
      "Processing audio files:  86%|████████▌ | 86/100 [07:39<01:15,  5.41s/it]"
     ]
    },
    {
     "name": "stdout",
     "output_type": "stream",
     "text": [
      "/Users/datoapanta/Desktop/mma_2024/dataset/data/gtzan/genres/hiphop/hiphop.00000.wav\n"
     ]
    },
    {
     "name": "stderr",
     "output_type": "stream",
     "text": [
      "Processing audio files:  87%|████████▋ | 87/100 [07:44<01:10,  5.44s/it]"
     ]
    },
    {
     "name": "stdout",
     "output_type": "stream",
     "text": [
      "/Users/datoapanta/Desktop/mma_2024/dataset/data/gtzan/genres/hiphop/hiphop.00001.wav\n"
     ]
    },
    {
     "name": "stderr",
     "output_type": "stream",
     "text": [
      "Processing audio files:  88%|████████▊ | 88/100 [07:49<01:05,  5.42s/it]"
     ]
    },
    {
     "name": "stdout",
     "output_type": "stream",
     "text": [
      "/Users/datoapanta/Desktop/mma_2024/dataset/data/gtzan/genres/hiphop/hiphop.00015.wav\n"
     ]
    },
    {
     "name": "stderr",
     "output_type": "stream",
     "text": [
      "Processing audio files:  89%|████████▉ | 89/100 [07:55<00:59,  5.43s/it]"
     ]
    },
    {
     "name": "stdout",
     "output_type": "stream",
     "text": [
      "/Users/datoapanta/Desktop/mma_2024/dataset/data/gtzan/genres/hiphop/hiphop.00029.wav\n"
     ]
    },
    {
     "name": "stderr",
     "output_type": "stream",
     "text": [
      "Processing audio files:  90%|█████████ | 90/100 [08:00<00:53,  5.37s/it]"
     ]
    },
    {
     "name": "stdout",
     "output_type": "stream",
     "text": [
      "/Users/datoapanta/Desktop/mma_2024/dataset/data/gtzan/genres/hiphop/hiphop.00011.wav\n"
     ]
    },
    {
     "name": "stderr",
     "output_type": "stream",
     "text": [
      "Processing audio files:  91%|█████████ | 91/100 [08:06<00:48,  5.40s/it]"
     ]
    },
    {
     "name": "stdout",
     "output_type": "stream",
     "text": [
      "/Users/datoapanta/Desktop/mma_2024/dataset/data/gtzan/genres/hiphop/hiphop.00005.wav\n"
     ]
    },
    {
     "name": "stderr",
     "output_type": "stream",
     "text": [
      "Processing audio files:  92%|█████████▏| 92/100 [08:11<00:43,  5.42s/it]"
     ]
    },
    {
     "name": "stdout",
     "output_type": "stream",
     "text": [
      "/Users/datoapanta/Desktop/mma_2024/dataset/data/gtzan/genres/hiphop/hiphop.00039.wav\n"
     ]
    },
    {
     "name": "stderr",
     "output_type": "stream",
     "text": [
      "Processing audio files:  93%|█████████▎| 93/100 [08:17<00:39,  5.59s/it]"
     ]
    },
    {
     "name": "stdout",
     "output_type": "stream",
     "text": [
      "/Users/datoapanta/Desktop/mma_2024/dataset/data/gtzan/genres/hiphop/hiphop.00038.wav\n"
     ]
    },
    {
     "name": "stderr",
     "output_type": "stream",
     "text": [
      "Processing audio files:  94%|█████████▍| 94/100 [08:23<00:33,  5.60s/it]"
     ]
    },
    {
     "name": "stdout",
     "output_type": "stream",
     "text": [
      "/Users/datoapanta/Desktop/mma_2024/dataset/data/gtzan/genres/hiphop/hiphop.00004.wav\n"
     ]
    },
    {
     "name": "stderr",
     "output_type": "stream",
     "text": [
      "Processing audio files:  95%|█████████▌| 95/100 [08:28<00:27,  5.55s/it]"
     ]
    },
    {
     "name": "stdout",
     "output_type": "stream",
     "text": [
      "/Users/datoapanta/Desktop/mma_2024/dataset/data/gtzan/genres/hiphop/hiphop.00010.wav\n"
     ]
    },
    {
     "name": "stderr",
     "output_type": "stream",
     "text": [
      "Processing audio files:  96%|█████████▌| 96/100 [08:33<00:21,  5.47s/it]"
     ]
    },
    {
     "name": "stdout",
     "output_type": "stream",
     "text": [
      "/Users/datoapanta/Desktop/mma_2024/dataset/data/gtzan/genres/hiphop/hiphop.00006.wav\n"
     ]
    },
    {
     "name": "stderr",
     "output_type": "stream",
     "text": [
      "Processing audio files:  97%|█████████▋| 97/100 [08:39<00:16,  5.49s/it]"
     ]
    },
    {
     "name": "stdout",
     "output_type": "stream",
     "text": [
      "/Users/datoapanta/Desktop/mma_2024/dataset/data/gtzan/genres/hiphop/hiphop.00012.wav\n"
     ]
    },
    {
     "name": "stderr",
     "output_type": "stream",
     "text": [
      "Processing audio files:  98%|█████████▊| 98/100 [08:44<00:10,  5.48s/it]"
     ]
    },
    {
     "name": "stdout",
     "output_type": "stream",
     "text": [
      "/Users/datoapanta/Desktop/mma_2024/dataset/data/gtzan/genres/hiphop/hiphop.00013.wav\n"
     ]
    },
    {
     "name": "stderr",
     "output_type": "stream",
     "text": [
      "Processing audio files:  99%|█████████▉| 99/100 [08:50<00:05,  5.39s/it]"
     ]
    },
    {
     "name": "stdout",
     "output_type": "stream",
     "text": [
      "/Users/datoapanta/Desktop/mma_2024/dataset/data/gtzan/genres/hiphop/hiphop.00007.wav\n"
     ]
    },
    {
     "name": "stderr",
     "output_type": "stream",
     "text": [
      "Processing audio files: 100%|██████████| 100/100 [08:55<00:00,  5.35s/it]\n",
      "Processing audio files:   0%|          | 0/100 [00:00<?, ?it/s]"
     ]
    },
    {
     "name": "stdout",
     "output_type": "stream",
     "text": [
      "/Users/datoapanta/Desktop/mma_2024/dataset/data/gtzan/genres/country/country.00088.wav\n"
     ]
    },
    {
     "name": "stderr",
     "output_type": "stream",
     "text": [
      "Processing audio files:   1%|          | 1/100 [00:05<08:43,  5.29s/it]"
     ]
    },
    {
     "name": "stdout",
     "output_type": "stream",
     "text": [
      "/Users/datoapanta/Desktop/mma_2024/dataset/data/gtzan/genres/country/country.00063.wav\n"
     ]
    },
    {
     "name": "stderr",
     "output_type": "stream",
     "text": [
      "Processing audio files:   2%|▏         | 2/100 [00:10<08:41,  5.32s/it]"
     ]
    },
    {
     "name": "stdout",
     "output_type": "stream",
     "text": [
      "/Users/datoapanta/Desktop/mma_2024/dataset/data/gtzan/genres/country/country.00077.wav\n"
     ]
    },
    {
     "name": "stderr",
     "output_type": "stream",
     "text": [
      "Processing audio files:   3%|▎         | 3/100 [00:16<08:43,  5.39s/it]"
     ]
    },
    {
     "name": "stdout",
     "output_type": "stream",
     "text": [
      "/Users/datoapanta/Desktop/mma_2024/dataset/data/gtzan/genres/country/country.00076.wav\n"
     ]
    },
    {
     "name": "stderr",
     "output_type": "stream",
     "text": [
      "Processing audio files:   4%|▍         | 4/100 [00:21<08:33,  5.35s/it]"
     ]
    },
    {
     "name": "stdout",
     "output_type": "stream",
     "text": [
      "/Users/datoapanta/Desktop/mma_2024/dataset/data/gtzan/genres/country/country.00062.wav\n"
     ]
    },
    {
     "name": "stderr",
     "output_type": "stream",
     "text": [
      "Processing audio files:   5%|▌         | 5/100 [00:26<08:28,  5.35s/it]"
     ]
    },
    {
     "name": "stdout",
     "output_type": "stream",
     "text": [
      "/Users/datoapanta/Desktop/mma_2024/dataset/data/gtzan/genres/country/country.00089.wav\n"
     ]
    },
    {
     "name": "stderr",
     "output_type": "stream",
     "text": [
      "Processing audio files:   6%|▌         | 6/100 [00:32<08:23,  5.35s/it]"
     ]
    },
    {
     "name": "stdout",
     "output_type": "stream",
     "text": [
      "/Users/datoapanta/Desktop/mma_2024/dataset/data/gtzan/genres/country/country.00048.wav\n"
     ]
    },
    {
     "name": "stderr",
     "output_type": "stream",
     "text": [
      "Processing audio files:   7%|▋         | 7/100 [00:37<08:14,  5.32s/it]"
     ]
    },
    {
     "name": "stdout",
     "output_type": "stream",
     "text": [
      "/Users/datoapanta/Desktop/mma_2024/dataset/data/gtzan/genres/country/country.00074.wav\n"
     ]
    },
    {
     "name": "stderr",
     "output_type": "stream",
     "text": [
      "Processing audio files:   8%|▊         | 8/100 [00:42<08:07,  5.30s/it]"
     ]
    },
    {
     "name": "stdout",
     "output_type": "stream",
     "text": [
      "/Users/datoapanta/Desktop/mma_2024/dataset/data/gtzan/genres/country/country.00060.wav\n"
     ]
    },
    {
     "name": "stderr",
     "output_type": "stream",
     "text": [
      "Processing audio files:   9%|▉         | 9/100 [00:47<07:59,  5.27s/it]"
     ]
    },
    {
     "name": "stdout",
     "output_type": "stream",
     "text": [
      "/Users/datoapanta/Desktop/mma_2024/dataset/data/gtzan/genres/country/country.00061.wav\n"
     ]
    },
    {
     "name": "stderr",
     "output_type": "stream",
     "text": [
      "Processing audio files:  10%|█         | 10/100 [00:53<07:56,  5.30s/it]"
     ]
    },
    {
     "name": "stdout",
     "output_type": "stream",
     "text": [
      "/Users/datoapanta/Desktop/mma_2024/dataset/data/gtzan/genres/country/country.00075.wav\n"
     ]
    },
    {
     "name": "stderr",
     "output_type": "stream",
     "text": [
      "Processing audio files:  11%|█         | 11/100 [00:58<07:50,  5.29s/it]"
     ]
    },
    {
     "name": "stdout",
     "output_type": "stream",
     "text": [
      "/Users/datoapanta/Desktop/mma_2024/dataset/data/gtzan/genres/country/country.00049.wav\n"
     ]
    },
    {
     "name": "stderr",
     "output_type": "stream",
     "text": [
      "Processing audio files:  12%|█▏        | 12/100 [01:03<07:45,  5.29s/it]"
     ]
    },
    {
     "name": "stdout",
     "output_type": "stream",
     "text": [
      "/Users/datoapanta/Desktop/mma_2024/dataset/data/gtzan/genres/country/country.00071.wav\n"
     ]
    },
    {
     "name": "stderr",
     "output_type": "stream",
     "text": [
      "Processing audio files:  13%|█▎        | 13/100 [01:09<07:41,  5.30s/it]"
     ]
    },
    {
     "name": "stdout",
     "output_type": "stream",
     "text": [
      "/Users/datoapanta/Desktop/mma_2024/dataset/data/gtzan/genres/country/country.00065.wav\n"
     ]
    },
    {
     "name": "stderr",
     "output_type": "stream",
     "text": [
      "Processing audio files:  14%|█▍        | 14/100 [01:14<07:45,  5.41s/it]"
     ]
    },
    {
     "name": "stdout",
     "output_type": "stream",
     "text": [
      "/Users/datoapanta/Desktop/mma_2024/dataset/data/gtzan/genres/country/country.00059.wav\n"
     ]
    },
    {
     "name": "stderr",
     "output_type": "stream",
     "text": [
      "Processing audio files:  15%|█▌        | 15/100 [01:20<07:41,  5.43s/it]"
     ]
    },
    {
     "name": "stdout",
     "output_type": "stream",
     "text": [
      "/Users/datoapanta/Desktop/mma_2024/dataset/data/gtzan/genres/country/country.00058.wav\n"
     ]
    },
    {
     "name": "stderr",
     "output_type": "stream",
     "text": [
      "Processing audio files:  16%|█▌        | 16/100 [01:25<07:32,  5.39s/it]"
     ]
    },
    {
     "name": "stdout",
     "output_type": "stream",
     "text": [
      "/Users/datoapanta/Desktop/mma_2024/dataset/data/gtzan/genres/country/country.00064.wav\n"
     ]
    },
    {
     "name": "stderr",
     "output_type": "stream",
     "text": [
      "Processing audio files:  17%|█▋        | 17/100 [01:30<07:24,  5.36s/it]"
     ]
    },
    {
     "name": "stdout",
     "output_type": "stream",
     "text": [
      "/Users/datoapanta/Desktop/mma_2024/dataset/data/gtzan/genres/country/country.00070.wav\n"
     ]
    },
    {
     "name": "stderr",
     "output_type": "stream",
     "text": [
      "Processing audio files:  18%|█▊        | 18/100 [01:36<07:19,  5.37s/it]"
     ]
    },
    {
     "name": "stdout",
     "output_type": "stream",
     "text": [
      "/Users/datoapanta/Desktop/mma_2024/dataset/data/gtzan/genres/country/country.00099.wav\n"
     ]
    },
    {
     "name": "stderr",
     "output_type": "stream",
     "text": [
      "Processing audio files:  19%|█▉        | 19/100 [01:41<07:12,  5.34s/it]"
     ]
    },
    {
     "name": "stdout",
     "output_type": "stream",
     "text": [
      "/Users/datoapanta/Desktop/mma_2024/dataset/data/gtzan/genres/country/country.00066.wav\n"
     ]
    },
    {
     "name": "stderr",
     "output_type": "stream",
     "text": [
      "Processing audio files:  20%|██        | 20/100 [01:46<07:07,  5.34s/it]"
     ]
    },
    {
     "name": "stdout",
     "output_type": "stream",
     "text": [
      "/Users/datoapanta/Desktop/mma_2024/dataset/data/gtzan/genres/country/country.00072.wav\n"
     ]
    },
    {
     "name": "stderr",
     "output_type": "stream",
     "text": [
      "Processing audio files:  21%|██        | 21/100 [01:51<06:58,  5.30s/it]"
     ]
    },
    {
     "name": "stdout",
     "output_type": "stream",
     "text": [
      "/Users/datoapanta/Desktop/mma_2024/dataset/data/gtzan/genres/country/country.00073.wav\n"
     ]
    },
    {
     "name": "stderr",
     "output_type": "stream",
     "text": [
      "Processing audio files:  22%|██▏       | 22/100 [01:57<06:54,  5.31s/it]"
     ]
    },
    {
     "name": "stdout",
     "output_type": "stream",
     "text": [
      "/Users/datoapanta/Desktop/mma_2024/dataset/data/gtzan/genres/country/country.00067.wav\n"
     ]
    },
    {
     "name": "stderr",
     "output_type": "stream",
     "text": [
      "Processing audio files:  23%|██▎       | 23/100 [02:02<06:49,  5.32s/it]"
     ]
    },
    {
     "name": "stdout",
     "output_type": "stream",
     "text": [
      "/Users/datoapanta/Desktop/mma_2024/dataset/data/gtzan/genres/country/country.00098.wav\n"
     ]
    },
    {
     "name": "stderr",
     "output_type": "stream",
     "text": [
      "Processing audio files:  24%|██▍       | 24/100 [02:08<06:45,  5.34s/it]"
     ]
    },
    {
     "name": "stdout",
     "output_type": "stream",
     "text": [
      "/Users/datoapanta/Desktop/mma_2024/dataset/data/gtzan/genres/country/country.00028.wav\n"
     ]
    },
    {
     "name": "stderr",
     "output_type": "stream",
     "text": [
      "Processing audio files:  25%|██▌       | 25/100 [02:13<06:37,  5.30s/it]"
     ]
    },
    {
     "name": "stdout",
     "output_type": "stream",
     "text": [
      "/Users/datoapanta/Desktop/mma_2024/dataset/data/gtzan/genres/country/country.00000.wav\n"
     ]
    },
    {
     "name": "stderr",
     "output_type": "stream",
     "text": [
      "Processing audio files:  26%|██▌       | 26/100 [02:18<06:35,  5.34s/it]"
     ]
    },
    {
     "name": "stdout",
     "output_type": "stream",
     "text": [
      "/Users/datoapanta/Desktop/mma_2024/dataset/data/gtzan/genres/country/country.00014.wav\n"
     ]
    },
    {
     "name": "stderr",
     "output_type": "stream",
     "text": [
      "Processing audio files:  27%|██▋       | 27/100 [02:23<06:27,  5.31s/it]"
     ]
    },
    {
     "name": "stdout",
     "output_type": "stream",
     "text": [
      "/Users/datoapanta/Desktop/mma_2024/dataset/data/gtzan/genres/country/country.00015.wav\n"
     ]
    },
    {
     "name": "stderr",
     "output_type": "stream",
     "text": [
      "Processing audio files:  28%|██▊       | 28/100 [02:29<06:20,  5.29s/it]"
     ]
    },
    {
     "name": "stdout",
     "output_type": "stream",
     "text": [
      "/Users/datoapanta/Desktop/mma_2024/dataset/data/gtzan/genres/country/country.00001.wav\n"
     ]
    },
    {
     "name": "stderr",
     "output_type": "stream",
     "text": [
      "Processing audio files:  29%|██▉       | 29/100 [02:34<06:13,  5.25s/it]"
     ]
    },
    {
     "name": "stdout",
     "output_type": "stream",
     "text": [
      "/Users/datoapanta/Desktop/mma_2024/dataset/data/gtzan/genres/country/country.00029.wav\n"
     ]
    },
    {
     "name": "stderr",
     "output_type": "stream",
     "text": [
      "Processing audio files:  30%|███       | 30/100 [02:39<06:11,  5.30s/it]"
     ]
    },
    {
     "name": "stdout",
     "output_type": "stream",
     "text": [
      "/Users/datoapanta/Desktop/mma_2024/dataset/data/gtzan/genres/country/country.00017.wav\n"
     ]
    },
    {
     "name": "stderr",
     "output_type": "stream",
     "text": [
      "Processing audio files:  31%|███       | 31/100 [02:45<06:06,  5.30s/it]"
     ]
    },
    {
     "name": "stdout",
     "output_type": "stream",
     "text": [
      "/Users/datoapanta/Desktop/mma_2024/dataset/data/gtzan/genres/country/country.00003.wav\n"
     ]
    },
    {
     "name": "stderr",
     "output_type": "stream",
     "text": [
      "Processing audio files:  32%|███▏      | 32/100 [02:50<06:03,  5.35s/it]"
     ]
    },
    {
     "name": "stdout",
     "output_type": "stream",
     "text": [
      "/Users/datoapanta/Desktop/mma_2024/dataset/data/gtzan/genres/country/country.00002.wav\n"
     ]
    },
    {
     "name": "stderr",
     "output_type": "stream",
     "text": [
      "Processing audio files:  33%|███▎      | 33/100 [02:55<05:58,  5.35s/it]"
     ]
    },
    {
     "name": "stdout",
     "output_type": "stream",
     "text": [
      "/Users/datoapanta/Desktop/mma_2024/dataset/data/gtzan/genres/country/country.00016.wav\n"
     ]
    },
    {
     "name": "stderr",
     "output_type": "stream",
     "text": [
      "Processing audio files:  34%|███▍      | 34/100 [03:01<05:54,  5.37s/it]"
     ]
    },
    {
     "name": "stdout",
     "output_type": "stream",
     "text": [
      "/Users/datoapanta/Desktop/mma_2024/dataset/data/gtzan/genres/country/country.00012.wav\n"
     ]
    },
    {
     "name": "stderr",
     "output_type": "stream",
     "text": [
      "Processing audio files:  35%|███▌      | 35/100 [03:06<05:43,  5.29s/it]"
     ]
    },
    {
     "name": "stdout",
     "output_type": "stream",
     "text": [
      "/Users/datoapanta/Desktop/mma_2024/dataset/data/gtzan/genres/country/country.00006.wav\n"
     ]
    },
    {
     "name": "stderr",
     "output_type": "stream",
     "text": [
      "Processing audio files:  36%|███▌      | 36/100 [03:11<05:36,  5.26s/it]"
     ]
    },
    {
     "name": "stdout",
     "output_type": "stream",
     "text": [
      "/Users/datoapanta/Desktop/mma_2024/dataset/data/gtzan/genres/country/country.00007.wav\n"
     ]
    },
    {
     "name": "stderr",
     "output_type": "stream",
     "text": [
      "Processing audio files:  37%|███▋      | 37/100 [03:16<05:29,  5.24s/it]"
     ]
    },
    {
     "name": "stdout",
     "output_type": "stream",
     "text": [
      "/Users/datoapanta/Desktop/mma_2024/dataset/data/gtzan/genres/country/country.00013.wav\n"
     ]
    },
    {
     "name": "stderr",
     "output_type": "stream",
     "text": [
      "Processing audio files:  38%|███▊      | 38/100 [03:22<05:27,  5.29s/it]"
     ]
    },
    {
     "name": "stdout",
     "output_type": "stream",
     "text": [
      "/Users/datoapanta/Desktop/mma_2024/dataset/data/gtzan/genres/country/country.00005.wav\n"
     ]
    },
    {
     "name": "stderr",
     "output_type": "stream",
     "text": [
      "Processing audio files:  39%|███▉      | 39/100 [03:27<05:24,  5.32s/it]"
     ]
    },
    {
     "name": "stdout",
     "output_type": "stream",
     "text": [
      "/Users/datoapanta/Desktop/mma_2024/dataset/data/gtzan/genres/country/country.00011.wav\n"
     ]
    },
    {
     "name": "stderr",
     "output_type": "stream",
     "text": [
      "Processing audio files:  40%|████      | 40/100 [03:32<05:17,  5.29s/it]"
     ]
    },
    {
     "name": "stdout",
     "output_type": "stream",
     "text": [
      "/Users/datoapanta/Desktop/mma_2024/dataset/data/gtzan/genres/country/country.00039.wav\n"
     ]
    },
    {
     "name": "stderr",
     "output_type": "stream",
     "text": [
      "Processing audio files:  41%|████      | 41/100 [03:38<05:13,  5.32s/it]"
     ]
    },
    {
     "name": "stdout",
     "output_type": "stream",
     "text": [
      "/Users/datoapanta/Desktop/mma_2024/dataset/data/gtzan/genres/country/country.00038.wav\n"
     ]
    },
    {
     "name": "stderr",
     "output_type": "stream",
     "text": [
      "Processing audio files:  42%|████▏     | 42/100 [03:43<05:09,  5.34s/it]"
     ]
    },
    {
     "name": "stdout",
     "output_type": "stream",
     "text": [
      "/Users/datoapanta/Desktop/mma_2024/dataset/data/gtzan/genres/country/country.00010.wav\n"
     ]
    },
    {
     "name": "stderr",
     "output_type": "stream",
     "text": [
      "Processing audio files:  43%|████▎     | 43/100 [03:49<05:09,  5.43s/it]"
     ]
    },
    {
     "name": "stdout",
     "output_type": "stream",
     "text": [
      "/Users/datoapanta/Desktop/mma_2024/dataset/data/gtzan/genres/country/country.00004.wav\n"
     ]
    },
    {
     "name": "stderr",
     "output_type": "stream",
     "text": [
      "Processing audio files:  44%|████▍     | 44/100 [03:54<04:59,  5.34s/it]"
     ]
    },
    {
     "name": "stdout",
     "output_type": "stream",
     "text": [
      "/Users/datoapanta/Desktop/mma_2024/dataset/data/gtzan/genres/country/country.00009.wav\n"
     ]
    },
    {
     "name": "stderr",
     "output_type": "stream",
     "text": [
      "Processing audio files:  45%|████▌     | 45/100 [03:59<04:53,  5.33s/it]"
     ]
    },
    {
     "name": "stdout",
     "output_type": "stream",
     "text": [
      "/Users/datoapanta/Desktop/mma_2024/dataset/data/gtzan/genres/country/country.00021.wav\n"
     ]
    },
    {
     "name": "stderr",
     "output_type": "stream",
     "text": [
      "Processing audio files:  46%|████▌     | 46/100 [04:05<04:49,  5.36s/it]"
     ]
    },
    {
     "name": "stdout",
     "output_type": "stream",
     "text": [
      "/Users/datoapanta/Desktop/mma_2024/dataset/data/gtzan/genres/country/country.00035.wav\n"
     ]
    },
    {
     "name": "stderr",
     "output_type": "stream",
     "text": [
      "Processing audio files:  47%|████▋     | 47/100 [04:10<04:44,  5.37s/it]"
     ]
    },
    {
     "name": "stdout",
     "output_type": "stream",
     "text": [
      "/Users/datoapanta/Desktop/mma_2024/dataset/data/gtzan/genres/country/country.00034.wav\n"
     ]
    },
    {
     "name": "stderr",
     "output_type": "stream",
     "text": [
      "Processing audio files:  48%|████▊     | 48/100 [04:15<04:37,  5.34s/it]"
     ]
    },
    {
     "name": "stdout",
     "output_type": "stream",
     "text": [
      "/Users/datoapanta/Desktop/mma_2024/dataset/data/gtzan/genres/country/country.00020.wav\n"
     ]
    },
    {
     "name": "stderr",
     "output_type": "stream",
     "text": [
      "Processing audio files:  49%|████▉     | 49/100 [04:21<04:33,  5.37s/it]"
     ]
    },
    {
     "name": "stdout",
     "output_type": "stream",
     "text": [
      "/Users/datoapanta/Desktop/mma_2024/dataset/data/gtzan/genres/country/country.00008.wav\n"
     ]
    },
    {
     "name": "stderr",
     "output_type": "stream",
     "text": [
      "Processing audio files:  50%|█████     | 50/100 [04:26<04:30,  5.41s/it]"
     ]
    },
    {
     "name": "stdout",
     "output_type": "stream",
     "text": [
      "/Users/datoapanta/Desktop/mma_2024/dataset/data/gtzan/genres/country/country.00036.wav\n"
     ]
    },
    {
     "name": "stderr",
     "output_type": "stream",
     "text": [
      "Processing audio files:  51%|█████     | 51/100 [04:32<04:29,  5.49s/it]"
     ]
    },
    {
     "name": "stdout",
     "output_type": "stream",
     "text": [
      "/Users/datoapanta/Desktop/mma_2024/dataset/data/gtzan/genres/country/country.00022.wav\n"
     ]
    },
    {
     "name": "stderr",
     "output_type": "stream",
     "text": [
      "Processing audio files:  52%|█████▏    | 52/100 [04:37<04:24,  5.51s/it]"
     ]
    },
    {
     "name": "stdout",
     "output_type": "stream",
     "text": [
      "/Users/datoapanta/Desktop/mma_2024/dataset/data/gtzan/genres/country/country.00023.wav\n"
     ]
    },
    {
     "name": "stderr",
     "output_type": "stream",
     "text": [
      "Processing audio files:  53%|█████▎    | 53/100 [04:43<04:16,  5.47s/it]"
     ]
    },
    {
     "name": "stdout",
     "output_type": "stream",
     "text": [
      "/Users/datoapanta/Desktop/mma_2024/dataset/data/gtzan/genres/country/country.00037.wav\n"
     ]
    },
    {
     "name": "stderr",
     "output_type": "stream",
     "text": [
      "Processing audio files:  54%|█████▍    | 54/100 [04:48<04:07,  5.38s/it]"
     ]
    },
    {
     "name": "stdout",
     "output_type": "stream",
     "text": [
      "/Users/datoapanta/Desktop/mma_2024/dataset/data/gtzan/genres/country/country.00033.wav\n"
     ]
    },
    {
     "name": "stderr",
     "output_type": "stream",
     "text": [
      "Processing audio files:  55%|█████▌    | 55/100 [04:53<04:02,  5.38s/it]"
     ]
    },
    {
     "name": "stdout",
     "output_type": "stream",
     "text": [
      "/Users/datoapanta/Desktop/mma_2024/dataset/data/gtzan/genres/country/country.00027.wav\n"
     ]
    },
    {
     "name": "stderr",
     "output_type": "stream",
     "text": [
      "Processing audio files:  56%|█████▌    | 56/100 [04:59<04:01,  5.48s/it]"
     ]
    },
    {
     "name": "stdout",
     "output_type": "stream",
     "text": [
      "/Users/datoapanta/Desktop/mma_2024/dataset/data/gtzan/genres/country/country.00026.wav\n"
     ]
    },
    {
     "name": "stderr",
     "output_type": "stream",
     "text": [
      "Processing audio files:  57%|█████▋    | 57/100 [05:04<03:51,  5.39s/it]"
     ]
    },
    {
     "name": "stdout",
     "output_type": "stream",
     "text": [
      "/Users/datoapanta/Desktop/mma_2024/dataset/data/gtzan/genres/country/country.00032.wav\n"
     ]
    },
    {
     "name": "stderr",
     "output_type": "stream",
     "text": [
      "Processing audio files:  58%|█████▊    | 58/100 [05:09<03:43,  5.32s/it]"
     ]
    },
    {
     "name": "stdout",
     "output_type": "stream",
     "text": [
      "/Users/datoapanta/Desktop/mma_2024/dataset/data/gtzan/genres/country/country.00024.wav\n"
     ]
    },
    {
     "name": "stderr",
     "output_type": "stream",
     "text": [
      "Processing audio files:  59%|█████▉    | 59/100 [05:15<03:45,  5.50s/it]"
     ]
    },
    {
     "name": "stdout",
     "output_type": "stream",
     "text": [
      "/Users/datoapanta/Desktop/mma_2024/dataset/data/gtzan/genres/country/country.00030.wav\n"
     ]
    },
    {
     "name": "stderr",
     "output_type": "stream",
     "text": [
      "Processing audio files:  60%|██████    | 60/100 [05:21<03:39,  5.48s/it]"
     ]
    },
    {
     "name": "stdout",
     "output_type": "stream",
     "text": [
      "/Users/datoapanta/Desktop/mma_2024/dataset/data/gtzan/genres/country/country.00018.wav\n"
     ]
    },
    {
     "name": "stderr",
     "output_type": "stream",
     "text": [
      "Processing audio files:  61%|██████    | 61/100 [05:26<03:31,  5.42s/it]"
     ]
    },
    {
     "name": "stdout",
     "output_type": "stream",
     "text": [
      "/Users/datoapanta/Desktop/mma_2024/dataset/data/gtzan/genres/country/country.00019.wav\n"
     ]
    },
    {
     "name": "stderr",
     "output_type": "stream",
     "text": [
      "Processing audio files:  62%|██████▏   | 62/100 [05:31<03:23,  5.35s/it]"
     ]
    },
    {
     "name": "stdout",
     "output_type": "stream",
     "text": [
      "/Users/datoapanta/Desktop/mma_2024/dataset/data/gtzan/genres/country/country.00031.wav\n"
     ]
    },
    {
     "name": "stderr",
     "output_type": "stream",
     "text": [
      "Processing audio files:  63%|██████▎   | 63/100 [05:37<03:22,  5.46s/it]"
     ]
    },
    {
     "name": "stdout",
     "output_type": "stream",
     "text": [
      "/Users/datoapanta/Desktop/mma_2024/dataset/data/gtzan/genres/country/country.00025.wav\n"
     ]
    },
    {
     "name": "stderr",
     "output_type": "stream",
     "text": [
      "Processing audio files:  64%|██████▍   | 64/100 [05:43<03:17,  5.49s/it]"
     ]
    },
    {
     "name": "stdout",
     "output_type": "stream",
     "text": [
      "/Users/datoapanta/Desktop/mma_2024/dataset/data/gtzan/genres/country/country.00081.wav\n"
     ]
    },
    {
     "name": "stderr",
     "output_type": "stream",
     "text": [
      "Processing audio files:  65%|██████▌   | 65/100 [05:48<03:13,  5.52s/it]"
     ]
    },
    {
     "name": "stdout",
     "output_type": "stream",
     "text": [
      "/Users/datoapanta/Desktop/mma_2024/dataset/data/gtzan/genres/country/country.00095.wav\n"
     ]
    },
    {
     "name": "stderr",
     "output_type": "stream",
     "text": [
      "Processing audio files:  66%|██████▌   | 66/100 [05:53<03:03,  5.40s/it]"
     ]
    },
    {
     "name": "stdout",
     "output_type": "stream",
     "text": [
      "/Users/datoapanta/Desktop/mma_2024/dataset/data/gtzan/genres/country/country.00042.wav\n"
     ]
    },
    {
     "name": "stderr",
     "output_type": "stream",
     "text": [
      "Processing audio files:  67%|██████▋   | 67/100 [05:58<02:56,  5.36s/it]"
     ]
    },
    {
     "name": "stdout",
     "output_type": "stream",
     "text": [
      "/Users/datoapanta/Desktop/mma_2024/dataset/data/gtzan/genres/country/country.00056.wav\n"
     ]
    },
    {
     "name": "stderr",
     "output_type": "stream",
     "text": [
      "Processing audio files:  68%|██████▊   | 68/100 [06:04<02:52,  5.38s/it]"
     ]
    },
    {
     "name": "stdout",
     "output_type": "stream",
     "text": [
      "/Users/datoapanta/Desktop/mma_2024/dataset/data/gtzan/genres/country/country.00057.wav\n"
     ]
    },
    {
     "name": "stderr",
     "output_type": "stream",
     "text": [
      "Processing audio files:  69%|██████▉   | 69/100 [06:09<02:44,  5.31s/it]"
     ]
    },
    {
     "name": "stdout",
     "output_type": "stream",
     "text": [
      "/Users/datoapanta/Desktop/mma_2024/dataset/data/gtzan/genres/country/country.00043.wav\n"
     ]
    },
    {
     "name": "stderr",
     "output_type": "stream",
     "text": [
      "Processing audio files:  70%|███████   | 70/100 [06:14<02:38,  5.29s/it]"
     ]
    },
    {
     "name": "stdout",
     "output_type": "stream",
     "text": [
      "/Users/datoapanta/Desktop/mma_2024/dataset/data/gtzan/genres/country/country.00094.wav\n"
     ]
    },
    {
     "name": "stderr",
     "output_type": "stream",
     "text": [
      "Processing audio files:  71%|███████   | 71/100 [06:20<02:35,  5.35s/it]"
     ]
    },
    {
     "name": "stdout",
     "output_type": "stream",
     "text": [
      "/Users/datoapanta/Desktop/mma_2024/dataset/data/gtzan/genres/country/country.00080.wav\n"
     ]
    },
    {
     "name": "stderr",
     "output_type": "stream",
     "text": [
      "Processing audio files:  72%|███████▏  | 72/100 [06:25<02:31,  5.40s/it]"
     ]
    },
    {
     "name": "stdout",
     "output_type": "stream",
     "text": [
      "/Users/datoapanta/Desktop/mma_2024/dataset/data/gtzan/genres/country/country.00096.wav\n"
     ]
    },
    {
     "name": "stderr",
     "output_type": "stream",
     "text": [
      "Processing audio files:  73%|███████▎  | 73/100 [06:31<02:25,  5.39s/it]"
     ]
    },
    {
     "name": "stdout",
     "output_type": "stream",
     "text": [
      "/Users/datoapanta/Desktop/mma_2024/dataset/data/gtzan/genres/country/country.00082.wav\n"
     ]
    },
    {
     "name": "stderr",
     "output_type": "stream",
     "text": [
      "Processing audio files:  74%|███████▍  | 74/100 [06:36<02:20,  5.41s/it]"
     ]
    },
    {
     "name": "stdout",
     "output_type": "stream",
     "text": [
      "/Users/datoapanta/Desktop/mma_2024/dataset/data/gtzan/genres/country/country.00069.wav\n"
     ]
    },
    {
     "name": "stderr",
     "output_type": "stream",
     "text": [
      "Processing audio files:  75%|███████▌  | 75/100 [06:42<02:15,  5.43s/it]"
     ]
    },
    {
     "name": "stdout",
     "output_type": "stream",
     "text": [
      "/Users/datoapanta/Desktop/mma_2024/dataset/data/gtzan/genres/country/country.00055.wav\n"
     ]
    },
    {
     "name": "stderr",
     "output_type": "stream",
     "text": [
      "Processing audio files:  76%|███████▌  | 76/100 [06:47<02:08,  5.36s/it]"
     ]
    },
    {
     "name": "stdout",
     "output_type": "stream",
     "text": [
      "/Users/datoapanta/Desktop/mma_2024/dataset/data/gtzan/genres/country/country.00041.wav\n"
     ]
    },
    {
     "name": "stderr",
     "output_type": "stream",
     "text": [
      "Processing audio files:  77%|███████▋  | 77/100 [06:52<02:05,  5.45s/it]"
     ]
    },
    {
     "name": "stdout",
     "output_type": "stream",
     "text": [
      "/Users/datoapanta/Desktop/mma_2024/dataset/data/gtzan/genres/country/country.00040.wav\n"
     ]
    },
    {
     "name": "stderr",
     "output_type": "stream",
     "text": [
      "Processing audio files:  78%|███████▊  | 78/100 [06:58<01:58,  5.40s/it]"
     ]
    },
    {
     "name": "stdout",
     "output_type": "stream",
     "text": [
      "/Users/datoapanta/Desktop/mma_2024/dataset/data/gtzan/genres/country/country.00054.wav\n"
     ]
    },
    {
     "name": "stderr",
     "output_type": "stream",
     "text": [
      "Processing audio files:  79%|███████▉  | 79/100 [07:03<01:55,  5.50s/it]"
     ]
    },
    {
     "name": "stdout",
     "output_type": "stream",
     "text": [
      "/Users/datoapanta/Desktop/mma_2024/dataset/data/gtzan/genres/country/country.00068.wav\n"
     ]
    },
    {
     "name": "stderr",
     "output_type": "stream",
     "text": [
      "Processing audio files:  80%|████████  | 80/100 [07:09<01:51,  5.58s/it]"
     ]
    },
    {
     "name": "stdout",
     "output_type": "stream",
     "text": [
      "/Users/datoapanta/Desktop/mma_2024/dataset/data/gtzan/genres/country/country.00083.wav\n"
     ]
    },
    {
     "name": "stderr",
     "output_type": "stream",
     "text": [
      "Processing audio files:  81%|████████  | 81/100 [07:14<01:43,  5.45s/it]"
     ]
    },
    {
     "name": "stdout",
     "output_type": "stream",
     "text": [
      "/Users/datoapanta/Desktop/mma_2024/dataset/data/gtzan/genres/country/country.00097.wav\n"
     ]
    },
    {
     "name": "stderr",
     "output_type": "stream",
     "text": [
      "Processing audio files:  82%|████████▏ | 82/100 [07:20<01:38,  5.46s/it]"
     ]
    },
    {
     "name": "stdout",
     "output_type": "stream",
     "text": [
      "/Users/datoapanta/Desktop/mma_2024/dataset/data/gtzan/genres/country/country.00093.wav\n"
     ]
    },
    {
     "name": "stderr",
     "output_type": "stream",
     "text": [
      "Processing audio files:  83%|████████▎ | 83/100 [07:25<01:32,  5.42s/it]"
     ]
    },
    {
     "name": "stdout",
     "output_type": "stream",
     "text": [
      "/Users/datoapanta/Desktop/mma_2024/dataset/data/gtzan/genres/country/country.00087.wav\n"
     ]
    },
    {
     "name": "stderr",
     "output_type": "stream",
     "text": [
      "Processing audio files:  84%|████████▍ | 84/100 [07:30<01:25,  5.36s/it]"
     ]
    },
    {
     "name": "stdout",
     "output_type": "stream",
     "text": [
      "/Users/datoapanta/Desktop/mma_2024/dataset/data/gtzan/genres/country/country.00050.wav\n"
     ]
    },
    {
     "name": "stderr",
     "output_type": "stream",
     "text": [
      "Processing audio files:  85%|████████▌ | 85/100 [07:36<01:20,  5.35s/it]"
     ]
    },
    {
     "name": "stdout",
     "output_type": "stream",
     "text": [
      "/Users/datoapanta/Desktop/mma_2024/dataset/data/gtzan/genres/country/country.00044.wav\n"
     ]
    },
    {
     "name": "stderr",
     "output_type": "stream",
     "text": [
      "Processing audio files:  86%|████████▌ | 86/100 [07:41<01:15,  5.37s/it]"
     ]
    },
    {
     "name": "stdout",
     "output_type": "stream",
     "text": [
      "/Users/datoapanta/Desktop/mma_2024/dataset/data/gtzan/genres/country/country.00078.wav\n"
     ]
    },
    {
     "name": "stderr",
     "output_type": "stream",
     "text": [
      "Processing audio files:  87%|████████▋ | 87/100 [07:46<01:09,  5.32s/it]"
     ]
    },
    {
     "name": "stdout",
     "output_type": "stream",
     "text": [
      "/Users/datoapanta/Desktop/mma_2024/dataset/data/gtzan/genres/country/country.00079.wav\n"
     ]
    },
    {
     "name": "stderr",
     "output_type": "stream",
     "text": [
      "Processing audio files:  88%|████████▊ | 88/100 [07:52<01:03,  5.29s/it]"
     ]
    },
    {
     "name": "stdout",
     "output_type": "stream",
     "text": [
      "/Users/datoapanta/Desktop/mma_2024/dataset/data/gtzan/genres/country/country.00045.wav\n"
     ]
    },
    {
     "name": "stderr",
     "output_type": "stream",
     "text": [
      "Processing audio files:  89%|████████▉ | 89/100 [07:57<00:57,  5.26s/it]"
     ]
    },
    {
     "name": "stdout",
     "output_type": "stream",
     "text": [
      "/Users/datoapanta/Desktop/mma_2024/dataset/data/gtzan/genres/country/country.00051.wav\n"
     ]
    },
    {
     "name": "stderr",
     "output_type": "stream",
     "text": [
      "Processing audio files:  90%|█████████ | 90/100 [08:02<00:52,  5.30s/it]"
     ]
    },
    {
     "name": "stdout",
     "output_type": "stream",
     "text": [
      "/Users/datoapanta/Desktop/mma_2024/dataset/data/gtzan/genres/country/country.00086.wav\n"
     ]
    },
    {
     "name": "stderr",
     "output_type": "stream",
     "text": [
      "Processing audio files:  91%|█████████ | 91/100 [08:07<00:47,  5.29s/it]"
     ]
    },
    {
     "name": "stdout",
     "output_type": "stream",
     "text": [
      "/Users/datoapanta/Desktop/mma_2024/dataset/data/gtzan/genres/country/country.00092.wav\n"
     ]
    },
    {
     "name": "stderr",
     "output_type": "stream",
     "text": [
      "Processing audio files:  92%|█████████▏| 92/100 [08:13<00:42,  5.25s/it]"
     ]
    },
    {
     "name": "stdout",
     "output_type": "stream",
     "text": [
      "/Users/datoapanta/Desktop/mma_2024/dataset/data/gtzan/genres/country/country.00084.wav\n"
     ]
    },
    {
     "name": "stderr",
     "output_type": "stream",
     "text": [
      "Processing audio files:  93%|█████████▎| 93/100 [08:18<00:36,  5.26s/it]"
     ]
    },
    {
     "name": "stdout",
     "output_type": "stream",
     "text": [
      "/Users/datoapanta/Desktop/mma_2024/dataset/data/gtzan/genres/country/country.00090.wav\n"
     ]
    },
    {
     "name": "stderr",
     "output_type": "stream",
     "text": [
      "Processing audio files:  94%|█████████▍| 94/100 [08:23<00:31,  5.28s/it]"
     ]
    },
    {
     "name": "stdout",
     "output_type": "stream",
     "text": [
      "/Users/datoapanta/Desktop/mma_2024/dataset/data/gtzan/genres/country/country.00047.wav\n"
     ]
    },
    {
     "name": "stderr",
     "output_type": "stream",
     "text": [
      "Processing audio files:  95%|█████████▌| 95/100 [08:29<00:26,  5.32s/it]"
     ]
    },
    {
     "name": "stdout",
     "output_type": "stream",
     "text": [
      "/Users/datoapanta/Desktop/mma_2024/dataset/data/gtzan/genres/country/country.00053.wav\n"
     ]
    },
    {
     "name": "stderr",
     "output_type": "stream",
     "text": [
      "Processing audio files:  96%|█████████▌| 96/100 [08:34<00:21,  5.29s/it]"
     ]
    },
    {
     "name": "stdout",
     "output_type": "stream",
     "text": [
      "/Users/datoapanta/Desktop/mma_2024/dataset/data/gtzan/genres/country/country.00052.wav\n"
     ]
    },
    {
     "name": "stderr",
     "output_type": "stream",
     "text": [
      "Processing audio files:  97%|█████████▋| 97/100 [08:39<00:15,  5.26s/it]"
     ]
    },
    {
     "name": "stdout",
     "output_type": "stream",
     "text": [
      "/Users/datoapanta/Desktop/mma_2024/dataset/data/gtzan/genres/country/country.00046.wav\n"
     ]
    },
    {
     "name": "stderr",
     "output_type": "stream",
     "text": [
      "Processing audio files:  98%|█████████▊| 98/100 [08:45<00:10,  5.35s/it]"
     ]
    },
    {
     "name": "stdout",
     "output_type": "stream",
     "text": [
      "/Users/datoapanta/Desktop/mma_2024/dataset/data/gtzan/genres/country/country.00091.wav\n"
     ]
    },
    {
     "name": "stderr",
     "output_type": "stream",
     "text": [
      "Processing audio files:  99%|█████████▉| 99/100 [08:50<00:05,  5.34s/it]"
     ]
    },
    {
     "name": "stdout",
     "output_type": "stream",
     "text": [
      "/Users/datoapanta/Desktop/mma_2024/dataset/data/gtzan/genres/country/country.00085.wav\n"
     ]
    },
    {
     "name": "stderr",
     "output_type": "stream",
     "text": [
      "Processing audio files: 100%|██████████| 100/100 [08:55<00:00,  5.36s/it]\n",
      "Processing audio files:   0%|          | 0/99 [00:00<?, ?it/s]"
     ]
    },
    {
     "name": "stdout",
     "output_type": "stream",
     "text": [
      "/Users/datoapanta/Desktop/mma_2024/dataset/data/gtzan/genres/jazz/jazz.00016.wav\n"
     ]
    },
    {
     "name": "stderr",
     "output_type": "stream",
     "text": [
      "Processing audio files:   1%|          | 1/99 [00:05<08:37,  5.28s/it]"
     ]
    },
    {
     "name": "stdout",
     "output_type": "stream",
     "text": [
      "/Users/datoapanta/Desktop/mma_2024/dataset/data/gtzan/genres/jazz/jazz.00002.wav\n"
     ]
    },
    {
     "name": "stderr",
     "output_type": "stream",
     "text": [
      "Processing audio files:   2%|▏         | 2/99 [00:10<08:37,  5.34s/it]"
     ]
    },
    {
     "name": "stdout",
     "output_type": "stream",
     "text": [
      "/Users/datoapanta/Desktop/mma_2024/dataset/data/gtzan/genres/jazz/jazz.00003.wav\n"
     ]
    },
    {
     "name": "stderr",
     "output_type": "stream",
     "text": [
      "Processing audio files:   3%|▎         | 3/99 [00:15<08:31,  5.32s/it]"
     ]
    },
    {
     "name": "stdout",
     "output_type": "stream",
     "text": [
      "/Users/datoapanta/Desktop/mma_2024/dataset/data/gtzan/genres/jazz/jazz.00017.wav\n"
     ]
    },
    {
     "name": "stderr",
     "output_type": "stream",
     "text": [
      "Processing audio files:   4%|▍         | 4/99 [00:21<08:23,  5.30s/it]"
     ]
    },
    {
     "name": "stdout",
     "output_type": "stream",
     "text": [
      "/Users/datoapanta/Desktop/mma_2024/dataset/data/gtzan/genres/jazz/jazz.00001.wav\n"
     ]
    },
    {
     "name": "stderr",
     "output_type": "stream",
     "text": [
      "Processing audio files:   5%|▌         | 5/99 [00:26<08:23,  5.36s/it]"
     ]
    },
    {
     "name": "stdout",
     "output_type": "stream",
     "text": [
      "/Users/datoapanta/Desktop/mma_2024/dataset/data/gtzan/genres/jazz/jazz.00015.wav\n"
     ]
    },
    {
     "name": "stderr",
     "output_type": "stream",
     "text": [
      "Processing audio files:   6%|▌         | 6/99 [00:31<08:16,  5.34s/it]"
     ]
    },
    {
     "name": "stdout",
     "output_type": "stream",
     "text": [
      "/Users/datoapanta/Desktop/mma_2024/dataset/data/gtzan/genres/jazz/jazz.00029.wav\n"
     ]
    },
    {
     "name": "stderr",
     "output_type": "stream",
     "text": [
      "Processing audio files:   7%|▋         | 7/99 [00:37<08:07,  5.30s/it]"
     ]
    },
    {
     "name": "stdout",
     "output_type": "stream",
     "text": [
      "/Users/datoapanta/Desktop/mma_2024/dataset/data/gtzan/genres/jazz/jazz.00028.wav\n"
     ]
    },
    {
     "name": "stderr",
     "output_type": "stream",
     "text": [
      "Processing audio files:   8%|▊         | 8/99 [00:42<08:04,  5.32s/it]"
     ]
    },
    {
     "name": "stdout",
     "output_type": "stream",
     "text": [
      "/Users/datoapanta/Desktop/mma_2024/dataset/data/gtzan/genres/jazz/jazz.00014.wav\n"
     ]
    },
    {
     "name": "stderr",
     "output_type": "stream",
     "text": [
      "Processing audio files:   9%|▉         | 9/99 [00:47<07:57,  5.30s/it]"
     ]
    },
    {
     "name": "stdout",
     "output_type": "stream",
     "text": [
      "/Users/datoapanta/Desktop/mma_2024/dataset/data/gtzan/genres/jazz/jazz.00000.wav\n"
     ]
    },
    {
     "name": "stderr",
     "output_type": "stream",
     "text": [
      "Processing audio files:  10%|█         | 10/99 [00:53<07:49,  5.27s/it]"
     ]
    },
    {
     "name": "stdout",
     "output_type": "stream",
     "text": [
      "/Users/datoapanta/Desktop/mma_2024/dataset/data/gtzan/genres/jazz/jazz.00038.wav\n"
     ]
    },
    {
     "name": "stderr",
     "output_type": "stream",
     "text": [
      "Processing audio files:  11%|█         | 11/99 [00:58<07:46,  5.30s/it]"
     ]
    },
    {
     "name": "stdout",
     "output_type": "stream",
     "text": [
      "/Users/datoapanta/Desktop/mma_2024/dataset/data/gtzan/genres/jazz/jazz.00004.wav\n"
     ]
    },
    {
     "name": "stderr",
     "output_type": "stream",
     "text": [
      "Processing audio files:  12%|█▏        | 12/99 [01:03<07:44,  5.34s/it]"
     ]
    },
    {
     "name": "stdout",
     "output_type": "stream",
     "text": [
      "/Users/datoapanta/Desktop/mma_2024/dataset/data/gtzan/genres/jazz/jazz.00010.wav\n"
     ]
    },
    {
     "name": "stderr",
     "output_type": "stream",
     "text": [
      "Processing audio files:  13%|█▎        | 13/99 [01:09<07:39,  5.35s/it]"
     ]
    },
    {
     "name": "stdout",
     "output_type": "stream",
     "text": [
      "/Users/datoapanta/Desktop/mma_2024/dataset/data/gtzan/genres/jazz/jazz.00011.wav\n"
     ]
    },
    {
     "name": "stderr",
     "output_type": "stream",
     "text": [
      "Processing audio files:  14%|█▍        | 14/99 [01:14<07:29,  5.29s/it]"
     ]
    },
    {
     "name": "stdout",
     "output_type": "stream",
     "text": [
      "/Users/datoapanta/Desktop/mma_2024/dataset/data/gtzan/genres/jazz/jazz.00005.wav\n"
     ]
    },
    {
     "name": "stderr",
     "output_type": "stream",
     "text": [
      "Processing audio files:  15%|█▌        | 15/99 [01:19<07:20,  5.24s/it]"
     ]
    },
    {
     "name": "stdout",
     "output_type": "stream",
     "text": [
      "/Users/datoapanta/Desktop/mma_2024/dataset/data/gtzan/genres/jazz/jazz.00039.wav\n"
     ]
    },
    {
     "name": "stderr",
     "output_type": "stream",
     "text": [
      "Processing audio files:  16%|█▌        | 16/99 [01:24<07:14,  5.23s/it]"
     ]
    },
    {
     "name": "stdout",
     "output_type": "stream",
     "text": [
      "/Users/datoapanta/Desktop/mma_2024/dataset/data/gtzan/genres/jazz/jazz.00013.wav\n"
     ]
    },
    {
     "name": "stderr",
     "output_type": "stream",
     "text": [
      "Processing audio files:  17%|█▋        | 17/99 [01:29<07:07,  5.22s/it]"
     ]
    },
    {
     "name": "stdout",
     "output_type": "stream",
     "text": [
      "/Users/datoapanta/Desktop/mma_2024/dataset/data/gtzan/genres/jazz/jazz.00007.wav\n"
     ]
    },
    {
     "name": "stderr",
     "output_type": "stream",
     "text": [
      "Processing audio files:  18%|█▊        | 18/99 [01:35<07:00,  5.19s/it]"
     ]
    },
    {
     "name": "stdout",
     "output_type": "stream",
     "text": [
      "/Users/datoapanta/Desktop/mma_2024/dataset/data/gtzan/genres/jazz/jazz.00006.wav\n"
     ]
    },
    {
     "name": "stderr",
     "output_type": "stream",
     "text": [
      "Processing audio files:  19%|█▉        | 19/99 [01:40<06:58,  5.23s/it]"
     ]
    },
    {
     "name": "stdout",
     "output_type": "stream",
     "text": [
      "/Users/datoapanta/Desktop/mma_2024/dataset/data/gtzan/genres/jazz/jazz.00012.wav\n"
     ]
    },
    {
     "name": "stderr",
     "output_type": "stream",
     "text": [
      "Processing audio files:  20%|██        | 20/99 [01:45<06:51,  5.21s/it]"
     ]
    },
    {
     "name": "stdout",
     "output_type": "stream",
     "text": [
      "/Users/datoapanta/Desktop/mma_2024/dataset/data/gtzan/genres/jazz/jazz.00075.wav\n"
     ]
    },
    {
     "name": "stderr",
     "output_type": "stream",
     "text": [
      "Processing audio files:  21%|██        | 21/99 [01:50<06:44,  5.19s/it]"
     ]
    },
    {
     "name": "stdout",
     "output_type": "stream",
     "text": [
      "/Users/datoapanta/Desktop/mma_2024/dataset/data/gtzan/genres/jazz/jazz.00061.wav\n"
     ]
    },
    {
     "name": "stderr",
     "output_type": "stream",
     "text": [
      "Processing audio files:  22%|██▏       | 22/99 [01:55<06:40,  5.20s/it]"
     ]
    },
    {
     "name": "stdout",
     "output_type": "stream",
     "text": [
      "/Users/datoapanta/Desktop/mma_2024/dataset/data/gtzan/genres/jazz/jazz.00049.wav\n"
     ]
    },
    {
     "name": "stderr",
     "output_type": "stream",
     "text": [
      "Processing audio files:  23%|██▎       | 23/99 [02:01<06:35,  5.21s/it]"
     ]
    },
    {
     "name": "stdout",
     "output_type": "stream",
     "text": [
      "/Users/datoapanta/Desktop/mma_2024/dataset/data/gtzan/genres/jazz/jazz.00048.wav\n"
     ]
    },
    {
     "name": "stderr",
     "output_type": "stream",
     "text": [
      "Processing audio files:  24%|██▍       | 24/99 [02:06<06:34,  5.26s/it]"
     ]
    },
    {
     "name": "stdout",
     "output_type": "stream",
     "text": [
      "/Users/datoapanta/Desktop/mma_2024/dataset/data/gtzan/genres/jazz/jazz.00060.wav\n"
     ]
    },
    {
     "name": "stderr",
     "output_type": "stream",
     "text": [
      "Processing audio files:  25%|██▌       | 25/99 [02:11<06:28,  5.25s/it]"
     ]
    },
    {
     "name": "stdout",
     "output_type": "stream",
     "text": [
      "/Users/datoapanta/Desktop/mma_2024/dataset/data/gtzan/genres/jazz/jazz.00074.wav\n"
     ]
    },
    {
     "name": "stderr",
     "output_type": "stream",
     "text": [
      "Processing audio files:  26%|██▋       | 26/99 [02:16<06:22,  5.24s/it]"
     ]
    },
    {
     "name": "stdout",
     "output_type": "stream",
     "text": [
      "/Users/datoapanta/Desktop/mma_2024/dataset/data/gtzan/genres/jazz/jazz.00062.wav\n"
     ]
    },
    {
     "name": "stderr",
     "output_type": "stream",
     "text": [
      "Processing audio files:  27%|██▋       | 27/99 [02:22<06:27,  5.39s/it]"
     ]
    },
    {
     "name": "stdout",
     "output_type": "stream",
     "text": [
      "/Users/datoapanta/Desktop/mma_2024/dataset/data/gtzan/genres/jazz/jazz.00076.wav\n"
     ]
    },
    {
     "name": "stderr",
     "output_type": "stream",
     "text": [
      "Processing audio files:  28%|██▊       | 28/99 [02:27<06:21,  5.37s/it]"
     ]
    },
    {
     "name": "stdout",
     "output_type": "stream",
     "text": [
      "/Users/datoapanta/Desktop/mma_2024/dataset/data/gtzan/genres/jazz/jazz.00089.wav\n"
     ]
    },
    {
     "name": "stderr",
     "output_type": "stream",
     "text": [
      "Processing audio files:  29%|██▉       | 29/99 [02:33<06:12,  5.32s/it]"
     ]
    },
    {
     "name": "stdout",
     "output_type": "stream",
     "text": [
      "/Users/datoapanta/Desktop/mma_2024/dataset/data/gtzan/genres/jazz/jazz.00088.wav\n"
     ]
    },
    {
     "name": "stderr",
     "output_type": "stream",
     "text": [
      "Processing audio files:  30%|███       | 30/99 [02:38<06:06,  5.31s/it]"
     ]
    },
    {
     "name": "stdout",
     "output_type": "stream",
     "text": [
      "/Users/datoapanta/Desktop/mma_2024/dataset/data/gtzan/genres/jazz/jazz.00077.wav\n"
     ]
    },
    {
     "name": "stderr",
     "output_type": "stream",
     "text": [
      "Processing audio files:  31%|███▏      | 31/99 [02:43<06:01,  5.32s/it]"
     ]
    },
    {
     "name": "stdout",
     "output_type": "stream",
     "text": [
      "/Users/datoapanta/Desktop/mma_2024/dataset/data/gtzan/genres/jazz/jazz.00063.wav\n"
     ]
    },
    {
     "name": "stderr",
     "output_type": "stream",
     "text": [
      "Processing audio files:  32%|███▏      | 32/99 [02:49<05:57,  5.33s/it]"
     ]
    },
    {
     "name": "stdout",
     "output_type": "stream",
     "text": [
      "/Users/datoapanta/Desktop/mma_2024/dataset/data/gtzan/genres/jazz/jazz.00067.wav\n"
     ]
    },
    {
     "name": "stderr",
     "output_type": "stream",
     "text": [
      "Processing audio files:  33%|███▎      | 33/99 [02:54<05:49,  5.29s/it]"
     ]
    },
    {
     "name": "stdout",
     "output_type": "stream",
     "text": [
      "/Users/datoapanta/Desktop/mma_2024/dataset/data/gtzan/genres/jazz/jazz.00073.wav\n"
     ]
    },
    {
     "name": "stderr",
     "output_type": "stream",
     "text": [
      "Processing audio files:  34%|███▍      | 34/99 [02:59<05:44,  5.29s/it]"
     ]
    },
    {
     "name": "stdout",
     "output_type": "stream",
     "text": [
      "/Users/datoapanta/Desktop/mma_2024/dataset/data/gtzan/genres/jazz/jazz.00098.wav\n"
     ]
    },
    {
     "name": "stderr",
     "output_type": "stream",
     "text": [
      "Processing audio files:  35%|███▌      | 35/99 [03:05<05:42,  5.36s/it]"
     ]
    },
    {
     "name": "stdout",
     "output_type": "stream",
     "text": [
      "/Users/datoapanta/Desktop/mma_2024/dataset/data/gtzan/genres/jazz/jazz.00099.wav\n"
     ]
    },
    {
     "name": "stderr",
     "output_type": "stream",
     "text": [
      "Processing audio files:  36%|███▋      | 36/99 [03:10<05:35,  5.32s/it]"
     ]
    },
    {
     "name": "stdout",
     "output_type": "stream",
     "text": [
      "/Users/datoapanta/Desktop/mma_2024/dataset/data/gtzan/genres/jazz/jazz.00072.wav\n"
     ]
    },
    {
     "name": "stderr",
     "output_type": "stream",
     "text": [
      "Processing audio files:  37%|███▋      | 37/99 [03:15<05:27,  5.28s/it]"
     ]
    },
    {
     "name": "stdout",
     "output_type": "stream",
     "text": [
      "/Users/datoapanta/Desktop/mma_2024/dataset/data/gtzan/genres/jazz/jazz.00066.wav\n"
     ]
    },
    {
     "name": "stderr",
     "output_type": "stream",
     "text": [
      "Processing audio files:  38%|███▊      | 38/99 [03:20<05:22,  5.29s/it]"
     ]
    },
    {
     "name": "stdout",
     "output_type": "stream",
     "text": [
      "/Users/datoapanta/Desktop/mma_2024/dataset/data/gtzan/genres/jazz/jazz.00058.wav\n"
     ]
    },
    {
     "name": "stderr",
     "output_type": "stream",
     "text": [
      "Processing audio files:  39%|███▉      | 39/99 [03:26<05:19,  5.32s/it]"
     ]
    },
    {
     "name": "stdout",
     "output_type": "stream",
     "text": [
      "/Users/datoapanta/Desktop/mma_2024/dataset/data/gtzan/genres/jazz/jazz.00070.wav\n"
     ]
    },
    {
     "name": "stderr",
     "output_type": "stream",
     "text": [
      "Processing audio files:  40%|████      | 40/99 [03:31<05:12,  5.30s/it]"
     ]
    },
    {
     "name": "stdout",
     "output_type": "stream",
     "text": [
      "/Users/datoapanta/Desktop/mma_2024/dataset/data/gtzan/genres/jazz/jazz.00064.wav\n"
     ]
    },
    {
     "name": "stderr",
     "output_type": "stream",
     "text": [
      "Processing audio files:  41%|████▏     | 41/99 [03:36<05:05,  5.27s/it]"
     ]
    },
    {
     "name": "stdout",
     "output_type": "stream",
     "text": [
      "/Users/datoapanta/Desktop/mma_2024/dataset/data/gtzan/genres/jazz/jazz.00065.wav\n"
     ]
    },
    {
     "name": "stderr",
     "output_type": "stream",
     "text": [
      "Processing audio files:  42%|████▏     | 42/99 [03:41<04:58,  5.24s/it]"
     ]
    },
    {
     "name": "stdout",
     "output_type": "stream",
     "text": [
      "/Users/datoapanta/Desktop/mma_2024/dataset/data/gtzan/genres/jazz/jazz.00071.wav\n"
     ]
    },
    {
     "name": "stderr",
     "output_type": "stream",
     "text": [
      "Processing audio files:  43%|████▎     | 43/99 [03:47<04:57,  5.31s/it]"
     ]
    },
    {
     "name": "stdout",
     "output_type": "stream",
     "text": [
      "/Users/datoapanta/Desktop/mma_2024/dataset/data/gtzan/genres/jazz/jazz.00059.wav\n"
     ]
    },
    {
     "name": "stderr",
     "output_type": "stream",
     "text": [
      "Processing audio files:  44%|████▍     | 44/99 [03:52<04:50,  5.29s/it]"
     ]
    },
    {
     "name": "stdout",
     "output_type": "stream",
     "text": [
      "/Users/datoapanta/Desktop/mma_2024/dataset/data/gtzan/genres/jazz/jazz.00040.wav\n"
     ]
    },
    {
     "name": "stderr",
     "output_type": "stream",
     "text": [
      "Processing audio files:  45%|████▌     | 45/99 [03:57<04:44,  5.28s/it]"
     ]
    },
    {
     "name": "stdout",
     "output_type": "stream",
     "text": [
      "/Users/datoapanta/Desktop/mma_2024/dataset/data/gtzan/genres/jazz/jazz.00068.wav\n"
     ]
    },
    {
     "name": "stderr",
     "output_type": "stream",
     "text": [
      "Processing audio files:  46%|████▋     | 46/99 [04:03<04:38,  5.25s/it]"
     ]
    },
    {
     "name": "stdout",
     "output_type": "stream",
     "text": [
      "/Users/datoapanta/Desktop/mma_2024/dataset/data/gtzan/genres/jazz/jazz.00097.wav\n"
     ]
    },
    {
     "name": "stderr",
     "output_type": "stream",
     "text": [
      "Processing audio files:  47%|████▋     | 47/99 [04:08<04:34,  5.27s/it]"
     ]
    },
    {
     "name": "stdout",
     "output_type": "stream",
     "text": [
      "/Users/datoapanta/Desktop/mma_2024/dataset/data/gtzan/genres/jazz/jazz.00083.wav\n"
     ]
    },
    {
     "name": "stderr",
     "output_type": "stream",
     "text": [
      "Processing audio files:  48%|████▊     | 48/99 [04:13<04:27,  5.24s/it]"
     ]
    },
    {
     "name": "stdout",
     "output_type": "stream",
     "text": [
      "/Users/datoapanta/Desktop/mma_2024/dataset/data/gtzan/genres/jazz/jazz.00082.wav\n"
     ]
    },
    {
     "name": "stderr",
     "output_type": "stream",
     "text": [
      "Processing audio files:  49%|████▉     | 49/99 [04:18<04:21,  5.23s/it]"
     ]
    },
    {
     "name": "stdout",
     "output_type": "stream",
     "text": [
      "/Users/datoapanta/Desktop/mma_2024/dataset/data/gtzan/genres/jazz/jazz.00096.wav\n"
     ]
    },
    {
     "name": "stderr",
     "output_type": "stream",
     "text": [
      "Processing audio files:  51%|█████     | 50/99 [04:24<04:16,  5.24s/it]"
     ]
    },
    {
     "name": "stdout",
     "output_type": "stream",
     "text": [
      "/Users/datoapanta/Desktop/mma_2024/dataset/data/gtzan/genres/jazz/jazz.00069.wav\n"
     ]
    },
    {
     "name": "stderr",
     "output_type": "stream",
     "text": [
      "Processing audio files:  52%|█████▏    | 51/99 [04:29<04:14,  5.29s/it]"
     ]
    },
    {
     "name": "stdout",
     "output_type": "stream",
     "text": [
      "/Users/datoapanta/Desktop/mma_2024/dataset/data/gtzan/genres/jazz/jazz.00041.wav\n"
     ]
    },
    {
     "name": "stderr",
     "output_type": "stream",
     "text": [
      "Processing audio files:  53%|█████▎    | 52/99 [04:34<04:09,  5.30s/it]"
     ]
    },
    {
     "name": "stdout",
     "output_type": "stream",
     "text": [
      "/Users/datoapanta/Desktop/mma_2024/dataset/data/gtzan/genres/jazz/jazz.00055.wav\n"
     ]
    },
    {
     "name": "stderr",
     "output_type": "stream",
     "text": [
      "Processing audio files:  54%|█████▎    | 53/99 [04:40<04:03,  5.29s/it]"
     ]
    },
    {
     "name": "stdout",
     "output_type": "stream",
     "text": [
      "/Users/datoapanta/Desktop/mma_2024/dataset/data/gtzan/genres/jazz/jazz.00043.wav\n"
     ]
    },
    {
     "name": "stderr",
     "output_type": "stream",
     "text": [
      "Processing audio files:  55%|█████▍    | 54/99 [04:45<03:58,  5.29s/it]"
     ]
    },
    {
     "name": "stdout",
     "output_type": "stream",
     "text": [
      "/Users/datoapanta/Desktop/mma_2024/dataset/data/gtzan/genres/jazz/jazz.00057.wav\n"
     ]
    },
    {
     "name": "stderr",
     "output_type": "stream",
     "text": [
      "Processing audio files:  56%|█████▌    | 55/99 [04:50<03:54,  5.33s/it]"
     ]
    },
    {
     "name": "stdout",
     "output_type": "stream",
     "text": [
      "/Users/datoapanta/Desktop/mma_2024/dataset/data/gtzan/genres/jazz/jazz.00080.wav\n"
     ]
    },
    {
     "name": "stderr",
     "output_type": "stream",
     "text": [
      "Processing audio files:  57%|█████▋    | 56/99 [04:56<03:50,  5.37s/it]"
     ]
    },
    {
     "name": "stdout",
     "output_type": "stream",
     "text": [
      "/Users/datoapanta/Desktop/mma_2024/dataset/data/gtzan/genres/jazz/jazz.00094.wav\n"
     ]
    },
    {
     "name": "stderr",
     "output_type": "stream",
     "text": [
      "Processing audio files:  58%|█████▊    | 57/99 [05:01<03:45,  5.38s/it]"
     ]
    },
    {
     "name": "stdout",
     "output_type": "stream",
     "text": [
      "/Users/datoapanta/Desktop/mma_2024/dataset/data/gtzan/genres/jazz/jazz.00095.wav\n"
     ]
    },
    {
     "name": "stderr",
     "output_type": "stream",
     "text": [
      "Processing audio files:  59%|█████▊    | 58/99 [05:06<03:38,  5.33s/it]"
     ]
    },
    {
     "name": "stdout",
     "output_type": "stream",
     "text": [
      "/Users/datoapanta/Desktop/mma_2024/dataset/data/gtzan/genres/jazz/jazz.00081.wav\n"
     ]
    },
    {
     "name": "stderr",
     "output_type": "stream",
     "text": [
      "Processing audio files:  60%|█████▉    | 59/99 [05:12<03:32,  5.32s/it]"
     ]
    },
    {
     "name": "stdout",
     "output_type": "stream",
     "text": [
      "/Users/datoapanta/Desktop/mma_2024/dataset/data/gtzan/genres/jazz/jazz.00056.wav\n"
     ]
    },
    {
     "name": "stderr",
     "output_type": "stream",
     "text": [
      "Processing audio files:  61%|██████    | 60/99 [05:17<03:25,  5.28s/it]"
     ]
    },
    {
     "name": "stdout",
     "output_type": "stream",
     "text": [
      "/Users/datoapanta/Desktop/mma_2024/dataset/data/gtzan/genres/jazz/jazz.00042.wav\n"
     ]
    },
    {
     "name": "stderr",
     "output_type": "stream",
     "text": [
      "Processing audio files:  62%|██████▏   | 61/99 [05:22<03:22,  5.33s/it]"
     ]
    },
    {
     "name": "stdout",
     "output_type": "stream",
     "text": [
      "/Users/datoapanta/Desktop/mma_2024/dataset/data/gtzan/genres/jazz/jazz.00046.wav\n"
     ]
    },
    {
     "name": "stderr",
     "output_type": "stream",
     "text": [
      "Processing audio files:  63%|██████▎   | 62/99 [05:28<03:18,  5.36s/it]"
     ]
    },
    {
     "name": "stdout",
     "output_type": "stream",
     "text": [
      "/Users/datoapanta/Desktop/mma_2024/dataset/data/gtzan/genres/jazz/jazz.00052.wav\n"
     ]
    },
    {
     "name": "stderr",
     "output_type": "stream",
     "text": [
      "Processing audio files:  64%|██████▎   | 63/99 [05:33<03:11,  5.32s/it]"
     ]
    },
    {
     "name": "stdout",
     "output_type": "stream",
     "text": [
      "/Users/datoapanta/Desktop/mma_2024/dataset/data/gtzan/genres/jazz/jazz.00085.wav\n"
     ]
    },
    {
     "name": "stderr",
     "output_type": "stream",
     "text": [
      "Processing audio files:  65%|██████▍   | 64/99 [05:38<03:05,  5.30s/it]"
     ]
    },
    {
     "name": "stdout",
     "output_type": "stream",
     "text": [
      "/Users/datoapanta/Desktop/mma_2024/dataset/data/gtzan/genres/jazz/jazz.00091.wav\n"
     ]
    },
    {
     "name": "stderr",
     "output_type": "stream",
     "text": [
      "Processing audio files:  66%|██████▌   | 65/99 [05:43<02:59,  5.27s/it]"
     ]
    },
    {
     "name": "stdout",
     "output_type": "stream",
     "text": [
      "/Users/datoapanta/Desktop/mma_2024/dataset/data/gtzan/genres/jazz/jazz.00090.wav\n"
     ]
    },
    {
     "name": "stderr",
     "output_type": "stream",
     "text": [
      "Processing audio files:  67%|██████▋   | 66/99 [05:49<02:54,  5.27s/it]"
     ]
    },
    {
     "name": "stdout",
     "output_type": "stream",
     "text": [
      "/Users/datoapanta/Desktop/mma_2024/dataset/data/gtzan/genres/jazz/jazz.00084.wav\n"
     ]
    },
    {
     "name": "stderr",
     "output_type": "stream",
     "text": [
      "Processing audio files:  68%|██████▊   | 67/99 [05:54<02:48,  5.27s/it]"
     ]
    },
    {
     "name": "stdout",
     "output_type": "stream",
     "text": [
      "/Users/datoapanta/Desktop/mma_2024/dataset/data/gtzan/genres/jazz/jazz.00053.wav\n"
     ]
    },
    {
     "name": "stderr",
     "output_type": "stream",
     "text": [
      "Processing audio files:  69%|██████▊   | 68/99 [05:59<02:44,  5.32s/it]"
     ]
    },
    {
     "name": "stdout",
     "output_type": "stream",
     "text": [
      "/Users/datoapanta/Desktop/mma_2024/dataset/data/gtzan/genres/jazz/jazz.00047.wav\n"
     ]
    },
    {
     "name": "stderr",
     "output_type": "stream",
     "text": [
      "Processing audio files:  70%|██████▉   | 69/99 [06:05<02:38,  5.28s/it]"
     ]
    },
    {
     "name": "stdout",
     "output_type": "stream",
     "text": [
      "/Users/datoapanta/Desktop/mma_2024/dataset/data/gtzan/genres/jazz/jazz.00079.wav\n"
     ]
    },
    {
     "name": "stderr",
     "output_type": "stream",
     "text": [
      "Processing audio files:  71%|███████   | 70/99 [06:10<02:33,  5.28s/it]"
     ]
    },
    {
     "name": "stdout",
     "output_type": "stream",
     "text": [
      "/Users/datoapanta/Desktop/mma_2024/dataset/data/gtzan/genres/jazz/jazz.00051.wav\n"
     ]
    },
    {
     "name": "stderr",
     "output_type": "stream",
     "text": [
      "Processing audio files:  72%|███████▏  | 71/99 [06:15<02:28,  5.29s/it]"
     ]
    },
    {
     "name": "stdout",
     "output_type": "stream",
     "text": [
      "/Users/datoapanta/Desktop/mma_2024/dataset/data/gtzan/genres/jazz/jazz.00045.wav\n"
     ]
    },
    {
     "name": "stderr",
     "output_type": "stream",
     "text": [
      "Processing audio files:  73%|███████▎  | 72/99 [06:21<02:24,  5.34s/it]"
     ]
    },
    {
     "name": "stdout",
     "output_type": "stream",
     "text": [
      "/Users/datoapanta/Desktop/mma_2024/dataset/data/gtzan/genres/jazz/jazz.00092.wav\n"
     ]
    },
    {
     "name": "stderr",
     "output_type": "stream",
     "text": [
      "Processing audio files:  74%|███████▎  | 73/99 [06:26<02:18,  5.34s/it]"
     ]
    },
    {
     "name": "stdout",
     "output_type": "stream",
     "text": [
      "/Users/datoapanta/Desktop/mma_2024/dataset/data/gtzan/genres/jazz/jazz.00086.wav\n"
     ]
    },
    {
     "name": "stderr",
     "output_type": "stream",
     "text": [
      "Processing audio files:  75%|███████▍  | 74/99 [06:31<02:15,  5.40s/it]"
     ]
    },
    {
     "name": "stdout",
     "output_type": "stream",
     "text": [
      "/Users/datoapanta/Desktop/mma_2024/dataset/data/gtzan/genres/jazz/jazz.00087.wav\n"
     ]
    },
    {
     "name": "stderr",
     "output_type": "stream",
     "text": [
      "Processing audio files:  76%|███████▌  | 75/99 [06:37<02:12,  5.53s/it]"
     ]
    },
    {
     "name": "stdout",
     "output_type": "stream",
     "text": [
      "/Users/datoapanta/Desktop/mma_2024/dataset/data/gtzan/genres/jazz/jazz.00093.wav\n"
     ]
    },
    {
     "name": "stderr",
     "output_type": "stream",
     "text": [
      "Processing audio files:  77%|███████▋  | 76/99 [06:43<02:09,  5.64s/it]"
     ]
    },
    {
     "name": "stdout",
     "output_type": "stream",
     "text": [
      "/Users/datoapanta/Desktop/mma_2024/dataset/data/gtzan/genres/jazz/jazz.00044.wav\n"
     ]
    },
    {
     "name": "stderr",
     "output_type": "stream",
     "text": [
      "Processing audio files:  78%|███████▊  | 77/99 [06:49<02:03,  5.59s/it]"
     ]
    },
    {
     "name": "stdout",
     "output_type": "stream",
     "text": [
      "/Users/datoapanta/Desktop/mma_2024/dataset/data/gtzan/genres/jazz/jazz.00050.wav\n"
     ]
    },
    {
     "name": "stderr",
     "output_type": "stream",
     "text": [
      "Processing audio files:  79%|███████▉  | 78/99 [06:54<01:56,  5.54s/it]"
     ]
    },
    {
     "name": "stdout",
     "output_type": "stream",
     "text": [
      "/Users/datoapanta/Desktop/mma_2024/dataset/data/gtzan/genres/jazz/jazz.00078.wav\n"
     ]
    },
    {
     "name": "stderr",
     "output_type": "stream",
     "text": [
      "Processing audio files:  80%|███████▉  | 79/99 [06:59<01:48,  5.44s/it]"
     ]
    },
    {
     "name": "stdout",
     "output_type": "stream",
     "text": [
      "/Users/datoapanta/Desktop/mma_2024/dataset/data/gtzan/genres/jazz/jazz.00037.wav\n"
     ]
    },
    {
     "name": "stderr",
     "output_type": "stream",
     "text": [
      "Processing audio files:  81%|████████  | 80/99 [07:05<01:44,  5.50s/it]"
     ]
    },
    {
     "name": "stdout",
     "output_type": "stream",
     "text": [
      "/Users/datoapanta/Desktop/mma_2024/dataset/data/gtzan/genres/jazz/jazz.00023.wav\n"
     ]
    },
    {
     "name": "stderr",
     "output_type": "stream",
     "text": [
      "Processing audio files:  82%|████████▏ | 81/99 [07:10<01:38,  5.46s/it]"
     ]
    },
    {
     "name": "stdout",
     "output_type": "stream",
     "text": [
      "/Users/datoapanta/Desktop/mma_2024/dataset/data/gtzan/genres/jazz/jazz.00022.wav\n"
     ]
    },
    {
     "name": "stderr",
     "output_type": "stream",
     "text": [
      "Processing audio files:  83%|████████▎ | 82/99 [07:15<01:31,  5.37s/it]"
     ]
    },
    {
     "name": "stdout",
     "output_type": "stream",
     "text": [
      "/Users/datoapanta/Desktop/mma_2024/dataset/data/gtzan/genres/jazz/jazz.00036.wav\n"
     ]
    },
    {
     "name": "stderr",
     "output_type": "stream",
     "text": [
      "Processing audio files:  84%|████████▍ | 83/99 [07:21<01:27,  5.44s/it]"
     ]
    },
    {
     "name": "stdout",
     "output_type": "stream",
     "text": [
      "/Users/datoapanta/Desktop/mma_2024/dataset/data/gtzan/genres/jazz/jazz.00020.wav\n"
     ]
    },
    {
     "name": "stderr",
     "output_type": "stream",
     "text": [
      "Processing audio files:  85%|████████▍ | 84/99 [07:26<01:21,  5.42s/it]"
     ]
    },
    {
     "name": "stdout",
     "output_type": "stream",
     "text": [
      "/Users/datoapanta/Desktop/mma_2024/dataset/data/gtzan/genres/jazz/jazz.00034.wav\n"
     ]
    },
    {
     "name": "stderr",
     "output_type": "stream",
     "text": [
      "Processing audio files:  86%|████████▌ | 85/99 [07:32<01:15,  5.38s/it]"
     ]
    },
    {
     "name": "stdout",
     "output_type": "stream",
     "text": [
      "/Users/datoapanta/Desktop/mma_2024/dataset/data/gtzan/genres/jazz/jazz.00008.wav\n"
     ]
    },
    {
     "name": "stderr",
     "output_type": "stream",
     "text": [
      "Processing audio files:  87%|████████▋ | 86/99 [07:38<01:11,  5.53s/it]"
     ]
    },
    {
     "name": "stdout",
     "output_type": "stream",
     "text": [
      "/Users/datoapanta/Desktop/mma_2024/dataset/data/gtzan/genres/jazz/jazz.00009.wav\n"
     ]
    },
    {
     "name": "stderr",
     "output_type": "stream",
     "text": [
      "Processing audio files:  88%|████████▊ | 87/99 [07:43<01:06,  5.57s/it]"
     ]
    },
    {
     "name": "stdout",
     "output_type": "stream",
     "text": [
      "/Users/datoapanta/Desktop/mma_2024/dataset/data/gtzan/genres/jazz/jazz.00035.wav\n"
     ]
    },
    {
     "name": "stderr",
     "output_type": "stream",
     "text": [
      "Processing audio files:  89%|████████▉ | 88/99 [07:49<01:02,  5.65s/it]"
     ]
    },
    {
     "name": "stdout",
     "output_type": "stream",
     "text": [
      "/Users/datoapanta/Desktop/mma_2024/dataset/data/gtzan/genres/jazz/jazz.00021.wav\n"
     ]
    },
    {
     "name": "stderr",
     "output_type": "stream",
     "text": [
      "Processing audio files:  90%|████████▉ | 89/99 [07:55<00:55,  5.58s/it]"
     ]
    },
    {
     "name": "stdout",
     "output_type": "stream",
     "text": [
      "/Users/datoapanta/Desktop/mma_2024/dataset/data/gtzan/genres/jazz/jazz.00019.wav\n"
     ]
    },
    {
     "name": "stderr",
     "output_type": "stream",
     "text": [
      "Processing audio files:  91%|█████████ | 90/99 [08:00<00:49,  5.48s/it]"
     ]
    },
    {
     "name": "stdout",
     "output_type": "stream",
     "text": [
      "/Users/datoapanta/Desktop/mma_2024/dataset/data/gtzan/genres/jazz/jazz.00025.wav\n"
     ]
    },
    {
     "name": "stderr",
     "output_type": "stream",
     "text": [
      "Processing audio files:  92%|█████████▏| 91/99 [08:05<00:44,  5.52s/it]"
     ]
    },
    {
     "name": "stdout",
     "output_type": "stream",
     "text": [
      "/Users/datoapanta/Desktop/mma_2024/dataset/data/gtzan/genres/jazz/jazz.00031.wav\n"
     ]
    },
    {
     "name": "stderr",
     "output_type": "stream",
     "text": [
      "Processing audio files:  93%|█████████▎| 92/99 [08:11<00:39,  5.69s/it]"
     ]
    },
    {
     "name": "stdout",
     "output_type": "stream",
     "text": [
      "/Users/datoapanta/Desktop/mma_2024/dataset/data/gtzan/genres/jazz/jazz.00030.wav\n"
     ]
    },
    {
     "name": "stderr",
     "output_type": "stream",
     "text": [
      "Processing audio files:  94%|█████████▍| 93/99 [08:17<00:33,  5.54s/it]"
     ]
    },
    {
     "name": "stdout",
     "output_type": "stream",
     "text": [
      "/Users/datoapanta/Desktop/mma_2024/dataset/data/gtzan/genres/jazz/jazz.00024.wav\n"
     ]
    },
    {
     "name": "stderr",
     "output_type": "stream",
     "text": [
      "Processing audio files:  95%|█████████▍| 94/99 [08:22<00:27,  5.55s/it]"
     ]
    },
    {
     "name": "stdout",
     "output_type": "stream",
     "text": [
      "/Users/datoapanta/Desktop/mma_2024/dataset/data/gtzan/genres/jazz/jazz.00018.wav\n"
     ]
    },
    {
     "name": "stderr",
     "output_type": "stream",
     "text": [
      "Processing audio files:  96%|█████████▌| 95/99 [08:27<00:21,  5.45s/it]"
     ]
    },
    {
     "name": "stdout",
     "output_type": "stream",
     "text": [
      "/Users/datoapanta/Desktop/mma_2024/dataset/data/gtzan/genres/jazz/jazz.00032.wav\n"
     ]
    },
    {
     "name": "stderr",
     "output_type": "stream",
     "text": [
      "Processing audio files:  97%|█████████▋| 96/99 [08:33<00:16,  5.36s/it]"
     ]
    },
    {
     "name": "stdout",
     "output_type": "stream",
     "text": [
      "/Users/datoapanta/Desktop/mma_2024/dataset/data/gtzan/genres/jazz/jazz.00026.wav\n"
     ]
    },
    {
     "name": "stderr",
     "output_type": "stream",
     "text": [
      "Processing audio files:  98%|█████████▊| 97/99 [08:38<00:10,  5.41s/it]"
     ]
    },
    {
     "name": "stdout",
     "output_type": "stream",
     "text": [
      "/Users/datoapanta/Desktop/mma_2024/dataset/data/gtzan/genres/jazz/jazz.00027.wav\n"
     ]
    },
    {
     "name": "stderr",
     "output_type": "stream",
     "text": [
      "Processing audio files:  99%|█████████▉| 98/99 [08:44<00:05,  5.49s/it]"
     ]
    },
    {
     "name": "stdout",
     "output_type": "stream",
     "text": [
      "/Users/datoapanta/Desktop/mma_2024/dataset/data/gtzan/genres/jazz/jazz.00033.wav\n"
     ]
    },
    {
     "name": "stderr",
     "output_type": "stream",
     "text": [
      "Processing audio files: 100%|██████████| 99/99 [08:49<00:00,  5.35s/it]\n"
     ]
    }
   ],
   "source": [
    "# find the genre probabilities for all audio files from the genre folder\n",
    "import os\n",
    "from transformers import pipeline\n",
    "import pandas as pd\n",
    "from tqdm import tqdm\n",
    "\n",
    "# Load the model and feature extractor\n",
    "model_name = \"danilotpnta/HuBERT-Genre-Clf\"\n",
    "pipe = pipeline(\"audio-classification\", model=model_name)\n",
    "\n",
    "genre_probs = {}\n",
    "\n",
    "for root, dirs, files in os.walk('/Users/datoapanta/Desktop/mma_2024/dataset/data/gtzan/genres'):\n",
    "    for file in tqdm(files, desc=\"Processing audio files\"):\n",
    "        if file.endswith('.wav'):\n",
    "            audio_path = os.path.join(root, file)\n",
    "            print(audio_path)\n",
    "            try:\n",
    "                prediction = pipe(audio_path)\n",
    "                # print(f\"{audio_path}: {prediction}\")\n",
    "                genre_probs[file] = prediction\n",
    "            except Exception as e:\n",
    "                print(f\"Error processing {audio_path}: {e}\")\n",
    "                continue"
   ]
  },
  {
   "cell_type": "code",
   "execution_count": 7,
   "metadata": {},
   "outputs": [],
   "source": [
    "\n",
    "df_with_embeddings = pd.read_csv(\"/Users/datoapanta/Desktop/mma_2024/dataset/data/gtzan/metadata.csv\")\n",
    "\n",
    "# Add the predicted genres to the DataFrame\n",
    "df_with_embeddings['pred_genres'] = df_with_embeddings['filename'].map(genre_probs)\n",
    "\n",
    "# Save the updated DataFrame to a new CSV file\n",
    "df_with_embeddings.to_csv(\"/Users/datoapanta/Desktop/mma_2024/dataset/data/gtzan/metadata_with_genres.csv\", index=False)\n"
   ]
  },
  {
   "cell_type": "code",
   "execution_count": null,
   "metadata": {},
   "outputs": [],
   "source": [
    "import ast\n",
    "\n",
    "def convert_and_sort(pred_genres):\n",
    "    # Convert the string representation to a list of dictionaries\n",
    "    genre_list = ast.literal_eval(pred_genres)\n",
    "    # Create a dictionary with label as key and score as value\n",
    "    genre_dict = {item['label']: item['score'] for item in genre_list}\n",
    "    # Sort the dictionary by score in descending order\n",
    "    sorted_genre_dict = dict(sorted(genre_dict.items(), key=lambda item: item[1], reverse=True))\n",
    "    return sorted_genre_dict\n",
    "\n",
    "# Apply the function to the 'pred_genres' column and store the result in a new column 'sorted_pred_genres'\n",
    "df_with_embeddings['pred_genres'] = df_with_embeddings['pred_genres'].apply(convert_and_sort)\n",
    "\n",
    "\n"
   ]
  }
 ],
 "metadata": {
  "kernelspec": {
   "display_name": "mma_2024",
   "language": "python",
   "name": "python3"
  },
  "language_info": {
   "codemirror_mode": {
    "name": "ipython",
    "version": 3
   },
   "file_extension": ".py",
   "mimetype": "text/x-python",
   "name": "python",
   "nbconvert_exporter": "python",
   "pygments_lexer": "ipython3",
   "version": "3.8.19"
  }
 },
 "nbformat": 4,
 "nbformat_minor": 2
}
