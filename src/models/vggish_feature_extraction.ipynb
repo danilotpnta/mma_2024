{
 "cells": [
  {
   "cell_type": "code",
   "execution_count": 2,
   "metadata": {},
   "outputs": [
    {
     "name": "stdout",
     "output_type": "stream",
     "text": [
      "['/Users/datoapanta/Desktop/mma_2024/src/models', '/Users/datoapanta/PycharmProjects/open_spiel', '/Users/datoapanta/PycharmProjects/open_spiel/build/python', '/Users/datoapanta/opt/anaconda3/envs/mma_2024/lib/python38.zip', '/Users/datoapanta/opt/anaconda3/envs/mma_2024/lib/python3.8', '/Users/datoapanta/opt/anaconda3/envs/mma_2024/lib/python3.8/lib-dynload', '', '/Users/datoapanta/opt/anaconda3/envs/mma_2024/lib/python3.8/site-packages', '/Users/datoapanta/Desktop/mma_2024/src/']\n"
     ]
    }
   ],
   "source": [
    "import sys\n",
    "\n",
    "sys.path.append('/Users/datoapanta/Desktop/mma_2024/src/')\n",
    "print(sys.path)                "
   ]
  },
  {
   "cell_type": "code",
   "execution_count": 59,
   "metadata": {},
   "outputs": [
    {
     "name": "stdout",
     "output_type": "stream",
     "text": [
      "The autoreload extension is already loaded. To reload it, use:\n",
      "  %reload_ext autoreload\n"
     ]
    }
   ],
   "source": [
    "import config\n",
    "from utils import audio_utils\n",
    "from IPython.display import display\n",
    "import pandas as pd\n",
    "from sklearn.preprocessing import MultiLabelBinarizer, LabelEncoder, LabelBinarizer\n",
    "from sklearn.preprocessing import StandardScaler\n",
    "from sklearn.utils import shuffle\n",
    "from utils import audio_utils\n",
    "import pickle\n",
    "from utils import preprocessing\n",
    "\n",
    "%load_ext autoreload\n",
    "%autoreload "
   ]
  },
  {
   "cell_type": "code",
   "execution_count": 61,
   "metadata": {},
   "outputs": [],
   "source": [
    "# Splitting the data\n",
    "data_splitted_dic = preprocessing.split_data(config.TRACKS_PATH)\n",
    "\n",
    "# Get loaders\n",
    "train_wav_paths, val_wav_paths, test_wav_paths = audio_utils.get_wav_paths(config.AUDIO_DIR, data_splitted_dic)\n",
    "train_labels, val_labels, test_labels = preprocessing.get_labels(data_splitted_dic)"
   ]
  },
  {
   "cell_type": "code",
   "execution_count": 73,
   "metadata": {},
   "outputs": [
    {
     "name": "stdout",
     "output_type": "stream",
     "text": [
      "/Users/datoapanta/Desktop/mma_2024/dataset/data/fma_small_wav/000/000002.wav\n",
      "Hip-Hop\n",
      "[0 0 0 1 0 0 0 0]\n",
      "\n",
      " /Users/datoapanta/Desktop/mma_2024/dataset/data/fma_small_wav/000/000005.wav\n",
      "Hip-Hop\n",
      "[0 0 0 1 0 0 0 0]\n",
      "\n",
      " /Users/datoapanta/Desktop/mma_2024/dataset/data/fma_small_wav/002/002096.wav\n",
      "International\n",
      "[0 1 0 0 0 0 0 0]\n"
     ]
    }
   ],
   "source": [
    "print(train_wav_paths[0])\n",
    "print(data_splitted_dic['labels'].iloc[0])\n",
    "print(train_labels[0])\n",
    "\n",
    "print(\"\\n\", train_wav_paths[1])\n",
    "print(data_splitted_dic['labels'].iloc[1])\n",
    "print(train_labels[1])\n",
    "\n",
    "print(\"\\n\", train_wav_paths[100])\n",
    "print(data_splitted_dic['labels'].iloc[100])\n",
    "print(train_labels[100])"
   ]
  },
  {
   "cell_type": "markdown",
   "metadata": {},
   "source": [
    "### Extracting 100 embeddings from VGGish"
   ]
  },
  {
   "cell_type": "code",
   "execution_count": 41,
   "metadata": {},
   "outputs": [
    {
     "name": "stderr",
     "output_type": "stream",
     "text": [
      "Using cache found in /Users/datoapanta/.cache/torch/hub/harritaylor_torchvggish_master\n"
     ]
    },
    {
     "name": "stdout",
     "output_type": "stream",
     "text": [
      "torch.Size([31, 128])\n"
     ]
    }
   ],
   "source": [
    "from vggish_model import VGGishModel\n",
    "model = VGGishModel()\n",
    "\n",
    "embeddings_train = model.forward(train_wav_paths[100])\n",
    "print(embeddings_train.shape)"
   ]
  },
  {
   "cell_type": "code",
   "execution_count": 12,
   "metadata": {},
   "outputs": [],
   "source": [
    "for i in range(100):\n",
    "    embeddings_train = model.forward(train_wav_paths[i])\n",
    "    output_file_path = f'embeddings/embedding_train_{i}.pkl'\n",
    "\n",
    "    with open(output_file_path, 'wb') as f:\n",
    "        pickle.dump(embeddings_train, f)"
   ]
  }
 ],
 "metadata": {
  "kernelspec": {
   "display_name": "mma_2024",
   "language": "python",
   "name": "python3"
  },
  "language_info": {
   "codemirror_mode": {
    "name": "ipython",
    "version": 3
   },
   "file_extension": ".py",
   "mimetype": "text/x-python",
   "name": "python",
   "nbconvert_exporter": "python",
   "pygments_lexer": "ipython3",
   "version": "3.8.19"
  }
 },
 "nbformat": 4,
 "nbformat_minor": 2
}
