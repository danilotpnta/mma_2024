{
 "cells": [
  {
   "cell_type": "code",
   "execution_count": 2,
   "metadata": {},
   "outputs": [
    {
     "name": "stderr",
     "output_type": "stream",
     "text": [
      "Using cache found in /Users/datoapanta/.cache/torch/hub/harritaylor_torchvggish_master\n"
     ]
    }
   ],
   "source": [
    "import torch\n",
    "\n",
    "model = torch.hub.load('harritaylor/torchvggish', 'vggish')\n",
    "model.eval()\n",
    "\n",
    "# Download an example audio file\n",
    "import urllib\n",
    "url, filename = (\"http://soundbible.com/grab.php?id=1698&type=wav\", \"bus_chatter.wav\")\n",
    "try: urllib.URLopener().retrieve(url, filename)\n",
    "except: urllib.request.urlretrieve(url, filename)\n",
    "\n",
    "out = model.forward(filename)"
   ]
  },
  {
   "cell_type": "code",
   "execution_count": 3,
   "metadata": {},
   "outputs": [
    {
     "name": "stdout",
     "output_type": "stream",
     "text": [
      "torch.Size([19, 128])\n"
     ]
    }
   ],
   "source": [
    "print(out.shape)"
   ]
  },
  {
   "cell_type": "code",
   "execution_count": 4,
   "metadata": {},
   "outputs": [
    {
     "name": "stdout",
     "output_type": "stream",
     "text": [
      "tensor([[158.,  24., 142.,  ..., 218., 117., 255.],\n",
      "        [162.,  37., 149.,  ..., 165.,   0., 255.],\n",
      "        [160.,  30., 143.,  ..., 192., 191., 255.],\n",
      "        ...,\n",
      "        [157.,  37., 148.,  ..., 138., 189., 255.],\n",
      "        [162.,  37., 155.,  ..., 156.,  14., 255.],\n",
      "        [166.,  18., 156.,  ..., 172., 136., 255.]],\n",
      "       grad_fn=<SqueezeBackward0>)\n"
     ]
    }
   ],
   "source": [
    "print(out)"
   ]
  },
  {
   "cell_type": "code",
   "execution_count": 2,
   "metadata": {},
   "outputs": [
    {
     "name": "stdout",
     "output_type": "stream",
     "text": [
      "['/Users/datoapanta/Desktop/mma_2024/src/models', '/Users/datoapanta/PycharmProjects/open_spiel', '/Users/datoapanta/PycharmProjects/open_spiel/build/python', '/Users/datoapanta/opt/anaconda3/envs/mma_2024/lib/python38.zip', '/Users/datoapanta/opt/anaconda3/envs/mma_2024/lib/python3.8', '/Users/datoapanta/opt/anaconda3/envs/mma_2024/lib/python3.8/lib-dynload', '', '/Users/datoapanta/opt/anaconda3/envs/mma_2024/lib/python3.8/site-packages', '/Users/datoapanta/Desktop/mma_2024/src/']\n"
     ]
    }
   ],
   "source": [
    "import os\n",
    "import sys\n",
    "import inspect\n",
    "\n",
    "sys.path.append('/Users/datoapanta/Desktop/mma_2024/src/')\n",
    "print(sys.path)                "
   ]
  },
  {
   "cell_type": "code",
   "execution_count": 16,
   "metadata": {},
   "outputs": [
    {
     "name": "stdout",
     "output_type": "stream",
     "text": [
      "The autoreload extension is already loaded. To reload it, use:\n",
      "  %reload_ext autoreload\n"
     ]
    }
   ],
   "source": [
    "import config\n",
    "from utils import audio_utils\n",
    "from IPython.display import display\n",
    "import pandas as pd\n",
    "from sklearn.preprocessing import MultiLabelBinarizer, LabelEncoder, LabelBinarizer\n",
    "from sklearn.preprocessing import StandardScaler\n",
    "from sklearn.utils import shuffle\n",
    "from utils import audio_utils\n",
    "import pickle\n",
    "\n",
    "%load_ext autoreload\n",
    "%autoreload \n",
    "\n",
    "def split_data(tracks_path):\n",
    "\n",
    "    tracks = audio_utils.load(tracks_path)\n",
    "    subset = tracks.index[tracks['set', 'subset'] <= 'small']\n",
    "    tracks = tracks.loc[subset]\n",
    "\n",
    "    train = tracks.index[tracks['set', 'split'] == 'training']\n",
    "    val = tracks.index[tracks['set', 'split'] == 'validation']\n",
    "    test = tracks.index[tracks['set', 'split'] == 'test']\n",
    "    labels = tracks['track', 'genre_top']\n",
    "\n",
    "    data_splitted_dic = {\n",
    "                        'train': train,\n",
    "                        'val': val,\n",
    "                        'test': test,\n",
    "                        'labels': labels\n",
    "                    }\n",
    "\n",
    "    return data_splitted_dic\n",
    "\n",
    "data_splitted_dic = split_data(config.TRACKS_PATH)\n"
   ]
  },
  {
   "cell_type": "code",
   "execution_count": 18,
   "metadata": {},
   "outputs": [
    {
     "data": {
      "text/plain": [
       "Index([     2,      5,     10,    140,    141,    190,    193,    194,    197,\n",
       "          200,\n",
       "       ...\n",
       "       152570, 153337, 153383, 153452, 153946, 153955, 153956, 154413, 154414,\n",
       "       155066],\n",
       "      dtype='int64', name='track_id', length=6400)"
      ]
     },
     "metadata": {},
     "output_type": "display_data"
    },
    {
     "data": {
      "text/plain": [
       "track_id\n",
       "2         Hip-Hop\n",
       "5         Hip-Hop\n",
       "10            Pop\n",
       "140          Folk\n",
       "141          Folk\n",
       "           ...   \n",
       "154308    Hip-Hop\n",
       "154309    Hip-Hop\n",
       "154413        Pop\n",
       "154414        Pop\n",
       "155066    Hip-Hop\n",
       "Name: (track, genre_top), Length: 8000, dtype: category\n",
       "Categories (16, object): ['Blues', 'Classical', 'Country', 'Easy Listening', ..., 'Pop', 'Rock', 'Soul-RnB', 'Spoken']"
      ]
     },
     "metadata": {},
     "output_type": "display_data"
    }
   ],
   "source": [
    "display(data_splitted_dic['train'])\n",
    "display(data_splitted_dic['labels'])\n",
    "\n"
   ]
  },
  {
   "cell_type": "code",
   "execution_count": 5,
   "metadata": {},
   "outputs": [],
   "source": [
    "AUDIO_DIR = config.AUDIO_DIR\n",
    "wav_track_paths_train = audio_utils.get_wav_paths(AUDIO_DIR, train)\n",
    "wav_track_paths_val = audio_utils.get_wav_paths(AUDIO_DIR, val)\n",
    "wav_track_paths_test = audio_utils.get_wav_paths(AUDIO_DIR, test)"
   ]
  },
  {
   "cell_type": "code",
   "execution_count": 11,
   "metadata": {},
   "outputs": [
    {
     "name": "stderr",
     "output_type": "stream",
     "text": [
      "Using cache found in /Users/datoapanta/.cache/torch/hub/harritaylor_torchvggish_master\n"
     ]
    },
    {
     "name": "stdout",
     "output_type": "stream",
     "text": [
      "torch.Size([31, 128])\n",
      "torch.Size([31, 128])\n",
      "torch.Size([31, 128])\n"
     ]
    }
   ],
   "source": [
    "from vggish_classifier import VGGishModel\n",
    "\n",
    "model = VGGishModel()\n",
    "\n",
    "embeddings_train = model.forward(wav_track_paths_train[:100])\n",
    "print(embeddings_train.shape)"
   ]
  },
  {
   "cell_type": "code",
   "execution_count": 12,
   "metadata": {},
   "outputs": [],
   "source": [
    "for i in range(100):\n",
    "    embeddings_train = model.forward(wav_track_paths_train[i])\n",
    "    output_file_path = f'embeddings/embedding_train_{i}.pkl'\n",
    "\n",
    "    with open(output_file_path, 'wb') as f:\n",
    "        pickle.dump(embeddings_train, f)"
   ]
  },
  {
   "cell_type": "code",
   "execution_count": 49,
   "metadata": {},
   "outputs": [
    {
     "data": {
      "image/png": "[encoded data removed]",
      "text/plain": [
       "<Figure size 1000x1000 with 1 Axes>"
      ]
     },
     "metadata": {},
     "output_type": "display_data"
    }
   ],
   "source": [
    "from sklearn.manifold import TSNE\n",
    "import matplotlib.pyplot as plt\n",
    "\n",
    "tsne = TSNE(n_components=2, random_state=42)\n",
    "embeddings_2d = tsne.fit_transform(out.detach().numpy())\n",
    "\n",
    "# Plotting the t-SNE output\n",
    "plt.figure(figsize=(10, 10))\n",
    "plt.scatter(embeddings_2d[:, 0], embeddings_2d[:, 1])\n",
    "plt.title('t-SNE of VGGish Embeddings')\n",
    "plt.xlabel('Dimension 1')\n",
    "plt.ylabel('Dimension 2')\n",
    "plt.show()"
   ]
  },
  {
   "cell_type": "code",
   "execution_count": null,
   "metadata": {},
   "outputs": [],
   "source": [
    "from torchvggish import vggish, vggish_input\n",
    "\n",
    "# Initialise model and download weights\n",
    "embedding_model = vggish()\n",
    "embedding_model.eval()\n",
    "\n",
    "example = vggish_input.wavfile_to_examples(\"example.wav\")\n",
    "embeddings = embedding_model.forward(example)"
   ]
  }
 ],
 "metadata": {
  "kernelspec": {
   "display_name": "mma_2024",
   "language": "python",
   "name": "python3"
  },
  "language_info": {
   "codemirror_mode": {
    "name": "ipython",
    "version": 3
   },
   "file_extension": ".py",
   "mimetype": "text/x-python",
   "name": "python",
   "nbconvert_exporter": "python",
   "pygments_lexer": "ipython3",
   "version": "3.8.19"
  }
 },
 "nbformat": 4,
 "nbformat_minor": 2
}
